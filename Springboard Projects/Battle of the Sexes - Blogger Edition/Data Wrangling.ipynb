{
 "cells": [
  {
   "cell_type": "markdown",
   "metadata": {},
   "source": [
    "# Data Wrangling <a id='Data_Wrangling'></a>"
   ]
  },
  {
   "cell_type": "markdown",
   "metadata": {},
   "source": [
    "### Sourcing and Loading"
   ]
  },
  {
   "cell_type": "code",
   "execution_count": 1,
   "metadata": {},
   "outputs": [
    {
     "data": {
      "text/html": [
       "<div>\n",
       "<style scoped>\n",
       "    .dataframe tbody tr th:only-of-type {\n",
       "        vertical-align: middle;\n",
       "    }\n",
       "\n",
       "    .dataframe tbody tr th {\n",
       "        vertical-align: top;\n",
       "    }\n",
       "\n",
       "    .dataframe thead th {\n",
       "        text-align: right;\n",
       "    }\n",
       "</style>\n",
       "<table border=\"1\" class=\"dataframe\">\n",
       "  <thead>\n",
       "    <tr style=\"text-align: right;\">\n",
       "      <th></th>\n",
       "      <th>id</th>\n",
       "      <th>gender</th>\n",
       "      <th>age</th>\n",
       "      <th>industry</th>\n",
       "      <th>sign</th>\n",
       "      <th>date</th>\n",
       "      <th>blog</th>\n",
       "    </tr>\n",
       "  </thead>\n",
       "  <tbody>\n",
       "    <tr>\n",
       "      <th>0</th>\n",
       "      <td>1000331</td>\n",
       "      <td>female</td>\n",
       "      <td>37</td>\n",
       "      <td>indUnk</td>\n",
       "      <td>Leo</td>\n",
       "      <td>31,May,2004</td>\n",
       "      <td>Well, everyone got up and going this morning. ...</td>\n",
       "    </tr>\n",
       "    <tr>\n",
       "      <th>1</th>\n",
       "      <td>1000331</td>\n",
       "      <td>female</td>\n",
       "      <td>37</td>\n",
       "      <td>indUnk</td>\n",
       "      <td>Leo</td>\n",
       "      <td>29,May,2004</td>\n",
       "      <td>My four-year old never stops talking.  She'll ...</td>\n",
       "    </tr>\n",
       "    <tr>\n",
       "      <th>2</th>\n",
       "      <td>1000331</td>\n",
       "      <td>female</td>\n",
       "      <td>37</td>\n",
       "      <td>indUnk</td>\n",
       "      <td>Leo</td>\n",
       "      <td>28,May,2004</td>\n",
       "      <td>Actually it's not raining yet, but I bought 15...</td>\n",
       "    </tr>\n",
       "    <tr>\n",
       "      <th>3</th>\n",
       "      <td>1000331</td>\n",
       "      <td>female</td>\n",
       "      <td>37</td>\n",
       "      <td>indUnk</td>\n",
       "      <td>Leo</td>\n",
       "      <td>28,May,2004</td>\n",
       "      <td>Ha! Just set up my RSS feed - that is so easy!...</td>\n",
       "    </tr>\n",
       "    <tr>\n",
       "      <th>4</th>\n",
       "      <td>1000331</td>\n",
       "      <td>female</td>\n",
       "      <td>37</td>\n",
       "      <td>indUnk</td>\n",
       "      <td>Leo</td>\n",
       "      <td>28,May,2004</td>\n",
       "      <td>Oh, which just reminded me, we were talking ab...</td>\n",
       "    </tr>\n",
       "  </tbody>\n",
       "</table>\n",
       "</div>"
      ],
      "text/plain": [
       "        id  gender  age industry sign         date  \\\n",
       "0  1000331  female   37   indUnk  Leo  31,May,2004   \n",
       "1  1000331  female   37   indUnk  Leo  29,May,2004   \n",
       "2  1000331  female   37   indUnk  Leo  28,May,2004   \n",
       "3  1000331  female   37   indUnk  Leo  28,May,2004   \n",
       "4  1000331  female   37   indUnk  Leo  28,May,2004   \n",
       "\n",
       "                                                blog  \n",
       "0  Well, everyone got up and going this morning. ...  \n",
       "1  My four-year old never stops talking.  She'll ...  \n",
       "2  Actually it's not raining yet, but I bought 15...  \n",
       "3  Ha! Just set up my RSS feed - that is so easy!...  \n",
       "4  Oh, which just reminded me, we were talking ab...  "
      ]
     },
     "execution_count": 1,
     "metadata": {},
     "output_type": "execute_result"
    }
   ],
   "source": [
    "import pandas as pd\n",
    "\n",
    "data = pd.read_csv('data.csv', index_col=0)\n",
    "data.head()"
   ]
  },
  {
   "cell_type": "markdown",
   "metadata": {},
   "source": [
    "### Creating datetime column"
   ]
  },
  {
   "cell_type": "code",
   "execution_count": 2,
   "metadata": {},
   "outputs": [
    {
     "data": {
      "text/plain": [
       "02,August,2004      16153\n",
       "01,August,2004      12806\n",
       "03,August,2004      11577\n",
       "05,August,2004       9191\n",
       "04,August,2004       8481\n",
       "                    ...  \n",
       "18,Juli,2004            1\n",
       "06,avril,2004           1\n",
       "11,juli,2004            1\n",
       "25,October,2004         1\n",
       "11,augustus,2004        1\n",
       "Name: date, Length: 2618, dtype: int64"
      ]
     },
     "execution_count": 2,
     "metadata": {},
     "output_type": "execute_result"
    }
   ],
   "source": [
    "data_counts = data['date'].value_counts()\n",
    "data_counts"
   ]
  },
  {
   "cell_type": "markdown",
   "metadata": {},
   "source": [
    "A quick look at our `date` column reveals that there are some unrecognized months contained in the dates. After a Google search, I discovered that these were in fact valid months, but in **languages other than English**. Even so, this would undoubtedly cause an error if I tried to convert the column into a datetime series. In order to fix this, I will use a list of English months in order to **isolate the dates that are in foreign languages**."
   ]
  },
  {
   "cell_type": "code",
   "execution_count": 3,
   "metadata": {},
   "outputs": [
    {
     "data": {
      "text/plain": [
       "['25,Julho,2004',\n",
       " '04,Julho,2004',\n",
       " '02,Maio,2004',\n",
       " '23,Maio,2004',\n",
       " '16,Maio,2004',\n",
       " '13,Junho,2004',\n",
       " '20,Junho,2004',\n",
       " '01,agosto,2004',\n",
       " '21,junio,2004',\n",
       " '04,ottobre,2003']"
      ]
     },
     "execution_count": 3,
     "metadata": {},
     "output_type": "execute_result"
    }
   ],
   "source": [
    "months_list = ['January','january','February','february','March','march','April','april','May','may','June','june','July',\n",
    "              'july','August','august','September','september','October','october','November','november','December','december']\n",
    "\n",
    "foreign_dates = [date for date in data_counts.index if not any(month in date.split(',') for month in months_list)]\n",
    "foreign_dates[:10]"
   ]
  },
  {
   "cell_type": "code",
   "execution_count": 4,
   "metadata": {},
   "outputs": [
    {
     "data": {
      "text/plain": [
       "865"
      ]
     },
     "execution_count": 4,
     "metadata": {},
     "output_type": "execute_result"
    }
   ],
   "source": [
    "len(foreign_dates)"
   ]
  },
  {
   "cell_type": "code",
   "execution_count": 5,
   "metadata": {},
   "outputs": [
    {
     "data": {
      "text/plain": [
       "0.0012765718805896138"
      ]
     },
     "execution_count": 5,
     "metadata": {},
     "output_type": "execute_result"
    }
   ],
   "source": [
    "865 / 677596"
   ]
  },
  {
   "cell_type": "markdown",
   "metadata": {},
   "source": [
    "Since there are only **865 rows** with foreign months in our **dataset of 677,596** (which is **~0.13%** of all data), we can afford to simply delete these rows."
   ]
  },
  {
   "cell_type": "code",
   "execution_count": 6,
   "metadata": {
    "scrolled": true
   },
   "outputs": [
    {
     "data": {
      "text/plain": [
       "02,August,2004    16153\n",
       "01,August,2004    12806\n",
       "03,August,2004    11577\n",
       "05,August,2004     9191\n",
       "04,August,2004     8481\n",
       "09,August,2004     7682\n",
       "02,July,2004       7587\n",
       "10,August,2004     7385\n",
       "01,July,2004       6778\n",
       "02,June,2004       6535\n",
       "Name: date, dtype: int64"
      ]
     },
     "execution_count": 6,
     "metadata": {},
     "output_type": "execute_result"
    }
   ],
   "source": [
    "df = data[~data['date'].isin(foreign_dates)]\n",
    "df_counts = df['date'].value_counts()\n",
    "df_counts[:10]"
   ]
  },
  {
   "cell_type": "code",
   "execution_count": 7,
   "metadata": {
    "scrolled": false
   },
   "outputs": [
    {
     "name": "stderr",
     "output_type": "stream",
     "text": [
      "C:\\ProgramData\\Anaconda3\\lib\\site-packages\\ipykernel_launcher.py:1: SettingWithCopyWarning: \n",
      "A value is trying to be set on a copy of a slice from a DataFrame.\n",
      "Try using .loc[row_indexer,col_indexer] = value instead\n",
      "\n",
      "See the caveats in the documentation: https://pandas.pydata.org/pandas-docs/stable/user_guide/indexing.html#returning-a-view-versus-a-copy\n",
      "  \"\"\"Entry point for launching an IPython kernel.\n"
     ]
    },
    {
     "name": "stdout",
     "output_type": "stream",
     "text": [
      "<class 'pandas.core.frame.DataFrame'>\n",
      "Int64Index: 669893 entries, 0 to 677595\n",
      "Data columns (total 7 columns):\n",
      " #   Column    Non-Null Count   Dtype         \n",
      "---  ------    --------------   -----         \n",
      " 0   id        669893 non-null  int64         \n",
      " 1   gender    669893 non-null  object        \n",
      " 2   age       669893 non-null  int64         \n",
      " 3   industry  669893 non-null  object        \n",
      " 4   sign      669893 non-null  object        \n",
      " 5   date      669893 non-null  datetime64[ns]\n",
      " 6   blog      669892 non-null  object        \n",
      "dtypes: datetime64[ns](1), int64(2), object(4)\n",
      "memory usage: 40.9+ MB\n"
     ]
    }
   ],
   "source": [
    "df['date'] = pd.to_datetime(df['date'].str.replace(',', ' '), format='%d %B %Y')\n",
    "df.info()"
   ]
  },
  {
   "cell_type": "code",
   "execution_count": 8,
   "metadata": {},
   "outputs": [
    {
     "data": {
      "text/plain": [
       "(Timestamp('1999-01-01 00:00:00'), Timestamp('2006-08-23 00:00:00'))"
      ]
     },
     "execution_count": 8,
     "metadata": {},
     "output_type": "execute_result"
    }
   ],
   "source": [
    "min(df['date']), max(df['date'])"
   ]
  },
  {
   "cell_type": "markdown",
   "metadata": {},
   "source": [
    "Now that our datetime column has been properly converted, we can see that **the oldest blog post in our data was written in January 1, 1999, while the most recent blog post was written in August 23, 2006**. After resetting the index to account for the deleted rows, I will move on to the next step in my data wrangling process."
   ]
  },
  {
   "cell_type": "code",
   "execution_count": 9,
   "metadata": {},
   "outputs": [],
   "source": [
    "df.reset_index(inplace=True, drop=True)"
   ]
  },
  {
   "cell_type": "markdown",
   "metadata": {},
   "source": [
    "### Clean `industry` column"
   ]
  },
  {
   "cell_type": "code",
   "execution_count": 10,
   "metadata": {},
   "outputs": [
    {
     "data": {
      "text/plain": [
       "indUnk                     247727\n",
       "Student                    150986\n",
       "Technology                  41482\n",
       "Arts                        31792\n",
       "Education                   29043\n",
       "Communications-Media        19727\n",
       "Internet                    15733\n",
       "Non-Profit                  14528\n",
       "Engineering                 11463\n",
       "Law                          8961\n",
       "Publishing                   7679\n",
       "Science                      7179\n",
       "Government                   6755\n",
       "Consulting                   5791\n",
       "Religion                     5044\n",
       "Fashion                      4831\n",
       "Advertising                  4651\n",
       "Marketing                    4363\n",
       "BusinessServices             4337\n",
       "Banking                      4033\n",
       "Chemicals                    3910\n",
       "Accounting                   3800\n",
       "Telecommunications           3717\n",
       "Military                     3120\n",
       "Museums-Libraries            3050\n",
       "Sports-Recreation            3016\n",
       "HumanResources               2888\n",
       "RealEstate                   2863\n",
       "Transportation               2299\n",
       "Manufacturing                2188\n",
       "Biotech                      1979\n",
       "Tourism                      1924\n",
       "LawEnforcement-Security      1861\n",
       "Architecture                 1537\n",
       "InvestmentBanking            1278\n",
       "Automotive                   1216\n",
       "Agriculture                  1189\n",
       "Construction                 1091\n",
       "Environment                   587\n",
       "Maritime                      275\n",
       "Name: industry, dtype: int64"
      ]
     },
     "execution_count": 10,
     "metadata": {},
     "output_type": "execute_result"
    }
   ],
   "source": [
    "df['industry'].value_counts()"
   ]
  },
  {
   "cell_type": "markdown",
   "metadata": {},
   "source": [
    "The `industry` column is quite clean for the most part, but for readability purposes I would like to simply change *indUnk* to *Unknown* instead."
   ]
  },
  {
   "cell_type": "code",
   "execution_count": 11,
   "metadata": {},
   "outputs": [
    {
     "data": {
      "text/html": [
       "<div>\n",
       "<style scoped>\n",
       "    .dataframe tbody tr th:only-of-type {\n",
       "        vertical-align: middle;\n",
       "    }\n",
       "\n",
       "    .dataframe tbody tr th {\n",
       "        vertical-align: top;\n",
       "    }\n",
       "\n",
       "    .dataframe thead th {\n",
       "        text-align: right;\n",
       "    }\n",
       "</style>\n",
       "<table border=\"1\" class=\"dataframe\">\n",
       "  <thead>\n",
       "    <tr style=\"text-align: right;\">\n",
       "      <th></th>\n",
       "      <th>id</th>\n",
       "      <th>gender</th>\n",
       "      <th>age</th>\n",
       "      <th>industry</th>\n",
       "      <th>sign</th>\n",
       "      <th>date</th>\n",
       "      <th>blog</th>\n",
       "    </tr>\n",
       "  </thead>\n",
       "  <tbody>\n",
       "    <tr>\n",
       "      <th>0</th>\n",
       "      <td>1000331</td>\n",
       "      <td>female</td>\n",
       "      <td>37</td>\n",
       "      <td>indUnk</td>\n",
       "      <td>Leo</td>\n",
       "      <td>2004-05-31</td>\n",
       "      <td>Well, everyone got up and going this morning. ...</td>\n",
       "    </tr>\n",
       "    <tr>\n",
       "      <th>1</th>\n",
       "      <td>1000331</td>\n",
       "      <td>female</td>\n",
       "      <td>37</td>\n",
       "      <td>indUnk</td>\n",
       "      <td>Leo</td>\n",
       "      <td>2004-05-29</td>\n",
       "      <td>My four-year old never stops talking.  She'll ...</td>\n",
       "    </tr>\n",
       "    <tr>\n",
       "      <th>2</th>\n",
       "      <td>1000331</td>\n",
       "      <td>female</td>\n",
       "      <td>37</td>\n",
       "      <td>indUnk</td>\n",
       "      <td>Leo</td>\n",
       "      <td>2004-05-28</td>\n",
       "      <td>Actually it's not raining yet, but I bought 15...</td>\n",
       "    </tr>\n",
       "    <tr>\n",
       "      <th>3</th>\n",
       "      <td>1000331</td>\n",
       "      <td>female</td>\n",
       "      <td>37</td>\n",
       "      <td>indUnk</td>\n",
       "      <td>Leo</td>\n",
       "      <td>2004-05-28</td>\n",
       "      <td>Ha! Just set up my RSS feed - that is so easy!...</td>\n",
       "    </tr>\n",
       "    <tr>\n",
       "      <th>4</th>\n",
       "      <td>1000331</td>\n",
       "      <td>female</td>\n",
       "      <td>37</td>\n",
       "      <td>indUnk</td>\n",
       "      <td>Leo</td>\n",
       "      <td>2004-05-28</td>\n",
       "      <td>Oh, which just reminded me, we were talking ab...</td>\n",
       "    </tr>\n",
       "  </tbody>\n",
       "</table>\n",
       "</div>"
      ],
      "text/plain": [
       "        id  gender  age industry sign       date  \\\n",
       "0  1000331  female   37   indUnk  Leo 2004-05-31   \n",
       "1  1000331  female   37   indUnk  Leo 2004-05-29   \n",
       "2  1000331  female   37   indUnk  Leo 2004-05-28   \n",
       "3  1000331  female   37   indUnk  Leo 2004-05-28   \n",
       "4  1000331  female   37   indUnk  Leo 2004-05-28   \n",
       "\n",
       "                                                blog  \n",
       "0  Well, everyone got up and going this morning. ...  \n",
       "1  My four-year old never stops talking.  She'll ...  \n",
       "2  Actually it's not raining yet, but I bought 15...  \n",
       "3  Ha! Just set up my RSS feed - that is so easy!...  \n",
       "4  Oh, which just reminded me, we were talking ab...  "
      ]
     },
     "execution_count": 11,
     "metadata": {},
     "output_type": "execute_result"
    }
   ],
   "source": [
    "df.head()"
   ]
  },
  {
   "cell_type": "code",
   "execution_count": 12,
   "metadata": {
    "scrolled": false
   },
   "outputs": [
    {
     "data": {
      "text/plain": [
       "Unknown                    247727\n",
       "Student                    150986\n",
       "Technology                  41482\n",
       "Arts                        31792\n",
       "Education                   29043\n",
       "Communications-Media        19727\n",
       "Internet                    15733\n",
       "Non-Profit                  14528\n",
       "Engineering                 11463\n",
       "Law                          8961\n",
       "Publishing                   7679\n",
       "Science                      7179\n",
       "Government                   6755\n",
       "Consulting                   5791\n",
       "Religion                     5044\n",
       "Fashion                      4831\n",
       "Advertising                  4651\n",
       "Marketing                    4363\n",
       "BusinessServices             4337\n",
       "Banking                      4033\n",
       "Chemicals                    3910\n",
       "Accounting                   3800\n",
       "Telecommunications           3717\n",
       "Military                     3120\n",
       "Museums-Libraries            3050\n",
       "Sports-Recreation            3016\n",
       "HumanResources               2888\n",
       "RealEstate                   2863\n",
       "Transportation               2299\n",
       "Manufacturing                2188\n",
       "Biotech                      1979\n",
       "Tourism                      1924\n",
       "LawEnforcement-Security      1861\n",
       "Architecture                 1537\n",
       "InvestmentBanking            1278\n",
       "Automotive                   1216\n",
       "Agriculture                  1189\n",
       "Construction                 1091\n",
       "Environment                   587\n",
       "Maritime                      275\n",
       "Name: industry, dtype: int64"
      ]
     },
     "execution_count": 12,
     "metadata": {},
     "output_type": "execute_result"
    }
   ],
   "source": [
    "df = df.replace('indUnk', 'Unknown')\n",
    "df['industry'].value_counts()"
   ]
  },
  {
   "cell_type": "markdown",
   "metadata": {},
   "source": [
    "### Make `age` an integer"
   ]
  },
  {
   "cell_type": "code",
   "execution_count": 13,
   "metadata": {
    "scrolled": true
   },
   "outputs": [
    {
     "name": "stdout",
     "output_type": "stream",
     "text": [
      "<class 'pandas.core.frame.DataFrame'>\n",
      "RangeIndex: 669893 entries, 0 to 669892\n",
      "Data columns (total 7 columns):\n",
      " #   Column    Non-Null Count   Dtype         \n",
      "---  ------    --------------   -----         \n",
      " 0   id        669893 non-null  int64         \n",
      " 1   gender    669893 non-null  object        \n",
      " 2   age       669893 non-null  int32         \n",
      " 3   industry  669893 non-null  object        \n",
      " 4   sign      669893 non-null  object        \n",
      " 5   date      669893 non-null  datetime64[ns]\n",
      " 6   blog      669892 non-null  object        \n",
      "dtypes: datetime64[ns](1), int32(1), int64(1), object(4)\n",
      "memory usage: 33.2+ MB\n"
     ]
    }
   ],
   "source": [
    "df['age'] = df['age'].astype(int)\n",
    "df.info()"
   ]
  },
  {
   "cell_type": "markdown",
   "metadata": {},
   "source": [
    "### Check other columns"
   ]
  },
  {
   "cell_type": "code",
   "execution_count": 14,
   "metadata": {},
   "outputs": [
    {
     "data": {
      "text/plain": [
       "id          0\n",
       "gender      0\n",
       "age         0\n",
       "industry    0\n",
       "sign        0\n",
       "date        0\n",
       "blog        1\n",
       "dtype: int64"
      ]
     },
     "execution_count": 14,
     "metadata": {},
     "output_type": "execute_result"
    }
   ],
   "source": [
    "df.isnull().sum()"
   ]
  },
  {
   "cell_type": "code",
   "execution_count": 15,
   "metadata": {},
   "outputs": [
    {
     "data": {
      "text/plain": [
       "male      340133\n",
       "female    329760\n",
       "Name: gender, dtype: int64"
      ]
     },
     "execution_count": 15,
     "metadata": {},
     "output_type": "execute_result"
    }
   ],
   "source": [
    "df['gender'].value_counts()"
   ]
  },
  {
   "cell_type": "code",
   "execution_count": 16,
   "metadata": {},
   "outputs": [
    {
     "data": {
      "text/plain": [
       "17    79417\n",
       "24    78357\n",
       "16    71591\n",
       "23    71410\n",
       "25    65975\n",
       "26    53659\n",
       "27    45180\n",
       "15    41347\n",
       "14    27012\n",
       "34    21259\n",
       "33    17469\n",
       "35    17380\n",
       "36    14164\n",
       "13    12931\n",
       "37     9246\n",
       "38     7391\n",
       "39     5456\n",
       "40     5004\n",
       "45     4417\n",
       "43     4150\n",
       "41     3707\n",
       "48     3564\n",
       "42     2902\n",
       "46     2731\n",
       "47     2138\n",
       "44     2036\n",
       "Name: age, dtype: int64"
      ]
     },
     "execution_count": 16,
     "metadata": {},
     "output_type": "execute_result"
    }
   ],
   "source": [
    "df['age'].value_counts()"
   ]
  },
  {
   "cell_type": "code",
   "execution_count": 17,
   "metadata": {},
   "outputs": [
    {
     "data": {
      "text/plain": [
       "Cancer         63816\n",
       "Aries          63363\n",
       "Libra          61657\n",
       "Taurus         61204\n",
       "Virgo          59226\n",
       "Scorpio        56473\n",
       "Leo            53167\n",
       "Pisces         53007\n",
       "Gemini         51264\n",
       "Sagittarius    49116\n",
       "Aquarius       49008\n",
       "Capricorn      48592\n",
       "Name: sign, dtype: int64"
      ]
     },
     "execution_count": 17,
     "metadata": {},
     "output_type": "execute_result"
    }
   ],
   "source": [
    "df['sign'].value_counts()"
   ]
  },
  {
   "cell_type": "markdown",
   "metadata": {},
   "source": [
    "### Impute NaN `blog`"
   ]
  },
  {
   "cell_type": "markdown",
   "metadata": {},
   "source": [
    "We can see that there is one `blog` entry that is NaN, so I will take a closer look at that entry to see if I can impute it."
   ]
  },
  {
   "cell_type": "code",
   "execution_count": 18,
   "metadata": {},
   "outputs": [
    {
     "data": {
      "text/html": [
       "<div>\n",
       "<style scoped>\n",
       "    .dataframe tbody tr th:only-of-type {\n",
       "        vertical-align: middle;\n",
       "    }\n",
       "\n",
       "    .dataframe tbody tr th {\n",
       "        vertical-align: top;\n",
       "    }\n",
       "\n",
       "    .dataframe thead th {\n",
       "        text-align: right;\n",
       "    }\n",
       "</style>\n",
       "<table border=\"1\" class=\"dataframe\">\n",
       "  <thead>\n",
       "    <tr style=\"text-align: right;\">\n",
       "      <th></th>\n",
       "      <th>id</th>\n",
       "      <th>gender</th>\n",
       "      <th>age</th>\n",
       "      <th>industry</th>\n",
       "      <th>sign</th>\n",
       "      <th>date</th>\n",
       "      <th>blog</th>\n",
       "    </tr>\n",
       "  </thead>\n",
       "  <tbody>\n",
       "    <tr>\n",
       "      <th>189626</th>\n",
       "      <td>2283987</td>\n",
       "      <td>female</td>\n",
       "      <td>23</td>\n",
       "      <td>Communications-Media</td>\n",
       "      <td>Capricorn</td>\n",
       "      <td>2004-04-29</td>\n",
       "      <td>NaN</td>\n",
       "    </tr>\n",
       "  </tbody>\n",
       "</table>\n",
       "</div>"
      ],
      "text/plain": [
       "             id  gender  age              industry       sign       date blog\n",
       "189626  2283987  female   23  Communications-Media  Capricorn 2004-04-29  NaN"
      ]
     },
     "execution_count": 18,
     "metadata": {},
     "output_type": "execute_result"
    }
   ],
   "source": [
    "df[df['blog'].isnull()]"
   ]
  },
  {
   "attachments": {
    "Problem%20Row.JPG": {
     "image/jpeg": "[encoded data removed]"
    }
   },
   "cell_type": "markdown",
   "metadata": {},
   "source": [
    "Using the details in my DataFrame, I was able to find the problem blog. Here is what it looks like:\n",
    "\n",
    "![Problem%20Row.JPG](attachment:Problem%20Row.JPG)"
   ]
  },
  {
   "cell_type": "markdown",
   "metadata": {},
   "source": [
    "We can see that the **whitespace near the beginning of the paragraph** is likely what caused it to be interpreted as NaN. I will simply copy and paste it into my DataFrame without the whitespace."
   ]
  },
  {
   "cell_type": "code",
   "execution_count": 19,
   "metadata": {
    "scrolled": true
   },
   "outputs": [
    {
     "name": "stderr",
     "output_type": "stream",
     "text": [
      "C:\\ProgramData\\Anaconda3\\lib\\site-packages\\ipykernel_launcher.py:1: SettingWithCopyWarning: \n",
      "A value is trying to be set on a copy of a slice from a DataFrame\n",
      "\n",
      "See the caveats in the documentation: https://pandas.pydata.org/pandas-docs/stable/user_guide/indexing.html#returning-a-view-versus-a-copy\n",
      "  \"\"\"Entry point for launching an IPython kernel.\n"
     ]
    },
    {
     "data": {
      "text/plain": [
       "id                                                    2283987\n",
       "gender                                                 female\n",
       "age                                                        23\n",
       "industry                                 Communications-Media\n",
       "sign                                                Capricorn\n",
       "date                                      2004-04-29 00:00:00\n",
       "blog        I hope none of you taped (or for those who are...\n",
       "Name: 189626, dtype: object"
      ]
     },
     "execution_count": 19,
     "metadata": {},
     "output_type": "execute_result"
    }
   ],
   "source": [
    "df['blog'][189626] = 'I hope none of you taped (or for those who are more technologically advanced and make me terribly jealous, TiVoed) last night\\'s Will and Grace, because I\\'m going to spoil it.  I\\'m sadder at Harry Connick, Jr. cheating on Grace than I am about the end of Friends. Probably because Friends is on just about every channel on TV at least once a day. But, why would Harry do that? It was the saddest season finale. Karen\\'s getting divorced, too. So, Will and Grace will no longer feature Harry and John Cleese. Boooo.'\n",
    "df.iloc[189626]"
   ]
  },
  {
   "cell_type": "markdown",
   "metadata": {},
   "source": [
    "### Remove duplicate blogs"
   ]
  },
  {
   "cell_type": "code",
   "execution_count": 20,
   "metadata": {},
   "outputs": [
    {
     "data": {
      "text/plain": [
       "20     Eventful day...well, sort of. Eventful to me c...\n",
       "21     Eventful day...well, sort of. Eventful to me c...\n",
       "125    I'm going to smile like nothing's wrong, talk ...\n",
       "163    I'm going to smile like nothing's wrong, talk ...\n",
       "248    You represent... naivete. So innocent and trus...\n",
       "Name: blog, dtype: object"
      ]
     },
     "execution_count": 20,
     "metadata": {},
     "output_type": "execute_result"
    }
   ],
   "source": [
    "blogs = df['blog']\n",
    "duplicate_series = blogs[blogs.duplicated(keep=False)]\n",
    "duplicate_series.head()"
   ]
  },
  {
   "cell_type": "code",
   "execution_count": 21,
   "metadata": {},
   "outputs": [
    {
     "data": {
      "text/plain": [
       "105915"
      ]
     },
     "execution_count": 21,
     "metadata": {},
     "output_type": "execute_result"
    }
   ],
   "source": [
    "len(duplicate_series)"
   ]
  },
  {
   "cell_type": "markdown",
   "metadata": {},
   "source": [
    "Although I was excited at first to discover such a large amount of data, it looks like a large chunk of it contains duplicate blogs. In fact, **almost 1/6 (105,915) of the entire dataset's blogs are duplicates**. This is quite unfortunate, as this makes up a large portion of the data. However, even if I were to remove every duplicate blog, I would still have **more than 500,000 blogs**, which is still plenty for an NLP project. Nonetheless, I will take a more **nuanced approach** with the duplicate blogs. "
   ]
  },
  {
   "cell_type": "code",
   "execution_count": 22,
   "metadata": {},
   "outputs": [
    {
     "data": {
      "text/plain": [
       "751.7636689798424"
      ]
     },
     "execution_count": 22,
     "metadata": {},
     "output_type": "execute_result"
    }
   ],
   "source": [
    "import numpy as np\n",
    "\n",
    "duplicate_blog_lengths = list(map(len,duplicate_series))\n",
    "np.mean(duplicate_blog_lengths)"
   ]
  },
  {
   "cell_type": "markdown",
   "metadata": {},
   "source": [
    "At first, I thought most of the duplicate blogs would be short. If the dataset was not corrupted at all, there could be certain blogs that, if identical, would be entirely permitted (for example, **many users' first blogs were simply the word \"test\"**). However, **the average duplicate blog contained ~752 characters**, which is unacceptable. Having that many duplicate characters could only mean that *the dataset was corrupted*, and this needs to be remedied. Nonetheless, since many short, duplicate blogs are most likely valid, I will remove them from consideration and focus on **removing duplicate blogs which contain more than 50 characters**, just to be safe."
   ]
  },
  {
   "cell_type": "code",
   "execution_count": 23,
   "metadata": {},
   "outputs": [
    {
     "data": {
      "text/plain": [
       "33471"
      ]
     },
     "execution_count": 23,
     "metadata": {},
     "output_type": "execute_result"
    }
   ],
   "source": [
    "duplicate_df = df[df.duplicated(['blog'])].sort_values('blog').drop_duplicates('blog',keep='first')\n",
    "\n",
    "# Only remove duplicate blogs with more than 50 characters\n",
    "duplicate_list = [blog for blog in duplicate_df['blog'] if len(blog) > 50]\n",
    "len(duplicate_list)"
   ]
  },
  {
   "cell_type": "code",
   "execution_count": 24,
   "metadata": {
    "scrolled": true
   },
   "outputs": [
    {
     "name": "stderr",
     "output_type": "stream",
     "text": [
      "100%|████████████████████████████████████████████████████████████████████████████| 33471/33471 [49:12<00:00, 11.34it/s]\n"
     ]
    },
    {
     "data": {
      "text/plain": [
       "14530"
      ]
     },
     "execution_count": 24,
     "metadata": {},
     "output_type": "execute_result"
    }
   ],
   "source": [
    "from tqdm import tqdm\n",
    "\n",
    "blogs_to_drop = [blog for blog in tqdm(duplicate_list, position=0, leave=True) if len(np.unique(df[df['blog'] == blog]['gender'])) != 1]\n",
    "len(blogs_to_drop)"
   ]
  },
  {
   "cell_type": "code",
   "execution_count": 25,
   "metadata": {},
   "outputs": [
    {
     "data": {
      "text/plain": [
       "(669893, 7)"
      ]
     },
     "execution_count": 25,
     "metadata": {},
     "output_type": "execute_result"
    }
   ],
   "source": [
    "df.shape"
   ]
  },
  {
   "cell_type": "code",
   "execution_count": 26,
   "metadata": {},
   "outputs": [
    {
     "data": {
      "text/plain": [
       "((625878, 7), 669892)"
      ]
     },
     "execution_count": 26,
     "metadata": {},
     "output_type": "execute_result"
    }
   ],
   "source": [
    "df = df.drop(df[df['blog'].isin(blogs_to_drop)].index)\n",
    "df.shape, max(df.index)"
   ]
  },
  {
   "cell_type": "code",
   "execution_count": 27,
   "metadata": {},
   "outputs": [
    {
     "name": "stderr",
     "output_type": "stream",
     "text": [
      "100%|██████████████████████████████████████████████████████████████████████████| 33471/33471 [00:17<00:00, 1948.12it/s]\n"
     ]
    },
    {
     "data": {
      "text/plain": [
       "(33471, 14530, 18941)"
      ]
     },
     "execution_count": 27,
     "metadata": {},
     "output_type": "execute_result"
    }
   ],
   "source": [
    "blogs_to_keep_1 = [blog for blog in tqdm(duplicate_list, position=0, leave=True) if blog not in blogs_to_drop]\n",
    "len(duplicate_list), len(blogs_to_drop), len(blogs_to_keep_1)"
   ]
  },
  {
   "cell_type": "code",
   "execution_count": 35,
   "metadata": {},
   "outputs": [
    {
     "name": "stderr",
     "output_type": "stream",
     "text": [
      "100%|████████████████████████████████████████████████████████████████████████| 46401/46401 [00:00<00:00, 752593.40it/s]\n"
     ]
    },
    {
     "data": {
      "text/plain": [
       "((598418, 7), 669892)"
      ]
     },
     "execution_count": 35,
     "metadata": {},
     "output_type": "execute_result"
    }
   ],
   "source": [
    "remainder_duplicates_index = df[df['blog'].isin(blogs_to_keep_1)].index\n",
    "remainder_duplicates_df = df[df['blog'].isin(blogs_to_keep_1)]\n",
    "keep_1_index = remainder_duplicates_df.drop_duplicates('blog',keep='first').index\n",
    "drop_index = [index for index in tqdm(remainder_duplicates_index, position=0, leave=True) if index not in keep_1_index]\n",
    "df = df.drop(drop_index)\n",
    "df.shape, max(df.index)"
   ]
  },
  {
   "cell_type": "code",
   "execution_count": 37,
   "metadata": {},
   "outputs": [
    {
     "data": {
      "text/plain": [
       "598417"
      ]
     },
     "execution_count": 37,
     "metadata": {},
     "output_type": "execute_result"
    }
   ],
   "source": [
    "df = df.reset_index(drop=True)\n",
    "max(df.index)"
   ]
  },
  {
   "cell_type": "markdown",
   "metadata": {},
   "source": [
    "With our final cleanups done, I can now save the DataFrame locally to use it in my data analysis."
   ]
  },
  {
   "cell_type": "markdown",
   "metadata": {},
   "source": [
    "### Save DataFrame"
   ]
  },
  {
   "cell_type": "code",
   "execution_count": 38,
   "metadata": {},
   "outputs": [],
   "source": [
    "df.to_csv('df.csv')"
   ]
  }
 ],
 "metadata": {
  "kernelspec": {
   "display_name": "Python 3",
   "language": "python",
   "name": "python3"
  },
  "language_info": {
   "codemirror_mode": {
    "name": "ipython",
    "version": 3
   },
   "file_extension": ".py",
   "mimetype": "text/x-python",
   "name": "python",
   "nbconvert_exporter": "python",
   "pygments_lexer": "ipython3",
   "version": "3.7.6"
  }
 },
 "nbformat": 4,
 "nbformat_minor": 4
}
