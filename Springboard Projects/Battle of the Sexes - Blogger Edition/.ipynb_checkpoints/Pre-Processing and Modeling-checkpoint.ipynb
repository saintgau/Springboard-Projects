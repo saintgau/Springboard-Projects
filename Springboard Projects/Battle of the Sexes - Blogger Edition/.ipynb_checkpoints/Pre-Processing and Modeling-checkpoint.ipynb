{
 "cells": [
  {
   "cell_type": "markdown",
   "metadata": {},
   "source": [
    "# Pre-Processing and Modeling"
   ]
  },
  {
   "cell_type": "markdown",
   "metadata": {},
   "source": [
    "# 1. Contents\n",
    "* [Pre-Processing and Modeling](#Pre-Processing_and_Modeling)\n",
    "    * [1. Contents](#1._Contents)"
   ]
  },
  {
   "cell_type": "markdown",
   "metadata": {},
   "source": [
    "# 2. Sourcing and Loading"
   ]
  },
  {
   "cell_type": "code",
   "execution_count": 4,
   "metadata": {},
   "outputs": [],
   "source": [
    "from nltk.corpus import stopwords\n",
    "from nltk.tokenize import word_tokenize\n",
    "from sklearn.ensemble import RandomForestClassifier\n",
    "from sklearn.feature_extraction.text import CountVectorizer, TfidfVectorizer\n",
    "from sklearn.metrics import roc_curve, roc_auc_score\n",
    "from sklearn.model_selection import train_test_split, GridSearchCV, cross_validate, cross_val_score, RandomizedSearchCV\n",
    "from sklearn.naive_bayes import MultinomialNB\n",
    "from sklearn.pipeline import make_pipeline\n",
    "from sklearn.preprocessing import StandardScaler\n",
    "from tqdm import tqdm\n",
    "from xgboost import XGBClassifier\n",
    "import numpy as np\n",
    "import pandas as pd\n",
    "import pickle\n",
    "import re\n",
    "import string\n",
    "\n",
    "import matplotlib.pyplot as plt\n",
    "import seaborn as sns\n",
    "from matplotlib.lines import Line2D\n",
    "from matplotlib import rcParams\n",
    "sns.set_style(\"whitegrid\")\n",
    "sns.set_context(\"poster\")"
   ]
  },
  {
   "cell_type": "code",
   "execution_count": 5,
   "metadata": {},
   "outputs": [
    {
     "data": {
      "text/html": [
       "<div>\n",
       "<style scoped>\n",
       "    .dataframe tbody tr th:only-of-type {\n",
       "        vertical-align: middle;\n",
       "    }\n",
       "\n",
       "    .dataframe tbody tr th {\n",
       "        vertical-align: top;\n",
       "    }\n",
       "\n",
       "    .dataframe thead th {\n",
       "        text-align: right;\n",
       "    }\n",
       "</style>\n",
       "<table border=\"1\" class=\"dataframe\">\n",
       "  <thead>\n",
       "    <tr style=\"text-align: right;\">\n",
       "      <th></th>\n",
       "      <th>id</th>\n",
       "      <th>gender</th>\n",
       "      <th>age</th>\n",
       "      <th>industry</th>\n",
       "      <th>sign</th>\n",
       "      <th>date</th>\n",
       "      <th>blog</th>\n",
       "    </tr>\n",
       "  </thead>\n",
       "  <tbody>\n",
       "    <tr>\n",
       "      <th>0</th>\n",
       "      <td>1000331</td>\n",
       "      <td>female</td>\n",
       "      <td>37</td>\n",
       "      <td>Unknown</td>\n",
       "      <td>Leo</td>\n",
       "      <td>2004-05-31</td>\n",
       "      <td>Well, everyone got up and going this morning. ...</td>\n",
       "    </tr>\n",
       "    <tr>\n",
       "      <th>1</th>\n",
       "      <td>1000331</td>\n",
       "      <td>female</td>\n",
       "      <td>37</td>\n",
       "      <td>Unknown</td>\n",
       "      <td>Leo</td>\n",
       "      <td>2004-05-29</td>\n",
       "      <td>My four-year old never stops talking.  She'll ...</td>\n",
       "    </tr>\n",
       "    <tr>\n",
       "      <th>2</th>\n",
       "      <td>1000331</td>\n",
       "      <td>female</td>\n",
       "      <td>37</td>\n",
       "      <td>Unknown</td>\n",
       "      <td>Leo</td>\n",
       "      <td>2004-05-28</td>\n",
       "      <td>Actually it's not raining yet, but I bought 15...</td>\n",
       "    </tr>\n",
       "    <tr>\n",
       "      <th>3</th>\n",
       "      <td>1000331</td>\n",
       "      <td>female</td>\n",
       "      <td>37</td>\n",
       "      <td>Unknown</td>\n",
       "      <td>Leo</td>\n",
       "      <td>2004-05-28</td>\n",
       "      <td>Ha! Just set up my RSS feed - that is so easy!...</td>\n",
       "    </tr>\n",
       "    <tr>\n",
       "      <th>4</th>\n",
       "      <td>1000331</td>\n",
       "      <td>female</td>\n",
       "      <td>37</td>\n",
       "      <td>Unknown</td>\n",
       "      <td>Leo</td>\n",
       "      <td>2004-05-28</td>\n",
       "      <td>Oh, which just reminded me, we were talking ab...</td>\n",
       "    </tr>\n",
       "  </tbody>\n",
       "</table>\n",
       "</div>"
      ],
      "text/plain": [
       "        id  gender  age industry sign       date  \\\n",
       "0  1000331  female   37  Unknown  Leo 2004-05-31   \n",
       "1  1000331  female   37  Unknown  Leo 2004-05-29   \n",
       "2  1000331  female   37  Unknown  Leo 2004-05-28   \n",
       "3  1000331  female   37  Unknown  Leo 2004-05-28   \n",
       "4  1000331  female   37  Unknown  Leo 2004-05-28   \n",
       "\n",
       "                                                blog  \n",
       "0  Well, everyone got up and going this morning. ...  \n",
       "1  My four-year old never stops talking.  She'll ...  \n",
       "2  Actually it's not raining yet, but I bought 15...  \n",
       "3  Ha! Just set up my RSS feed - that is so easy!...  \n",
       "4  Oh, which just reminded me, we were talking ab...  "
      ]
     },
     "execution_count": 5,
     "metadata": {},
     "output_type": "execute_result"
    }
   ],
   "source": [
    "df = pd.read_csv('df.csv', index_col=0, parse_dates=['date'])\n",
    "df.head()"
   ]
  },
  {
   "cell_type": "code",
   "execution_count": 6,
   "metadata": {
    "scrolled": true
   },
   "outputs": [
    {
     "data": {
      "text/plain": [
       "id                   int64\n",
       "gender              object\n",
       "age                  int64\n",
       "industry            object\n",
       "sign                object\n",
       "date        datetime64[ns]\n",
       "blog                object\n",
       "dtype: object"
      ]
     },
     "execution_count": 6,
     "metadata": {},
     "output_type": "execute_result"
    }
   ],
   "source": [
    "df.dtypes"
   ]
  },
  {
   "cell_type": "markdown",
   "metadata": {},
   "source": [
    "# 3. Pre-Processing"
   ]
  },
  {
   "cell_type": "markdown",
   "metadata": {},
   "source": [
    "### 3a. Convert text to lowercase"
   ]
  },
  {
   "cell_type": "code",
   "execution_count": 7,
   "metadata": {},
   "outputs": [
    {
     "name": "stderr",
     "output_type": "stream",
     "text": [
      "100%|██████████████████████████████████████████████████████████████████████| 598418/598418 [00:02<00:00, 233240.55it/s]\n"
     ]
    },
    {
     "data": {
      "text/html": [
       "<div>\n",
       "<style scoped>\n",
       "    .dataframe tbody tr th:only-of-type {\n",
       "        vertical-align: middle;\n",
       "    }\n",
       "\n",
       "    .dataframe tbody tr th {\n",
       "        vertical-align: top;\n",
       "    }\n",
       "\n",
       "    .dataframe thead th {\n",
       "        text-align: right;\n",
       "    }\n",
       "</style>\n",
       "<table border=\"1\" class=\"dataframe\">\n",
       "  <thead>\n",
       "    <tr style=\"text-align: right;\">\n",
       "      <th></th>\n",
       "      <th>id</th>\n",
       "      <th>gender</th>\n",
       "      <th>age</th>\n",
       "      <th>industry</th>\n",
       "      <th>sign</th>\n",
       "      <th>date</th>\n",
       "      <th>blog</th>\n",
       "    </tr>\n",
       "  </thead>\n",
       "  <tbody>\n",
       "    <tr>\n",
       "      <th>0</th>\n",
       "      <td>1000331</td>\n",
       "      <td>female</td>\n",
       "      <td>37</td>\n",
       "      <td>Unknown</td>\n",
       "      <td>Leo</td>\n",
       "      <td>2004-05-31</td>\n",
       "      <td>well, everyone got up and going this morning. ...</td>\n",
       "    </tr>\n",
       "    <tr>\n",
       "      <th>1</th>\n",
       "      <td>1000331</td>\n",
       "      <td>female</td>\n",
       "      <td>37</td>\n",
       "      <td>Unknown</td>\n",
       "      <td>Leo</td>\n",
       "      <td>2004-05-29</td>\n",
       "      <td>my four-year old never stops talking.  she'll ...</td>\n",
       "    </tr>\n",
       "    <tr>\n",
       "      <th>2</th>\n",
       "      <td>1000331</td>\n",
       "      <td>female</td>\n",
       "      <td>37</td>\n",
       "      <td>Unknown</td>\n",
       "      <td>Leo</td>\n",
       "      <td>2004-05-28</td>\n",
       "      <td>actually it's not raining yet, but i bought 15...</td>\n",
       "    </tr>\n",
       "    <tr>\n",
       "      <th>3</th>\n",
       "      <td>1000331</td>\n",
       "      <td>female</td>\n",
       "      <td>37</td>\n",
       "      <td>Unknown</td>\n",
       "      <td>Leo</td>\n",
       "      <td>2004-05-28</td>\n",
       "      <td>ha! just set up my rss feed - that is so easy!...</td>\n",
       "    </tr>\n",
       "    <tr>\n",
       "      <th>4</th>\n",
       "      <td>1000331</td>\n",
       "      <td>female</td>\n",
       "      <td>37</td>\n",
       "      <td>Unknown</td>\n",
       "      <td>Leo</td>\n",
       "      <td>2004-05-28</td>\n",
       "      <td>oh, which just reminded me, we were talking ab...</td>\n",
       "    </tr>\n",
       "  </tbody>\n",
       "</table>\n",
       "</div>"
      ],
      "text/plain": [
       "        id  gender  age industry sign       date  \\\n",
       "0  1000331  female   37  Unknown  Leo 2004-05-31   \n",
       "1  1000331  female   37  Unknown  Leo 2004-05-29   \n",
       "2  1000331  female   37  Unknown  Leo 2004-05-28   \n",
       "3  1000331  female   37  Unknown  Leo 2004-05-28   \n",
       "4  1000331  female   37  Unknown  Leo 2004-05-28   \n",
       "\n",
       "                                                blog  \n",
       "0  well, everyone got up and going this morning. ...  \n",
       "1  my four-year old never stops talking.  she'll ...  \n",
       "2  actually it's not raining yet, but i bought 15...  \n",
       "3  ha! just set up my rss feed - that is so easy!...  \n",
       "4  oh, which just reminded me, we were talking ab...  "
      ]
     },
     "execution_count": 7,
     "metadata": {},
     "output_type": "execute_result"
    }
   ],
   "source": [
    "df['blog'] = [blog.lower() for blog in tqdm(df['blog'], position=0, leave=True)]\n",
    "df.head()"
   ]
  },
  {
   "cell_type": "markdown",
   "metadata": {},
   "source": [
    "## 3b. Remove numbers"
   ]
  },
  {
   "cell_type": "code",
   "execution_count": 8,
   "metadata": {},
   "outputs": [
    {
     "name": "stderr",
     "output_type": "stream",
     "text": [
      "100%|███████████████████████████████████████████████████████████████████████| 598418/598418 [00:17<00:00, 34659.89it/s]\n"
     ]
    },
    {
     "data": {
      "text/html": [
       "<div>\n",
       "<style scoped>\n",
       "    .dataframe tbody tr th:only-of-type {\n",
       "        vertical-align: middle;\n",
       "    }\n",
       "\n",
       "    .dataframe tbody tr th {\n",
       "        vertical-align: top;\n",
       "    }\n",
       "\n",
       "    .dataframe thead th {\n",
       "        text-align: right;\n",
       "    }\n",
       "</style>\n",
       "<table border=\"1\" class=\"dataframe\">\n",
       "  <thead>\n",
       "    <tr style=\"text-align: right;\">\n",
       "      <th></th>\n",
       "      <th>id</th>\n",
       "      <th>gender</th>\n",
       "      <th>age</th>\n",
       "      <th>industry</th>\n",
       "      <th>sign</th>\n",
       "      <th>date</th>\n",
       "      <th>blog</th>\n",
       "    </tr>\n",
       "  </thead>\n",
       "  <tbody>\n",
       "    <tr>\n",
       "      <th>0</th>\n",
       "      <td>1000331</td>\n",
       "      <td>female</td>\n",
       "      <td>37</td>\n",
       "      <td>Unknown</td>\n",
       "      <td>Leo</td>\n",
       "      <td>2004-05-31</td>\n",
       "      <td>well, everyone got up and going this morning. ...</td>\n",
       "    </tr>\n",
       "    <tr>\n",
       "      <th>1</th>\n",
       "      <td>1000331</td>\n",
       "      <td>female</td>\n",
       "      <td>37</td>\n",
       "      <td>Unknown</td>\n",
       "      <td>Leo</td>\n",
       "      <td>2004-05-29</td>\n",
       "      <td>my four-year old never stops talking.  she'll ...</td>\n",
       "    </tr>\n",
       "    <tr>\n",
       "      <th>2</th>\n",
       "      <td>1000331</td>\n",
       "      <td>female</td>\n",
       "      <td>37</td>\n",
       "      <td>Unknown</td>\n",
       "      <td>Leo</td>\n",
       "      <td>2004-05-28</td>\n",
       "      <td>actually it's not raining yet, but i bought  t...</td>\n",
       "    </tr>\n",
       "    <tr>\n",
       "      <th>3</th>\n",
       "      <td>1000331</td>\n",
       "      <td>female</td>\n",
       "      <td>37</td>\n",
       "      <td>Unknown</td>\n",
       "      <td>Leo</td>\n",
       "      <td>2004-05-28</td>\n",
       "      <td>ha! just set up my rss feed - that is so easy!...</td>\n",
       "    </tr>\n",
       "    <tr>\n",
       "      <th>4</th>\n",
       "      <td>1000331</td>\n",
       "      <td>female</td>\n",
       "      <td>37</td>\n",
       "      <td>Unknown</td>\n",
       "      <td>Leo</td>\n",
       "      <td>2004-05-28</td>\n",
       "      <td>oh, which just reminded me, we were talking ab...</td>\n",
       "    </tr>\n",
       "  </tbody>\n",
       "</table>\n",
       "</div>"
      ],
      "text/plain": [
       "        id  gender  age industry sign       date  \\\n",
       "0  1000331  female   37  Unknown  Leo 2004-05-31   \n",
       "1  1000331  female   37  Unknown  Leo 2004-05-29   \n",
       "2  1000331  female   37  Unknown  Leo 2004-05-28   \n",
       "3  1000331  female   37  Unknown  Leo 2004-05-28   \n",
       "4  1000331  female   37  Unknown  Leo 2004-05-28   \n",
       "\n",
       "                                                blog  \n",
       "0  well, everyone got up and going this morning. ...  \n",
       "1  my four-year old never stops talking.  she'll ...  \n",
       "2  actually it's not raining yet, but i bought  t...  \n",
       "3  ha! just set up my rss feed - that is so easy!...  \n",
       "4  oh, which just reminded me, we were talking ab...  "
      ]
     },
     "execution_count": 8,
     "metadata": {},
     "output_type": "execute_result"
    }
   ],
   "source": [
    "df['blog'] = [re.sub(r'\\d+', '', blog) for blog in tqdm(df['blog'], position=0, leave=True)]\n",
    "df.head()"
   ]
  },
  {
   "cell_type": "markdown",
   "metadata": {},
   "source": [
    "## 3c. Remove punctuation"
   ]
  },
  {
   "cell_type": "code",
   "execution_count": 9,
   "metadata": {},
   "outputs": [
    {
     "name": "stderr",
     "output_type": "stream",
     "text": [
      "100%|███████████████████████████████████████████████████████████████████████| 598418/598418 [00:16<00:00, 37255.94it/s]\n"
     ]
    },
    {
     "data": {
      "text/html": [
       "<div>\n",
       "<style scoped>\n",
       "    .dataframe tbody tr th:only-of-type {\n",
       "        vertical-align: middle;\n",
       "    }\n",
       "\n",
       "    .dataframe tbody tr th {\n",
       "        vertical-align: top;\n",
       "    }\n",
       "\n",
       "    .dataframe thead th {\n",
       "        text-align: right;\n",
       "    }\n",
       "</style>\n",
       "<table border=\"1\" class=\"dataframe\">\n",
       "  <thead>\n",
       "    <tr style=\"text-align: right;\">\n",
       "      <th></th>\n",
       "      <th>id</th>\n",
       "      <th>gender</th>\n",
       "      <th>age</th>\n",
       "      <th>industry</th>\n",
       "      <th>sign</th>\n",
       "      <th>date</th>\n",
       "      <th>blog</th>\n",
       "    </tr>\n",
       "  </thead>\n",
       "  <tbody>\n",
       "    <tr>\n",
       "      <th>0</th>\n",
       "      <td>1000331</td>\n",
       "      <td>female</td>\n",
       "      <td>37</td>\n",
       "      <td>Unknown</td>\n",
       "      <td>Leo</td>\n",
       "      <td>2004-05-31</td>\n",
       "      <td>well everyone got up and going this morning  i...</td>\n",
       "    </tr>\n",
       "    <tr>\n",
       "      <th>1</th>\n",
       "      <td>1000331</td>\n",
       "      <td>female</td>\n",
       "      <td>37</td>\n",
       "      <td>Unknown</td>\n",
       "      <td>Leo</td>\n",
       "      <td>2004-05-29</td>\n",
       "      <td>my fouryear old never stops talking  shell say...</td>\n",
       "    </tr>\n",
       "    <tr>\n",
       "      <th>2</th>\n",
       "      <td>1000331</td>\n",
       "      <td>female</td>\n",
       "      <td>37</td>\n",
       "      <td>Unknown</td>\n",
       "      <td>Leo</td>\n",
       "      <td>2004-05-28</td>\n",
       "      <td>actually its not raining yet but i bought  tic...</td>\n",
       "    </tr>\n",
       "    <tr>\n",
       "      <th>3</th>\n",
       "      <td>1000331</td>\n",
       "      <td>female</td>\n",
       "      <td>37</td>\n",
       "      <td>Unknown</td>\n",
       "      <td>Leo</td>\n",
       "      <td>2004-05-28</td>\n",
       "      <td>ha just set up my rss feed  that is so easy  w...</td>\n",
       "    </tr>\n",
       "    <tr>\n",
       "      <th>4</th>\n",
       "      <td>1000331</td>\n",
       "      <td>female</td>\n",
       "      <td>37</td>\n",
       "      <td>Unknown</td>\n",
       "      <td>Leo</td>\n",
       "      <td>2004-05-28</td>\n",
       "      <td>oh which just reminded me we were talking abou...</td>\n",
       "    </tr>\n",
       "  </tbody>\n",
       "</table>\n",
       "</div>"
      ],
      "text/plain": [
       "        id  gender  age industry sign       date  \\\n",
       "0  1000331  female   37  Unknown  Leo 2004-05-31   \n",
       "1  1000331  female   37  Unknown  Leo 2004-05-29   \n",
       "2  1000331  female   37  Unknown  Leo 2004-05-28   \n",
       "3  1000331  female   37  Unknown  Leo 2004-05-28   \n",
       "4  1000331  female   37  Unknown  Leo 2004-05-28   \n",
       "\n",
       "                                                blog  \n",
       "0  well everyone got up and going this morning  i...  \n",
       "1  my fouryear old never stops talking  shell say...  \n",
       "2  actually its not raining yet but i bought  tic...  \n",
       "3  ha just set up my rss feed  that is so easy  w...  \n",
       "4  oh which just reminded me we were talking abou...  "
      ]
     },
     "execution_count": 9,
     "metadata": {},
     "output_type": "execute_result"
    }
   ],
   "source": [
    "df['blog'] = [blog.translate(str.maketrans('','', string.punctuation)) for blog in tqdm(df['blog'], position=0, leave=True)]\n",
    "df.head()"
   ]
  },
  {
   "cell_type": "markdown",
   "metadata": {},
   "source": [
    "### 3d. Remove whitespaces"
   ]
  },
  {
   "cell_type": "code",
   "execution_count": 10,
   "metadata": {},
   "outputs": [
    {
     "data": {
      "text/html": [
       "<div>\n",
       "<style scoped>\n",
       "    .dataframe tbody tr th:only-of-type {\n",
       "        vertical-align: middle;\n",
       "    }\n",
       "\n",
       "    .dataframe tbody tr th {\n",
       "        vertical-align: top;\n",
       "    }\n",
       "\n",
       "    .dataframe thead th {\n",
       "        text-align: right;\n",
       "    }\n",
       "</style>\n",
       "<table border=\"1\" class=\"dataframe\">\n",
       "  <thead>\n",
       "    <tr style=\"text-align: right;\">\n",
       "      <th></th>\n",
       "      <th>id</th>\n",
       "      <th>gender</th>\n",
       "      <th>age</th>\n",
       "      <th>industry</th>\n",
       "      <th>sign</th>\n",
       "      <th>date</th>\n",
       "      <th>blog</th>\n",
       "    </tr>\n",
       "  </thead>\n",
       "  <tbody>\n",
       "    <tr>\n",
       "      <th>0</th>\n",
       "      <td>1000331</td>\n",
       "      <td>female</td>\n",
       "      <td>37</td>\n",
       "      <td>Unknown</td>\n",
       "      <td>Leo</td>\n",
       "      <td>2004-05-31</td>\n",
       "      <td>well everyone got up and going this morning  i...</td>\n",
       "    </tr>\n",
       "    <tr>\n",
       "      <th>1</th>\n",
       "      <td>1000331</td>\n",
       "      <td>female</td>\n",
       "      <td>37</td>\n",
       "      <td>Unknown</td>\n",
       "      <td>Leo</td>\n",
       "      <td>2004-05-29</td>\n",
       "      <td>my fouryear old never stops talking  shell say...</td>\n",
       "    </tr>\n",
       "    <tr>\n",
       "      <th>2</th>\n",
       "      <td>1000331</td>\n",
       "      <td>female</td>\n",
       "      <td>37</td>\n",
       "      <td>Unknown</td>\n",
       "      <td>Leo</td>\n",
       "      <td>2004-05-28</td>\n",
       "      <td>actually its not raining yet but i bought  tic...</td>\n",
       "    </tr>\n",
       "    <tr>\n",
       "      <th>3</th>\n",
       "      <td>1000331</td>\n",
       "      <td>female</td>\n",
       "      <td>37</td>\n",
       "      <td>Unknown</td>\n",
       "      <td>Leo</td>\n",
       "      <td>2004-05-28</td>\n",
       "      <td>ha just set up my rss feed  that is so easy  w...</td>\n",
       "    </tr>\n",
       "    <tr>\n",
       "      <th>4</th>\n",
       "      <td>1000331</td>\n",
       "      <td>female</td>\n",
       "      <td>37</td>\n",
       "      <td>Unknown</td>\n",
       "      <td>Leo</td>\n",
       "      <td>2004-05-28</td>\n",
       "      <td>oh which just reminded me we were talking abou...</td>\n",
       "    </tr>\n",
       "  </tbody>\n",
       "</table>\n",
       "</div>"
      ],
      "text/plain": [
       "        id  gender  age industry sign       date  \\\n",
       "0  1000331  female   37  Unknown  Leo 2004-05-31   \n",
       "1  1000331  female   37  Unknown  Leo 2004-05-29   \n",
       "2  1000331  female   37  Unknown  Leo 2004-05-28   \n",
       "3  1000331  female   37  Unknown  Leo 2004-05-28   \n",
       "4  1000331  female   37  Unknown  Leo 2004-05-28   \n",
       "\n",
       "                                                blog  \n",
       "0  well everyone got up and going this morning  i...  \n",
       "1  my fouryear old never stops talking  shell say...  \n",
       "2  actually its not raining yet but i bought  tic...  \n",
       "3  ha just set up my rss feed  that is so easy  w...  \n",
       "4  oh which just reminded me we were talking abou...  "
      ]
     },
     "execution_count": 10,
     "metadata": {},
     "output_type": "execute_result"
    }
   ],
   "source": [
    "df['blog'] = [blog.strip() for blog in df['blog']]\n",
    "df.head()"
   ]
  },
  {
   "cell_type": "markdown",
   "metadata": {},
   "source": [
    "### 3e. One-Hot Encoding"
   ]
  },
  {
   "cell_type": "code",
   "execution_count": 11,
   "metadata": {},
   "outputs": [
    {
     "data": {
      "text/html": [
       "<div>\n",
       "<style scoped>\n",
       "    .dataframe tbody tr th:only-of-type {\n",
       "        vertical-align: middle;\n",
       "    }\n",
       "\n",
       "    .dataframe tbody tr th {\n",
       "        vertical-align: top;\n",
       "    }\n",
       "\n",
       "    .dataframe thead th {\n",
       "        text-align: right;\n",
       "    }\n",
       "</style>\n",
       "<table border=\"1\" class=\"dataframe\">\n",
       "  <thead>\n",
       "    <tr style=\"text-align: right;\">\n",
       "      <th></th>\n",
       "      <th>id</th>\n",
       "      <th>age</th>\n",
       "      <th>industry</th>\n",
       "      <th>sign</th>\n",
       "      <th>date</th>\n",
       "      <th>blog</th>\n",
       "      <th>gender_male</th>\n",
       "    </tr>\n",
       "  </thead>\n",
       "  <tbody>\n",
       "    <tr>\n",
       "      <th>0</th>\n",
       "      <td>1000331</td>\n",
       "      <td>37</td>\n",
       "      <td>Unknown</td>\n",
       "      <td>Leo</td>\n",
       "      <td>2004-05-31</td>\n",
       "      <td>well everyone got up and going this morning  i...</td>\n",
       "      <td>0</td>\n",
       "    </tr>\n",
       "    <tr>\n",
       "      <th>1</th>\n",
       "      <td>1000331</td>\n",
       "      <td>37</td>\n",
       "      <td>Unknown</td>\n",
       "      <td>Leo</td>\n",
       "      <td>2004-05-29</td>\n",
       "      <td>my fouryear old never stops talking  shell say...</td>\n",
       "      <td>0</td>\n",
       "    </tr>\n",
       "    <tr>\n",
       "      <th>2</th>\n",
       "      <td>1000331</td>\n",
       "      <td>37</td>\n",
       "      <td>Unknown</td>\n",
       "      <td>Leo</td>\n",
       "      <td>2004-05-28</td>\n",
       "      <td>actually its not raining yet but i bought  tic...</td>\n",
       "      <td>0</td>\n",
       "    </tr>\n",
       "    <tr>\n",
       "      <th>3</th>\n",
       "      <td>1000331</td>\n",
       "      <td>37</td>\n",
       "      <td>Unknown</td>\n",
       "      <td>Leo</td>\n",
       "      <td>2004-05-28</td>\n",
       "      <td>ha just set up my rss feed  that is so easy  w...</td>\n",
       "      <td>0</td>\n",
       "    </tr>\n",
       "    <tr>\n",
       "      <th>4</th>\n",
       "      <td>1000331</td>\n",
       "      <td>37</td>\n",
       "      <td>Unknown</td>\n",
       "      <td>Leo</td>\n",
       "      <td>2004-05-28</td>\n",
       "      <td>oh which just reminded me we were talking abou...</td>\n",
       "      <td>0</td>\n",
       "    </tr>\n",
       "  </tbody>\n",
       "</table>\n",
       "</div>"
      ],
      "text/plain": [
       "        id  age industry sign       date  \\\n",
       "0  1000331   37  Unknown  Leo 2004-05-31   \n",
       "1  1000331   37  Unknown  Leo 2004-05-29   \n",
       "2  1000331   37  Unknown  Leo 2004-05-28   \n",
       "3  1000331   37  Unknown  Leo 2004-05-28   \n",
       "4  1000331   37  Unknown  Leo 2004-05-28   \n",
       "\n",
       "                                                blog  gender_male  \n",
       "0  well everyone got up and going this morning  i...            0  \n",
       "1  my fouryear old never stops talking  shell say...            0  \n",
       "2  actually its not raining yet but i bought  tic...            0  \n",
       "3  ha just set up my rss feed  that is so easy  w...            0  \n",
       "4  oh which just reminded me we were talking abou...            0  "
      ]
     },
     "execution_count": 11,
     "metadata": {},
     "output_type": "execute_result"
    }
   ],
   "source": [
    "df = pd.get_dummies(df, columns=['gender'], drop_first=True)\n",
    "df.head()"
   ]
  },
  {
   "cell_type": "markdown",
   "metadata": {},
   "source": [
    "# 4. Modeling"
   ]
  },
  {
   "cell_type": "markdown",
   "metadata": {},
   "source": [
    "### 4a. Random Forest Classifier"
   ]
  },
  {
   "cell_type": "code",
   "execution_count": 12,
   "metadata": {},
   "outputs": [
    {
     "data": {
      "text/plain": [
       "{'tfidfvectorizer__stop_words': ['english', None]}"
      ]
     },
     "execution_count": 12,
     "metadata": {},
     "output_type": "execute_result"
    }
   ],
   "source": [
    "grid_params = {'tfidfvectorizer__stop_words': ['english', None]}\n",
    "grid_params"
   ]
  },
  {
   "cell_type": "code",
   "execution_count": 89,
   "metadata": {},
   "outputs": [
    {
     "name": "stdout",
     "output_type": "stream",
     "text": [
      "Fitting 5 folds for each of 2 candidates, totalling 10 fits\n"
     ]
    },
    {
     "name": "stderr",
     "output_type": "stream",
     "text": [
      "[Parallel(n_jobs=-1)]: Using backend LokyBackend with 4 concurrent workers.\n",
      "[Parallel(n_jobs=-1)]: Done  10 out of  10 | elapsed: 117.1min finished\n"
     ]
    },
    {
     "name": "stdout",
     "output_type": "stream",
     "text": [
      "Wall time: 2h 32min 35s\n"
     ]
    }
   ],
   "source": [
    "%%time\n",
    "\n",
    "rf_pipe = make_pipeline(TfidfVectorizer(stop_words='english', min_df=0.01), \n",
    "                        StandardScaler(with_mean=False), \n",
    "                        RandomForestClassifier())\n",
    "\n",
    "X = df[df['age']<20]['blog']\n",
    "y = df[df['age']<20]['gender_male']\n",
    "\n",
    "X_train, X_test, y_train, y_test = train_test_split(X, y, test_size=0.2)\n",
    "\n",
    "teens_rf_grid = GridSearchCV(rf_pipe, param_grid=grid_params, cv=5, verbose=1, n_jobs=-1)\n",
    "teens_rf_model = teens_rf_grid.fit(X_train, y_train)"
   ]
  },
  {
   "cell_type": "code",
   "execution_count": 93,
   "metadata": {},
   "outputs": [
    {
     "name": "stderr",
     "output_type": "stream",
     "text": [
      "C:\\ProgramData\\Anaconda3\\lib\\site-packages\\seaborn\\_decorators.py:36: FutureWarning: Pass the following variables as keyword args: x, y. From version 0.12, the only valid positional argument will be `data`, and passing other arguments without an explicit keyword will result in an error or misinterpretation.\n",
      "  warnings.warn(\n",
      "C:\\ProgramData\\Anaconda3\\lib\\site-packages\\seaborn\\_decorators.py:36: FutureWarning: Pass the following variables as keyword args: x, y. From version 0.12, the only valid positional argument will be `data`, and passing other arguments without an explicit keyword will result in an error or misinterpretation.\n",
      "  warnings.warn(\n"
     ]
    },
    {
     "name": "stdout",
     "output_type": "stream",
     "text": [
      "AUC: 0.718\n",
      "Wall time: 37.8 s\n"
     ]
    },
    {
     "data": {
      "image/png": "[encoded data removed]",
      "text/plain": [
       "<Figure size 432x288 with 1 Axes>"
      ]
     },
     "metadata": {},
     "output_type": "display_data"
    }
   ],
   "source": [
    "%%time\n",
    "\n",
    "probs = teens_rf_model.predict_proba(X_test)\n",
    "probs = probs[:,1]\n",
    "\n",
    "fpr, tpr, thresholds = roc_curve(y_test, probs)\n",
    "sns.lineplot([0,1], [0,1], linestyle='--')\n",
    "plt = sns.lineplot(x=fpr, y=tpr, marker='.')\n",
    "auc_score = roc_auc_score(y_test, probs)\n",
    "print('AUC: %.3f' % auc_score)"
   ]
  },
  {
   "cell_type": "code",
   "execution_count": 98,
   "metadata": {},
   "outputs": [],
   "source": [
    "pickle.dump(teens_rf_model, open('teens_rf_model.sav', 'wb'))"
   ]
  },
  {
   "cell_type": "markdown",
   "metadata": {},
   "source": [
    "### 4b. XGBoost Classifier"
   ]
  },
  {
   "cell_type": "code",
   "execution_count": 13,
   "metadata": {},
   "outputs": [
    {
     "name": "stdout",
     "output_type": "stream",
     "text": [
      "Fitting 5 folds for each of 2 candidates, totalling 10 fits\n"
     ]
    },
    {
     "name": "stderr",
     "output_type": "stream",
     "text": [
      "[Parallel(n_jobs=-1)]: Using backend LokyBackend with 4 concurrent workers.\n",
      "[Parallel(n_jobs=-1)]: Done  10 out of  10 | elapsed: 34.5min finished\n",
      "C:\\ProgramData\\Anaconda3\\lib\\site-packages\\xgboost\\sklearn.py:888: UserWarning: The use of label encoder in XGBClassifier is deprecated and will be removed in a future release. To remove this warning, do the following: 1) Pass option use_label_encoder=False when constructing XGBClassifier object; and 2) Encode your labels (y) as integers starting with 0, i.e. 0, 1, 2, ..., [num_class - 1].\n",
      "  warnings.warn(label_encoder_deprecation_msg, UserWarning)\n"
     ]
    },
    {
     "name": "stdout",
     "output_type": "stream",
     "text": [
      "[20:06:52] WARNING: C:/Users/Administrator/workspace/xgboost-win64_release_1.3.0/src/learner.cc:1061: Starting in XGBoost 1.3.0, the default evaluation metric used with the objective 'binary:logistic' was changed from 'error' to 'logloss'. Explicitly set eval_metric if you'd like to restore the old behavior.\n",
      "Wall time: 40min 30s\n"
     ]
    },
    {
     "data": {
      "text/plain": [
       "GridSearchCV(cv=5,\n",
       "             estimator=Pipeline(steps=[('tfidfvectorizer',\n",
       "                                        TfidfVectorizer(min_df=0.01,\n",
       "                                                        stop_words='english')),\n",
       "                                       ('standardscaler',\n",
       "                                        StandardScaler(with_mean=False)),\n",
       "                                       ('xgbclassifier',\n",
       "                                        XGBClassifier(base_score=None,\n",
       "                                                      booster=None,\n",
       "                                                      colsample_bylevel=None,\n",
       "                                                      colsample_bynode=None,\n",
       "                                                      colsample_bytree=None,\n",
       "                                                      gamma=None, gpu_id=None,\n",
       "                                                      importance_type='gain',\n",
       "                                                      interaction_...\n",
       "                                                      max_depth=None,\n",
       "                                                      min_child_weight=None,\n",
       "                                                      missing=nan,\n",
       "                                                      monotone_constraints=None,\n",
       "                                                      n_estimators=100,\n",
       "                                                      n_jobs=None,\n",
       "                                                      num_parallel_tree=None,\n",
       "                                                      random_state=None,\n",
       "                                                      reg_alpha=None,\n",
       "                                                      reg_lambda=None,\n",
       "                                                      scale_pos_weight=None,\n",
       "                                                      subsample=None,\n",
       "                                                      tree_method=None,\n",
       "                                                      validate_parameters=None,\n",
       "                                                      verbosity=None))]),\n",
       "             n_jobs=-1,\n",
       "             param_grid={'tfidfvectorizer__stop_words': ['english', None]},\n",
       "             verbose=1)"
      ]
     },
     "execution_count": 13,
     "metadata": {},
     "output_type": "execute_result"
    }
   ],
   "source": [
    "%%time\n",
    "\n",
    "rf_pipe = make_pipeline(TfidfVectorizer(stop_words='english', min_df=0.01), \n",
    "                        StandardScaler(with_mean=False), \n",
    "                        XGBClassifier())\n",
    "\n",
    "X = df[df['age']<20]['blog']\n",
    "y = df[df['age']<20]['gender_male']\n",
    "\n",
    "X_train, X_test, y_train, y_test = train_test_split(X, y, test_size=0.2)\n",
    "\n",
    "teens_xg_grid = GridSearchCV(rf_pipe, param_grid=grid_params, cv=5, verbose=1, n_jobs=-1)\n",
    "teens_xg_grid.fit(X_train, y_train)"
   ]
  },
  {
   "cell_type": "code",
   "execution_count": 14,
   "metadata": {},
   "outputs": [
    {
     "name": "stderr",
     "output_type": "stream",
     "text": [
      "C:\\ProgramData\\Anaconda3\\lib\\site-packages\\seaborn\\_decorators.py:36: FutureWarning: Pass the following variables as keyword args: x, y. From version 0.12, the only valid positional argument will be `data`, and passing other arguments without an explicit keyword will result in an error or misinterpretation.\n",
      "  warnings.warn(\n"
     ]
    },
    {
     "name": "stdout",
     "output_type": "stream",
     "text": [
      "AUC: 0.744\n",
      "Wall time: 3min 17s\n"
     ]
    },
    {
     "data": {
      "image/png": "[encoded data removed]",
      "text/plain": [
       "<Figure size 432x288 with 1 Axes>"
      ]
     },
     "metadata": {},
     "output_type": "display_data"
    }
   ],
   "source": [
    "%%time\n",
    "\n",
    "probs = teens_xg_grid.predict_proba(X_test)\n",
    "probs = probs[:,1]\n",
    "\n",
    "fpr, tpr, thresholds = roc_curve(y_test, probs)\n",
    "sns.lineplot(x=[0,1], y=[0,1], linestyle='--')\n",
    "plt = sns.lineplot(x=fpr, y=tpr, marker='.')\n",
    "auc_score = roc_auc_score(y_test, probs)\n",
    "print('AUC: %.3f' % auc_score)"
   ]
  },
  {
   "cell_type": "code",
   "execution_count": 15,
   "metadata": {},
   "outputs": [],
   "source": [
    "pickle.dump(teens_xg_grid, open('teens_xg_grid.sav', 'wb'))"
   ]
  }
 ],
 "metadata": {
  "kernelspec": {
   "display_name": "Python 3",
   "language": "python",
   "name": "python3"
  },
  "language_info": {
   "codemirror_mode": {
    "name": "ipython",
    "version": 3
   },
   "file_extension": ".py",
   "mimetype": "text/x-python",
   "name": "python",
   "nbconvert_exporter": "python",
   "pygments_lexer": "ipython3",
   "version": "3.8.5"
  }
 },
 "nbformat": 4,
 "nbformat_minor": 4
}
