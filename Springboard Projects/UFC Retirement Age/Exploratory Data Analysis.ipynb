{
 "cells": [
  {
   "cell_type": "markdown",
   "metadata": {},
   "source": [
    "# UFC Retirement Age - Exploratory Data Analysis"
   ]
  },
  {
   "cell_type": "markdown",
   "metadata": {},
   "source": [
    "## 1. Contents\n",
    "* [1. Contents](#_UFC_Retirement_Age_-_Exploratory_Data_Analysis)\n",
    "* [2. Sourcing and Loading](#_UFC_Retirement_Age_-_Exploratory_Data_Analysis)\n",
    " * [2a. Import relevant libraries](#_UFC_Retirement_Age_-_Exploratory_Data_Analysis)\n",
    " * [2b. Load previously wrangled DataFrame](#_UFC_Retirement_Age_-_Exploratory_Data_Analysis)\n",
    " * [2c. Preliminary exploration of data](#_UFC_Retirement_Age_-_Exploratory_Data_Analysis)\n",
    "* [3. Additional Data Wrangling](#_UFC_Retirement_Age_-_Exploratory_Data_Analysis)\n",
    " * [3a. Removing unnecessary columns](#_UFC_Retirement_Age_-_Exploratory_Data_Analysis)\n",
    " * [3b. Adding `win_pct` columns](#_UFC_Retirement_Age_-_Exploratory_Data_Analysis)\n",
    " * [3c. Transforming `finish` column](#_UFC_Retirement_Age_-_Exploratory_Data_Analysis)\n",
    " * [3d. Adding `adj_win` columns](#_UFC_Retirement_Age_-_Exploratory_Data_Analysis)\n",
    " * [3e. Adjusting all difference columns](#_UFC_Retirement_Age_-_Exploratory_Data_Analysis)\n",
    " * [3f. Adding `adj_wins_dif` column](#_UFC_Retirement_Age_-_Exploratory_Data_Analysis)\n",
    "* [4._Exploration of Age](#_UFC_Retirement_Age_-_Exploratory_Data_Analysis)\n",
    " * [4a. `age`](#_UFC_Retirement_Age_-_Exploratory_Data_Analysis)\n",
    " * [4b. `age` vs. `Winner`](#_UFC_Retirement_Age_-_Exploratory_Data_Analysis)\n",
    " * [4c. `age` vs. `finish`](#_UFC_Retirement_Age_-_Exploratory_Data_Analysis)\n",
    " * [4d. `age` vs. `fighter`, `finish`](#_UFC_Retirement_Age_-_Exploratory_Data_Analysis)\n",
    " * [4e. `age` vs. `current_lose_streak`, `current_win_streak`](#_UFC_Retirement_Age_-_Exploratory_Data_Analysis)\n",
    " * [4f. `age` vs. `sig_str_landed_bout`, `sig_str_attempted_bout`](#_UFC_Retirement_Age_-_Exploratory_Data_Analysis)\n",
    "* [5._Conclusion](#_UFC_Retirement_Age_-_Exploratory_Data_Analysis)"
   ]
  },
  {
   "cell_type": "markdown",
   "metadata": {},
   "source": [
    "## 2. Sourcing and Loading"
   ]
  },
  {
   "cell_type": "markdown",
   "metadata": {},
   "source": [
    "**2a. Import relevant libraries**"
   ]
  },
  {
   "cell_type": "code",
   "execution_count": 1,
   "metadata": {},
   "outputs": [],
   "source": [
    "import numpy as np \n",
    "import pandas as pd \n",
    "import matplotlib.pyplot as plt\n",
    "import seaborn as sns\n",
    "import kaggle as kg\n",
    "import pandas as pd\n",
    "import missingno as msno\n",
    "import statsmodels.api as sm\n",
    "import scipy.stats\n",
    "from matplotlib.lines import Line2D\n",
    "from kaggle.api.kaggle_api_extended import KaggleApi\n",
    "from statsmodels.graphics.api import abline_plot\n",
    "from sklearn.metrics import mean_squared_error, r2_score\n",
    "from sklearn.model_selection import train_test_split\n",
    "from sklearn import linear_model, preprocessing\n",
    "from zipfile import ZipFile\n",
    "from scipy import stats\n",
    "from scipy.stats import t\n",
    "from scipy.stats import ttest_ind\n",
    "from scipy.stats import mannwhitneyu\n",
    "from numpy.random import seed\n",
    "import warnings\n",
    "warnings.simplefilter(action=\"ignore\", category=FutureWarning)\n",
    "warnings.filterwarnings(action=\"ignore\", module=\"scipy\", message=\"^internal gelsd\")"
   ]
  },
  {
   "cell_type": "markdown",
   "metadata": {},
   "source": [
    "**2b. Load previously wrangled DataFrame**"
   ]
  },
  {
   "cell_type": "code",
   "execution_count": 2,
   "metadata": {},
   "outputs": [],
   "source": [
    "df = pd.read_csv('df.csv', index_col=0)"
   ]
  },
  {
   "cell_type": "markdown",
   "metadata": {},
   "source": [
    "**2c. Preliminary exploration of data**"
   ]
  },
  {
   "cell_type": "code",
   "execution_count": 3,
   "metadata": {},
   "outputs": [
    {
     "name": "stdout",
     "output_type": "stream",
     "text": [
      "SUMMARY INFO\n",
      "<class 'pandas.core.frame.DataFrame'>\n",
      "Int64Index: 8774 entries, 0 to 8773\n",
      "Data columns (total 69 columns):\n",
      " #   Column                      Non-Null Count  Dtype  \n",
      "---  ------                      --------------  -----  \n",
      " 0   date                        8774 non-null   object \n",
      " 1   fighter                     8774 non-null   object \n",
      " 2   odds                        8774 non-null   int64  \n",
      " 3   ev                          8774 non-null   float64\n",
      " 4   country                     8774 non-null   object \n",
      " 5   Winner                      8774 non-null   bool   \n",
      " 6   title_bout                  8774 non-null   bool   \n",
      " 7   weight_class                8774 non-null   object \n",
      " 8   gender                      8774 non-null   object \n",
      " 9   no_of_rounds                8774 non-null   int64  \n",
      " 10  current_lose_streak         8774 non-null   int64  \n",
      " 11  current_win_streak          8774 non-null   int64  \n",
      " 12  draw                        8774 non-null   int64  \n",
      " 13  avg_SIG_STR_landed          7389 non-null   float64\n",
      " 14  avg_SIG_STR_pct             7652 non-null   float64\n",
      " 15  avg_SUB_ATT                 7585 non-null   float64\n",
      " 16  avg_TD_landed               7584 non-null   float64\n",
      " 17  avg_TD_pct                  7565 non-null   float64\n",
      " 18  longest_win_streak          8774 non-null   int64  \n",
      " 19  losses                      8774 non-null   int64  \n",
      " 20  total_rounds_fought         8774 non-null   int64  \n",
      " 21  total_title_bouts           8774 non-null   int64  \n",
      " 22  win_by_Decision_Majority    8774 non-null   int64  \n",
      " 23  win_by_Decision_Split       8774 non-null   int64  \n",
      " 24  win_by_Decision_Unanimous   8774 non-null   int64  \n",
      " 25  win_by_KO/TKO               8774 non-null   int64  \n",
      " 26  win_by_Submission           8774 non-null   int64  \n",
      " 27  win_by_TKO_Doctor_Stoppage  8774 non-null   int64  \n",
      " 28  wins                        8774 non-null   int64  \n",
      " 29  Stance                      8774 non-null   object \n",
      " 30  Height_cms                  8774 non-null   float64\n",
      " 31  Reach_cms                   8774 non-null   float64\n",
      " 32  Weight_lbs                  8774 non-null   int64  \n",
      " 33  age                         8774 non-null   int64  \n",
      " 34  lose_streak_dif             8774 non-null   int64  \n",
      " 35  win_streak_dif              8774 non-null   int64  \n",
      " 36  longest_win_streak_dif      8774 non-null   int64  \n",
      " 37  win_dif                     8774 non-null   int64  \n",
      " 38  loss_dif                    8774 non-null   int64  \n",
      " 39  total_round_dif             8774 non-null   int64  \n",
      " 40  total_title_bout_dif        8774 non-null   int64  \n",
      " 41  ko_dif                      8774 non-null   int64  \n",
      " 42  sub_dif                     8774 non-null   int64  \n",
      " 43  height_dif                  8774 non-null   float64\n",
      " 44  reach_dif                   8774 non-null   float64\n",
      " 45  age_dif                     8774 non-null   int64  \n",
      " 46  sig_str_dif                 8774 non-null   float64\n",
      " 47  avg_sub_att_dif             8774 non-null   float64\n",
      " 48  avg_td_dif                  8774 non-null   float64\n",
      " 49  empty_arena                 8774 non-null   int64  \n",
      " 50  constant_1                  8774 non-null   int64  \n",
      " 51  better_rank                 8774 non-null   bool   \n",
      " 52  finish                      8236 non-null   object \n",
      " 53  finish_details              4028 non-null   object \n",
      " 54  finish_round                8198 non-null   float64\n",
      " 55  finish_round_time           8198 non-null   object \n",
      " 56  total_fight_time_secs       8198 non-null   float64\n",
      " 57  kd_bout                     5544 non-null   float64\n",
      " 58  sig_str_landed_bout         5544 non-null   float64\n",
      " 59  sig_str_attempted_bout      5544 non-null   float64\n",
      " 60  sig_str_pct_bout            5544 non-null   float64\n",
      " 61  tot_str_landed_bout         5544 non-null   float64\n",
      " 62  tot_str_attempted_bout      5544 non-null   float64\n",
      " 63  td_landed_bout              5544 non-null   float64\n",
      " 64  td_attempted_bout           5544 non-null   float64\n",
      " 65  td_pct_bout                 5544 non-null   float64\n",
      " 66  sub_attempts_bout           5544 non-null   float64\n",
      " 67  pass_bout                   5544 non-null   float64\n",
      " 68  rev_bout                    5544 non-null   float64\n",
      "dtypes: bool(3), float64(27), int64(30), object(9)\n",
      "memory usage: 4.5+ MB\n",
      "None\n"
     ]
    }
   ],
   "source": [
    "print('SUMMARY INFO')\n",
    "print(df.info())"
   ]
  },
  {
   "cell_type": "code",
   "execution_count": 4,
   "metadata": {
    "scrolled": true
   },
   "outputs": [
    {
     "name": "stdout",
     "output_type": "stream",
     "text": [
      "Shape: (8774, 69)\n"
     ]
    }
   ],
   "source": [
    "print('Shape: ' + str(df.shape))"
   ]
  },
  {
   "cell_type": "code",
   "execution_count": 5,
   "metadata": {},
   "outputs": [
    {
     "data": {
      "text/html": [
       "<div>\n",
       "<style scoped>\n",
       "    .dataframe tbody tr th:only-of-type {\n",
       "        vertical-align: middle;\n",
       "    }\n",
       "\n",
       "    .dataframe tbody tr th {\n",
       "        vertical-align: top;\n",
       "    }\n",
       "\n",
       "    .dataframe thead th {\n",
       "        text-align: right;\n",
       "    }\n",
       "</style>\n",
       "<table border=\"1\" class=\"dataframe\">\n",
       "  <thead>\n",
       "    <tr style=\"text-align: right;\">\n",
       "      <th></th>\n",
       "      <th>date</th>\n",
       "      <th>fighter</th>\n",
       "      <th>odds</th>\n",
       "      <th>ev</th>\n",
       "      <th>country</th>\n",
       "      <th>Winner</th>\n",
       "      <th>title_bout</th>\n",
       "      <th>weight_class</th>\n",
       "      <th>gender</th>\n",
       "      <th>no_of_rounds</th>\n",
       "      <th>...</th>\n",
       "      <th>sig_str_attempted_bout</th>\n",
       "      <th>sig_str_pct_bout</th>\n",
       "      <th>tot_str_landed_bout</th>\n",
       "      <th>tot_str_attempted_bout</th>\n",
       "      <th>td_landed_bout</th>\n",
       "      <th>td_attempted_bout</th>\n",
       "      <th>td_pct_bout</th>\n",
       "      <th>sub_attempts_bout</th>\n",
       "      <th>pass_bout</th>\n",
       "      <th>rev_bout</th>\n",
       "    </tr>\n",
       "  </thead>\n",
       "  <tbody>\n",
       "    <tr>\n",
       "      <th>0</th>\n",
       "      <td>9/19/2020</td>\n",
       "      <td>Colby Covington</td>\n",
       "      <td>-335</td>\n",
       "      <td>29.850746</td>\n",
       "      <td>USA</td>\n",
       "      <td>True</td>\n",
       "      <td>False</td>\n",
       "      <td>Welterweight</td>\n",
       "      <td>MALE</td>\n",
       "      <td>5</td>\n",
       "      <td>...</td>\n",
       "      <td>NaN</td>\n",
       "      <td>NaN</td>\n",
       "      <td>NaN</td>\n",
       "      <td>NaN</td>\n",
       "      <td>NaN</td>\n",
       "      <td>NaN</td>\n",
       "      <td>NaN</td>\n",
       "      <td>NaN</td>\n",
       "      <td>NaN</td>\n",
       "      <td>NaN</td>\n",
       "    </tr>\n",
       "    <tr>\n",
       "      <th>1</th>\n",
       "      <td>9/19/2020</td>\n",
       "      <td>Tyron Woodley</td>\n",
       "      <td>260</td>\n",
       "      <td>260.000000</td>\n",
       "      <td>USA</td>\n",
       "      <td>False</td>\n",
       "      <td>False</td>\n",
       "      <td>Welterweight</td>\n",
       "      <td>MALE</td>\n",
       "      <td>5</td>\n",
       "      <td>...</td>\n",
       "      <td>NaN</td>\n",
       "      <td>NaN</td>\n",
       "      <td>NaN</td>\n",
       "      <td>NaN</td>\n",
       "      <td>NaN</td>\n",
       "      <td>NaN</td>\n",
       "      <td>NaN</td>\n",
       "      <td>NaN</td>\n",
       "      <td>NaN</td>\n",
       "      <td>NaN</td>\n",
       "    </tr>\n",
       "    <tr>\n",
       "      <th>2</th>\n",
       "      <td>9/19/2020</td>\n",
       "      <td>Khamzat Chimaev</td>\n",
       "      <td>-400</td>\n",
       "      <td>25.000000</td>\n",
       "      <td>USA</td>\n",
       "      <td>True</td>\n",
       "      <td>False</td>\n",
       "      <td>Middleweight</td>\n",
       "      <td>MALE</td>\n",
       "      <td>3</td>\n",
       "      <td>...</td>\n",
       "      <td>NaN</td>\n",
       "      <td>NaN</td>\n",
       "      <td>NaN</td>\n",
       "      <td>NaN</td>\n",
       "      <td>NaN</td>\n",
       "      <td>NaN</td>\n",
       "      <td>NaN</td>\n",
       "      <td>NaN</td>\n",
       "      <td>NaN</td>\n",
       "      <td>NaN</td>\n",
       "    </tr>\n",
       "    <tr>\n",
       "      <th>3</th>\n",
       "      <td>9/19/2020</td>\n",
       "      <td>Gerald Meerschaert</td>\n",
       "      <td>300</td>\n",
       "      <td>300.000000</td>\n",
       "      <td>USA</td>\n",
       "      <td>False</td>\n",
       "      <td>False</td>\n",
       "      <td>Middleweight</td>\n",
       "      <td>MALE</td>\n",
       "      <td>3</td>\n",
       "      <td>...</td>\n",
       "      <td>NaN</td>\n",
       "      <td>NaN</td>\n",
       "      <td>NaN</td>\n",
       "      <td>NaN</td>\n",
       "      <td>NaN</td>\n",
       "      <td>NaN</td>\n",
       "      <td>NaN</td>\n",
       "      <td>NaN</td>\n",
       "      <td>NaN</td>\n",
       "      <td>NaN</td>\n",
       "    </tr>\n",
       "    <tr>\n",
       "      <th>4</th>\n",
       "      <td>9/19/2020</td>\n",
       "      <td>Johnny Walker</td>\n",
       "      <td>-125</td>\n",
       "      <td>80.000000</td>\n",
       "      <td>USA</td>\n",
       "      <td>True</td>\n",
       "      <td>False</td>\n",
       "      <td>Light Heavyweight</td>\n",
       "      <td>MALE</td>\n",
       "      <td>3</td>\n",
       "      <td>...</td>\n",
       "      <td>NaN</td>\n",
       "      <td>NaN</td>\n",
       "      <td>NaN</td>\n",
       "      <td>NaN</td>\n",
       "      <td>NaN</td>\n",
       "      <td>NaN</td>\n",
       "      <td>NaN</td>\n",
       "      <td>NaN</td>\n",
       "      <td>NaN</td>\n",
       "      <td>NaN</td>\n",
       "    </tr>\n",
       "  </tbody>\n",
       "</table>\n",
       "<p>5 rows × 69 columns</p>\n",
       "</div>"
      ],
      "text/plain": [
       "        date             fighter  odds          ev country  Winner  \\\n",
       "0  9/19/2020     Colby Covington  -335   29.850746     USA    True   \n",
       "1  9/19/2020       Tyron Woodley   260  260.000000     USA   False   \n",
       "2  9/19/2020     Khamzat Chimaev  -400   25.000000     USA    True   \n",
       "3  9/19/2020  Gerald Meerschaert   300  300.000000     USA   False   \n",
       "4  9/19/2020       Johnny Walker  -125   80.000000     USA    True   \n",
       "\n",
       "   title_bout       weight_class gender  no_of_rounds  ...  \\\n",
       "0       False       Welterweight   MALE             5  ...   \n",
       "1       False       Welterweight   MALE             5  ...   \n",
       "2       False       Middleweight   MALE             3  ...   \n",
       "3       False       Middleweight   MALE             3  ...   \n",
       "4       False  Light Heavyweight   MALE             3  ...   \n",
       "\n",
       "   sig_str_attempted_bout  sig_str_pct_bout  tot_str_landed_bout  \\\n",
       "0                     NaN               NaN                  NaN   \n",
       "1                     NaN               NaN                  NaN   \n",
       "2                     NaN               NaN                  NaN   \n",
       "3                     NaN               NaN                  NaN   \n",
       "4                     NaN               NaN                  NaN   \n",
       "\n",
       "   tot_str_attempted_bout  td_landed_bout  td_attempted_bout  td_pct_bout  \\\n",
       "0                     NaN             NaN                NaN          NaN   \n",
       "1                     NaN             NaN                NaN          NaN   \n",
       "2                     NaN             NaN                NaN          NaN   \n",
       "3                     NaN             NaN                NaN          NaN   \n",
       "4                     NaN             NaN                NaN          NaN   \n",
       "\n",
       "   sub_attempts_bout  pass_bout  rev_bout  \n",
       "0                NaN        NaN       NaN  \n",
       "1                NaN        NaN       NaN  \n",
       "2                NaN        NaN       NaN  \n",
       "3                NaN        NaN       NaN  \n",
       "4                NaN        NaN       NaN  \n",
       "\n",
       "[5 rows x 69 columns]"
      ]
     },
     "execution_count": 5,
     "metadata": {},
     "output_type": "execute_result"
    }
   ],
   "source": [
    "df.head()"
   ]
  },
  {
   "cell_type": "markdown",
   "metadata": {},
   "source": [
    "## 3. Additional Data Wrangling"
   ]
  },
  {
   "cell_type": "markdown",
   "metadata": {},
   "source": [
    "**3a. Removing unnecessary columns**"
   ]
  },
  {
   "cell_type": "code",
   "execution_count": 6,
   "metadata": {},
   "outputs": [],
   "source": [
    "df.drop(columns = ['ev', 'empty_arena', 'constant_1', 'no_of_rounds'], inplace=True)"
   ]
  },
  {
   "cell_type": "markdown",
   "metadata": {},
   "source": [
    "**3b. Adding `win_pct` column**"
   ]
  },
  {
   "cell_type": "markdown",
   "metadata": {},
   "source": [
    "The `wins`, `draw`, and `losses` columns can be used to create a new win percentage column."
   ]
  },
  {
   "cell_type": "code",
   "execution_count": 7,
   "metadata": {},
   "outputs": [
    {
     "data": {
      "text/plain": [
       "NaN         1342\n",
       "1.000000    1235\n",
       "0.500000    1068\n",
       "0.000000     811\n",
       "0.666667     719\n",
       "            ... \n",
       "0.674419       1\n",
       "0.593750       1\n",
       "0.807692       1\n",
       "0.483871       1\n",
       "0.741935       1\n",
       "Name: win_pct, Length: 148, dtype: int64"
      ]
     },
     "execution_count": 7,
     "metadata": {},
     "output_type": "execute_result"
    }
   ],
   "source": [
    "df['win_pct'] = df['wins'] / (df['wins'] + df['draw'] + df['losses'])\n",
    "df['win_pct'].value_counts(dropna=False)"
   ]
  },
  {
   "cell_type": "code",
   "execution_count": 8,
   "metadata": {},
   "outputs": [
    {
     "data": {
      "text/plain": [
       "False"
      ]
     },
     "execution_count": 8,
     "metadata": {},
     "output_type": "execute_result"
    }
   ],
   "source": [
    "df['win_pct'].fillna(0, inplace=True)\n",
    "df['win_pct'].isnull().values.any()"
   ]
  },
  {
   "cell_type": "code",
   "execution_count": 9,
   "metadata": {},
   "outputs": [
    {
     "data": {
      "text/plain": [
       "U-DEC         3130\n",
       "KO/TKO        2614\n",
       "SUB           1536\n",
       "S-DEC          876\n",
       "M-DEC           52\n",
       "DQ              24\n",
       "Overturned       4\n",
       "Name: finish, dtype: int64"
      ]
     },
     "execution_count": 9,
     "metadata": {},
     "output_type": "execute_result"
    }
   ],
   "source": [
    "df.finish.value_counts()"
   ]
  },
  {
   "cell_type": "markdown",
   "metadata": {},
   "source": [
    "**3c. Transforming `finish` column**"
   ]
  },
  {
   "cell_type": "markdown",
   "metadata": {},
   "source": [
    "The finish column will be more helpful to us as a categorical variable. Not all wins are created equal, and some are more decisive than others. Therefore, each type of finish will be graded on a scale in order of decisiveness. The following values will be used:\n",
    "\n",
    "* **-4:** Loss by submission/KO/TKO\n",
    "* **-3:** Loss by unanimous decision\n",
    "* **-2:** Loss by majority decision\n",
    "* **-1:** Loss by split decision\n",
    "* **0:** Disqualification or overturned result\n",
    "* **1:** Win by split decision\n",
    "* **2:** Win by majority decision\n",
    "* **3:** Win by unanimous decision\n",
    "* **4:** Win by submission/KO/TKO"
   ]
  },
  {
   "cell_type": "code",
   "execution_count": 10,
   "metadata": {},
   "outputs": [
    {
     "data": {
      "text/plain": [
       "U-DEC         3130\n",
       "KO/TKO        2614\n",
       "SUB           1536\n",
       "S-DEC          876\n",
       "NaN            538\n",
       "M-DEC           52\n",
       "DQ              24\n",
       "Overturned       4\n",
       "Name: finish, dtype: int64"
      ]
     },
     "execution_count": 10,
     "metadata": {},
     "output_type": "execute_result"
    }
   ],
   "source": [
    "df.finish.value_counts(dropna=False)"
   ]
  },
  {
   "cell_type": "code",
   "execution_count": 11,
   "metadata": {},
   "outputs": [
    {
     "data": {
      "text/plain": [
       "-4    2075\n",
       " 4    2075\n",
       "-3    1565\n",
       " 3    1565\n",
       "-1     438\n",
       " 1     438\n",
       " 0      28\n",
       "-2      26\n",
       " 2      26\n",
       "Name: finish, dtype: int64"
      ]
     },
     "execution_count": 11,
     "metadata": {},
     "output_type": "execute_result"
    }
   ],
   "source": [
    "for i, row in df.iterrows():\n",
    "    if (row['Winner'] == False) & ((row['finish'] == 'SUB') | (row['finish'] == 'KO/TKO')):\n",
    "        df.at[i, 'finish'] = -4\n",
    "    elif (row['Winner'] == False) & (row['finish'] == 'U-DEC'):\n",
    "        df.at[i, 'finish'] = -3\n",
    "    elif (row['Winner'] == False) & (row['finish'] == 'M-DEC'):\n",
    "        df.at[i, 'finish'] = -2\n",
    "    elif (row['Winner'] == False) & (row['finish'] == 'S-DEC'):\n",
    "        df.at[i, 'finish'] = -1\n",
    "    elif (row['Winner'] == True) & (row['finish'] == 'S-DEC'):\n",
    "        df.at[i, 'finish'] = 1\n",
    "    elif (row['Winner'] == True) & (row['finish'] == 'M-DEC'):\n",
    "        df.at[i, 'finish'] = 2\n",
    "    elif (row['Winner'] == True) & (row['finish'] == 'U-DEC'):\n",
    "        df.at[i, 'finish'] = 3\n",
    "    elif (row['Winner'] == True) & ((row['finish'] == 'SUB') | (row['finish'] == 'KO/TKO')):\n",
    "        df.at[i, 'finish'] = 4\n",
    "    elif pd.isnull(row['finish']):\n",
    "        df.at[i, 'finish'] = row['finish']\n",
    "    else:\n",
    "        df.at[i, 'finish'] = 0\n",
    "        \n",
    "df['finish'].value_counts()"
   ]
  },
  {
   "cell_type": "markdown",
   "metadata": {},
   "source": [
    "**3d. Adding `adj_wins` column**"
   ]
  },
  {
   "cell_type": "markdown",
   "metadata": {},
   "source": [
    "With a new scale created for `finish`, we can now apply it on the `wins` column to create a new adjusted columns."
   ]
  },
  {
   "cell_type": "code",
   "execution_count": 12,
   "metadata": {},
   "outputs": [
    {
     "data": {
      "text/plain": [
       "[34, 54, 8, 24, 12, 12, 9, 15, 16, 16]"
      ]
     },
     "execution_count": 12,
     "metadata": {},
     "output_type": "execute_result"
    }
   ],
   "source": [
    "adj_wins = []\n",
    "for i, row in df.iterrows():\n",
    "    adj_win = ((row['win_by_Decision_Split'] * 1) + \n",
    "               (row['win_by_Decision_Majority'] * 2) + \n",
    "               (row['win_by_Decision_Unanimous'] * 3) + \n",
    "               (row['win_by_KO/TKO'] * 4) + \n",
    "               (row['win_by_Submission'] * 4) + \n",
    "               (row['win_by_TKO_Doctor_Stoppage'] * 4))\n",
    "    adj_wins.append(adj_win)\n",
    "\n",
    "adj_wins[:10]"
   ]
  },
  {
   "cell_type": "code",
   "execution_count": 13,
   "metadata": {},
   "outputs": [
    {
     "data": {
      "text/html": [
       "<div>\n",
       "<style scoped>\n",
       "    .dataframe tbody tr th:only-of-type {\n",
       "        vertical-align: middle;\n",
       "    }\n",
       "\n",
       "    .dataframe tbody tr th {\n",
       "        vertical-align: top;\n",
       "    }\n",
       "\n",
       "    .dataframe thead th {\n",
       "        text-align: right;\n",
       "    }\n",
       "</style>\n",
       "<table border=\"1\" class=\"dataframe\">\n",
       "  <thead>\n",
       "    <tr style=\"text-align: right;\">\n",
       "      <th></th>\n",
       "      <th>adj_wins</th>\n",
       "      <th>win_by_Decision_Split</th>\n",
       "      <th>win_by_Decision_Majority</th>\n",
       "      <th>win_by_Decision_Unanimous</th>\n",
       "      <th>win_by_KO/TKO</th>\n",
       "      <th>win_by_Submission</th>\n",
       "      <th>win_by_TKO_Doctor_Stoppage</th>\n",
       "    </tr>\n",
       "  </thead>\n",
       "  <tbody>\n",
       "    <tr>\n",
       "      <th>0</th>\n",
       "      <td>34</td>\n",
       "      <td>0</td>\n",
       "      <td>0</td>\n",
       "      <td>6</td>\n",
       "      <td>2</td>\n",
       "      <td>2</td>\n",
       "      <td>0</td>\n",
       "    </tr>\n",
       "    <tr>\n",
       "      <th>1</th>\n",
       "      <td>54</td>\n",
       "      <td>3</td>\n",
       "      <td>1</td>\n",
       "      <td>3</td>\n",
       "      <td>6</td>\n",
       "      <td>4</td>\n",
       "      <td>0</td>\n",
       "    </tr>\n",
       "    <tr>\n",
       "      <th>2</th>\n",
       "      <td>8</td>\n",
       "      <td>0</td>\n",
       "      <td>0</td>\n",
       "      <td>0</td>\n",
       "      <td>1</td>\n",
       "      <td>1</td>\n",
       "      <td>0</td>\n",
       "    </tr>\n",
       "    <tr>\n",
       "      <th>3</th>\n",
       "      <td>24</td>\n",
       "      <td>0</td>\n",
       "      <td>0</td>\n",
       "      <td>0</td>\n",
       "      <td>1</td>\n",
       "      <td>5</td>\n",
       "      <td>0</td>\n",
       "    </tr>\n",
       "    <tr>\n",
       "      <th>4</th>\n",
       "      <td>12</td>\n",
       "      <td>0</td>\n",
       "      <td>0</td>\n",
       "      <td>0</td>\n",
       "      <td>3</td>\n",
       "      <td>0</td>\n",
       "      <td>0</td>\n",
       "    </tr>\n",
       "  </tbody>\n",
       "</table>\n",
       "</div>"
      ],
      "text/plain": [
       "   adj_wins  win_by_Decision_Split  win_by_Decision_Majority  \\\n",
       "0        34                      0                         0   \n",
       "1        54                      3                         1   \n",
       "2         8                      0                         0   \n",
       "3        24                      0                         0   \n",
       "4        12                      0                         0   \n",
       "\n",
       "   win_by_Decision_Unanimous  win_by_KO/TKO  win_by_Submission  \\\n",
       "0                          6              2                  2   \n",
       "1                          3              6                  4   \n",
       "2                          0              1                  1   \n",
       "3                          0              1                  5   \n",
       "4                          0              3                  0   \n",
       "\n",
       "   win_by_TKO_Doctor_Stoppage  \n",
       "0                           0  \n",
       "1                           0  \n",
       "2                           0  \n",
       "3                           0  \n",
       "4                           0  "
      ]
     },
     "execution_count": 13,
     "metadata": {},
     "output_type": "execute_result"
    }
   ],
   "source": [
    "df['adj_wins'] = adj_wins\n",
    "df[['adj_wins', 'win_by_Decision_Split', 'win_by_Decision_Majority', 'win_by_Decision_Unanimous', 'win_by_KO/TKO',\n",
    "    'win_by_Submission', 'win_by_TKO_Doctor_Stoppage']].head()"
   ]
  },
  {
   "cell_type": "markdown",
   "metadata": {},
   "source": [
    "**3e. Adjusting all difference columns**"
   ]
  },
  {
   "cell_type": "markdown",
   "metadata": {},
   "source": [
    "Due to the nature of the previous data wrangling project, all of the difference columns have positive values. This is inaccurate, as one fighter should have a positive difference and the other one should have a negative difference. In order to do this, I will create an entirely new DataFrame to store the correct differences, then replace the original difference columns with the values in this new DataFrame."
   ]
  },
  {
   "cell_type": "code",
   "execution_count": 14,
   "metadata": {},
   "outputs": [
    {
     "data": {
      "text/html": [
       "<div>\n",
       "<style scoped>\n",
       "    .dataframe tbody tr th:only-of-type {\n",
       "        vertical-align: middle;\n",
       "    }\n",
       "\n",
       "    .dataframe tbody tr th {\n",
       "        vertical-align: top;\n",
       "    }\n",
       "\n",
       "    .dataframe thead th {\n",
       "        text-align: right;\n",
       "    }\n",
       "</style>\n",
       "<table border=\"1\" class=\"dataframe\">\n",
       "  <thead>\n",
       "    <tr style=\"text-align: right;\">\n",
       "      <th></th>\n",
       "      <th>avg_TD_landed</th>\n",
       "      <th>avg_TD_pct</th>\n",
       "      <th>avg_td_dif</th>\n",
       "      <th>td_landed_bout</th>\n",
       "      <th>td_attempted_bout</th>\n",
       "      <th>td_pct_bout</th>\n",
       "    </tr>\n",
       "  </thead>\n",
       "  <tbody>\n",
       "    <tr>\n",
       "      <th>0</th>\n",
       "      <td>4.910000</td>\n",
       "      <td>0.510</td>\n",
       "      <td>-3.800000</td>\n",
       "      <td>NaN</td>\n",
       "      <td>NaN</td>\n",
       "      <td>NaN</td>\n",
       "    </tr>\n",
       "    <tr>\n",
       "      <th>1</th>\n",
       "      <td>1.110000</td>\n",
       "      <td>0.390</td>\n",
       "      <td>-3.800000</td>\n",
       "      <td>NaN</td>\n",
       "      <td>NaN</td>\n",
       "      <td>NaN</td>\n",
       "    </tr>\n",
       "    <tr>\n",
       "      <th>2</th>\n",
       "      <td>4.810000</td>\n",
       "      <td>0.750</td>\n",
       "      <td>-2.470000</td>\n",
       "      <td>NaN</td>\n",
       "      <td>NaN</td>\n",
       "      <td>NaN</td>\n",
       "    </tr>\n",
       "    <tr>\n",
       "      <th>3</th>\n",
       "      <td>2.340000</td>\n",
       "      <td>0.430</td>\n",
       "      <td>-2.470000</td>\n",
       "      <td>NaN</td>\n",
       "      <td>NaN</td>\n",
       "      <td>NaN</td>\n",
       "    </tr>\n",
       "    <tr>\n",
       "      <th>4</th>\n",
       "      <td>0.430000</td>\n",
       "      <td>1.000</td>\n",
       "      <td>0.700000</td>\n",
       "      <td>NaN</td>\n",
       "      <td>NaN</td>\n",
       "      <td>NaN</td>\n",
       "    </tr>\n",
       "    <tr>\n",
       "      <th>...</th>\n",
       "      <td>...</td>\n",
       "      <td>...</td>\n",
       "      <td>...</td>\n",
       "      <td>...</td>\n",
       "      <td>...</td>\n",
       "      <td>...</td>\n",
       "    </tr>\n",
       "    <tr>\n",
       "      <th>8769</th>\n",
       "      <td>1.000000</td>\n",
       "      <td>1.000</td>\n",
       "      <td>1.000000</td>\n",
       "      <td>0.0</td>\n",
       "      <td>2.0</td>\n",
       "      <td>0.00</td>\n",
       "    </tr>\n",
       "    <tr>\n",
       "      <th>8770</th>\n",
       "      <td>3.500000</td>\n",
       "      <td>0.520</td>\n",
       "      <td>-3.500000</td>\n",
       "      <td>6.0</td>\n",
       "      <td>10.0</td>\n",
       "      <td>0.60</td>\n",
       "    </tr>\n",
       "    <tr>\n",
       "      <th>8771</th>\n",
       "      <td>NaN</td>\n",
       "      <td>NaN</td>\n",
       "      <td>-3.500000</td>\n",
       "      <td>0.0</td>\n",
       "      <td>0.0</td>\n",
       "      <td>0.00</td>\n",
       "    </tr>\n",
       "    <tr>\n",
       "      <th>8772</th>\n",
       "      <td>0.833333</td>\n",
       "      <td>0.145</td>\n",
       "      <td>0.833333</td>\n",
       "      <td>2.0</td>\n",
       "      <td>3.0</td>\n",
       "      <td>0.66</td>\n",
       "    </tr>\n",
       "    <tr>\n",
       "      <th>8773</th>\n",
       "      <td>1.666667</td>\n",
       "      <td>0.500</td>\n",
       "      <td>0.833333</td>\n",
       "      <td>3.0</td>\n",
       "      <td>6.0</td>\n",
       "      <td>0.50</td>\n",
       "    </tr>\n",
       "  </tbody>\n",
       "</table>\n",
       "<p>8774 rows × 6 columns</p>\n",
       "</div>"
      ],
      "text/plain": [
       "      avg_TD_landed  avg_TD_pct  avg_td_dif  td_landed_bout  \\\n",
       "0          4.910000       0.510   -3.800000             NaN   \n",
       "1          1.110000       0.390   -3.800000             NaN   \n",
       "2          4.810000       0.750   -2.470000             NaN   \n",
       "3          2.340000       0.430   -2.470000             NaN   \n",
       "4          0.430000       1.000    0.700000             NaN   \n",
       "...             ...         ...         ...             ...   \n",
       "8769       1.000000       1.000    1.000000             0.0   \n",
       "8770       3.500000       0.520   -3.500000             6.0   \n",
       "8771            NaN         NaN   -3.500000             0.0   \n",
       "8772       0.833333       0.145    0.833333             2.0   \n",
       "8773       1.666667       0.500    0.833333             3.0   \n",
       "\n",
       "      td_attempted_bout  td_pct_bout  \n",
       "0                   NaN          NaN  \n",
       "1                   NaN          NaN  \n",
       "2                   NaN          NaN  \n",
       "3                   NaN          NaN  \n",
       "4                   NaN          NaN  \n",
       "...                 ...          ...  \n",
       "8769                2.0         0.00  \n",
       "8770               10.0         0.60  \n",
       "8771                0.0         0.00  \n",
       "8772                3.0         0.66  \n",
       "8773                6.0         0.50  \n",
       "\n",
       "[8774 rows x 6 columns]"
      ]
     },
     "execution_count": 14,
     "metadata": {},
     "output_type": "execute_result"
    }
   ],
   "source": [
    "df[[column for column in df.columns if (('td' in column) | ('TD' in column))]]"
   ]
  },
  {
   "cell_type": "code",
   "execution_count": 15,
   "metadata": {
    "scrolled": true
   },
   "outputs": [
    {
     "data": {
      "text/plain": [
       "Index(['current_lose_streak_dif', 'current_win_streak_dif',\n",
       "       'longest_win_streak_dif', 'wins_dif', 'losses_dif',\n",
       "       'total_rounds_fought_dif', 'total_title_bouts_dif',\n",
       "       'win_by_Submission_dif', 'Height_cms_dif', 'Reach_cms_dif', 'age_dif',\n",
       "       'avg_SIG_STR_landed_dif', 'avg_SUB_ATT_dif', 'avg_TD_landed_dif'],\n",
       "      dtype='object')"
      ]
     },
     "execution_count": 15,
     "metadata": {},
     "output_type": "execute_result"
    }
   ],
   "source": [
    "dif = pd.DataFrame(columns=['current_lose_streak_dif', 'current_win_streak_dif', 'longest_win_streak_dif', 'wins_dif',\n",
    "                            'losses_dif', 'total_rounds_fought_dif', 'total_title_bouts_dif', 'win_by_Submission_dif',\n",
    "                            'Height_cms_dif', 'Reach_cms_dif', 'age_dif', 'avg_SIG_STR_landed_dif',\n",
    "                            'avg_SUB_ATT_dif', 'avg_TD_landed_dif'])\n",
    "dif.columns"
   ]
  },
  {
   "cell_type": "code",
   "execution_count": 16,
   "metadata": {
    "scrolled": true
   },
   "outputs": [
    {
     "data": {
      "text/plain": [
       "Int64Index([   0,    1,    2,    3,    4,    5,    6,    7,    8,    9,\n",
       "            ...\n",
       "            8764, 8765, 8766, 8767, 8768, 8769, 8770, 8771, 8772, 8773],\n",
       "           dtype='int64', length=8774)"
      ]
     },
     "execution_count": 16,
     "metadata": {},
     "output_type": "execute_result"
    }
   ],
   "source": [
    "for number in range(8774):\n",
    "    dif.loc[number] = df.at[1177, 'avg_TD_landed']\n",
    "    \n",
    "dif.index"
   ]
  },
  {
   "cell_type": "code",
   "execution_count": 17,
   "metadata": {},
   "outputs": [
    {
     "data": {
      "text/html": [
       "<div>\n",
       "<style scoped>\n",
       "    .dataframe tbody tr th:only-of-type {\n",
       "        vertical-align: middle;\n",
       "    }\n",
       "\n",
       "    .dataframe tbody tr th {\n",
       "        vertical-align: top;\n",
       "    }\n",
       "\n",
       "    .dataframe thead th {\n",
       "        text-align: right;\n",
       "    }\n",
       "</style>\n",
       "<table border=\"1\" class=\"dataframe\">\n",
       "  <thead>\n",
       "    <tr style=\"text-align: right;\">\n",
       "      <th></th>\n",
       "      <th>current_lose_streak_dif</th>\n",
       "      <th>current_win_streak_dif</th>\n",
       "      <th>longest_win_streak_dif</th>\n",
       "      <th>wins_dif</th>\n",
       "      <th>losses_dif</th>\n",
       "      <th>total_rounds_fought_dif</th>\n",
       "      <th>total_title_bouts_dif</th>\n",
       "      <th>win_by_Submission_dif</th>\n",
       "      <th>Height_cms_dif</th>\n",
       "      <th>Reach_cms_dif</th>\n",
       "      <th>age_dif</th>\n",
       "      <th>avg_SIG_STR_landed_dif</th>\n",
       "      <th>avg_SUB_ATT_dif</th>\n",
       "      <th>avg_TD_landed_dif</th>\n",
       "    </tr>\n",
       "  </thead>\n",
       "  <tbody>\n",
       "    <tr>\n",
       "      <th>0</th>\n",
       "      <td>-1</td>\n",
       "      <td>0</td>\n",
       "      <td>-1</td>\n",
       "      <td>-7</td>\n",
       "      <td>-3</td>\n",
       "      <td>-25</td>\n",
       "      <td>-5</td>\n",
       "      <td>-2</td>\n",
       "      <td>5.08</td>\n",
       "      <td>-5.08</td>\n",
       "      <td>-6</td>\n",
       "      <td>1.79</td>\n",
       "      <td>-0.2</td>\n",
       "      <td>3.80</td>\n",
       "    </tr>\n",
       "    <tr>\n",
       "      <th>1</th>\n",
       "      <td>1</td>\n",
       "      <td>0</td>\n",
       "      <td>1</td>\n",
       "      <td>7</td>\n",
       "      <td>3</td>\n",
       "      <td>25</td>\n",
       "      <td>5</td>\n",
       "      <td>2</td>\n",
       "      <td>-5.08</td>\n",
       "      <td>5.08</td>\n",
       "      <td>6</td>\n",
       "      <td>-1.79</td>\n",
       "      <td>0.2</td>\n",
       "      <td>-3.80</td>\n",
       "    </tr>\n",
       "    <tr>\n",
       "      <th>2</th>\n",
       "      <td>-1</td>\n",
       "      <td>2</td>\n",
       "      <td>0</td>\n",
       "      <td>-4</td>\n",
       "      <td>-5</td>\n",
       "      <td>-19</td>\n",
       "      <td>0</td>\n",
       "      <td>-4</td>\n",
       "      <td>2.54</td>\n",
       "      <td>-5.08</td>\n",
       "      <td>-6</td>\n",
       "      <td>5.57</td>\n",
       "      <td>1.5</td>\n",
       "      <td>2.47</td>\n",
       "    </tr>\n",
       "    <tr>\n",
       "      <th>3</th>\n",
       "      <td>1</td>\n",
       "      <td>-2</td>\n",
       "      <td>0</td>\n",
       "      <td>4</td>\n",
       "      <td>5</td>\n",
       "      <td>19</td>\n",
       "      <td>0</td>\n",
       "      <td>4</td>\n",
       "      <td>-2.54</td>\n",
       "      <td>5.08</td>\n",
       "      <td>6</td>\n",
       "      <td>-5.57</td>\n",
       "      <td>-1.5</td>\n",
       "      <td>-2.47</td>\n",
       "    </tr>\n",
       "    <tr>\n",
       "      <th>4</th>\n",
       "      <td>2</td>\n",
       "      <td>-4</td>\n",
       "      <td>-1</td>\n",
       "      <td>-1</td>\n",
       "      <td>2</td>\n",
       "      <td>-2</td>\n",
       "      <td>0</td>\n",
       "      <td>-1</td>\n",
       "      <td>2.54</td>\n",
       "      <td>7.62</td>\n",
       "      <td>-1</td>\n",
       "      <td>0.69</td>\n",
       "      <td>-0.6</td>\n",
       "      <td>-0.70</td>\n",
       "    </tr>\n",
       "  </tbody>\n",
       "</table>\n",
       "</div>"
      ],
      "text/plain": [
       "   current_lose_streak_dif  current_win_streak_dif  longest_win_streak_dif  \\\n",
       "0                       -1                       0                      -1   \n",
       "1                        1                       0                       1   \n",
       "2                       -1                       2                       0   \n",
       "3                        1                      -2                       0   \n",
       "4                        2                      -4                      -1   \n",
       "\n",
       "   wins_dif  losses_dif  total_rounds_fought_dif  total_title_bouts_dif  \\\n",
       "0        -7          -3                      -25                     -5   \n",
       "1         7           3                       25                      5   \n",
       "2        -4          -5                      -19                      0   \n",
       "3         4           5                       19                      0   \n",
       "4        -1           2                       -2                      0   \n",
       "\n",
       "   win_by_Submission_dif  Height_cms_dif  Reach_cms_dif  age_dif  \\\n",
       "0                     -2            5.08          -5.08       -6   \n",
       "1                      2           -5.08           5.08        6   \n",
       "2                     -4            2.54          -5.08       -6   \n",
       "3                      4           -2.54           5.08        6   \n",
       "4                     -1            2.54           7.62       -1   \n",
       "\n",
       "   avg_SIG_STR_landed_dif  avg_SUB_ATT_dif  avg_TD_landed_dif  \n",
       "0                    1.79             -0.2               3.80  \n",
       "1                   -1.79              0.2              -3.80  \n",
       "2                    5.57              1.5               2.47  \n",
       "3                   -5.57             -1.5              -2.47  \n",
       "4                    0.69             -0.6              -0.70  "
      ]
     },
     "execution_count": 17,
     "metadata": {},
     "output_type": "execute_result"
    }
   ],
   "source": [
    "for column in dif.columns:\n",
    "    new_dif = []\n",
    "    for i, row in df.iterrows():\n",
    "        if i % 2 == 0:\n",
    "            new_dif.append(row[column[:-4]] - df.at[(i + 1), column[:-4]])\n",
    "        elif i % 2 != 0:\n",
    "            new_dif.append(row[column[:-4]] - df.at[(i - 1), column[:-4]])\n",
    "    dif[column] = new_dif\n",
    "    \n",
    "dif.head()"
   ]
  },
  {
   "cell_type": "code",
   "execution_count": 18,
   "metadata": {
    "scrolled": true
   },
   "outputs": [
    {
     "data": {
      "text/plain": [
       "0   -4\n",
       "1    4\n",
       "2    0\n",
       "3    0\n",
       "4    2\n",
       "5   -2\n",
       "6    0\n",
       "7    0\n",
       "8    0\n",
       "9    0\n",
       "Name: ko_dif, dtype: int64"
      ]
     },
     "execution_count": 18,
     "metadata": {},
     "output_type": "execute_result"
    }
   ],
   "source": [
    "new_ko_dif = []\n",
    "for i, row in df.iterrows():\n",
    "    if i % 2 == 0:\n",
    "        new_ko_dif.append((row['win_by_KO/TKO'] + row['win_by_TKO_Doctor_Stoppage']) -\n",
    "                       (df.at[(i + 1), 'win_by_KO/TKO'] + df.at[(i + 1), 'win_by_TKO_Doctor_Stoppage']))\n",
    "    elif i % 2 != 0:\n",
    "        new_ko_dif.append((row['win_by_KO/TKO'] + row['win_by_TKO_Doctor_Stoppage']) -\n",
    "                       (df.at[(i - 1), 'win_by_KO/TKO'] + df.at[(i - 1), 'win_by_TKO_Doctor_Stoppage']))\n",
    "dif['ko_dif'] = new_ko_dif\n",
    "dif['ko_dif'].head(10)"
   ]
  },
  {
   "cell_type": "code",
   "execution_count": 19,
   "metadata": {
    "scrolled": true
   },
   "outputs": [],
   "source": [
    "old_difs = [column for column in df.loc[:, 'lose_streak_dif':'avg_td_dif'].columns]\n",
    "df.drop(old_difs, axis=1, inplace=True)"
   ]
  },
  {
   "cell_type": "code",
   "execution_count": 20,
   "metadata": {},
   "outputs": [
    {
     "data": {
      "text/plain": [
       "[]"
      ]
     },
     "execution_count": 20,
     "metadata": {},
     "output_type": "execute_result"
    }
   ],
   "source": [
    "[result for result in old_difs if result in df.columns]"
   ]
  },
  {
   "cell_type": "code",
   "execution_count": 21,
   "metadata": {},
   "outputs": [],
   "source": [
    "df = pd.concat([df, dif], axis=1)"
   ]
  },
  {
   "cell_type": "code",
   "execution_count": 22,
   "metadata": {},
   "outputs": [
    {
     "name": "stdout",
     "output_type": "stream",
     "text": [
      "<class 'pandas.core.frame.DataFrame'>\n",
      "Int64Index: 8774 entries, 0 to 8773\n",
      "Data columns (total 67 columns):\n",
      " #   Column                      Non-Null Count  Dtype  \n",
      "---  ------                      --------------  -----  \n",
      " 0   date                        8774 non-null   object \n",
      " 1   fighter                     8774 non-null   object \n",
      " 2   odds                        8774 non-null   int64  \n",
      " 3   country                     8774 non-null   object \n",
      " 4   Winner                      8774 non-null   bool   \n",
      " 5   title_bout                  8774 non-null   bool   \n",
      " 6   weight_class                8774 non-null   object \n",
      " 7   gender                      8774 non-null   object \n",
      " 8   current_lose_streak         8774 non-null   int64  \n",
      " 9   current_win_streak          8774 non-null   int64  \n",
      " 10  draw                        8774 non-null   int64  \n",
      " 11  avg_SIG_STR_landed          7389 non-null   float64\n",
      " 12  avg_SIG_STR_pct             7652 non-null   float64\n",
      " 13  avg_SUB_ATT                 7585 non-null   float64\n",
      " 14  avg_TD_landed               7584 non-null   float64\n",
      " 15  avg_TD_pct                  7565 non-null   float64\n",
      " 16  longest_win_streak          8774 non-null   int64  \n",
      " 17  losses                      8774 non-null   int64  \n",
      " 18  total_rounds_fought         8774 non-null   int64  \n",
      " 19  total_title_bouts           8774 non-null   int64  \n",
      " 20  win_by_Decision_Majority    8774 non-null   int64  \n",
      " 21  win_by_Decision_Split       8774 non-null   int64  \n",
      " 22  win_by_Decision_Unanimous   8774 non-null   int64  \n",
      " 23  win_by_KO/TKO               8774 non-null   int64  \n",
      " 24  win_by_Submission           8774 non-null   int64  \n",
      " 25  win_by_TKO_Doctor_Stoppage  8774 non-null   int64  \n",
      " 26  wins                        8774 non-null   int64  \n",
      " 27  Stance                      8774 non-null   object \n",
      " 28  Height_cms                  8774 non-null   float64\n",
      " 29  Reach_cms                   8774 non-null   float64\n",
      " 30  Weight_lbs                  8774 non-null   int64  \n",
      " 31  age                         8774 non-null   int64  \n",
      " 32  better_rank                 8774 non-null   bool   \n",
      " 33  finish                      8236 non-null   object \n",
      " 34  finish_details              4028 non-null   object \n",
      " 35  finish_round                8198 non-null   float64\n",
      " 36  finish_round_time           8198 non-null   object \n",
      " 37  total_fight_time_secs       8198 non-null   float64\n",
      " 38  kd_bout                     5544 non-null   float64\n",
      " 39  sig_str_landed_bout         5544 non-null   float64\n",
      " 40  sig_str_attempted_bout      5544 non-null   float64\n",
      " 41  sig_str_pct_bout            5544 non-null   float64\n",
      " 42  tot_str_landed_bout         5544 non-null   float64\n",
      " 43  tot_str_attempted_bout      5544 non-null   float64\n",
      " 44  td_landed_bout              5544 non-null   float64\n",
      " 45  td_attempted_bout           5544 non-null   float64\n",
      " 46  td_pct_bout                 5544 non-null   float64\n",
      " 47  sub_attempts_bout           5544 non-null   float64\n",
      " 48  pass_bout                   5544 non-null   float64\n",
      " 49  rev_bout                    5544 non-null   float64\n",
      " 50  win_pct                     8774 non-null   float64\n",
      " 51  adj_wins                    8774 non-null   int64  \n",
      " 52  current_lose_streak_dif     8774 non-null   int64  \n",
      " 53  current_win_streak_dif      8774 non-null   int64  \n",
      " 54  longest_win_streak_dif      8774 non-null   int64  \n",
      " 55  wins_dif                    8774 non-null   int64  \n",
      " 56  losses_dif                  8774 non-null   int64  \n",
      " 57  total_rounds_fought_dif     8774 non-null   int64  \n",
      " 58  total_title_bouts_dif       8774 non-null   int64  \n",
      " 59  win_by_Submission_dif       8774 non-null   int64  \n",
      " 60  Height_cms_dif              8774 non-null   float64\n",
      " 61  Reach_cms_dif               8774 non-null   float64\n",
      " 62  age_dif                     8774 non-null   int64  \n",
      " 63  avg_SIG_STR_landed_dif      6692 non-null   float64\n",
      " 64  avg_SUB_ATT_dif             6888 non-null   float64\n",
      " 65  avg_TD_landed_dif           6886 non-null   float64\n",
      " 66  ko_dif                      8774 non-null   int64  \n",
      "dtypes: bool(3), float64(27), int64(28), object(9)\n",
      "memory usage: 4.7+ MB\n"
     ]
    }
   ],
   "source": [
    "df.info()"
   ]
  },
  {
   "cell_type": "markdown",
   "metadata": {},
   "source": [
    "**3f. Adding `adj_wins_dif` column**"
   ]
  },
  {
   "cell_type": "markdown",
   "metadata": {},
   "source": [
    "Now that there's an `adj_wins` column, we might as well add an `adj_wins_dif` column to all the other difference columns."
   ]
  },
  {
   "cell_type": "code",
   "execution_count": 23,
   "metadata": {},
   "outputs": [
    {
     "data": {
      "text/plain": [
       "[-20, 20, -16, 16, 0, 0, -6, 6, 0, 0]"
      ]
     },
     "execution_count": 23,
     "metadata": {},
     "output_type": "execute_result"
    }
   ],
   "source": [
    "adj_wins_dif = []\n",
    "for i, row in df.iterrows():\n",
    "    if i % 2 == 0:\n",
    "        adj_wins_dif.append(row['adj_wins'] - df.at[(i + 1), 'adj_wins'])\n",
    "    elif i % 2 != 0:\n",
    "        adj_wins_dif.append(row['adj_wins'] - df.at[(i - 1), 'adj_wins'])\n",
    "\n",
    "adj_wins_dif[:10]"
   ]
  },
  {
   "cell_type": "code",
   "execution_count": 24,
   "metadata": {
    "scrolled": true
   },
   "outputs": [
    {
     "data": {
      "text/html": [
       "<div>\n",
       "<style scoped>\n",
       "    .dataframe tbody tr th:only-of-type {\n",
       "        vertical-align: middle;\n",
       "    }\n",
       "\n",
       "    .dataframe tbody tr th {\n",
       "        vertical-align: top;\n",
       "    }\n",
       "\n",
       "    .dataframe thead th {\n",
       "        text-align: right;\n",
       "    }\n",
       "</style>\n",
       "<table border=\"1\" class=\"dataframe\">\n",
       "  <thead>\n",
       "    <tr style=\"text-align: right;\">\n",
       "      <th></th>\n",
       "      <th>adj_wins_dif</th>\n",
       "      <th>adj_wins</th>\n",
       "    </tr>\n",
       "  </thead>\n",
       "  <tbody>\n",
       "    <tr>\n",
       "      <th>0</th>\n",
       "      <td>-20</td>\n",
       "      <td>34</td>\n",
       "    </tr>\n",
       "    <tr>\n",
       "      <th>1</th>\n",
       "      <td>20</td>\n",
       "      <td>54</td>\n",
       "    </tr>\n",
       "    <tr>\n",
       "      <th>2</th>\n",
       "      <td>-16</td>\n",
       "      <td>8</td>\n",
       "    </tr>\n",
       "    <tr>\n",
       "      <th>3</th>\n",
       "      <td>16</td>\n",
       "      <td>24</td>\n",
       "    </tr>\n",
       "    <tr>\n",
       "      <th>4</th>\n",
       "      <td>0</td>\n",
       "      <td>12</td>\n",
       "    </tr>\n",
       "  </tbody>\n",
       "</table>\n",
       "</div>"
      ],
      "text/plain": [
       "   adj_wins_dif  adj_wins\n",
       "0           -20        34\n",
       "1            20        54\n",
       "2           -16         8\n",
       "3            16        24\n",
       "4             0        12"
      ]
     },
     "execution_count": 24,
     "metadata": {},
     "output_type": "execute_result"
    }
   ],
   "source": [
    "df['adj_wins_dif'] = adj_wins_dif\n",
    "df[['adj_wins_dif', 'adj_wins', ]].head()"
   ]
  },
  {
   "cell_type": "markdown",
   "metadata": {},
   "source": [
    "**3g. Change format of `date` column to DateTime**"
   ]
  },
  {
   "cell_type": "code",
   "execution_count": 25,
   "metadata": {},
   "outputs": [
    {
     "data": {
      "text/plain": [
       "date    datetime64[ns]\n",
       "dtype: object"
      ]
     },
     "execution_count": 25,
     "metadata": {},
     "output_type": "execute_result"
    }
   ],
   "source": [
    "df['date'] = pd.to_datetime(df['date'], infer_datetime_format=True)\n",
    "df.dtypes[0:1]"
   ]
  },
  {
   "cell_type": "markdown",
   "metadata": {},
   "source": [
    "## 4. Exploration of `age`"
   ]
  },
  {
   "cell_type": "markdown",
   "metadata": {},
   "source": [
    "Since the focus of this project is on the relationship between age and fight performance, I will plot the relationship between `age` and other variables."
   ]
  },
  {
   "cell_type": "markdown",
   "metadata": {},
   "source": [
    "**4a. `age`**"
   ]
  },
  {
   "cell_type": "markdown",
   "metadata": {},
   "source": [
    "An examination of the `age` variable is a natural first step. "
   ]
  },
  {
   "cell_type": "code",
   "execution_count": 26,
   "metadata": {},
   "outputs": [
    {
     "data": {
      "text/plain": [
       "<matplotlib.axes._subplots.AxesSubplot at 0x28a4b036708>"
      ]
     },
     "execution_count": 26,
     "metadata": {},
     "output_type": "execute_result"
    },
    {
     "data": {
      "image/png": "[encoded data removed]",
      "text/plain": [
       "<Figure size 432x288 with 1 Axes>"
      ]
     },
     "metadata": {
      "needs_background": "light"
     },
     "output_type": "display_data"
    }
   ],
   "source": [
    "sns.distplot(df['age'])"
   ]
  },
  {
   "cell_type": "code",
   "execution_count": 27,
   "metadata": {},
   "outputs": [
    {
     "data": {
      "text/plain": [
       "(37.78493307682125, 21.595737085020556)"
      ]
     },
     "execution_count": 27,
     "metadata": {},
     "output_type": "execute_result"
    }
   ],
   "source": [
    "(np.std(df.age) * 2 + np.mean(df.age)), (np.mean(df.age) - (np.std(df.age) * 2))"
   ]
  },
  {
   "cell_type": "markdown",
   "metadata": {},
   "source": [
    "The distribution of fighter ages is approximately normal, with ~95% of fighter ages between 37.8 and 21.6. Based on this distribution, fighters over the age of 38 could be considered old."
   ]
  },
  {
   "cell_type": "code",
   "execution_count": 28,
   "metadata": {},
   "outputs": [
    {
     "data": {
      "text/plain": [
       "count    8774.000000\n",
       "mean       29.690335\n",
       "std         4.047530\n",
       "min        19.000000\n",
       "25%        27.000000\n",
       "50%        29.000000\n",
       "75%        32.000000\n",
       "max        47.000000\n",
       "Name: age, dtype: float64"
      ]
     },
     "execution_count": 28,
     "metadata": {},
     "output_type": "execute_result"
    },
    {
     "data": {
      "image/png": "[encoded data removed]",
      "text/plain": [
       "<Figure size 432x288 with 1 Axes>"
      ]
     },
     "metadata": {
      "needs_background": "light"
     },
     "output_type": "display_data"
    }
   ],
   "source": [
    "sns.boxplot(data=df, x='age')\n",
    "df.age.describe()"
   ]
  },
  {
   "cell_type": "markdown",
   "metadata": {},
   "source": [
    "**4b. `age` vs. `Winner`**"
   ]
  },
  {
   "cell_type": "markdown",
   "metadata": {},
   "source": [
    "These will be the most obvious variable pair to explore."
   ]
  },
  {
   "cell_type": "code",
   "execution_count": 29,
   "metadata": {},
   "outputs": [
    {
     "data": {
      "text/html": [
       "<div>\n",
       "<style scoped>\n",
       "    .dataframe tbody tr th:only-of-type {\n",
       "        vertical-align: middle;\n",
       "    }\n",
       "\n",
       "    .dataframe tbody tr th {\n",
       "        vertical-align: top;\n",
       "    }\n",
       "\n",
       "    .dataframe thead th {\n",
       "        text-align: right;\n",
       "    }\n",
       "</style>\n",
       "<table border=\"1\" class=\"dataframe\">\n",
       "  <thead>\n",
       "    <tr style=\"text-align: right;\">\n",
       "      <th></th>\n",
       "      <th>count</th>\n",
       "      <th>mean</th>\n",
       "      <th>std</th>\n",
       "      <th>min</th>\n",
       "      <th>25%</th>\n",
       "      <th>50%</th>\n",
       "      <th>75%</th>\n",
       "      <th>max</th>\n",
       "    </tr>\n",
       "    <tr>\n",
       "      <th>Winner</th>\n",
       "      <th></th>\n",
       "      <th></th>\n",
       "      <th></th>\n",
       "      <th></th>\n",
       "      <th></th>\n",
       "      <th></th>\n",
       "      <th></th>\n",
       "      <th></th>\n",
       "    </tr>\n",
       "  </thead>\n",
       "  <tbody>\n",
       "    <tr>\n",
       "      <th>False</th>\n",
       "      <td>4387.0</td>\n",
       "      <td>30.061545</td>\n",
       "      <td>4.106743</td>\n",
       "      <td>19.0</td>\n",
       "      <td>27.0</td>\n",
       "      <td>30.0</td>\n",
       "      <td>33.0</td>\n",
       "      <td>47.0</td>\n",
       "    </tr>\n",
       "    <tr>\n",
       "      <th>True</th>\n",
       "      <td>4387.0</td>\n",
       "      <td>29.319125</td>\n",
       "      <td>3.953192</td>\n",
       "      <td>19.0</td>\n",
       "      <td>27.0</td>\n",
       "      <td>29.0</td>\n",
       "      <td>32.0</td>\n",
       "      <td>47.0</td>\n",
       "    </tr>\n",
       "  </tbody>\n",
       "</table>\n",
       "</div>"
      ],
      "text/plain": [
       "         count       mean       std   min   25%   50%   75%   max\n",
       "Winner                                                           \n",
       "False   4387.0  30.061545  4.106743  19.0  27.0  30.0  33.0  47.0\n",
       "True    4387.0  29.319125  3.953192  19.0  27.0  29.0  32.0  47.0"
      ]
     },
     "execution_count": 29,
     "metadata": {},
     "output_type": "execute_result"
    },
    {
     "data": {
      "image/png": "[encoded data removed]",
      "text/plain": [
       "<Figure size 432x288 with 1 Axes>"
      ]
     },
     "metadata": {
      "needs_background": "light"
     },
     "output_type": "display_data"
    }
   ],
   "source": [
    "sns.boxplot(x='Winner', y='age', data=df)\n",
    "df.groupby('Winner')['age'].describe()"
   ]
  },
  {
   "cell_type": "code",
   "execution_count": 30,
   "metadata": {},
   "outputs": [
    {
     "data": {
      "text/plain": [
       "array([[<matplotlib.axes._subplots.AxesSubplot object at 0x0000028A4CCC1548>]],\n",
       "      dtype=object)"
      ]
     },
     "execution_count": 30,
     "metadata": {},
     "output_type": "execute_result"
    },
    {
     "data": {
      "image/png": "[encoded data removed]",
      "text/plain": [
       "<Figure size 432x288 with 1 Axes>"
      ]
     },
     "metadata": {
      "needs_background": "light"
     },
     "output_type": "display_data"
    }
   ],
   "source": [
    "df[df['Winner'] == True].hist('age', bins=50)"
   ]
  },
  {
   "cell_type": "code",
   "execution_count": 31,
   "metadata": {
    "scrolled": true
   },
   "outputs": [
    {
     "data": {
      "text/plain": [
       "array([[<matplotlib.axes._subplots.AxesSubplot object at 0x0000028A4CC4D208>]],\n",
       "      dtype=object)"
      ]
     },
     "execution_count": 31,
     "metadata": {},
     "output_type": "execute_result"
    },
    {
     "data": {
      "image/png": "[encoded data removed]",
      "text/plain": [
       "<Figure size 432x288 with 1 Axes>"
      ]
     },
     "metadata": {
      "needs_background": "light"
     },
     "output_type": "display_data"
    }
   ],
   "source": [
    "df[df['Winner'] == False].hist('age', bins=50)"
   ]
  },
  {
   "cell_type": "markdown",
   "metadata": {},
   "source": [
    "The mean age of fight losers and winners seems to be very similar. I will conduct a paired T-test on the mean of these 2 samples with a significance level of 0.05. The null hypothesis is that the true mean age difference between these 2 groups is 0."
   ]
  },
  {
   "cell_type": "code",
   "execution_count": 32,
   "metadata": {},
   "outputs": [
    {
     "data": {
      "text/plain": [
       "0    32\n",
       "2    26\n",
       "4    28\n",
       "6    27\n",
       "8    27\n",
       "Name: age, dtype: int64"
      ]
     },
     "execution_count": 32,
     "metadata": {},
     "output_type": "execute_result"
    }
   ],
   "source": [
    "winners = df.age[df.Winner == True]\n",
    "winners.head()"
   ]
  },
  {
   "cell_type": "code",
   "execution_count": 33,
   "metadata": {},
   "outputs": [
    {
     "data": {
      "text/plain": [
       "1    38\n",
       "3    32\n",
       "5    29\n",
       "7    35\n",
       "9    29\n",
       "Name: age, dtype: int64"
      ]
     },
     "execution_count": 33,
     "metadata": {},
     "output_type": "execute_result"
    }
   ],
   "source": [
    "losers = df.age[df.Winner == False]\n",
    "losers.head()"
   ]
  },
  {
   "cell_type": "code",
   "execution_count": 34,
   "metadata": {},
   "outputs": [
    {
     "data": {
      "text/plain": [
       "Ttest_relResult(statistic=-9.626870846324419, pvalue=1.0083174769196263e-21)"
      ]
     },
     "execution_count": 34,
     "metadata": {},
     "output_type": "execute_result"
    }
   ],
   "source": [
    "scipy.stats.ttest_rel(winners, losers)"
   ]
  },
  {
   "cell_type": "markdown",
   "metadata": {},
   "source": [
    "With such a low p-value, the chance that these 2 groups have the same mean is very small. As such, there is enough evidence for us to reject the null hypothesis that the mean of fighter ages between winners and losers is the same."
   ]
  },
  {
   "cell_type": "markdown",
   "metadata": {},
   "source": [
    "**4c. `age` vs. `finish`**"
   ]
  },
  {
   "cell_type": "code",
   "execution_count": 35,
   "metadata": {},
   "outputs": [
    {
     "data": {
      "text/html": [
       "<div>\n",
       "<style scoped>\n",
       "    .dataframe tbody tr th:only-of-type {\n",
       "        vertical-align: middle;\n",
       "    }\n",
       "\n",
       "    .dataframe tbody tr th {\n",
       "        vertical-align: top;\n",
       "    }\n",
       "\n",
       "    .dataframe thead th {\n",
       "        text-align: right;\n",
       "    }\n",
       "</style>\n",
       "<table border=\"1\" class=\"dataframe\">\n",
       "  <thead>\n",
       "    <tr style=\"text-align: right;\">\n",
       "      <th></th>\n",
       "      <th>count</th>\n",
       "      <th>mean</th>\n",
       "      <th>std</th>\n",
       "      <th>min</th>\n",
       "      <th>25%</th>\n",
       "      <th>50%</th>\n",
       "      <th>75%</th>\n",
       "      <th>max</th>\n",
       "    </tr>\n",
       "    <tr>\n",
       "      <th>finish</th>\n",
       "      <th></th>\n",
       "      <th></th>\n",
       "      <th></th>\n",
       "      <th></th>\n",
       "      <th></th>\n",
       "      <th></th>\n",
       "      <th></th>\n",
       "      <th></th>\n",
       "    </tr>\n",
       "  </thead>\n",
       "  <tbody>\n",
       "    <tr>\n",
       "      <th>-4</th>\n",
       "      <td>2075.0</td>\n",
       "      <td>30.286747</td>\n",
       "      <td>4.215528</td>\n",
       "      <td>19.0</td>\n",
       "      <td>27.00</td>\n",
       "      <td>30.0</td>\n",
       "      <td>33.00</td>\n",
       "      <td>47.0</td>\n",
       "    </tr>\n",
       "    <tr>\n",
       "      <th>-3</th>\n",
       "      <td>1565.0</td>\n",
       "      <td>29.918211</td>\n",
       "      <td>3.960445</td>\n",
       "      <td>20.0</td>\n",
       "      <td>27.00</td>\n",
       "      <td>30.0</td>\n",
       "      <td>32.00</td>\n",
       "      <td>46.0</td>\n",
       "    </tr>\n",
       "    <tr>\n",
       "      <th>-2</th>\n",
       "      <td>26.0</td>\n",
       "      <td>30.538462</td>\n",
       "      <td>4.835128</td>\n",
       "      <td>23.0</td>\n",
       "      <td>26.25</td>\n",
       "      <td>30.0</td>\n",
       "      <td>34.00</td>\n",
       "      <td>39.0</td>\n",
       "    </tr>\n",
       "    <tr>\n",
       "      <th>-1</th>\n",
       "      <td>438.0</td>\n",
       "      <td>29.744292</td>\n",
       "      <td>3.954362</td>\n",
       "      <td>20.0</td>\n",
       "      <td>27.00</td>\n",
       "      <td>30.0</td>\n",
       "      <td>32.00</td>\n",
       "      <td>44.0</td>\n",
       "    </tr>\n",
       "    <tr>\n",
       "      <th>0</th>\n",
       "      <td>28.0</td>\n",
       "      <td>30.928571</td>\n",
       "      <td>3.609951</td>\n",
       "      <td>23.0</td>\n",
       "      <td>29.75</td>\n",
       "      <td>31.0</td>\n",
       "      <td>32.25</td>\n",
       "      <td>40.0</td>\n",
       "    </tr>\n",
       "    <tr>\n",
       "      <th>1</th>\n",
       "      <td>438.0</td>\n",
       "      <td>29.563927</td>\n",
       "      <td>3.663073</td>\n",
       "      <td>20.0</td>\n",
       "      <td>27.00</td>\n",
       "      <td>29.5</td>\n",
       "      <td>32.00</td>\n",
       "      <td>42.0</td>\n",
       "    </tr>\n",
       "    <tr>\n",
       "      <th>2</th>\n",
       "      <td>26.0</td>\n",
       "      <td>30.384615</td>\n",
       "      <td>4.308846</td>\n",
       "      <td>23.0</td>\n",
       "      <td>27.25</td>\n",
       "      <td>30.5</td>\n",
       "      <td>33.00</td>\n",
       "      <td>38.0</td>\n",
       "    </tr>\n",
       "    <tr>\n",
       "      <th>3</th>\n",
       "      <td>1565.0</td>\n",
       "      <td>29.293291</td>\n",
       "      <td>3.777235</td>\n",
       "      <td>20.0</td>\n",
       "      <td>27.00</td>\n",
       "      <td>29.0</td>\n",
       "      <td>32.00</td>\n",
       "      <td>41.0</td>\n",
       "    </tr>\n",
       "    <tr>\n",
       "      <th>4</th>\n",
       "      <td>2075.0</td>\n",
       "      <td>29.298795</td>\n",
       "      <td>4.140886</td>\n",
       "      <td>19.0</td>\n",
       "      <td>26.00</td>\n",
       "      <td>29.0</td>\n",
       "      <td>32.00</td>\n",
       "      <td>47.0</td>\n",
       "    </tr>\n",
       "  </tbody>\n",
       "</table>\n",
       "</div>"
      ],
      "text/plain": [
       "         count       mean       std   min    25%   50%    75%   max\n",
       "finish                                                             \n",
       "-4      2075.0  30.286747  4.215528  19.0  27.00  30.0  33.00  47.0\n",
       "-3      1565.0  29.918211  3.960445  20.0  27.00  30.0  32.00  46.0\n",
       "-2        26.0  30.538462  4.835128  23.0  26.25  30.0  34.00  39.0\n",
       "-1       438.0  29.744292  3.954362  20.0  27.00  30.0  32.00  44.0\n",
       " 0        28.0  30.928571  3.609951  23.0  29.75  31.0  32.25  40.0\n",
       " 1       438.0  29.563927  3.663073  20.0  27.00  29.5  32.00  42.0\n",
       " 2        26.0  30.384615  4.308846  23.0  27.25  30.5  33.00  38.0\n",
       " 3      1565.0  29.293291  3.777235  20.0  27.00  29.0  32.00  41.0\n",
       " 4      2075.0  29.298795  4.140886  19.0  26.00  29.0  32.00  47.0"
      ]
     },
     "execution_count": 35,
     "metadata": {},
     "output_type": "execute_result"
    },
    {
     "data": {
      "image/png": "[encoded data removed]",
      "text/plain": [
       "<Figure size 432x288 with 1 Axes>"
      ]
     },
     "metadata": {
      "needs_background": "light"
     },
     "output_type": "display_data"
    }
   ],
   "source": [
    "line = df.groupby('finish')['age'].mean()\n",
    "ax = sns.boxplot(x='finish', y='age', data=df)\n",
    "ax = sns.lineplot(x=(line.index+4), y=line.values, color='red')\n",
    "df.groupby('finish')['age'].describe()"
   ]
  },
  {
   "cell_type": "markdown",
   "metadata": {},
   "source": [
    "It looks like there is a slight increase in age as fight outcomes become more negative. This is to be expected, given our analysis of the relationship between `age` and `Winner`. "
   ]
  },
  {
   "cell_type": "markdown",
   "metadata": {},
   "source": [
    "**4d. `age` vs. `fighter`, `finish`**"
   ]
  },
  {
   "cell_type": "markdown",
   "metadata": {},
   "source": [
    "The UFC boasts many fighters who have fought past the age of 38. It would be useful to find these fighters with the most fights in our dataset and plot their fight finishes against their age."
   ]
  },
  {
   "cell_type": "code",
   "execution_count": 36,
   "metadata": {},
   "outputs": [],
   "source": [
    "old = df[df['age'] >= 38]['fighter'].value_counts()[:10]"
   ]
  },
  {
   "cell_type": "code",
   "execution_count": 37,
   "metadata": {},
   "outputs": [
    {
     "data": {
      "text/plain": [
       "Mark Hunt             12\n",
       "Demian Maia           11\n",
       "Aleksei Oleinik       11\n",
       "Dan Henderson         11\n",
       "Anthony Perosh         9\n",
       "Andrei Arlovski        9\n",
       "Francisco Trinaldo     8\n",
       "Yoel Romero            8\n",
       "Fabricio Werdum        8\n",
       "Marion Reneau          8\n",
       "Name: fighter, dtype: int64"
      ]
     },
     "execution_count": 37,
     "metadata": {},
     "output_type": "execute_result"
    }
   ],
   "source": [
    "vets = df[df['age'] >= 38]['fighter'].value_counts()[:10]\n",
    "vets"
   ]
  },
  {
   "cell_type": "code",
   "execution_count": 38,
   "metadata": {},
   "outputs": [
    {
     "data": {
      "text/plain": [
       "(150, 68)"
      ]
     },
     "execution_count": 38,
     "metadata": {},
     "output_type": "execute_result"
    }
   ],
   "source": [
    "vets_df = df[df.fighter.isin(vets.index)]\n",
    "vets_df.shape"
   ]
  },
  {
   "cell_type": "code",
   "execution_count": 39,
   "metadata": {
    "scrolled": true
   },
   "outputs": [
    {
     "name": "stderr",
     "output_type": "stream",
     "text": [
      "C:\\ProgramData\\Anaconda3\\lib\\site-packages\\ipykernel_launcher.py:1: SettingWithCopyWarning: \n",
      "A value is trying to be set on a copy of a slice from a DataFrame.\n",
      "Try using .loc[row_indexer,col_indexer] = value instead\n",
      "\n",
      "See the caveats in the documentation: https://pandas.pydata.org/pandas-docs/stable/user_guide/indexing.html#returning-a-view-versus-a-copy\n",
      "  \"\"\"Entry point for launching an IPython kernel.\n"
     ]
    },
    {
     "data": {
      "text/plain": [
       "(147, 68)"
      ]
     },
     "execution_count": 39,
     "metadata": {},
     "output_type": "execute_result"
    }
   ],
   "source": [
    "vets_df['finish'] = pd.to_numeric(vets_df['finish'], errors='coerce')\n",
    "vets_df = vets_df.dropna(subset=['finish'])\n",
    "vets_df.loc[:, 'finish'] = vets_df.loc[:, 'finish'].astype(int)\n",
    "vets_df.shape"
   ]
  },
  {
   "cell_type": "code",
   "execution_count": 40,
   "metadata": {},
   "outputs": [
    {
     "data": {
      "text/plain": [
       "<matplotlib.legend.Legend at 0x28a4c838608>"
      ]
     },
     "execution_count": 40,
     "metadata": {},
     "output_type": "execute_result"
    },
    {
     "data": {
      "image/png": "[encoded data removed]",
      "text/plain": [
       "<Figure size 720x720 with 1 Axes>"
      ]
     },
     "metadata": {
      "needs_background": "light"
     },
     "output_type": "display_data"
    }
   ],
   "source": [
    "fig, ax = plt.subplots(figsize=(10,10)) \n",
    "sns.lineplot(data=vets_df, x='age', y='finish', hue='fighter', ci=None)\n",
    "plt.legend(bbox_to_anchor=(1.05, 1), loc=2, borderaxespad=0.)"
   ]
  },
  {
   "cell_type": "markdown",
   "metadata": {},
   "source": [
    "It looks like most of the seasoned fighters in the UFC lost their last fight. "
   ]
  },
  {
   "cell_type": "code",
   "execution_count": 41,
   "metadata": {},
   "outputs": [
    {
     "data": {
      "text/html": [
       "<div>\n",
       "<style scoped>\n",
       "    .dataframe tbody tr th:only-of-type {\n",
       "        vertical-align: middle;\n",
       "    }\n",
       "\n",
       "    .dataframe tbody tr th {\n",
       "        vertical-align: top;\n",
       "    }\n",
       "\n",
       "    .dataframe thead th {\n",
       "        text-align: right;\n",
       "    }\n",
       "</style>\n",
       "<table border=\"1\" class=\"dataframe\">\n",
       "  <thead>\n",
       "    <tr style=\"text-align: right;\">\n",
       "      <th></th>\n",
       "      <th>date</th>\n",
       "      <th>fighter</th>\n",
       "      <th>odds</th>\n",
       "      <th>country</th>\n",
       "      <th>Winner</th>\n",
       "      <th>title_bout</th>\n",
       "      <th>weight_class</th>\n",
       "      <th>gender</th>\n",
       "      <th>current_lose_streak</th>\n",
       "      <th>current_win_streak</th>\n",
       "      <th>...</th>\n",
       "      <th>total_title_bouts_dif</th>\n",
       "      <th>win_by_Submission_dif</th>\n",
       "      <th>Height_cms_dif</th>\n",
       "      <th>Reach_cms_dif</th>\n",
       "      <th>age_dif</th>\n",
       "      <th>avg_SIG_STR_landed_dif</th>\n",
       "      <th>avg_SUB_ATT_dif</th>\n",
       "      <th>avg_TD_landed_dif</th>\n",
       "      <th>ko_dif</th>\n",
       "      <th>adj_wins_dif</th>\n",
       "    </tr>\n",
       "  </thead>\n",
       "  <tbody>\n",
       "    <tr>\n",
       "      <th>64</th>\n",
       "      <td>2020-08-29</td>\n",
       "      <td>Anthony Smith</td>\n",
       "      <td>225</td>\n",
       "      <td>USA</td>\n",
       "      <td>False</td>\n",
       "      <td>False</td>\n",
       "      <td>Light Heavyweight</td>\n",
       "      <td>MALE</td>\n",
       "      <td>1</td>\n",
       "      <td>0</td>\n",
       "      <td>...</td>\n",
       "      <td>1</td>\n",
       "      <td>3</td>\n",
       "      <td>0.00</td>\n",
       "      <td>-5.08</td>\n",
       "      <td>4</td>\n",
       "      <td>-1.98</td>\n",
       "      <td>0.400000</td>\n",
       "      <td>-0.750000</td>\n",
       "      <td>4</td>\n",
       "      <td>25</td>\n",
       "    </tr>\n",
       "    <tr>\n",
       "      <th>65</th>\n",
       "      <td>2020-08-29</td>\n",
       "      <td>Aleksandar Rakic</td>\n",
       "      <td>-278</td>\n",
       "      <td>USA</td>\n",
       "      <td>True</td>\n",
       "      <td>False</td>\n",
       "      <td>Light Heavyweight</td>\n",
       "      <td>MALE</td>\n",
       "      <td>1</td>\n",
       "      <td>0</td>\n",
       "      <td>...</td>\n",
       "      <td>-1</td>\n",
       "      <td>-3</td>\n",
       "      <td>0.00</td>\n",
       "      <td>5.08</td>\n",
       "      <td>-4</td>\n",
       "      <td>1.98</td>\n",
       "      <td>-0.400000</td>\n",
       "      <td>0.750000</td>\n",
       "      <td>-4</td>\n",
       "      <td>-25</td>\n",
       "    </tr>\n",
       "    <tr>\n",
       "      <th>66</th>\n",
       "      <td>2020-08-29</td>\n",
       "      <td>Robbie Lawler</td>\n",
       "      <td>200</td>\n",
       "      <td>USA</td>\n",
       "      <td>False</td>\n",
       "      <td>False</td>\n",
       "      <td>Welterweight</td>\n",
       "      <td>MALE</td>\n",
       "      <td>3</td>\n",
       "      <td>0</td>\n",
       "      <td>...</td>\n",
       "      <td>6</td>\n",
       "      <td>-1</td>\n",
       "      <td>-10.16</td>\n",
       "      <td>-15.24</td>\n",
       "      <td>5</td>\n",
       "      <td>-0.38</td>\n",
       "      <td>-0.300000</td>\n",
       "      <td>-1.840000</td>\n",
       "      <td>7</td>\n",
       "      <td>11</td>\n",
       "    </tr>\n",
       "    <tr>\n",
       "      <th>67</th>\n",
       "      <td>2020-08-29</td>\n",
       "      <td>Neil Magny</td>\n",
       "      <td>-250</td>\n",
       "      <td>USA</td>\n",
       "      <td>True</td>\n",
       "      <td>False</td>\n",
       "      <td>Welterweight</td>\n",
       "      <td>MALE</td>\n",
       "      <td>0</td>\n",
       "      <td>2</td>\n",
       "      <td>...</td>\n",
       "      <td>-6</td>\n",
       "      <td>1</td>\n",
       "      <td>10.16</td>\n",
       "      <td>15.24</td>\n",
       "      <td>-5</td>\n",
       "      <td>0.38</td>\n",
       "      <td>0.300000</td>\n",
       "      <td>1.840000</td>\n",
       "      <td>-7</td>\n",
       "      <td>-11</td>\n",
       "    </tr>\n",
       "    <tr>\n",
       "      <th>68</th>\n",
       "      <td>2020-08-29</td>\n",
       "      <td>Ji Yeon Kim</td>\n",
       "      <td>230</td>\n",
       "      <td>USA</td>\n",
       "      <td>False</td>\n",
       "      <td>False</td>\n",
       "      <td>Women's Flyweight</td>\n",
       "      <td>FEMALE</td>\n",
       "      <td>0</td>\n",
       "      <td>1</td>\n",
       "      <td>...</td>\n",
       "      <td>0</td>\n",
       "      <td>0</td>\n",
       "      <td>5.08</td>\n",
       "      <td>15.24</td>\n",
       "      <td>3</td>\n",
       "      <td>-0.76</td>\n",
       "      <td>-0.600000</td>\n",
       "      <td>-0.190000</td>\n",
       "      <td>1</td>\n",
       "      <td>-1</td>\n",
       "    </tr>\n",
       "    <tr>\n",
       "      <th>...</th>\n",
       "      <td>...</td>\n",
       "      <td>...</td>\n",
       "      <td>...</td>\n",
       "      <td>...</td>\n",
       "      <td>...</td>\n",
       "      <td>...</td>\n",
       "      <td>...</td>\n",
       "      <td>...</td>\n",
       "      <td>...</td>\n",
       "      <td>...</td>\n",
       "      <td>...</td>\n",
       "      <td>...</td>\n",
       "      <td>...</td>\n",
       "      <td>...</td>\n",
       "      <td>...</td>\n",
       "      <td>...</td>\n",
       "      <td>...</td>\n",
       "      <td>...</td>\n",
       "      <td>...</td>\n",
       "      <td>...</td>\n",
       "      <td>...</td>\n",
       "    </tr>\n",
       "    <tr>\n",
       "      <th>8769</th>\n",
       "      <td>2010-03-21</td>\n",
       "      <td>Chase Gormley</td>\n",
       "      <td>220</td>\n",
       "      <td>USA</td>\n",
       "      <td>False</td>\n",
       "      <td>False</td>\n",
       "      <td>Heavyweight</td>\n",
       "      <td>MALE</td>\n",
       "      <td>1</td>\n",
       "      <td>0</td>\n",
       "      <td>...</td>\n",
       "      <td>-1</td>\n",
       "      <td>0</td>\n",
       "      <td>-2.54</td>\n",
       "      <td>-2.12</td>\n",
       "      <td>0</td>\n",
       "      <td>-4.00</td>\n",
       "      <td>1.000000</td>\n",
       "      <td>1.000000</td>\n",
       "      <td>0</td>\n",
       "      <td>0</td>\n",
       "    </tr>\n",
       "    <tr>\n",
       "      <th>8770</th>\n",
       "      <td>2010-03-21</td>\n",
       "      <td>Mike Pierce</td>\n",
       "      <td>-420</td>\n",
       "      <td>USA</td>\n",
       "      <td>True</td>\n",
       "      <td>False</td>\n",
       "      <td>Welterweight</td>\n",
       "      <td>MALE</td>\n",
       "      <td>1</td>\n",
       "      <td>0</td>\n",
       "      <td>...</td>\n",
       "      <td>0</td>\n",
       "      <td>0</td>\n",
       "      <td>-10.16</td>\n",
       "      <td>-7.62</td>\n",
       "      <td>-5</td>\n",
       "      <td>NaN</td>\n",
       "      <td>NaN</td>\n",
       "      <td>NaN</td>\n",
       "      <td>0</td>\n",
       "      <td>3</td>\n",
       "    </tr>\n",
       "    <tr>\n",
       "      <th>8771</th>\n",
       "      <td>2010-03-21</td>\n",
       "      <td>Julio Paulino</td>\n",
       "      <td>335</td>\n",
       "      <td>USA</td>\n",
       "      <td>False</td>\n",
       "      <td>False</td>\n",
       "      <td>Welterweight</td>\n",
       "      <td>MALE</td>\n",
       "      <td>0</td>\n",
       "      <td>0</td>\n",
       "      <td>...</td>\n",
       "      <td>0</td>\n",
       "      <td>0</td>\n",
       "      <td>10.16</td>\n",
       "      <td>7.62</td>\n",
       "      <td>5</td>\n",
       "      <td>NaN</td>\n",
       "      <td>NaN</td>\n",
       "      <td>NaN</td>\n",
       "      <td>0</td>\n",
       "      <td>-3</td>\n",
       "    </tr>\n",
       "    <tr>\n",
       "      <th>8772</th>\n",
       "      <td>2010-03-21</td>\n",
       "      <td>Eric Schafer</td>\n",
       "      <td>140</td>\n",
       "      <td>USA</td>\n",
       "      <td>False</td>\n",
       "      <td>False</td>\n",
       "      <td>Light Heavyweight</td>\n",
       "      <td>MALE</td>\n",
       "      <td>1</td>\n",
       "      <td>0</td>\n",
       "      <td>...</td>\n",
       "      <td>0</td>\n",
       "      <td>2</td>\n",
       "      <td>10.16</td>\n",
       "      <td>10.16</td>\n",
       "      <td>-2</td>\n",
       "      <td>-16.00</td>\n",
       "      <td>0.666667</td>\n",
       "      <td>-0.833333</td>\n",
       "      <td>0</td>\n",
       "      <td>5</td>\n",
       "    </tr>\n",
       "    <tr>\n",
       "      <th>8773</th>\n",
       "      <td>2010-03-21</td>\n",
       "      <td>Jason Brilz</td>\n",
       "      <td>-160</td>\n",
       "      <td>USA</td>\n",
       "      <td>True</td>\n",
       "      <td>False</td>\n",
       "      <td>Light Heavyweight</td>\n",
       "      <td>MALE</td>\n",
       "      <td>1</td>\n",
       "      <td>0</td>\n",
       "      <td>...</td>\n",
       "      <td>0</td>\n",
       "      <td>-2</td>\n",
       "      <td>-10.16</td>\n",
       "      <td>-10.16</td>\n",
       "      <td>2</td>\n",
       "      <td>16.00</td>\n",
       "      <td>-0.666667</td>\n",
       "      <td>0.833333</td>\n",
       "      <td>0</td>\n",
       "      <td>-5</td>\n",
       "    </tr>\n",
       "  </tbody>\n",
       "</table>\n",
       "<p>8236 rows × 68 columns</p>\n",
       "</div>"
      ],
      "text/plain": [
       "           date           fighter  odds country  Winner  title_bout  \\\n",
       "64   2020-08-29     Anthony Smith   225     USA   False       False   \n",
       "65   2020-08-29  Aleksandar Rakic  -278     USA    True       False   \n",
       "66   2020-08-29     Robbie Lawler   200     USA   False       False   \n",
       "67   2020-08-29        Neil Magny  -250     USA    True       False   \n",
       "68   2020-08-29       Ji Yeon Kim   230     USA   False       False   \n",
       "...         ...               ...   ...     ...     ...         ...   \n",
       "8769 2010-03-21     Chase Gormley   220     USA   False       False   \n",
       "8770 2010-03-21       Mike Pierce  -420     USA    True       False   \n",
       "8771 2010-03-21     Julio Paulino   335     USA   False       False   \n",
       "8772 2010-03-21      Eric Schafer   140     USA   False       False   \n",
       "8773 2010-03-21       Jason Brilz  -160     USA    True       False   \n",
       "\n",
       "           weight_class  gender  current_lose_streak  current_win_streak  ...  \\\n",
       "64    Light Heavyweight    MALE                    1                   0  ...   \n",
       "65    Light Heavyweight    MALE                    1                   0  ...   \n",
       "66         Welterweight    MALE                    3                   0  ...   \n",
       "67         Welterweight    MALE                    0                   2  ...   \n",
       "68    Women's Flyweight  FEMALE                    0                   1  ...   \n",
       "...                 ...     ...                  ...                 ...  ...   \n",
       "8769        Heavyweight    MALE                    1                   0  ...   \n",
       "8770       Welterweight    MALE                    1                   0  ...   \n",
       "8771       Welterweight    MALE                    0                   0  ...   \n",
       "8772  Light Heavyweight    MALE                    1                   0  ...   \n",
       "8773  Light Heavyweight    MALE                    1                   0  ...   \n",
       "\n",
       "      total_title_bouts_dif  win_by_Submission_dif  Height_cms_dif  \\\n",
       "64                        1                      3            0.00   \n",
       "65                       -1                     -3            0.00   \n",
       "66                        6                     -1          -10.16   \n",
       "67                       -6                      1           10.16   \n",
       "68                        0                      0            5.08   \n",
       "...                     ...                    ...             ...   \n",
       "8769                     -1                      0           -2.54   \n",
       "8770                      0                      0          -10.16   \n",
       "8771                      0                      0           10.16   \n",
       "8772                      0                      2           10.16   \n",
       "8773                      0                     -2          -10.16   \n",
       "\n",
       "      Reach_cms_dif  age_dif  avg_SIG_STR_landed_dif  avg_SUB_ATT_dif  \\\n",
       "64            -5.08        4                   -1.98         0.400000   \n",
       "65             5.08       -4                    1.98        -0.400000   \n",
       "66           -15.24        5                   -0.38        -0.300000   \n",
       "67            15.24       -5                    0.38         0.300000   \n",
       "68            15.24        3                   -0.76        -0.600000   \n",
       "...             ...      ...                     ...              ...   \n",
       "8769          -2.12        0                   -4.00         1.000000   \n",
       "8770          -7.62       -5                     NaN              NaN   \n",
       "8771           7.62        5                     NaN              NaN   \n",
       "8772          10.16       -2                  -16.00         0.666667   \n",
       "8773         -10.16        2                   16.00        -0.666667   \n",
       "\n",
       "      avg_TD_landed_dif  ko_dif  adj_wins_dif  \n",
       "64            -0.750000       4            25  \n",
       "65             0.750000      -4           -25  \n",
       "66            -1.840000       7            11  \n",
       "67             1.840000      -7           -11  \n",
       "68            -0.190000       1            -1  \n",
       "...                 ...     ...           ...  \n",
       "8769           1.000000       0             0  \n",
       "8770                NaN       0             3  \n",
       "8771                NaN       0            -3  \n",
       "8772          -0.833333       0             5  \n",
       "8773           0.833333       0            -5  \n",
       "\n",
       "[8236 rows x 68 columns]"
      ]
     },
     "execution_count": 41,
     "metadata": {},
     "output_type": "execute_result"
    }
   ],
   "source": [
    "df[(~df['age'].isnull()) & (~df['finish'].isnull())]"
   ]
  },
  {
   "cell_type": "code",
   "execution_count": 42,
   "metadata": {},
   "outputs": [
    {
     "data": {
      "text/plain": [
       "<matplotlib.axes._subplots.AxesSubplot at 0x28a4c8a3848>"
      ]
     },
     "execution_count": 42,
     "metadata": {},
     "output_type": "execute_result"
    },
    {
     "data": {
      "image/png": "[encoded data removed]",
      "text/plain": [
       "<Figure size 360x360 with 1 Axes>"
      ]
     },
     "metadata": {
      "needs_background": "light"
     },
     "output_type": "display_data"
    }
   ],
   "source": [
    "fig, ax = plt.subplots(figsize=(5,5))\n",
    "sns.regplot(data=df, x='age', y='finish', scatter_kws={'s':10}, y_jitter=0.5)"
   ]
  },
  {
   "cell_type": "markdown",
   "metadata": {},
   "source": [
    "The downward trend becomes even more obvious when we fit a linear regression model to the data. "
   ]
  },
  {
   "cell_type": "markdown",
   "metadata": {},
   "source": [
    "**4e. `age` vs. `current_lose_streak`, `current_win_streak`**"
   ]
  },
  {
   "cell_type": "code",
   "execution_count": 43,
   "metadata": {},
   "outputs": [
    {
     "data": {
      "image/png": "[encoded data removed]",
      "text/plain": [
       "<Figure size 720x720 with 1 Axes>"
      ]
     },
     "metadata": {
      "needs_background": "light"
     },
     "output_type": "display_data"
    }
   ],
   "source": [
    "fig, ax = plt.subplots(figsize=(10,10))\n",
    "line1 = df.groupby('current_lose_streak')['age'].mean()\n",
    "line2 = df.groupby('current_win_streak')['age'].mean()\n",
    "ax = sns.boxplot(x='current_lose_streak', y='age', data=df, color='lightcoral')\n",
    "ax = sns.lineplot(x=(line.index), y=line.values, color='red')\n",
    "ax = sns.boxplot(x='current_win_streak', y='age', data=df, color='darkslateblue')\n",
    "ax = sns.lineplot(x=(line2.index), y=line2.values, color='red')\n",
    "ax = ax.set(xlabel='win streaks(red for losing, blue for winning)')"
   ]
  },
  {
   "cell_type": "markdown",
   "metadata": {},
   "source": [
    "There is a noticeable upward trend in both win and lose streaks as fighter ages increase. However, it looks like the age of the maximum win streak is lower than the age of the maximum lose streak."
   ]
  },
  {
   "cell_type": "code",
   "execution_count": 44,
   "metadata": {},
   "outputs": [
    {
     "data": {
      "text/html": [
       "<div>\n",
       "<style scoped>\n",
       "    .dataframe tbody tr th:only-of-type {\n",
       "        vertical-align: middle;\n",
       "    }\n",
       "\n",
       "    .dataframe tbody tr th {\n",
       "        vertical-align: top;\n",
       "    }\n",
       "\n",
       "    .dataframe thead th {\n",
       "        text-align: right;\n",
       "    }\n",
       "</style>\n",
       "<table border=\"1\" class=\"dataframe\">\n",
       "  <thead>\n",
       "    <tr style=\"text-align: right;\">\n",
       "      <th></th>\n",
       "      <th>count</th>\n",
       "      <th>mean</th>\n",
       "      <th>std</th>\n",
       "      <th>min</th>\n",
       "      <th>25%</th>\n",
       "      <th>50%</th>\n",
       "      <th>75%</th>\n",
       "      <th>max</th>\n",
       "    </tr>\n",
       "    <tr>\n",
       "      <th>current_win_streak</th>\n",
       "      <th></th>\n",
       "      <th></th>\n",
       "      <th></th>\n",
       "      <th></th>\n",
       "      <th></th>\n",
       "      <th></th>\n",
       "      <th></th>\n",
       "      <th></th>\n",
       "    </tr>\n",
       "  </thead>\n",
       "  <tbody>\n",
       "    <tr>\n",
       "      <th>0</th>\n",
       "      <td>4692.0</td>\n",
       "      <td>29.679028</td>\n",
       "      <td>4.125577</td>\n",
       "      <td>19.0</td>\n",
       "      <td>27.00</td>\n",
       "      <td>29.0</td>\n",
       "      <td>32.00</td>\n",
       "      <td>45.0</td>\n",
       "    </tr>\n",
       "    <tr>\n",
       "      <th>1</th>\n",
       "      <td>2097.0</td>\n",
       "      <td>29.713400</td>\n",
       "      <td>4.006600</td>\n",
       "      <td>19.0</td>\n",
       "      <td>27.00</td>\n",
       "      <td>29.0</td>\n",
       "      <td>32.00</td>\n",
       "      <td>46.0</td>\n",
       "    </tr>\n",
       "    <tr>\n",
       "      <th>2</th>\n",
       "      <td>958.0</td>\n",
       "      <td>29.647182</td>\n",
       "      <td>3.988587</td>\n",
       "      <td>19.0</td>\n",
       "      <td>27.00</td>\n",
       "      <td>29.0</td>\n",
       "      <td>32.00</td>\n",
       "      <td>47.0</td>\n",
       "    </tr>\n",
       "    <tr>\n",
       "      <th>3</th>\n",
       "      <td>515.0</td>\n",
       "      <td>29.619417</td>\n",
       "      <td>3.893376</td>\n",
       "      <td>21.0</td>\n",
       "      <td>27.00</td>\n",
       "      <td>29.0</td>\n",
       "      <td>32.00</td>\n",
       "      <td>47.0</td>\n",
       "    </tr>\n",
       "    <tr>\n",
       "      <th>4</th>\n",
       "      <td>242.0</td>\n",
       "      <td>29.582645</td>\n",
       "      <td>3.704235</td>\n",
       "      <td>22.0</td>\n",
       "      <td>27.00</td>\n",
       "      <td>29.0</td>\n",
       "      <td>32.00</td>\n",
       "      <td>42.0</td>\n",
       "    </tr>\n",
       "    <tr>\n",
       "      <th>5</th>\n",
       "      <td>109.0</td>\n",
       "      <td>29.642202</td>\n",
       "      <td>3.673032</td>\n",
       "      <td>22.0</td>\n",
       "      <td>27.00</td>\n",
       "      <td>29.0</td>\n",
       "      <td>32.00</td>\n",
       "      <td>38.0</td>\n",
       "    </tr>\n",
       "    <tr>\n",
       "      <th>6</th>\n",
       "      <td>66.0</td>\n",
       "      <td>29.848485</td>\n",
       "      <td>3.875931</td>\n",
       "      <td>23.0</td>\n",
       "      <td>27.00</td>\n",
       "      <td>29.0</td>\n",
       "      <td>32.00</td>\n",
       "      <td>40.0</td>\n",
       "    </tr>\n",
       "    <tr>\n",
       "      <th>7</th>\n",
       "      <td>36.0</td>\n",
       "      <td>30.638889</td>\n",
       "      <td>4.113759</td>\n",
       "      <td>24.0</td>\n",
       "      <td>27.00</td>\n",
       "      <td>30.0</td>\n",
       "      <td>32.25</td>\n",
       "      <td>40.0</td>\n",
       "    </tr>\n",
       "    <tr>\n",
       "      <th>8</th>\n",
       "      <td>17.0</td>\n",
       "      <td>30.352941</td>\n",
       "      <td>3.839615</td>\n",
       "      <td>24.0</td>\n",
       "      <td>29.00</td>\n",
       "      <td>30.0</td>\n",
       "      <td>31.00</td>\n",
       "      <td>40.0</td>\n",
       "    </tr>\n",
       "    <tr>\n",
       "      <th>9</th>\n",
       "      <td>11.0</td>\n",
       "      <td>29.272727</td>\n",
       "      <td>2.412091</td>\n",
       "      <td>25.0</td>\n",
       "      <td>28.00</td>\n",
       "      <td>29.0</td>\n",
       "      <td>31.00</td>\n",
       "      <td>33.0</td>\n",
       "    </tr>\n",
       "    <tr>\n",
       "      <th>10</th>\n",
       "      <td>9.0</td>\n",
       "      <td>30.444444</td>\n",
       "      <td>3.166667</td>\n",
       "      <td>25.0</td>\n",
       "      <td>30.00</td>\n",
       "      <td>31.0</td>\n",
       "      <td>32.00</td>\n",
       "      <td>34.0</td>\n",
       "    </tr>\n",
       "    <tr>\n",
       "      <th>11</th>\n",
       "      <td>8.0</td>\n",
       "      <td>30.875000</td>\n",
       "      <td>3.603074</td>\n",
       "      <td>25.0</td>\n",
       "      <td>29.25</td>\n",
       "      <td>31.0</td>\n",
       "      <td>33.50</td>\n",
       "      <td>35.0</td>\n",
       "    </tr>\n",
       "    <tr>\n",
       "      <th>12</th>\n",
       "      <td>6.0</td>\n",
       "      <td>32.166667</td>\n",
       "      <td>4.070217</td>\n",
       "      <td>27.0</td>\n",
       "      <td>28.75</td>\n",
       "      <td>33.0</td>\n",
       "      <td>35.75</td>\n",
       "      <td>36.0</td>\n",
       "    </tr>\n",
       "    <tr>\n",
       "      <th>13</th>\n",
       "      <td>3.0</td>\n",
       "      <td>31.333333</td>\n",
       "      <td>4.509250</td>\n",
       "      <td>27.0</td>\n",
       "      <td>29.00</td>\n",
       "      <td>31.0</td>\n",
       "      <td>33.50</td>\n",
       "      <td>36.0</td>\n",
       "    </tr>\n",
       "    <tr>\n",
       "      <th>14</th>\n",
       "      <td>1.0</td>\n",
       "      <td>37.000000</td>\n",
       "      <td>NaN</td>\n",
       "      <td>37.0</td>\n",
       "      <td>37.00</td>\n",
       "      <td>37.0</td>\n",
       "      <td>37.00</td>\n",
       "      <td>37.0</td>\n",
       "    </tr>\n",
       "    <tr>\n",
       "      <th>15</th>\n",
       "      <td>2.0</td>\n",
       "      <td>34.000000</td>\n",
       "      <td>4.242641</td>\n",
       "      <td>31.0</td>\n",
       "      <td>32.50</td>\n",
       "      <td>34.0</td>\n",
       "      <td>35.50</td>\n",
       "      <td>37.0</td>\n",
       "    </tr>\n",
       "    <tr>\n",
       "      <th>16</th>\n",
       "      <td>2.0</td>\n",
       "      <td>35.000000</td>\n",
       "      <td>4.242641</td>\n",
       "      <td>32.0</td>\n",
       "      <td>33.50</td>\n",
       "      <td>35.0</td>\n",
       "      <td>36.50</td>\n",
       "      <td>38.0</td>\n",
       "    </tr>\n",
       "  </tbody>\n",
       "</table>\n",
       "</div>"
      ],
      "text/plain": [
       "                     count       mean       std   min    25%   50%    75%  \\\n",
       "current_win_streak                                                          \n",
       "0                   4692.0  29.679028  4.125577  19.0  27.00  29.0  32.00   \n",
       "1                   2097.0  29.713400  4.006600  19.0  27.00  29.0  32.00   \n",
       "2                    958.0  29.647182  3.988587  19.0  27.00  29.0  32.00   \n",
       "3                    515.0  29.619417  3.893376  21.0  27.00  29.0  32.00   \n",
       "4                    242.0  29.582645  3.704235  22.0  27.00  29.0  32.00   \n",
       "5                    109.0  29.642202  3.673032  22.0  27.00  29.0  32.00   \n",
       "6                     66.0  29.848485  3.875931  23.0  27.00  29.0  32.00   \n",
       "7                     36.0  30.638889  4.113759  24.0  27.00  30.0  32.25   \n",
       "8                     17.0  30.352941  3.839615  24.0  29.00  30.0  31.00   \n",
       "9                     11.0  29.272727  2.412091  25.0  28.00  29.0  31.00   \n",
       "10                     9.0  30.444444  3.166667  25.0  30.00  31.0  32.00   \n",
       "11                     8.0  30.875000  3.603074  25.0  29.25  31.0  33.50   \n",
       "12                     6.0  32.166667  4.070217  27.0  28.75  33.0  35.75   \n",
       "13                     3.0  31.333333  4.509250  27.0  29.00  31.0  33.50   \n",
       "14                     1.0  37.000000       NaN  37.0  37.00  37.0  37.00   \n",
       "15                     2.0  34.000000  4.242641  31.0  32.50  34.0  35.50   \n",
       "16                     2.0  35.000000  4.242641  32.0  33.50  35.0  36.50   \n",
       "\n",
       "                     max  \n",
       "current_win_streak        \n",
       "0                   45.0  \n",
       "1                   46.0  \n",
       "2                   47.0  \n",
       "3                   47.0  \n",
       "4                   42.0  \n",
       "5                   38.0  \n",
       "6                   40.0  \n",
       "7                   40.0  \n",
       "8                   40.0  \n",
       "9                   33.0  \n",
       "10                  34.0  \n",
       "11                  35.0  \n",
       "12                  36.0  \n",
       "13                  36.0  \n",
       "14                  37.0  \n",
       "15                  37.0  \n",
       "16                  38.0  "
      ]
     },
     "execution_count": 44,
     "metadata": {},
     "output_type": "execute_result"
    }
   ],
   "source": [
    "df.groupby('current_win_streak')['age'].describe()"
   ]
  },
  {
   "cell_type": "code",
   "execution_count": 45,
   "metadata": {},
   "outputs": [
    {
     "data": {
      "text/html": [
       "<div>\n",
       "<style scoped>\n",
       "    .dataframe tbody tr th:only-of-type {\n",
       "        vertical-align: middle;\n",
       "    }\n",
       "\n",
       "    .dataframe tbody tr th {\n",
       "        vertical-align: top;\n",
       "    }\n",
       "\n",
       "    .dataframe thead th {\n",
       "        text-align: right;\n",
       "    }\n",
       "</style>\n",
       "<table border=\"1\" class=\"dataframe\">\n",
       "  <thead>\n",
       "    <tr style=\"text-align: right;\">\n",
       "      <th></th>\n",
       "      <th>count</th>\n",
       "      <th>mean</th>\n",
       "      <th>std</th>\n",
       "      <th>min</th>\n",
       "      <th>25%</th>\n",
       "      <th>50%</th>\n",
       "      <th>75%</th>\n",
       "      <th>max</th>\n",
       "    </tr>\n",
       "    <tr>\n",
       "      <th>current_lose_streak</th>\n",
       "      <th></th>\n",
       "      <th></th>\n",
       "      <th></th>\n",
       "      <th></th>\n",
       "      <th></th>\n",
       "      <th></th>\n",
       "      <th></th>\n",
       "      <th></th>\n",
       "    </tr>\n",
       "  </thead>\n",
       "  <tbody>\n",
       "    <tr>\n",
       "      <th>0</th>\n",
       "      <td>5425.0</td>\n",
       "      <td>29.202765</td>\n",
       "      <td>3.968417</td>\n",
       "      <td>19.0</td>\n",
       "      <td>26.00</td>\n",
       "      <td>29.0</td>\n",
       "      <td>32.0</td>\n",
       "      <td>47.0</td>\n",
       "    </tr>\n",
       "    <tr>\n",
       "      <th>1</th>\n",
       "      <td>2344.0</td>\n",
       "      <td>30.059300</td>\n",
       "      <td>3.994595</td>\n",
       "      <td>20.0</td>\n",
       "      <td>27.00</td>\n",
       "      <td>30.0</td>\n",
       "      <td>33.0</td>\n",
       "      <td>45.0</td>\n",
       "    </tr>\n",
       "    <tr>\n",
       "      <th>2</th>\n",
       "      <td>745.0</td>\n",
       "      <td>31.081879</td>\n",
       "      <td>3.959473</td>\n",
       "      <td>21.0</td>\n",
       "      <td>28.00</td>\n",
       "      <td>31.0</td>\n",
       "      <td>34.0</td>\n",
       "      <td>44.0</td>\n",
       "    </tr>\n",
       "    <tr>\n",
       "      <th>3</th>\n",
       "      <td>193.0</td>\n",
       "      <td>32.067358</td>\n",
       "      <td>3.864990</td>\n",
       "      <td>22.0</td>\n",
       "      <td>30.00</td>\n",
       "      <td>32.0</td>\n",
       "      <td>35.0</td>\n",
       "      <td>43.0</td>\n",
       "    </tr>\n",
       "    <tr>\n",
       "      <th>4</th>\n",
       "      <td>53.0</td>\n",
       "      <td>33.245283</td>\n",
       "      <td>3.699822</td>\n",
       "      <td>25.0</td>\n",
       "      <td>30.00</td>\n",
       "      <td>33.0</td>\n",
       "      <td>36.0</td>\n",
       "      <td>41.0</td>\n",
       "    </tr>\n",
       "    <tr>\n",
       "      <th>5</th>\n",
       "      <td>10.0</td>\n",
       "      <td>35.700000</td>\n",
       "      <td>4.137901</td>\n",
       "      <td>28.0</td>\n",
       "      <td>34.25</td>\n",
       "      <td>36.5</td>\n",
       "      <td>38.0</td>\n",
       "      <td>41.0</td>\n",
       "    </tr>\n",
       "    <tr>\n",
       "      <th>6</th>\n",
       "      <td>3.0</td>\n",
       "      <td>38.333333</td>\n",
       "      <td>2.886751</td>\n",
       "      <td>35.0</td>\n",
       "      <td>37.50</td>\n",
       "      <td>40.0</td>\n",
       "      <td>40.0</td>\n",
       "      <td>40.0</td>\n",
       "    </tr>\n",
       "    <tr>\n",
       "      <th>7</th>\n",
       "      <td>1.0</td>\n",
       "      <td>40.000000</td>\n",
       "      <td>NaN</td>\n",
       "      <td>40.0</td>\n",
       "      <td>40.00</td>\n",
       "      <td>40.0</td>\n",
       "      <td>40.0</td>\n",
       "      <td>40.0</td>\n",
       "    </tr>\n",
       "  </tbody>\n",
       "</table>\n",
       "</div>"
      ],
      "text/plain": [
       "                      count       mean       std   min    25%   50%   75%  \\\n",
       "current_lose_streak                                                         \n",
       "0                    5425.0  29.202765  3.968417  19.0  26.00  29.0  32.0   \n",
       "1                    2344.0  30.059300  3.994595  20.0  27.00  30.0  33.0   \n",
       "2                     745.0  31.081879  3.959473  21.0  28.00  31.0  34.0   \n",
       "3                     193.0  32.067358  3.864990  22.0  30.00  32.0  35.0   \n",
       "4                      53.0  33.245283  3.699822  25.0  30.00  33.0  36.0   \n",
       "5                      10.0  35.700000  4.137901  28.0  34.25  36.5  38.0   \n",
       "6                       3.0  38.333333  2.886751  35.0  37.50  40.0  40.0   \n",
       "7                       1.0  40.000000       NaN  40.0  40.00  40.0  40.0   \n",
       "\n",
       "                      max  \n",
       "current_lose_streak        \n",
       "0                    47.0  \n",
       "1                    45.0  \n",
       "2                    44.0  \n",
       "3                    43.0  \n",
       "4                    41.0  \n",
       "5                    41.0  \n",
       "6                    40.0  \n",
       "7                    40.0  "
      ]
     },
     "execution_count": 45,
     "metadata": {},
     "output_type": "execute_result"
    }
   ],
   "source": [
    "df.groupby('current_lose_streak')['age'].describe()"
   ]
  },
  {
   "cell_type": "markdown",
   "metadata": {},
   "source": [
    "As we noticed in the boxplot, the mean age for the maximum lose streak is 40, while the mean age for the maximum win streak is 35. This is a noticeable 5 year difference. "
   ]
  },
  {
   "cell_type": "markdown",
   "metadata": {},
   "source": [
    "**4f. `age` vs. `sig_str_landed_bout`, `sig_str_attempted_bout`**"
   ]
  },
  {
   "cell_type": "markdown",
   "metadata": {},
   "source": [
    "For the average UFC viewer, the most exciting fights are the ones where fighters wage all-out war against each other, a flurry of punches and kicks coming from both sides. Winning fights is not the only criterion for the UFC to keep a fighter on their roster; just as important, if not more important, is a fighter's ability to entertain. Many fighters have stayed on with the UFC despite a significant number of losses in their record because they were willing to throw \"finishers,\" huge fight-ending moves that are exciting to watch but more vulnerable to counters. We will now investigate the relationship between `age` and `sig_str_landed_bout` and `sig_str_attempted_bout`, to see if fighters attempt and land less significant strikes as they age."
   ]
  },
  {
   "cell_type": "code",
   "execution_count": 46,
   "metadata": {},
   "outputs": [
    {
     "data": {
      "text/plain": [
       "<seaborn.axisgrid.JointGrid at 0x28a4d0fda08>"
      ]
     },
     "execution_count": 46,
     "metadata": {},
     "output_type": "execute_result"
    },
    {
     "data": {
      "image/png": "[encoded data removed]",
      "text/plain": [
       "<Figure size 432x432 with 3 Axes>"
      ]
     },
     "metadata": {
      "needs_background": "light"
     },
     "output_type": "display_data"
    }
   ],
   "source": [
    "sns.jointplot(data=df, x='age', y='tot_str_landed_bout', kind='reg')"
   ]
  },
  {
   "cell_type": "code",
   "execution_count": 47,
   "metadata": {},
   "outputs": [
    {
     "data": {
      "text/plain": [
       "<seaborn.axisgrid.JointGrid at 0x28a4eeddd88>"
      ]
     },
     "execution_count": 47,
     "metadata": {},
     "output_type": "execute_result"
    },
    {
     "data": {
      "image/png": "[encoded data removed]",
      "text/plain": [
       "<Figure size 432x432 with 3 Axes>"
      ]
     },
     "metadata": {
      "needs_background": "light"
     },
     "output_type": "display_data"
    }
   ],
   "source": [
    "sns.jointplot(data=df, x='age', y='tot_str_attempted_bout', kind='reg')"
   ]
  },
  {
   "cell_type": "markdown",
   "metadata": {},
   "source": [
    "`age` seems to be negatively correlated with `sig_tot_attempted_bout` and `sig_tot_landed_bout`, but the correlation does not seem that strong."
   ]
  },
  {
   "cell_type": "markdown",
   "metadata": {},
   "source": [
    "## 5. Conclusion"
   ]
  },
  {
   "cell_type": "markdown",
   "metadata": {},
   "source": [
    "We have gleaned some useful information from this Exploratory Data Analysis about the `age` variable and its relationship with other variables. `age` by itself is a nearly normal distribution, with a mean of 29.7 and 95% of ages lying between 37.8 and 21.6, making any age over 38 considered old. When fighters were separated by whether they had won or lost a fight, the p-value of the difference of the mean ages in these 2 groups was extremely low, providing evidence to reject the null hypothesis that these 2 groups share the same mean age. Additionally, there was a slight decrease in `finish` scores as `age` increased. Most older fighters (over the age of 38) lost their last fight. When all `fighter`s were plotted against `age`, the downward trend became more pronounced. Win and lose streaks both increased as `age` increased, but win streaks stopped increasing at a lower age than lose streaks. There was also a weak negative correlation between `age` and total strikes attempted and landed. "
   ]
  }
 ],
 "metadata": {
  "kernelspec": {
   "display_name": "Python 3",
   "language": "python",
   "name": "python3"
  },
  "language_info": {
   "codemirror_mode": {
    "name": "ipython",
    "version": 3
   },
   "file_extension": ".py",
   "mimetype": "text/x-python",
   "name": "python",
   "nbconvert_exporter": "python",
   "pygments_lexer": "ipython3",
   "version": "3.7.6"
  }
 },
 "nbformat": 4,
 "nbformat_minor": 4
}
