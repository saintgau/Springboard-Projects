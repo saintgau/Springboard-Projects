{
 "cells": [
  {
   "cell_type": "markdown",
   "metadata": {},
   "source": [
    "# UFC Retirement Age - Modeling"
   ]
  },
  {
   "cell_type": "markdown",
   "metadata": {},
   "source": [
    "## 1. Contents<a id='1._Contents'></a>\n",
    "* [UFC Retirement Age - Modeling](#UFC_Retirement_Age_-_Modeling)\n",
    "  * [1. Contents](#1._Contents)\n",
    "  * [2. Sourcing and Loading](#2._Sourcing_and_Loading)\n",
    "    * [2a. Import relevant libraries](#2a._Import_relevant_libraries)\n",
    "    * [2b. Load previously preprocessed DataFrame](#2b._Load_previously_preprocessed_DataFrame)\n",
    "    * [2c. Preliminary exploration of data](#2c._Preliminary_exploration_of_data)\n",
    "  * [3. Additional Data Wrangling](#3._Additional_Data_Wrangling)\n",
    "    * [3a. Bout columns](#3a._Bout_columns)\n",
    "    * [3b. Isolating X and y columns](#3b._Isolating_X_and_y_columns)\n",
    "    * [3c. Removing null columns](#3c._Removing_null_columns)\n",
    "    * [3d. New fight performance column](#3d._New_fight_performance_column)\n",
    "    * [3e. Remove outlier row](#3e._Remove_outlier_row)\n",
    "  * [4. Modeling](#4._Modeling)\n",
    "    * [4a. Finding best features for linear regression model](#4a._Finding_best_features_for_linear_regression_model)\n",
    "    * [4b. Finding best features for random forest regressor](#4b._Finding_best_features_for_random_forest_regressor)\n",
    "    * [4c. Choosing best model](#4c._Choosing_best_model)\n",
    "    * [4d. Linear regression model analysis](#4d._Linear_regression_model_analysis)\n",
    "  * [5. Conclusion](#5._Conclusion)"
   ]
  },
  {
   "cell_type": "markdown",
   "metadata": {},
   "source": [
    "## 2. Sourcing and Loading <a id='2._Sourcing_and_Loading'></a>"
   ]
  },
  {
   "cell_type": "markdown",
   "metadata": {},
   "source": [
    "**2a. Import relevant libraries** <a id='2a._Import_relevant_libraries'></a>"
   ]
  },
  {
   "cell_type": "code",
   "execution_count": 1,
   "metadata": {},
   "outputs": [],
   "source": [
    "import numpy as np \n",
    "import pandas as pd \n",
    "import matplotlib.pyplot as plt\n",
    "import seaborn as sns\n",
    "import kaggle as kg\n",
    "import pandas as pd\n",
    "import missingno as msno\n",
    "import statsmodels.api as sm\n",
    "import scipy.stats\n",
    "from matplotlib.lines import Line2D\n",
    "from kaggle.api.kaggle_api_extended import KaggleApi\n",
    "from statsmodels.graphics.api import abline_plot\n",
    "from sklearn.metrics import mean_squared_error, r2_score, classification_report, confusion_matrix, accuracy_score, \\\n",
    "plot_roc_curve, roc_curve\n",
    "from sklearn.ensemble import RandomForestClassifier\n",
    "from sklearn.model_selection import train_test_split, cross_validate\n",
    "from sklearn.linear_model import LogisticRegression\n",
    "from sklearn.neighbors import KNeighborsClassifier\n",
    "from sklearn.preprocessing import StandardScaler\n",
    "from sklearn import linear_model, preprocessing\n",
    "from zipfile import ZipFile\n",
    "from scipy import stats\n",
    "from scipy.stats import t\n",
    "from scipy.stats import ttest_ind\n",
    "from scipy.stats import mannwhitneyu\n",
    "from numpy.random import seed\n",
    "import warnings\n",
    "warnings.simplefilter(action=\"ignore\", category=FutureWarning)\n",
    "warnings.filterwarnings(action=\"ignore\", module=\"scipy\", message=\"^internal gelsd\")"
   ]
  },
  {
   "cell_type": "markdown",
   "metadata": {},
   "source": [
    "**2b. Load previously preprocessed DataFrame** <a id='2b._Load_previously_preprocessed_DataFrame'></a>"
   ]
  },
  {
   "cell_type": "code",
   "execution_count": 2,
   "metadata": {},
   "outputs": [
    {
     "data": {
      "text/html": [
       "<div>\n",
       "<style scoped>\n",
       "    .dataframe tbody tr th:only-of-type {\n",
       "        vertical-align: middle;\n",
       "    }\n",
       "\n",
       "    .dataframe tbody tr th {\n",
       "        vertical-align: top;\n",
       "    }\n",
       "\n",
       "    .dataframe thead th {\n",
       "        text-align: right;\n",
       "    }\n",
       "</style>\n",
       "<table border=\"1\" class=\"dataframe\">\n",
       "  <thead>\n",
       "    <tr style=\"text-align: right;\">\n",
       "      <th></th>\n",
       "      <th>date</th>\n",
       "      <th>fighter</th>\n",
       "      <th>odds</th>\n",
       "      <th>Winner</th>\n",
       "      <th>title_bout</th>\n",
       "      <th>current_lose_streak</th>\n",
       "      <th>current_win_streak</th>\n",
       "      <th>draw</th>\n",
       "      <th>avg_SIG_STR_landed</th>\n",
       "      <th>avg_SIG_STR_pct</th>\n",
       "      <th>...</th>\n",
       "      <th>weight_class_Middleweight</th>\n",
       "      <th>weight_class_Welterweight</th>\n",
       "      <th>weight_class_Women's Bantamweight</th>\n",
       "      <th>weight_class_Women's Featherweight</th>\n",
       "      <th>weight_class_Women's Flyweight</th>\n",
       "      <th>weight_class_Women's Strawweight</th>\n",
       "      <th>gender_MALE</th>\n",
       "      <th>Stance_Orthodox</th>\n",
       "      <th>Stance_Southpaw</th>\n",
       "      <th>Stance_Switch</th>\n",
       "    </tr>\n",
       "  </thead>\n",
       "  <tbody>\n",
       "    <tr>\n",
       "      <th>0</th>\n",
       "      <td>2020-10-03</td>\n",
       "      <td>Holly Holm</td>\n",
       "      <td>-125</td>\n",
       "      <td>1</td>\n",
       "      <td>0</td>\n",
       "      <td>0</td>\n",
       "      <td>1</td>\n",
       "      <td>0</td>\n",
       "      <td>2.75</td>\n",
       "      <td>0.35</td>\n",
       "      <td>...</td>\n",
       "      <td>0</td>\n",
       "      <td>0</td>\n",
       "      <td>1</td>\n",
       "      <td>0</td>\n",
       "      <td>0</td>\n",
       "      <td>0</td>\n",
       "      <td>0</td>\n",
       "      <td>0</td>\n",
       "      <td>1</td>\n",
       "      <td>0</td>\n",
       "    </tr>\n",
       "    <tr>\n",
       "      <th>1</th>\n",
       "      <td>2020-10-03</td>\n",
       "      <td>Irene Aldana</td>\n",
       "      <td>103</td>\n",
       "      <td>0</td>\n",
       "      <td>0</td>\n",
       "      <td>0</td>\n",
       "      <td>2</td>\n",
       "      <td>0</td>\n",
       "      <td>6.16</td>\n",
       "      <td>0.38</td>\n",
       "      <td>...</td>\n",
       "      <td>0</td>\n",
       "      <td>0</td>\n",
       "      <td>1</td>\n",
       "      <td>0</td>\n",
       "      <td>0</td>\n",
       "      <td>0</td>\n",
       "      <td>0</td>\n",
       "      <td>1</td>\n",
       "      <td>0</td>\n",
       "      <td>0</td>\n",
       "    </tr>\n",
       "    <tr>\n",
       "      <th>2</th>\n",
       "      <td>2020-10-03</td>\n",
       "      <td>Yorgan De Castro</td>\n",
       "      <td>-265</td>\n",
       "      <td>0</td>\n",
       "      <td>0</td>\n",
       "      <td>1</td>\n",
       "      <td>0</td>\n",
       "      <td>0</td>\n",
       "      <td>2.19</td>\n",
       "      <td>0.41</td>\n",
       "      <td>...</td>\n",
       "      <td>0</td>\n",
       "      <td>0</td>\n",
       "      <td>0</td>\n",
       "      <td>0</td>\n",
       "      <td>0</td>\n",
       "      <td>0</td>\n",
       "      <td>1</td>\n",
       "      <td>1</td>\n",
       "      <td>0</td>\n",
       "      <td>0</td>\n",
       "    </tr>\n",
       "    <tr>\n",
       "      <th>3</th>\n",
       "      <td>2020-10-03</td>\n",
       "      <td>Carlos Felipe</td>\n",
       "      <td>205</td>\n",
       "      <td>1</td>\n",
       "      <td>0</td>\n",
       "      <td>1</td>\n",
       "      <td>0</td>\n",
       "      <td>0</td>\n",
       "      <td>2.93</td>\n",
       "      <td>0.36</td>\n",
       "      <td>...</td>\n",
       "      <td>0</td>\n",
       "      <td>0</td>\n",
       "      <td>0</td>\n",
       "      <td>0</td>\n",
       "      <td>0</td>\n",
       "      <td>0</td>\n",
       "      <td>1</td>\n",
       "      <td>1</td>\n",
       "      <td>0</td>\n",
       "      <td>0</td>\n",
       "    </tr>\n",
       "    <tr>\n",
       "      <th>4</th>\n",
       "      <td>2020-10-03</td>\n",
       "      <td>Germaine de Randamie</td>\n",
       "      <td>-150</td>\n",
       "      <td>1</td>\n",
       "      <td>0</td>\n",
       "      <td>1</td>\n",
       "      <td>0</td>\n",
       "      <td>0</td>\n",
       "      <td>2.72</td>\n",
       "      <td>0.47</td>\n",
       "      <td>...</td>\n",
       "      <td>0</td>\n",
       "      <td>0</td>\n",
       "      <td>1</td>\n",
       "      <td>0</td>\n",
       "      <td>0</td>\n",
       "      <td>0</td>\n",
       "      <td>0</td>\n",
       "      <td>1</td>\n",
       "      <td>0</td>\n",
       "      <td>0</td>\n",
       "    </tr>\n",
       "  </tbody>\n",
       "</table>\n",
       "<p>5 rows × 103 columns</p>\n",
       "</div>"
      ],
      "text/plain": [
       "         date               fighter  odds  Winner  title_bout  \\\n",
       "0  2020-10-03            Holly Holm  -125       1           0   \n",
       "1  2020-10-03          Irene Aldana   103       0           0   \n",
       "2  2020-10-03      Yorgan De Castro  -265       0           0   \n",
       "3  2020-10-03         Carlos Felipe   205       1           0   \n",
       "4  2020-10-03  Germaine de Randamie  -150       1           0   \n",
       "\n",
       "   current_lose_streak  current_win_streak  draw  avg_SIG_STR_landed  \\\n",
       "0                    0                   1     0                2.75   \n",
       "1                    0                   2     0                6.16   \n",
       "2                    1                   0     0                2.19   \n",
       "3                    1                   0     0                2.93   \n",
       "4                    1                   0     0                2.72   \n",
       "\n",
       "   avg_SIG_STR_pct  ...  weight_class_Middleweight  weight_class_Welterweight  \\\n",
       "0             0.35  ...                          0                          0   \n",
       "1             0.38  ...                          0                          0   \n",
       "2             0.41  ...                          0                          0   \n",
       "3             0.36  ...                          0                          0   \n",
       "4             0.47  ...                          0                          0   \n",
       "\n",
       "   weight_class_Women's Bantamweight  weight_class_Women's Featherweight  \\\n",
       "0                                  1                                   0   \n",
       "1                                  1                                   0   \n",
       "2                                  0                                   0   \n",
       "3                                  0                                   0   \n",
       "4                                  1                                   0   \n",
       "\n",
       "   weight_class_Women's Flyweight  weight_class_Women's Strawweight  \\\n",
       "0                               0                                 0   \n",
       "1                               0                                 0   \n",
       "2                               0                                 0   \n",
       "3                               0                                 0   \n",
       "4                               0                                 0   \n",
       "\n",
       "   gender_MALE  Stance_Orthodox  Stance_Southpaw  Stance_Switch  \n",
       "0            0                0                1              0  \n",
       "1            0                1                0              0  \n",
       "2            1                1                0              0  \n",
       "3            1                1                0              0  \n",
       "4            0                1                0              0  \n",
       "\n",
       "[5 rows x 103 columns]"
      ]
     },
     "execution_count": 2,
     "metadata": {},
     "output_type": "execute_result"
    }
   ],
   "source": [
    "df = pd.read_csv('df.csv', index_col=0)\n",
    "df.head()"
   ]
  },
  {
   "cell_type": "markdown",
   "metadata": {},
   "source": [
    "**2c. Preliminary exploration of data** <a id='2c._Preliminary_exploration_of_data'></a>"
   ]
  },
  {
   "cell_type": "code",
   "execution_count": 3,
   "metadata": {},
   "outputs": [
    {
     "name": "stdout",
     "output_type": "stream",
     "text": [
      "<class 'pandas.core.frame.DataFrame'>\n",
      "Int64Index: 8816 entries, 0 to 8815\n",
      "Columns: 103 entries, date to Stance_Switch\n",
      "dtypes: float64(29), int64(72), object(2)\n",
      "memory usage: 7.0+ MB\n"
     ]
    }
   ],
   "source": [
    "df.info()"
   ]
  },
  {
   "cell_type": "code",
   "execution_count": 4,
   "metadata": {},
   "outputs": [
    {
     "data": {
      "text/plain": [
       "(8816, 103)"
      ]
     },
     "execution_count": 4,
     "metadata": {},
     "output_type": "execute_result"
    }
   ],
   "source": [
    "df.shape"
   ]
  },
  {
   "cell_type": "code",
   "execution_count": 5,
   "metadata": {},
   "outputs": [
    {
     "data": {
      "text/plain": [
       "Index(['date', 'fighter', 'odds', 'Winner', 'title_bout',\n",
       "       'current_lose_streak', 'current_win_streak', 'draw',\n",
       "       'avg_SIG_STR_landed', 'avg_SIG_STR_pct',\n",
       "       ...\n",
       "       'weight_class_Middleweight', 'weight_class_Welterweight',\n",
       "       'weight_class_Women's Bantamweight',\n",
       "       'weight_class_Women's Featherweight', 'weight_class_Women's Flyweight',\n",
       "       'weight_class_Women's Strawweight', 'gender_MALE', 'Stance_Orthodox',\n",
       "       'Stance_Southpaw', 'Stance_Switch'],\n",
       "      dtype='object', length=103)"
      ]
     },
     "execution_count": 5,
     "metadata": {},
     "output_type": "execute_result"
    }
   ],
   "source": [
    "df.columns"
   ]
  },
  {
   "cell_type": "markdown",
   "metadata": {},
   "source": [
    "# 3. Additional Data Wrangling <a id='3._Additional_Data_Wrangling'></a>"
   ]
  },
  {
   "cell_type": "markdown",
   "metadata": {},
   "source": [
    "**3a. Bout columns** <a id='3a._Bout_columns'></a>"
   ]
  },
  {
   "cell_type": "markdown",
   "metadata": {},
   "source": [
    "Many of the bout columns provide stats on the entire bout, but since some fights end in the first round and others can go all 5 rounds, these columns would be much more helpful to us if they gave us an average over the seconds spent in the fight. "
   ]
  },
  {
   "cell_type": "code",
   "execution_count": 6,
   "metadata": {
    "scrolled": true
   },
   "outputs": [
    {
     "data": {
      "text/plain": [
       "['kd_bout',\n",
       " 'sig_str_landed_bout',\n",
       " 'sig_str_attempted_bout',\n",
       " 'tot_str_landed_bout',\n",
       " 'tot_str_attempted_bout',\n",
       " 'td_landed_bout',\n",
       " 'td_attempted_bout',\n",
       " 'sub_attempts_bout',\n",
       " 'pass_bout',\n",
       " 'rev_bout']"
      ]
     },
     "execution_count": 6,
     "metadata": {},
     "output_type": "execute_result"
    }
   ],
   "source": [
    "bout_data = [column for column in df.columns if column.endswith(('d_bout','s_bout','v_bout'))]\n",
    "bout_data"
   ]
  },
  {
   "cell_type": "code",
   "execution_count": 7,
   "metadata": {},
   "outputs": [
    {
     "data": {
      "text/html": [
       "<div>\n",
       "<style scoped>\n",
       "    .dataframe tbody tr th:only-of-type {\n",
       "        vertical-align: middle;\n",
       "    }\n",
       "\n",
       "    .dataframe tbody tr th {\n",
       "        vertical-align: top;\n",
       "    }\n",
       "\n",
       "    .dataframe thead th {\n",
       "        text-align: right;\n",
       "    }\n",
       "</style>\n",
       "<table border=\"1\" class=\"dataframe\">\n",
       "  <thead>\n",
       "    <tr style=\"text-align: right;\">\n",
       "      <th></th>\n",
       "      <th>kd_bout</th>\n",
       "      <th>sig_str_landed_bout</th>\n",
       "      <th>sig_str_attempted_bout</th>\n",
       "      <th>tot_str_landed_bout</th>\n",
       "      <th>tot_str_attempted_bout</th>\n",
       "      <th>td_landed_bout</th>\n",
       "      <th>td_attempted_bout</th>\n",
       "      <th>sub_attempts_bout</th>\n",
       "      <th>pass_bout</th>\n",
       "      <th>rev_bout</th>\n",
       "    </tr>\n",
       "  </thead>\n",
       "  <tbody>\n",
       "    <tr>\n",
       "      <th>count</th>\n",
       "      <td>5544.000000</td>\n",
       "      <td>5544.000000</td>\n",
       "      <td>5544.000000</td>\n",
       "      <td>5544.000000</td>\n",
       "      <td>5544.000000</td>\n",
       "      <td>5544.000000</td>\n",
       "      <td>5544.000000</td>\n",
       "      <td>5544.000000</td>\n",
       "      <td>5544.000000</td>\n",
       "      <td>5544.000000</td>\n",
       "    </tr>\n",
       "    <tr>\n",
       "      <th>mean</th>\n",
       "      <td>0.001265</td>\n",
       "      <td>0.062168</td>\n",
       "      <td>0.137246</td>\n",
       "      <td>0.086543</td>\n",
       "      <td>0.165105</td>\n",
       "      <td>0.001710</td>\n",
       "      <td>0.004524</td>\n",
       "      <td>0.000890</td>\n",
       "      <td>0.001871</td>\n",
       "      <td>0.000218</td>\n",
       "    </tr>\n",
       "    <tr>\n",
       "      <th>std</th>\n",
       "      <td>0.006181</td>\n",
       "      <td>0.054308</td>\n",
       "      <td>0.092434</td>\n",
       "      <td>0.062350</td>\n",
       "      <td>0.094618</td>\n",
       "      <td>0.002944</td>\n",
       "      <td>0.005811</td>\n",
       "      <td>0.002817</td>\n",
       "      <td>0.003806</td>\n",
       "      <td>0.001217</td>\n",
       "    </tr>\n",
       "    <tr>\n",
       "      <th>min</th>\n",
       "      <td>0.000000</td>\n",
       "      <td>0.000000</td>\n",
       "      <td>0.000000</td>\n",
       "      <td>0.000000</td>\n",
       "      <td>0.000000</td>\n",
       "      <td>0.000000</td>\n",
       "      <td>0.000000</td>\n",
       "      <td>0.000000</td>\n",
       "      <td>0.000000</td>\n",
       "      <td>0.000000</td>\n",
       "    </tr>\n",
       "    <tr>\n",
       "      <th>25%</th>\n",
       "      <td>0.000000</td>\n",
       "      <td>0.031111</td>\n",
       "      <td>0.076706</td>\n",
       "      <td>0.048889</td>\n",
       "      <td>0.103433</td>\n",
       "      <td>0.000000</td>\n",
       "      <td>0.000000</td>\n",
       "      <td>0.000000</td>\n",
       "      <td>0.000000</td>\n",
       "      <td>0.000000</td>\n",
       "    </tr>\n",
       "    <tr>\n",
       "      <th>50%</th>\n",
       "      <td>0.000000</td>\n",
       "      <td>0.051111</td>\n",
       "      <td>0.121111</td>\n",
       "      <td>0.074266</td>\n",
       "      <td>0.151111</td>\n",
       "      <td>0.000000</td>\n",
       "      <td>0.002661</td>\n",
       "      <td>0.000000</td>\n",
       "      <td>0.000000</td>\n",
       "      <td>0.000000</td>\n",
       "    </tr>\n",
       "    <tr>\n",
       "      <th>75%</th>\n",
       "      <td>0.000000</td>\n",
       "      <td>0.077778</td>\n",
       "      <td>0.176287</td>\n",
       "      <td>0.107778</td>\n",
       "      <td>0.204372</td>\n",
       "      <td>0.002222</td>\n",
       "      <td>0.006667</td>\n",
       "      <td>0.000000</td>\n",
       "      <td>0.002222</td>\n",
       "      <td>0.000000</td>\n",
       "    </tr>\n",
       "    <tr>\n",
       "      <th>max</th>\n",
       "      <td>0.142857</td>\n",
       "      <td>0.857143</td>\n",
       "      <td>1.428571</td>\n",
       "      <td>0.857143</td>\n",
       "      <td>1.428571</td>\n",
       "      <td>0.041667</td>\n",
       "      <td>0.068966</td>\n",
       "      <td>0.071429</td>\n",
       "      <td>0.058824</td>\n",
       "      <td>0.071429</td>\n",
       "    </tr>\n",
       "  </tbody>\n",
       "</table>\n",
       "</div>"
      ],
      "text/plain": [
       "           kd_bout  sig_str_landed_bout  sig_str_attempted_bout  \\\n",
       "count  5544.000000          5544.000000             5544.000000   \n",
       "mean      0.001265             0.062168                0.137246   \n",
       "std       0.006181             0.054308                0.092434   \n",
       "min       0.000000             0.000000                0.000000   \n",
       "25%       0.000000             0.031111                0.076706   \n",
       "50%       0.000000             0.051111                0.121111   \n",
       "75%       0.000000             0.077778                0.176287   \n",
       "max       0.142857             0.857143                1.428571   \n",
       "\n",
       "       tot_str_landed_bout  tot_str_attempted_bout  td_landed_bout  \\\n",
       "count          5544.000000             5544.000000     5544.000000   \n",
       "mean              0.086543                0.165105        0.001710   \n",
       "std               0.062350                0.094618        0.002944   \n",
       "min               0.000000                0.000000        0.000000   \n",
       "25%               0.048889                0.103433        0.000000   \n",
       "50%               0.074266                0.151111        0.000000   \n",
       "75%               0.107778                0.204372        0.002222   \n",
       "max               0.857143                1.428571        0.041667   \n",
       "\n",
       "       td_attempted_bout  sub_attempts_bout    pass_bout     rev_bout  \n",
       "count        5544.000000        5544.000000  5544.000000  5544.000000  \n",
       "mean            0.004524           0.000890     0.001871     0.000218  \n",
       "std             0.005811           0.002817     0.003806     0.001217  \n",
       "min             0.000000           0.000000     0.000000     0.000000  \n",
       "25%             0.000000           0.000000     0.000000     0.000000  \n",
       "50%             0.002661           0.000000     0.000000     0.000000  \n",
       "75%             0.006667           0.000000     0.002222     0.000000  \n",
       "max             0.068966           0.071429     0.058824     0.071429  "
      ]
     },
     "execution_count": 7,
     "metadata": {},
     "output_type": "execute_result"
    }
   ],
   "source": [
    "for column in df[bout_data].columns:\n",
    "    df[column] = df[column] / df['total_fight_time_secs']\n",
    "    \n",
    "df[bout_data].describe()"
   ]
  },
  {
   "cell_type": "code",
   "execution_count": 8,
   "metadata": {},
   "outputs": [
    {
     "data": {
      "text/plain": [
       "['kd_per_sec',\n",
       " 'sig_str_landed_per_sec',\n",
       " 'sig_str_attempted_per_sec',\n",
       " 'tot_str_landed_per_sec',\n",
       " 'tot_str_attempted_per_sec',\n",
       " 'td_landed_per_sec',\n",
       " 'td_attempted_per_sec',\n",
       " 'sub_attempts_per_sec',\n",
       " 'pass_per_sec',\n",
       " 'rev_per_sec']"
      ]
     },
     "execution_count": 8,
     "metadata": {},
     "output_type": "execute_result"
    }
   ],
   "source": [
    "secs_data = [column.replace('_bout', '_per_sec') for column in bout_data]\n",
    "secs_data"
   ]
  },
  {
   "cell_type": "code",
   "execution_count": 9,
   "metadata": {
    "scrolled": true
   },
   "outputs": [
    {
     "data": {
      "text/html": [
       "<div>\n",
       "<style scoped>\n",
       "    .dataframe tbody tr th:only-of-type {\n",
       "        vertical-align: middle;\n",
       "    }\n",
       "\n",
       "    .dataframe tbody tr th {\n",
       "        vertical-align: top;\n",
       "    }\n",
       "\n",
       "    .dataframe thead th {\n",
       "        text-align: right;\n",
       "    }\n",
       "</style>\n",
       "<table border=\"1\" class=\"dataframe\">\n",
       "  <thead>\n",
       "    <tr style=\"text-align: right;\">\n",
       "      <th></th>\n",
       "      <th>kd_per_sec</th>\n",
       "      <th>sig_str_landed_per_sec</th>\n",
       "      <th>sig_str_attempted_per_sec</th>\n",
       "      <th>tot_str_landed_per_sec</th>\n",
       "      <th>tot_str_attempted_per_sec</th>\n",
       "      <th>td_landed_per_sec</th>\n",
       "      <th>td_attempted_per_sec</th>\n",
       "      <th>sub_attempts_per_sec</th>\n",
       "      <th>pass_per_sec</th>\n",
       "      <th>rev_per_sec</th>\n",
       "    </tr>\n",
       "  </thead>\n",
       "  <tbody>\n",
       "    <tr>\n",
       "      <th>8811</th>\n",
       "      <td>0.0</td>\n",
       "      <td>0.042553</td>\n",
       "      <td>0.127660</td>\n",
       "      <td>0.042553</td>\n",
       "      <td>0.127660</td>\n",
       "      <td>0.000000</td>\n",
       "      <td>0.042553</td>\n",
       "      <td>0.000000</td>\n",
       "      <td>0.000000</td>\n",
       "      <td>0.000000</td>\n",
       "    </tr>\n",
       "    <tr>\n",
       "      <th>8812</th>\n",
       "      <td>0.0</td>\n",
       "      <td>0.043333</td>\n",
       "      <td>0.084444</td>\n",
       "      <td>0.100000</td>\n",
       "      <td>0.145556</td>\n",
       "      <td>0.006667</td>\n",
       "      <td>0.011111</td>\n",
       "      <td>0.000000</td>\n",
       "      <td>0.006667</td>\n",
       "      <td>0.000000</td>\n",
       "    </tr>\n",
       "    <tr>\n",
       "      <th>8813</th>\n",
       "      <td>0.0</td>\n",
       "      <td>0.018889</td>\n",
       "      <td>0.068889</td>\n",
       "      <td>0.034444</td>\n",
       "      <td>0.084444</td>\n",
       "      <td>0.000000</td>\n",
       "      <td>0.000000</td>\n",
       "      <td>0.000000</td>\n",
       "      <td>0.000000</td>\n",
       "      <td>0.000000</td>\n",
       "    </tr>\n",
       "    <tr>\n",
       "      <th>8814</th>\n",
       "      <td>0.0</td>\n",
       "      <td>0.030000</td>\n",
       "      <td>0.090000</td>\n",
       "      <td>0.057778</td>\n",
       "      <td>0.118889</td>\n",
       "      <td>0.002222</td>\n",
       "      <td>0.003333</td>\n",
       "      <td>0.001111</td>\n",
       "      <td>0.001111</td>\n",
       "      <td>0.001111</td>\n",
       "    </tr>\n",
       "    <tr>\n",
       "      <th>8815</th>\n",
       "      <td>0.0</td>\n",
       "      <td>0.077778</td>\n",
       "      <td>0.161111</td>\n",
       "      <td>0.144444</td>\n",
       "      <td>0.228889</td>\n",
       "      <td>0.003333</td>\n",
       "      <td>0.006667</td>\n",
       "      <td>0.001111</td>\n",
       "      <td>0.006667</td>\n",
       "      <td>0.001111</td>\n",
       "    </tr>\n",
       "  </tbody>\n",
       "</table>\n",
       "</div>"
      ],
      "text/plain": [
       "      kd_per_sec  sig_str_landed_per_sec  sig_str_attempted_per_sec  \\\n",
       "8811         0.0                0.042553                   0.127660   \n",
       "8812         0.0                0.043333                   0.084444   \n",
       "8813         0.0                0.018889                   0.068889   \n",
       "8814         0.0                0.030000                   0.090000   \n",
       "8815         0.0                0.077778                   0.161111   \n",
       "\n",
       "      tot_str_landed_per_sec  tot_str_attempted_per_sec  td_landed_per_sec  \\\n",
       "8811                0.042553                   0.127660           0.000000   \n",
       "8812                0.100000                   0.145556           0.006667   \n",
       "8813                0.034444                   0.084444           0.000000   \n",
       "8814                0.057778                   0.118889           0.002222   \n",
       "8815                0.144444                   0.228889           0.003333   \n",
       "\n",
       "      td_attempted_per_sec  sub_attempts_per_sec  pass_per_sec  rev_per_sec  \n",
       "8811              0.042553              0.000000      0.000000     0.000000  \n",
       "8812              0.011111              0.000000      0.006667     0.000000  \n",
       "8813              0.000000              0.000000      0.000000     0.000000  \n",
       "8814              0.003333              0.001111      0.001111     0.001111  \n",
       "8815              0.006667              0.001111      0.006667     0.001111  "
      ]
     },
     "execution_count": 9,
     "metadata": {},
     "output_type": "execute_result"
    }
   ],
   "source": [
    "for bout_column, secs_column in zip(bout_data, secs_data):\n",
    "    df.rename({bout_column: secs_column}, axis=1, inplace=True)\n",
    "\n",
    "df[secs_data].tail()"
   ]
  },
  {
   "cell_type": "markdown",
   "metadata": {},
   "source": [
    "**3b. Isolating X and y columns** <a id='3b._Isolating_X_and_y_columns'></a>"
   ]
  },
  {
   "cell_type": "markdown",
   "metadata": {},
   "source": [
    "`age` is going to be our dependent variable, while our independent variables are going to be based on fight performance."
   ]
  },
  {
   "cell_type": "code",
   "execution_count": 10,
   "metadata": {
    "scrolled": true
   },
   "outputs": [
    {
     "data": {
      "text/plain": [
       "['Winner',\n",
       " 'finish',\n",
       " 'kd_per_sec',\n",
       " 'sig_str_landed_per_sec',\n",
       " 'sig_str_attempted_per_sec',\n",
       " 'tot_str_landed_per_sec',\n",
       " 'tot_str_attempted_per_sec',\n",
       " 'td_landed_per_sec',\n",
       " 'td_attempted_per_sec',\n",
       " 'sub_attempts_per_sec',\n",
       " 'pass_per_sec',\n",
       " 'rev_per_sec']"
      ]
     },
     "execution_count": 10,
     "metadata": {},
     "output_type": "execute_result"
    }
   ],
   "source": [
    "fight_perf = ['Winner','finish'] + secs_data\n",
    "fight_perf"
   ]
  },
  {
   "cell_type": "markdown",
   "metadata": {},
   "source": [
    "**3c. Removing null columns** <a id='3c._Removing_null_columns'></a>"
   ]
  },
  {
   "cell_type": "code",
   "execution_count": 11,
   "metadata": {},
   "outputs": [
    {
     "data": {
      "text/plain": [
       "Winner                       0\n",
       "finish                       0\n",
       "kd_per_sec                   0\n",
       "sig_str_landed_per_sec       0\n",
       "sig_str_attempted_per_sec    0\n",
       "tot_str_landed_per_sec       0\n",
       "tot_str_attempted_per_sec    0\n",
       "td_landed_per_sec            0\n",
       "td_attempted_per_sec         0\n",
       "sub_attempts_per_sec         0\n",
       "pass_per_sec                 0\n",
       "rev_per_sec                  0\n",
       "dtype: int64"
      ]
     },
     "execution_count": 11,
     "metadata": {},
     "output_type": "execute_result"
    }
   ],
   "source": [
    "df_no_null = df[df[fight_perf].notnull().all(axis=1)]\n",
    "df_no_null[fight_perf].isnull().sum()"
   ]
  },
  {
   "cell_type": "code",
   "execution_count": 12,
   "metadata": {},
   "outputs": [],
   "source": [
    "df_no_null.reset_index(inplace=True)"
   ]
  },
  {
   "cell_type": "markdown",
   "metadata": {},
   "source": [
    "**3d. New fight performance column** <a id='3d._New_fight_performance_column'></a>"
   ]
  },
  {
   "cell_type": "markdown",
   "metadata": {},
   "source": [
    "Since some fighters are strikers while some are wrestlers, most fights will have a disproportionate amount of either strikes or takedowns attempted each fight. These stats would be a lot more helpful to us if they were combined based on their weight. For example, throwing out a few insignificant strikes is a much smaller action than attempting a takedown. So, each metric of fight performance will be weighted based on `tot_str_attempted_per_sec` and combined into one final column that summarizes all of them: `action_per_sec`."
   ]
  },
  {
   "cell_type": "code",
   "execution_count": 13,
   "metadata": {},
   "outputs": [
    {
     "data": {
      "text/plain": [
       "Winner                       0.500000\n",
       "tot_str_attempted_per_sec    0.165105\n",
       "sig_str_attempted_per_sec    0.137246\n",
       "tot_str_landed_per_sec       0.086543\n",
       "sig_str_landed_per_sec       0.062168\n",
       "td_attempted_per_sec         0.004524\n",
       "pass_per_sec                 0.001871\n",
       "td_landed_per_sec            0.001710\n",
       "kd_per_sec                   0.001265\n",
       "sub_attempts_per_sec         0.000890\n",
       "rev_per_sec                  0.000218\n",
       "finish                       0.000000\n",
       "dtype: float64"
      ]
     },
     "execution_count": 13,
     "metadata": {},
     "output_type": "execute_result"
    }
   ],
   "source": [
    "X = df_no_null[fight_perf]\n",
    "y = df_no_null['age']\n",
    "\n",
    "X.mean().sort_values(ascending=False)"
   ]
  },
  {
   "cell_type": "code",
   "execution_count": 14,
   "metadata": {},
   "outputs": [
    {
     "data": {
      "text/plain": [
       "['kd_per_sec',\n",
       " 'sig_str_landed_per_sec',\n",
       " 'sig_str_attempted_per_sec',\n",
       " 'tot_str_landed_per_sec',\n",
       " 'tot_str_attempted_per_sec',\n",
       " 'td_landed_per_sec',\n",
       " 'td_attempted_per_sec',\n",
       " 'sub_attempts_per_sec',\n",
       " 'pass_per_sec',\n",
       " 'rev_per_sec']"
      ]
     },
     "execution_count": 14,
     "metadata": {},
     "output_type": "execute_result"
    }
   ],
   "source": [
    "per_sec = [column for column in df_no_null[fight_perf].columns if column.endswith('per_sec')]\n",
    "per_sec"
   ]
  },
  {
   "cell_type": "code",
   "execution_count": 15,
   "metadata": {},
   "outputs": [
    {
     "name": "stderr",
     "output_type": "stream",
     "text": [
      "C:\\ProgramData\\Anaconda3\\lib\\site-packages\\pandas\\core\\indexing.py:844: SettingWithCopyWarning: \n",
      "A value is trying to be set on a copy of a slice from a DataFrame.\n",
      "Try using .loc[row_indexer,col_indexer] = value instead\n",
      "\n",
      "See the caveats in the documentation: https://pandas.pydata.org/pandas-docs/stable/user_guide/indexing.html#returning-a-view-versus-a-copy\n",
      "  self.obj[key] = _infer_fill_value(value)\n",
      "C:\\ProgramData\\Anaconda3\\lib\\site-packages\\pandas\\core\\indexing.py:965: SettingWithCopyWarning: \n",
      "A value is trying to be set on a copy of a slice from a DataFrame.\n",
      "Try using .loc[row_indexer,col_indexer] = value instead\n",
      "\n",
      "See the caveats in the documentation: https://pandas.pydata.org/pandas-docs/stable/user_guide/indexing.html#returning-a-view-versus-a-copy\n",
      "  self.obj[item] = s\n"
     ]
    }
   ],
   "source": [
    "for i, row in df_no_null.iterrows():\n",
    "    df_no_null.loc[i, 'action_per_sec'] = 0\n",
    "    for column in per_sec:\n",
    "        if column == 'tot_str_attempted_per_sec':\n",
    "            df_no_null.loc[i, 'action_per_sec'] += row['tot_str_attempted_per_sec']\n",
    "        else:\n",
    "            df_no_null.loc[i, 'action_per_sec'] += ((df_no_null['tot_str_attempted_per_sec'].mean()/df_no_null[column].mean()) \n",
    "                                             * row[column])"
   ]
  },
  {
   "cell_type": "code",
   "execution_count": 16,
   "metadata": {
    "scrolled": true
   },
   "outputs": [
    {
     "data": {
      "text/html": [
       "<div>\n",
       "<style scoped>\n",
       "    .dataframe tbody tr th:only-of-type {\n",
       "        vertical-align: middle;\n",
       "    }\n",
       "\n",
       "    .dataframe tbody tr th {\n",
       "        vertical-align: top;\n",
       "    }\n",
       "\n",
       "    .dataframe thead th {\n",
       "        text-align: right;\n",
       "    }\n",
       "</style>\n",
       "<table border=\"1\" class=\"dataframe\">\n",
       "  <thead>\n",
       "    <tr style=\"text-align: right;\">\n",
       "      <th></th>\n",
       "      <th>Winner</th>\n",
       "      <th>finish</th>\n",
       "      <th>kd_per_sec</th>\n",
       "      <th>sig_str_landed_per_sec</th>\n",
       "      <th>sig_str_attempted_per_sec</th>\n",
       "      <th>tot_str_landed_per_sec</th>\n",
       "      <th>tot_str_attempted_per_sec</th>\n",
       "      <th>td_landed_per_sec</th>\n",
       "      <th>td_attempted_per_sec</th>\n",
       "      <th>sub_attempts_per_sec</th>\n",
       "      <th>pass_per_sec</th>\n",
       "      <th>rev_per_sec</th>\n",
       "      <th>action_per_sec</th>\n",
       "    </tr>\n",
       "  </thead>\n",
       "  <tbody>\n",
       "    <tr>\n",
       "      <th>0</th>\n",
       "      <td>1</td>\n",
       "      <td>3.0</td>\n",
       "      <td>0.000000</td>\n",
       "      <td>0.062667</td>\n",
       "      <td>0.100667</td>\n",
       "      <td>0.175333</td>\n",
       "      <td>0.227333</td>\n",
       "      <td>0.003333</td>\n",
       "      <td>0.010667</td>\n",
       "      <td>0.0</td>\n",
       "      <td>0.001333</td>\n",
       "      <td>0.0</td>\n",
       "      <td>1.678158</td>\n",
       "    </tr>\n",
       "    <tr>\n",
       "      <th>1</th>\n",
       "      <td>0</td>\n",
       "      <td>-3.0</td>\n",
       "      <td>0.000000</td>\n",
       "      <td>0.044000</td>\n",
       "      <td>0.083333</td>\n",
       "      <td>0.058667</td>\n",
       "      <td>0.104667</td>\n",
       "      <td>0.000000</td>\n",
       "      <td>0.000000</td>\n",
       "      <td>0.0</td>\n",
       "      <td>0.000000</td>\n",
       "      <td>0.0</td>\n",
       "      <td>0.433694</td>\n",
       "    </tr>\n",
       "    <tr>\n",
       "      <th>2</th>\n",
       "      <td>1</td>\n",
       "      <td>1.0</td>\n",
       "      <td>0.000000</td>\n",
       "      <td>0.091333</td>\n",
       "      <td>0.181333</td>\n",
       "      <td>0.092667</td>\n",
       "      <td>0.183333</td>\n",
       "      <td>0.002000</td>\n",
       "      <td>0.006000</td>\n",
       "      <td>0.0</td>\n",
       "      <td>0.000000</td>\n",
       "      <td>0.0</td>\n",
       "      <td>1.232900</td>\n",
       "    </tr>\n",
       "    <tr>\n",
       "      <th>3</th>\n",
       "      <td>0</td>\n",
       "      <td>-1.0</td>\n",
       "      <td>0.000000</td>\n",
       "      <td>0.068000</td>\n",
       "      <td>0.178667</td>\n",
       "      <td>0.074000</td>\n",
       "      <td>0.184667</td>\n",
       "      <td>0.000000</td>\n",
       "      <td>0.000000</td>\n",
       "      <td>0.0</td>\n",
       "      <td>0.000000</td>\n",
       "      <td>0.0</td>\n",
       "      <td>0.721371</td>\n",
       "    </tr>\n",
       "    <tr>\n",
       "      <th>4</th>\n",
       "      <td>1</td>\n",
       "      <td>4.0</td>\n",
       "      <td>0.000712</td>\n",
       "      <td>0.138177</td>\n",
       "      <td>0.220085</td>\n",
       "      <td>0.183761</td>\n",
       "      <td>0.267806</td>\n",
       "      <td>0.000712</td>\n",
       "      <td>0.001425</td>\n",
       "      <td>0.0</td>\n",
       "      <td>0.000712</td>\n",
       "      <td>0.0</td>\n",
       "      <td>1.526701</td>\n",
       "    </tr>\n",
       "  </tbody>\n",
       "</table>\n",
       "</div>"
      ],
      "text/plain": [
       "   Winner  finish  kd_per_sec  sig_str_landed_per_sec  \\\n",
       "0       1     3.0    0.000000                0.062667   \n",
       "1       0    -3.0    0.000000                0.044000   \n",
       "2       1     1.0    0.000000                0.091333   \n",
       "3       0    -1.0    0.000000                0.068000   \n",
       "4       1     4.0    0.000712                0.138177   \n",
       "\n",
       "   sig_str_attempted_per_sec  tot_str_landed_per_sec  \\\n",
       "0                   0.100667                0.175333   \n",
       "1                   0.083333                0.058667   \n",
       "2                   0.181333                0.092667   \n",
       "3                   0.178667                0.074000   \n",
       "4                   0.220085                0.183761   \n",
       "\n",
       "   tot_str_attempted_per_sec  td_landed_per_sec  td_attempted_per_sec  \\\n",
       "0                   0.227333           0.003333              0.010667   \n",
       "1                   0.104667           0.000000              0.000000   \n",
       "2                   0.183333           0.002000              0.006000   \n",
       "3                   0.184667           0.000000              0.000000   \n",
       "4                   0.267806           0.000712              0.001425   \n",
       "\n",
       "   sub_attempts_per_sec  pass_per_sec  rev_per_sec  action_per_sec  \n",
       "0                   0.0      0.001333          0.0        1.678158  \n",
       "1                   0.0      0.000000          0.0        0.433694  \n",
       "2                   0.0      0.000000          0.0        1.232900  \n",
       "3                   0.0      0.000000          0.0        0.721371  \n",
       "4                   0.0      0.000712          0.0        1.526701  "
      ]
     },
     "execution_count": 16,
     "metadata": {},
     "output_type": "execute_result"
    }
   ],
   "source": [
    "df_no_null[fight_perf+['action_per_sec']].head()"
   ]
  },
  {
   "cell_type": "markdown",
   "metadata": {},
   "source": [
    "**3e. Remove outlier row** <a id='3e._Remove_outlier_row'></a>"
   ]
  },
  {
   "cell_type": "code",
   "execution_count": 17,
   "metadata": {},
   "outputs": [
    {
     "data": {
      "text/html": [
       "<div>\n",
       "<style scoped>\n",
       "    .dataframe tbody tr th:only-of-type {\n",
       "        vertical-align: middle;\n",
       "    }\n",
       "\n",
       "    .dataframe tbody tr th {\n",
       "        vertical-align: top;\n",
       "    }\n",
       "\n",
       "    .dataframe thead th {\n",
       "        text-align: right;\n",
       "    }\n",
       "</style>\n",
       "<table border=\"1\" class=\"dataframe\">\n",
       "  <thead>\n",
       "    <tr style=\"text-align: right;\">\n",
       "      <th></th>\n",
       "      <th>index</th>\n",
       "      <th>date</th>\n",
       "      <th>fighter</th>\n",
       "      <th>odds</th>\n",
       "      <th>Winner</th>\n",
       "      <th>title_bout</th>\n",
       "      <th>current_lose_streak</th>\n",
       "      <th>current_win_streak</th>\n",
       "      <th>draw</th>\n",
       "      <th>avg_SIG_STR_landed</th>\n",
       "      <th>...</th>\n",
       "      <th>weight_class_Welterweight</th>\n",
       "      <th>weight_class_Women's Bantamweight</th>\n",
       "      <th>weight_class_Women's Featherweight</th>\n",
       "      <th>weight_class_Women's Flyweight</th>\n",
       "      <th>weight_class_Women's Strawweight</th>\n",
       "      <th>gender_MALE</th>\n",
       "      <th>Stance_Orthodox</th>\n",
       "      <th>Stance_Southpaw</th>\n",
       "      <th>Stance_Switch</th>\n",
       "      <th>action_per_sec</th>\n",
       "    </tr>\n",
       "  </thead>\n",
       "  <tbody>\n",
       "    <tr>\n",
       "      <th>3144</th>\n",
       "      <td>5250</td>\n",
       "      <td>2015-02-28</td>\n",
       "      <td>Ronda Rousey</td>\n",
       "      <td>-660</td>\n",
       "      <td>1</td>\n",
       "      <td>1</td>\n",
       "      <td>0</td>\n",
       "      <td>4</td>\n",
       "      <td>0</td>\n",
       "      <td>18.75</td>\n",
       "      <td>...</td>\n",
       "      <td>0</td>\n",
       "      <td>1</td>\n",
       "      <td>0</td>\n",
       "      <td>0</td>\n",
       "      <td>0</td>\n",
       "      <td>0</td>\n",
       "      <td>1</td>\n",
       "      <td>0</td>\n",
       "      <td>0</td>\n",
       "      <td>67.321805</td>\n",
       "    </tr>\n",
       "  </tbody>\n",
       "</table>\n",
       "<p>1 rows × 105 columns</p>\n",
       "</div>"
      ],
      "text/plain": [
       "      index        date       fighter  odds  Winner  title_bout  \\\n",
       "3144   5250  2015-02-28  Ronda Rousey  -660       1           1   \n",
       "\n",
       "      current_lose_streak  current_win_streak  draw  avg_SIG_STR_landed  ...  \\\n",
       "3144                    0                   4     0               18.75  ...   \n",
       "\n",
       "      weight_class_Welterweight  weight_class_Women's Bantamweight  \\\n",
       "3144                          0                                  1   \n",
       "\n",
       "      weight_class_Women's Featherweight  weight_class_Women's Flyweight  \\\n",
       "3144                                   0                               0   \n",
       "\n",
       "      weight_class_Women's Strawweight  gender_MALE  Stance_Orthodox  \\\n",
       "3144                                 0            0                1   \n",
       "\n",
       "      Stance_Southpaw  Stance_Switch  action_per_sec  \n",
       "3144                0              0       67.321805  \n",
       "\n",
       "[1 rows x 105 columns]"
      ]
     },
     "execution_count": 17,
     "metadata": {},
     "output_type": "execute_result"
    }
   ],
   "source": [
    "df_no_null[df_no_null['action_per_sec'] > 60]"
   ]
  },
  {
   "cell_type": "code",
   "execution_count": 18,
   "metadata": {},
   "outputs": [
    {
     "name": "stderr",
     "output_type": "stream",
     "text": [
      "C:\\ProgramData\\Anaconda3\\lib\\site-packages\\pandas\\core\\frame.py:3997: SettingWithCopyWarning: \n",
      "A value is trying to be set on a copy of a slice from a DataFrame\n",
      "\n",
      "See the caveats in the documentation: https://pandas.pydata.org/pandas-docs/stable/user_guide/indexing.html#returning-a-view-versus-a-copy\n",
      "  errors=errors,\n"
     ]
    },
    {
     "data": {
      "text/html": [
       "<div>\n",
       "<style scoped>\n",
       "    .dataframe tbody tr th:only-of-type {\n",
       "        vertical-align: middle;\n",
       "    }\n",
       "\n",
       "    .dataframe tbody tr th {\n",
       "        vertical-align: top;\n",
       "    }\n",
       "\n",
       "    .dataframe thead th {\n",
       "        text-align: right;\n",
       "    }\n",
       "</style>\n",
       "<table border=\"1\" class=\"dataframe\">\n",
       "  <thead>\n",
       "    <tr style=\"text-align: right;\">\n",
       "      <th></th>\n",
       "      <th>index</th>\n",
       "      <th>date</th>\n",
       "      <th>fighter</th>\n",
       "      <th>odds</th>\n",
       "      <th>Winner</th>\n",
       "      <th>title_bout</th>\n",
       "      <th>current_lose_streak</th>\n",
       "      <th>current_win_streak</th>\n",
       "      <th>draw</th>\n",
       "      <th>avg_SIG_STR_landed</th>\n",
       "      <th>...</th>\n",
       "      <th>weight_class_Welterweight</th>\n",
       "      <th>weight_class_Women's Bantamweight</th>\n",
       "      <th>weight_class_Women's Featherweight</th>\n",
       "      <th>weight_class_Women's Flyweight</th>\n",
       "      <th>weight_class_Women's Strawweight</th>\n",
       "      <th>gender_MALE</th>\n",
       "      <th>Stance_Orthodox</th>\n",
       "      <th>Stance_Southpaw</th>\n",
       "      <th>Stance_Switch</th>\n",
       "      <th>action_per_sec</th>\n",
       "    </tr>\n",
       "  </thead>\n",
       "  <tbody>\n",
       "  </tbody>\n",
       "</table>\n",
       "<p>0 rows × 105 columns</p>\n",
       "</div>"
      ],
      "text/plain": [
       "Empty DataFrame\n",
       "Columns: [index, date, fighter, odds, Winner, title_bout, current_lose_streak, current_win_streak, draw, avg_SIG_STR_landed, avg_SIG_STR_pct, avg_SUB_ATT, avg_TD_landed, avg_TD_pct, longest_win_streak, losses, total_rounds_fought, total_title_bouts, win_by_Decision_Majority, win_by_Decision_Split, win_by_Decision_Unanimous, win_by_KO/TKO, win_by_Submission, win_by_TKO_Doctor_Stoppage, wins, Height_cms, Reach_cms, Weight_lbs, age, better_rank, finish, finish_round, finish_round_time, total_fight_time_secs, kd_per_sec, sig_str_landed_per_sec, sig_str_attempted_per_sec, sig_str_pct_bout, tot_str_landed_per_sec, tot_str_attempted_per_sec, td_landed_per_sec, td_attempted_per_sec, td_pct_bout, sub_attempts_per_sec, pass_per_sec, rev_per_sec, win_pct, adj_wins, current_lose_streak_dif, current_win_streak_dif, longest_win_streak_dif, wins_dif, losses_dif, total_rounds_fought_dif, total_title_bouts_dif, win_by_Submission_dif, Height_cms_dif, Reach_cms_dif, age_dif, avg_SIG_STR_landed_dif, avg_SUB_ATT_dif, avg_TD_landed_dif, ko_dif, adj_wins_dif, country_Australia, country_Brazil, country_Canada, country_Chile, country_China, country_Croatia, country_Czech Republic, country_Denmark, country_Germany, country_Ireland, country_Japan, country_Mexico, country_Netherlands, country_New Zealand, country_Philippines, country_Poland, country_Russia, country_Singapore, country_South Korea, country_Sweden, country_USA, country_United Arab Emirates, country_United Kingdom, country_Uruguay, weight_class_Catch Weight, weight_class_Featherweight, weight_class_Flyweight, weight_class_Heavyweight, weight_class_Light Heavyweight, weight_class_Lightweight, weight_class_Middleweight, weight_class_Welterweight, weight_class_Women's Bantamweight, weight_class_Women's Featherweight, weight_class_Women's Flyweight, weight_class_Women's Strawweight, ...]\n",
       "Index: []\n",
       "\n",
       "[0 rows x 105 columns]"
      ]
     },
     "execution_count": 18,
     "metadata": {},
     "output_type": "execute_result"
    }
   ],
   "source": [
    "df_no_null.drop(index=3144, inplace=True)\n",
    "df_no_null[df_no_null['action_per_sec'] > 60]"
   ]
  },
  {
   "cell_type": "markdown",
   "metadata": {},
   "source": [
    "# 4. Modeling <a id='4._Modeling'></a>"
   ]
  },
  {
   "cell_type": "markdown",
   "metadata": {},
   "source": [
    "**4a. Finding best features for linear regression model** <a id='4a._Finding_best_features_for_linear_regression_model'></a>"
   ]
  },
  {
   "cell_type": "code",
   "execution_count": 19,
   "metadata": {},
   "outputs": [],
   "source": [
    "X = df_no_null[['Winner', 'finish', 'action_per_sec']]\n",
    "y = df_no_null['age']\n",
    "\n",
    "X_train, X_test, y_train, y_test = train_test_split(X, y, test_size=0.2)"
   ]
  },
  {
   "cell_type": "code",
   "execution_count": 20,
   "metadata": {},
   "outputs": [],
   "source": [
    "from sklearn.linear_model import LinearRegression\n",
    "from sklearn.pipeline import make_pipeline\n",
    "from sklearn.feature_selection import SelectKBest, f_regression\n",
    "\n",
    "pipe = make_pipeline(\n",
    "    StandardScaler(),\n",
    "    SelectKBest(f_regression),\n",
    "    LinearRegression()\n",
    ")"
   ]
  },
  {
   "cell_type": "code",
   "execution_count": 21,
   "metadata": {},
   "outputs": [
    {
     "data": {
      "text/plain": [
       "GridSearchCV(cv=5, error_score=nan,\n",
       "             estimator=Pipeline(memory=None,\n",
       "                                steps=[('standardscaler',\n",
       "                                        StandardScaler(copy=True,\n",
       "                                                       with_mean=True,\n",
       "                                                       with_std=True)),\n",
       "                                       ('selectkbest',\n",
       "                                        SelectKBest(k=10,\n",
       "                                                    score_func=<function f_regression at 0x000001EED0B583A8>)),\n",
       "                                       ('linearregression',\n",
       "                                        LinearRegression(copy_X=True,\n",
       "                                                         fit_intercept=True,\n",
       "                                                         n_jobs=None,\n",
       "                                                         normalize=False))],\n",
       "                                verbose=False),\n",
       "             iid='deprecated', n_jobs=-1,\n",
       "             param_grid={'selectkbest__k': [1, 2, 3]}, pre_dispatch='2*n_jobs',\n",
       "             refit=True, return_train_score=False, scoring=None, verbose=0)"
      ]
     },
     "execution_count": 21,
     "metadata": {},
     "output_type": "execute_result"
    }
   ],
   "source": [
    "from sklearn.model_selection import GridSearchCV\n",
    "\n",
    "k = [k+1 for k in range(len(X_train.columns))]\n",
    "grid_params = {'selectkbest__k': k}\n",
    "\n",
    "lr_grid_cv = GridSearchCV(pipe, param_grid=grid_params, cv=5, n_jobs=-1)\n",
    "lr_grid_cv.fit(X_train, y_train)"
   ]
  },
  {
   "cell_type": "code",
   "execution_count": 22,
   "metadata": {},
   "outputs": [
    {
     "data": {
      "text/plain": [
       "{'selectkbest__k': 3}"
      ]
     },
     "execution_count": 22,
     "metadata": {},
     "output_type": "execute_result"
    }
   ],
   "source": [
    "lr_grid_cv.best_params_"
   ]
  },
  {
   "cell_type": "code",
   "execution_count": 23,
   "metadata": {
    "scrolled": true
   },
   "outputs": [
    {
     "data": {
      "image/png": "[encoded data removed]",
      "text/plain": [
       "<Figure size 720x360 with 1 Axes>"
      ]
     },
     "metadata": {
      "needs_background": "light"
     },
     "output_type": "display_data"
    }
   ],
   "source": [
    "score_mean = lr_grid_cv.cv_results_['mean_test_score']\n",
    "score_std = lr_grid_cv.cv_results_['std_test_score']\n",
    "cv_k = [k for k in lr_grid_cv.cv_results_['param_selectkbest__k']]\n",
    "\n",
    "best_k = lr_grid_cv.best_params_['selectkbest__k']\n",
    "plt.subplots(figsize=(10, 5))\n",
    "plt.errorbar(cv_k, score_mean, yerr=score_std)\n",
    "plt.axvline(x=best_k, c='r', ls='--', alpha=.5)\n",
    "plt.xlabel('k')\n",
    "plt.ylabel('CV score (r-squared)')\n",
    "plt.title('Pipeline mean CV score (error bars +/- 1sd)');"
   ]
  },
  {
   "cell_type": "code",
   "execution_count": 24,
   "metadata": {},
   "outputs": [
    {
     "data": {
      "text/plain": [
       "Winner            0.405331\n",
       "action_per_sec   -0.279592\n",
       "finish           -0.708890\n",
       "dtype: float64"
      ]
     },
     "execution_count": 24,
     "metadata": {},
     "output_type": "execute_result"
    }
   ],
   "source": [
    "selected = lr_grid_cv.best_estimator_.named_steps.selectkbest.get_support()\n",
    "coefs = lr_grid_cv.best_estimator_.named_steps.linearregression.coef_\n",
    "features = X_train.columns[selected]\n",
    "best_features = pd.Series(coefs, index=features).sort_values(ascending=False)\n",
    "best_features"
   ]
  },
  {
   "cell_type": "code",
   "execution_count": 25,
   "metadata": {},
   "outputs": [
    {
     "data": {
      "text/plain": [
       "['Winner', 'action_per_sec', 'finish']"
      ]
     },
     "execution_count": 25,
     "metadata": {},
     "output_type": "execute_result"
    }
   ],
   "source": [
    "lin_features = [feature for feature in best_features.index]\n",
    "lin_features"
   ]
  },
  {
   "cell_type": "markdown",
   "metadata": {},
   "source": [
    "**4b. Finding best features for random forest regressor** <a id='4b._Finding_best_features_for_random_forest_regressor'></a>"
   ]
  },
  {
   "cell_type": "code",
   "execution_count": 26,
   "metadata": {},
   "outputs": [
    {
     "data": {
      "text/plain": [
       "{'randomforestregressor__n_estimators': [10,\n",
       "  12,\n",
       "  16,\n",
       "  20,\n",
       "  26,\n",
       "  33,\n",
       "  42,\n",
       "  54,\n",
       "  69,\n",
       "  88,\n",
       "  112,\n",
       "  143,\n",
       "  183,\n",
       "  233,\n",
       "  297,\n",
       "  379,\n",
       "  483,\n",
       "  615,\n",
       "  784,\n",
       "  1000],\n",
       " 'standardscaler': [StandardScaler(copy=True, with_mean=True, with_std=True),\n",
       "  None]}"
      ]
     },
     "execution_count": 26,
     "metadata": {},
     "output_type": "execute_result"
    }
   ],
   "source": [
    "n_est = [int(n) for n in np.logspace(start=1, stop=3, num=20)]\n",
    "grid_params = {\n",
    "        'randomforestregressor__n_estimators': n_est,\n",
    "        'standardscaler': [StandardScaler(), None],\n",
    "}\n",
    "grid_params"
   ]
  },
  {
   "cell_type": "code",
   "execution_count": 27,
   "metadata": {},
   "outputs": [
    {
     "data": {
      "text/plain": [
       "{'randomforestregressor__n_estimators': 297,\n",
       " 'standardscaler': StandardScaler(copy=True, with_mean=True, with_std=True)}"
      ]
     },
     "execution_count": 27,
     "metadata": {},
     "output_type": "execute_result"
    }
   ],
   "source": [
    "from sklearn.ensemble import RandomForestRegressor\n",
    "\n",
    "RF_pipe = make_pipeline(\n",
    "    StandardScaler(),\n",
    "    RandomForestRegressor()\n",
    ")\n",
    "\n",
    "n_est = [int(n) for n in np.logspace(start=1, stop=3, num=20)]\n",
    "grid_params = {\n",
    "        'randomforestregressor__n_estimators': n_est,\n",
    "        'standardscaler': [StandardScaler(), None],\n",
    "}\n",
    "\n",
    "rf_grid_cv = GridSearchCV(RF_pipe, param_grid=grid_params, cv=5, n_jobs=-1)\n",
    "\n",
    "rf_grid_cv.fit(X_train, y_train)\n",
    "\n",
    "rf_grid_cv.best_params_"
   ]
  },
  {
   "cell_type": "code",
   "execution_count": 28,
   "metadata": {},
   "outputs": [
    {
     "data": {
      "text/plain": [
       "array([-0.32639605, -0.36404937, -0.27781097, -0.30425918, -0.35332907])"
      ]
     },
     "execution_count": 28,
     "metadata": {},
     "output_type": "execute_result"
    }
   ],
   "source": [
    "rf_best_cv_results = cross_validate(rf_grid_cv.best_estimator_, X_train, y_train, cv=5)\n",
    "rf_best_scores = rf_best_cv_results['test_score']\n",
    "rf_best_scores"
   ]
  },
  {
   "cell_type": "code",
   "execution_count": 29,
   "metadata": {
    "scrolled": false
   },
   "outputs": [
    {
     "data": {
      "image/png": "[encoded data removed]",
      "text/plain": [
       "<Figure size 720x360 with 1 Axes>"
      ]
     },
     "metadata": {
      "needs_background": "light"
     },
     "output_type": "display_data"
    }
   ],
   "source": [
    "plt.subplots(figsize=(10, 5))\n",
    "imps = rf_grid_cv.best_estimator_.named_steps.randomforestregressor.feature_importances_\n",
    "rf_feat_imps = pd.Series(imps, index=X_train.columns).sort_values(ascending=False)\n",
    "rf_feat_imps.plot(kind='bar')\n",
    "plt.xlabel('features')\n",
    "plt.ylabel('importance')\n",
    "plt.title('Best random forest regressor feature importances');"
   ]
  },
  {
   "cell_type": "code",
   "execution_count": 30,
   "metadata": {},
   "outputs": [
    {
     "data": {
      "text/plain": [
       "['action_per_sec']"
      ]
     },
     "execution_count": 30,
     "metadata": {},
     "output_type": "execute_result"
    }
   ],
   "source": [
    "rf_features = ['action_per_sec']\n",
    "rf_features"
   ]
  },
  {
   "cell_type": "markdown",
   "metadata": {},
   "source": [
    "**4c. Choosing best model** <a id='4c._Choosing_best_model'></a>"
   ]
  },
  {
   "cell_type": "code",
   "execution_count": 31,
   "metadata": {},
   "outputs": [
    {
     "data": {
      "text/plain": [
       "(3.190837849178593, 0.05554077865090612)"
      ]
     },
     "execution_count": 31,
     "metadata": {},
     "output_type": "execute_result"
    }
   ],
   "source": [
    "X = df_no_null[lin_features]\n",
    "y = df_no_null['age']\n",
    "\n",
    "X_train, X_test, y_train, y_test = train_test_split(X, y, test_size=0.2)\n",
    "\n",
    "lr_neg_mae = cross_validate(lr_grid_cv.best_estimator_, X_train, y_train, \n",
    "                            scoring='neg_mean_absolute_error', cv=5, n_jobs=-1)\n",
    "\n",
    "lr_mae_mean = np.mean(-1 * lr_neg_mae['test_score'])\n",
    "lr_mae_std = np.std(-1 * lr_neg_mae['test_score'])\n",
    "lr_mae_mean, lr_mae_std"
   ]
  },
  {
   "cell_type": "code",
   "execution_count": 32,
   "metadata": {},
   "outputs": [
    {
     "data": {
      "text/plain": [
       "(3.665590888581896, 0.08387041751096803)"
      ]
     },
     "execution_count": 32,
     "metadata": {},
     "output_type": "execute_result"
    }
   ],
   "source": [
    "X = df_no_null['action_per_sec']\n",
    "\n",
    "rf_neg_mae = cross_validate(rf_grid_cv.best_estimator_, X_train, y_train, \n",
    "                            scoring='neg_mean_absolute_error', cv=5, n_jobs=-1)\n",
    "\n",
    "rf_mae_mean = np.mean(-1 * rf_neg_mae['test_score'])\n",
    "rf_mae_std = np.std(-1 * rf_neg_mae['test_score'])\n",
    "rf_mae_mean, rf_mae_std"
   ]
  },
  {
   "cell_type": "markdown",
   "metadata": {},
   "source": [
    "Based on a scoring of mean absolute error, linear regression seems to be the superior model here."
   ]
  },
  {
   "cell_type": "markdown",
   "metadata": {},
   "source": [
    "**4d. Linear regression model analysis** <a id='4d._Linear_regression_model_analysis'></a>"
   ]
  },
  {
   "cell_type": "code",
   "execution_count": 33,
   "metadata": {},
   "outputs": [
    {
     "data": {
      "text/html": [
       "<table class=\"simpletable\">\n",
       "<caption>OLS Regression Results</caption>\n",
       "<tr>\n",
       "  <th>Dep. Variable:</th>           <td>age</td>       <th>  R-squared:         </th> <td>   0.013</td> \n",
       "</tr>\n",
       "<tr>\n",
       "  <th>Model:</th>                   <td>OLS</td>       <th>  Adj. R-squared:    </th> <td>   0.013</td> \n",
       "</tr>\n",
       "<tr>\n",
       "  <th>Method:</th>             <td>Least Squares</td>  <th>  F-statistic:       </th> <td>   19.84</td> \n",
       "</tr>\n",
       "<tr>\n",
       "  <th>Date:</th>             <td>Wed, 14 Oct 2020</td> <th>  Prob (F-statistic):</th> <td>9.04e-13</td> \n",
       "</tr>\n",
       "<tr>\n",
       "  <th>Time:</th>                 <td>17:52:49</td>     <th>  Log-Likelihood:    </th> <td> -12445.</td> \n",
       "</tr>\n",
       "<tr>\n",
       "  <th>No. Observations:</th>      <td>  4434</td>      <th>  AIC:               </th> <td>2.490e+04</td>\n",
       "</tr>\n",
       "<tr>\n",
       "  <th>Df Residuals:</th>          <td>  4430</td>      <th>  BIC:               </th> <td>2.492e+04</td>\n",
       "</tr>\n",
       "<tr>\n",
       "  <th>Df Model:</th>              <td>     3</td>      <th>                     </th>     <td> </td>    \n",
       "</tr>\n",
       "<tr>\n",
       "  <th>Covariance Type:</th>      <td>nonrobust</td>    <th>                     </th>     <td> </td>    \n",
       "</tr>\n",
       "</table>\n",
       "<table class=\"simpletable\">\n",
       "<tr>\n",
       "         <td></td>           <th>coef</th>     <th>std err</th>      <th>t</th>      <th>P>|t|</th>  <th>[0.025</th>    <th>0.975]</th>  \n",
       "</tr>\n",
       "<tr>\n",
       "  <th>const</th>          <td>   29.8811</td> <td>    0.251</td> <td>  119.229</td> <td> 0.000</td> <td>   29.390</td> <td>   30.372</td>\n",
       "</tr>\n",
       "<tr>\n",
       "  <th>Winner</th>         <td>    0.2733</td> <td>    0.449</td> <td>    0.608</td> <td> 0.543</td> <td>   -0.608</td> <td>    1.154</td>\n",
       "</tr>\n",
       "<tr>\n",
       "  <th>action_per_sec</th> <td>   -0.2163</td> <td>    0.044</td> <td>   -4.882</td> <td> 0.000</td> <td>   -0.303</td> <td>   -0.129</td>\n",
       "</tr>\n",
       "<tr>\n",
       "  <th>finish</th>         <td>   -0.1014</td> <td>    0.067</td> <td>   -1.508</td> <td> 0.132</td> <td>   -0.233</td> <td>    0.030</td>\n",
       "</tr>\n",
       "</table>\n",
       "<table class=\"simpletable\">\n",
       "<tr>\n",
       "  <th>Omnibus:</th>       <td>70.022</td> <th>  Durbin-Watson:     </th> <td>   1.933</td>\n",
       "</tr>\n",
       "<tr>\n",
       "  <th>Prob(Omnibus):</th> <td> 0.000</td> <th>  Jarque-Bera (JB):  </th> <td>  72.987</td>\n",
       "</tr>\n",
       "<tr>\n",
       "  <th>Skew:</th>          <td> 0.312</td> <th>  Prob(JB):          </th> <td>1.42e-16</td>\n",
       "</tr>\n",
       "<tr>\n",
       "  <th>Kurtosis:</th>      <td> 3.072</td> <th>  Cond. No.          </th> <td>    30.2</td>\n",
       "</tr>\n",
       "</table><br/><br/>Warnings:<br/>[1] Standard Errors assume that the covariance matrix of the errors is correctly specified."
      ],
      "text/plain": [
       "<class 'statsmodels.iolib.summary.Summary'>\n",
       "\"\"\"\n",
       "                            OLS Regression Results                            \n",
       "==============================================================================\n",
       "Dep. Variable:                    age   R-squared:                       0.013\n",
       "Model:                            OLS   Adj. R-squared:                  0.013\n",
       "Method:                 Least Squares   F-statistic:                     19.84\n",
       "Date:                Wed, 14 Oct 2020   Prob (F-statistic):           9.04e-13\n",
       "Time:                        17:52:49   Log-Likelihood:                -12445.\n",
       "No. Observations:                4434   AIC:                         2.490e+04\n",
       "Df Residuals:                    4430   BIC:                         2.492e+04\n",
       "Df Model:                           3                                         \n",
       "Covariance Type:            nonrobust                                         \n",
       "==================================================================================\n",
       "                     coef    std err          t      P>|t|      [0.025      0.975]\n",
       "----------------------------------------------------------------------------------\n",
       "const             29.8811      0.251    119.229      0.000      29.390      30.372\n",
       "Winner             0.2733      0.449      0.608      0.543      -0.608       1.154\n",
       "action_per_sec    -0.2163      0.044     -4.882      0.000      -0.303      -0.129\n",
       "finish            -0.1014      0.067     -1.508      0.132      -0.233       0.030\n",
       "==============================================================================\n",
       "Omnibus:                       70.022   Durbin-Watson:                   1.933\n",
       "Prob(Omnibus):                  0.000   Jarque-Bera (JB):               72.987\n",
       "Skew:                           0.312   Prob(JB):                     1.42e-16\n",
       "Kurtosis:                       3.072   Cond. No.                         30.2\n",
       "==============================================================================\n",
       "\n",
       "Warnings:\n",
       "[1] Standard Errors assume that the covariance matrix of the errors is correctly specified.\n",
       "\"\"\""
      ]
     },
     "execution_count": 33,
     "metadata": {},
     "output_type": "execute_result"
    }
   ],
   "source": [
    "X = df_no_null[lin_features]\n",
    "X = sm.add_constant(X)\n",
    "X_train, X_test, y_train, y_test = train_test_split(X, y, test_size=0.2)\n",
    "\n",
    "model = sm.OLS(y_train, X_train)\n",
    "model_results = model.fit()\n",
    "model_results.summary()"
   ]
  },
  {
   "cell_type": "markdown",
   "metadata": {},
   "source": [
    "With such a weak R-squared despite finding the optimal features and best model for our data, we are hard-pressed to find any sort of correlation between age and fight performance. "
   ]
  },
  {
   "cell_type": "code",
   "execution_count": 34,
   "metadata": {},
   "outputs": [
    {
     "data": {
      "image/png": "[encoded data removed]",
      "text/plain": [
       "<Figure size 432x288 with 1 Axes>"
      ]
     },
     "metadata": {
      "needs_background": "light"
     },
     "output_type": "display_data"
    }
   ],
   "source": [
    "pred = model.fit().predict(X_test)\n",
    "\n",
    "_ = plt.scatter(pred, y_test)\n",
    "_ = plt.plot(plt.xlim(), plt.ylim(), color='red')\n",
    "_ = plt.xlabel('predicted values for age')\n",
    "_ = plt.ylabel('actual values for age')\n",
    "_ = plt.title('OLS Model predictions vs. actual values')\n",
    "_ = plt.xlim(min(y_test), max(y_test))\n",
    "_ = plt.ylim(min(y_test), max(y_test))"
   ]
  },
  {
   "cell_type": "markdown",
   "metadata": {},
   "source": [
    "A plot of predicted values vs. actual values in our test set shows that the predicted values is a lot more limited than the actual values."
   ]
  },
  {
   "cell_type": "code",
   "execution_count": 35,
   "metadata": {
    "scrolled": false
   },
   "outputs": [
    {
     "data": {
      "image/png": "[encoded data removed]",
      "text/plain": [
       "<Figure size 432x288 with 2 Axes>"
      ]
     },
     "metadata": {
      "needs_background": "light"
     },
     "output_type": "display_data"
    }
   ],
   "source": [
    "_ = sns.heatmap(df_no_null[['finish','age','action_per_sec']].corr())"
   ]
  },
  {
   "cell_type": "markdown",
   "metadata": {},
   "source": [
    "A further visualization of the correlation between our dependent and independent variables shows us that there seems to be no correlation at all between `age` and `finish` or `action_per_sec`."
   ]
  },
  {
   "cell_type": "code",
   "execution_count": 36,
   "metadata": {},
   "outputs": [
    {
     "name": "stdout",
     "output_type": "stream",
     "text": [
      "Learning rate:  0.05\n",
      "Accuracy score (training): 0.141\n",
      "Accuracy score (validation): 0.080\n",
      "\n",
      "Learning rate:  0.1\n",
      "Accuracy score (training): 0.153\n",
      "Accuracy score (validation): 0.078\n",
      "\n",
      "Learning rate:  0.25\n",
      "Accuracy score (training): 0.174\n",
      "Accuracy score (validation): 0.096\n",
      "\n",
      "Learning rate:  0.5\n",
      "Accuracy score (training): 0.158\n",
      "Accuracy score (validation): 0.090\n",
      "\n",
      "Learning rate:  0.75\n",
      "Accuracy score (training): 0.029\n",
      "Accuracy score (validation): 0.029\n",
      "\n",
      "Learning rate:  1\n",
      "Accuracy score (training): 0.021\n",
      "Accuracy score (validation): 0.028\n",
      "\n"
     ]
    }
   ],
   "source": [
    "from sklearn.ensemble import GradientBoostingClassifier\n",
    "from sklearn.metrics import precision_recall_fscore_support as score\n",
    "\n",
    "learning_rates = [0.05, 0.1, 0.25, 0.5, 0.75, 1]\n",
    "for learning_rate in learning_rates:\n",
    "    gb = GradientBoostingClassifier(n_estimators=20, learning_rate = learning_rate, max_features=2, max_depth = 2, random_state = 0)\n",
    "    gb.fit(X_train, y_train)\n",
    "    print(\"Learning rate: \", learning_rate)\n",
    "    print(\"Accuracy score (training): {0:.3f}\".format(gb.score(X_train, y_train)))\n",
    "    print(\"Accuracy score (validation): {0:.3f}\".format(gb.score(X_test, y_test)))\n",
    "    print()"
   ]
  },
  {
   "cell_type": "markdown",
   "metadata": {},
   "source": [
    "# 5. Conclusion <a id='5._Conclusion'></a>"
   ]
  },
  {
   "cell_type": "markdown",
   "metadata": {},
   "source": [
    "Despite our best efforts to fit a model to the data, using Grid Search and Cross-Validation, we were unsuccessful in our efforts to predict a fighter's age based on their fight performance. Whether a fighter wins or loses a fight, or how active they are in a bout, these factors have at most a weak correlation with age. Therefore, we can conclude that there is no universal age at which the average UFC fighter should retire. Instead, that is a case-by-case decision that fighters and their teams must decide on their own. "
   ]
  }
 ],
 "metadata": {
  "kernelspec": {
   "display_name": "Python 3",
   "language": "python",
   "name": "python3"
  },
  "language_info": {
   "codemirror_mode": {
    "name": "ipython",
    "version": 3
   },
   "file_extension": ".py",
   "mimetype": "text/x-python",
   "name": "python",
   "nbconvert_exporter": "python",
   "pygments_lexer": "ipython3",
   "version": "3.7.6"
  }
 },
 "nbformat": 4,
 "nbformat_minor": 4
}
