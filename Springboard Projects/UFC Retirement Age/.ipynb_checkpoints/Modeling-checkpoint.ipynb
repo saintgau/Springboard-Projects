{
 "cells": [
  {
   "cell_type": "markdown",
   "metadata": {},
   "source": [
    "# UFC Retirement Age - Modeling"
   ]
  },
  {
   "cell_type": "markdown",
   "metadata": {},
   "source": [
    "## 1. Contents"
   ]
  },
  {
   "cell_type": "markdown",
   "metadata": {},
   "source": [
    "## 2. Sourcing and Loading"
   ]
  },
  {
   "cell_type": "markdown",
   "metadata": {},
   "source": [
    "**2a. Import relevant libraries**"
   ]
  },
  {
   "cell_type": "code",
   "execution_count": 142,
   "metadata": {},
   "outputs": [],
   "source": [
    "import numpy as np \n",
    "import pandas as pd \n",
    "import matplotlib.pyplot as plt\n",
    "import seaborn as sns\n",
    "import kaggle as kg\n",
    "import pandas as pd\n",
    "import missingno as msno\n",
    "import statsmodels.api as sm\n",
    "import scipy.stats\n",
    "from matplotlib.lines import Line2D\n",
    "from kaggle.api.kaggle_api_extended import KaggleApi\n",
    "from statsmodels.graphics.api import abline_plot\n",
    "from sklearn.metrics import mean_squared_error, r2_score, classification_report, confusion_matrix, accuracy_score, \\\n",
    "plot_roc_curve\n",
    "from sklearn.model_selection import train_test_split\n",
    "from sklearn.linear_model import LogisticRegression\n",
    "from sklearn.neighbors import KNeighborsClassifier\n",
    "from sklearn.preprocessing import StandardScaler\n",
    "from sklearn import linear_model, preprocessing\n",
    "from zipfile import ZipFile\n",
    "from scipy import stats\n",
    "from scipy.stats import t\n",
    "from scipy.stats import ttest_ind\n",
    "from scipy.stats import mannwhitneyu\n",
    "from numpy.random import seed\n",
    "import warnings\n",
    "warnings.simplefilter(action=\"ignore\", category=FutureWarning)\n",
    "warnings.filterwarnings(action=\"ignore\", module=\"scipy\", message=\"^internal gelsd\")"
   ]
  },
  {
   "cell_type": "markdown",
   "metadata": {},
   "source": [
    "**2b. Load previously preprocessed DataFrame**"
   ]
  },
  {
   "cell_type": "code",
   "execution_count": 143,
   "metadata": {},
   "outputs": [
    {
     "data": {
      "text/html": [
       "<div>\n",
       "<style scoped>\n",
       "    .dataframe tbody tr th:only-of-type {\n",
       "        vertical-align: middle;\n",
       "    }\n",
       "\n",
       "    .dataframe tbody tr th {\n",
       "        vertical-align: top;\n",
       "    }\n",
       "\n",
       "    .dataframe thead th {\n",
       "        text-align: right;\n",
       "    }\n",
       "</style>\n",
       "<table border=\"1\" class=\"dataframe\">\n",
       "  <thead>\n",
       "    <tr style=\"text-align: right;\">\n",
       "      <th></th>\n",
       "      <th>date</th>\n",
       "      <th>fighter</th>\n",
       "      <th>odds</th>\n",
       "      <th>Winner</th>\n",
       "      <th>title_bout</th>\n",
       "      <th>current_lose_streak</th>\n",
       "      <th>current_win_streak</th>\n",
       "      <th>draw</th>\n",
       "      <th>avg_SIG_STR_landed</th>\n",
       "      <th>avg_SIG_STR_pct</th>\n",
       "      <th>...</th>\n",
       "      <th>weight_class_Middleweight</th>\n",
       "      <th>weight_class_Welterweight</th>\n",
       "      <th>weight_class_Women's Bantamweight</th>\n",
       "      <th>weight_class_Women's Featherweight</th>\n",
       "      <th>weight_class_Women's Flyweight</th>\n",
       "      <th>weight_class_Women's Strawweight</th>\n",
       "      <th>gender_MALE</th>\n",
       "      <th>Stance_Orthodox</th>\n",
       "      <th>Stance_Southpaw</th>\n",
       "      <th>Stance_Switch</th>\n",
       "    </tr>\n",
       "  </thead>\n",
       "  <tbody>\n",
       "    <tr>\n",
       "      <th>0</th>\n",
       "      <td>2020-10-03</td>\n",
       "      <td>Holly Holm</td>\n",
       "      <td>-125</td>\n",
       "      <td>1</td>\n",
       "      <td>0</td>\n",
       "      <td>0</td>\n",
       "      <td>1</td>\n",
       "      <td>0</td>\n",
       "      <td>2.75</td>\n",
       "      <td>0.35</td>\n",
       "      <td>...</td>\n",
       "      <td>0</td>\n",
       "      <td>0</td>\n",
       "      <td>1</td>\n",
       "      <td>0</td>\n",
       "      <td>0</td>\n",
       "      <td>0</td>\n",
       "      <td>0</td>\n",
       "      <td>0</td>\n",
       "      <td>1</td>\n",
       "      <td>0</td>\n",
       "    </tr>\n",
       "    <tr>\n",
       "      <th>1</th>\n",
       "      <td>2020-10-03</td>\n",
       "      <td>Irene Aldana</td>\n",
       "      <td>103</td>\n",
       "      <td>0</td>\n",
       "      <td>0</td>\n",
       "      <td>0</td>\n",
       "      <td>2</td>\n",
       "      <td>0</td>\n",
       "      <td>6.16</td>\n",
       "      <td>0.38</td>\n",
       "      <td>...</td>\n",
       "      <td>0</td>\n",
       "      <td>0</td>\n",
       "      <td>1</td>\n",
       "      <td>0</td>\n",
       "      <td>0</td>\n",
       "      <td>0</td>\n",
       "      <td>0</td>\n",
       "      <td>1</td>\n",
       "      <td>0</td>\n",
       "      <td>0</td>\n",
       "    </tr>\n",
       "    <tr>\n",
       "      <th>2</th>\n",
       "      <td>2020-10-03</td>\n",
       "      <td>Yorgan De Castro</td>\n",
       "      <td>-265</td>\n",
       "      <td>0</td>\n",
       "      <td>0</td>\n",
       "      <td>1</td>\n",
       "      <td>0</td>\n",
       "      <td>0</td>\n",
       "      <td>2.19</td>\n",
       "      <td>0.41</td>\n",
       "      <td>...</td>\n",
       "      <td>0</td>\n",
       "      <td>0</td>\n",
       "      <td>0</td>\n",
       "      <td>0</td>\n",
       "      <td>0</td>\n",
       "      <td>0</td>\n",
       "      <td>1</td>\n",
       "      <td>1</td>\n",
       "      <td>0</td>\n",
       "      <td>0</td>\n",
       "    </tr>\n",
       "    <tr>\n",
       "      <th>3</th>\n",
       "      <td>2020-10-03</td>\n",
       "      <td>Carlos Felipe</td>\n",
       "      <td>205</td>\n",
       "      <td>1</td>\n",
       "      <td>0</td>\n",
       "      <td>1</td>\n",
       "      <td>0</td>\n",
       "      <td>0</td>\n",
       "      <td>2.93</td>\n",
       "      <td>0.36</td>\n",
       "      <td>...</td>\n",
       "      <td>0</td>\n",
       "      <td>0</td>\n",
       "      <td>0</td>\n",
       "      <td>0</td>\n",
       "      <td>0</td>\n",
       "      <td>0</td>\n",
       "      <td>1</td>\n",
       "      <td>1</td>\n",
       "      <td>0</td>\n",
       "      <td>0</td>\n",
       "    </tr>\n",
       "    <tr>\n",
       "      <th>4</th>\n",
       "      <td>2020-10-03</td>\n",
       "      <td>Germaine de Randamie</td>\n",
       "      <td>-150</td>\n",
       "      <td>1</td>\n",
       "      <td>0</td>\n",
       "      <td>1</td>\n",
       "      <td>0</td>\n",
       "      <td>0</td>\n",
       "      <td>2.72</td>\n",
       "      <td>0.47</td>\n",
       "      <td>...</td>\n",
       "      <td>0</td>\n",
       "      <td>0</td>\n",
       "      <td>1</td>\n",
       "      <td>0</td>\n",
       "      <td>0</td>\n",
       "      <td>0</td>\n",
       "      <td>0</td>\n",
       "      <td>1</td>\n",
       "      <td>0</td>\n",
       "      <td>0</td>\n",
       "    </tr>\n",
       "  </tbody>\n",
       "</table>\n",
       "<p>5 rows × 103 columns</p>\n",
       "</div>"
      ],
      "text/plain": [
       "         date               fighter  odds  Winner  title_bout  \\\n",
       "0  2020-10-03            Holly Holm  -125       1           0   \n",
       "1  2020-10-03          Irene Aldana   103       0           0   \n",
       "2  2020-10-03      Yorgan De Castro  -265       0           0   \n",
       "3  2020-10-03         Carlos Felipe   205       1           0   \n",
       "4  2020-10-03  Germaine de Randamie  -150       1           0   \n",
       "\n",
       "   current_lose_streak  current_win_streak  draw  avg_SIG_STR_landed  \\\n",
       "0                    0                   1     0                2.75   \n",
       "1                    0                   2     0                6.16   \n",
       "2                    1                   0     0                2.19   \n",
       "3                    1                   0     0                2.93   \n",
       "4                    1                   0     0                2.72   \n",
       "\n",
       "   avg_SIG_STR_pct  ...  weight_class_Middleweight  weight_class_Welterweight  \\\n",
       "0             0.35  ...                          0                          0   \n",
       "1             0.38  ...                          0                          0   \n",
       "2             0.41  ...                          0                          0   \n",
       "3             0.36  ...                          0                          0   \n",
       "4             0.47  ...                          0                          0   \n",
       "\n",
       "   weight_class_Women's Bantamweight  weight_class_Women's Featherweight  \\\n",
       "0                                  1                                   0   \n",
       "1                                  1                                   0   \n",
       "2                                  0                                   0   \n",
       "3                                  0                                   0   \n",
       "4                                  1                                   0   \n",
       "\n",
       "   weight_class_Women's Flyweight  weight_class_Women's Strawweight  \\\n",
       "0                               0                                 0   \n",
       "1                               0                                 0   \n",
       "2                               0                                 0   \n",
       "3                               0                                 0   \n",
       "4                               0                                 0   \n",
       "\n",
       "   gender_MALE  Stance_Orthodox  Stance_Southpaw  Stance_Switch  \n",
       "0            0                0                1              0  \n",
       "1            0                1                0              0  \n",
       "2            1                1                0              0  \n",
       "3            1                1                0              0  \n",
       "4            0                1                0              0  \n",
       "\n",
       "[5 rows x 103 columns]"
      ]
     },
     "execution_count": 143,
     "metadata": {},
     "output_type": "execute_result"
    }
   ],
   "source": [
    "df = pd.read_csv('df.csv', index_col=0)\n",
    "df.head()"
   ]
  },
  {
   "cell_type": "markdown",
   "metadata": {},
   "source": [
    "**2b. Preliminary exploration of data**"
   ]
  },
  {
   "cell_type": "code",
   "execution_count": 144,
   "metadata": {},
   "outputs": [
    {
     "name": "stdout",
     "output_type": "stream",
     "text": [
      "<class 'pandas.core.frame.DataFrame'>\n",
      "Int64Index: 8816 entries, 0 to 8815\n",
      "Columns: 103 entries, date to Stance_Switch\n",
      "dtypes: float64(29), int64(72), object(2)\n",
      "memory usage: 7.0+ MB\n"
     ]
    }
   ],
   "source": [
    "df.info()"
   ]
  },
  {
   "cell_type": "code",
   "execution_count": 145,
   "metadata": {},
   "outputs": [
    {
     "data": {
      "text/plain": [
       "(8816, 103)"
      ]
     },
     "execution_count": 145,
     "metadata": {},
     "output_type": "execute_result"
    }
   ],
   "source": [
    "df.shape"
   ]
  },
  {
   "cell_type": "code",
   "execution_count": 146,
   "metadata": {},
   "outputs": [
    {
     "data": {
      "text/plain": [
       "Index(['date', 'fighter', 'odds', 'Winner', 'title_bout',\n",
       "       'current_lose_streak', 'current_win_streak', 'draw',\n",
       "       'avg_SIG_STR_landed', 'avg_SIG_STR_pct',\n",
       "       ...\n",
       "       'weight_class_Middleweight', 'weight_class_Welterweight',\n",
       "       'weight_class_Women's Bantamweight',\n",
       "       'weight_class_Women's Featherweight', 'weight_class_Women's Flyweight',\n",
       "       'weight_class_Women's Strawweight', 'gender_MALE', 'Stance_Orthodox',\n",
       "       'Stance_Southpaw', 'Stance_Switch'],\n",
       "      dtype='object', length=103)"
      ]
     },
     "execution_count": 146,
     "metadata": {},
     "output_type": "execute_result"
    }
   ],
   "source": [
    "df.columns"
   ]
  },
  {
   "cell_type": "markdown",
   "metadata": {},
   "source": [
    "# 3. Additional Data Wrangling"
   ]
  },
  {
   "cell_type": "markdown",
   "metadata": {},
   "source": [
    "**3a. Bout columns**"
   ]
  },
  {
   "cell_type": "markdown",
   "metadata": {},
   "source": [
    "Many of the bout columns provide stats on the entire bout, but since some fights end in the first round and others can go all 5 rounds, these columns would be much more helpful to us if they gave us an average over the seconds spent in the fight. "
   ]
  },
  {
   "cell_type": "code",
   "execution_count": 147,
   "metadata": {
    "scrolled": true
   },
   "outputs": [
    {
     "data": {
      "text/plain": [
       "['kd_bout',\n",
       " 'sig_str_landed_bout',\n",
       " 'sig_str_attempted_bout',\n",
       " 'tot_str_landed_bout',\n",
       " 'tot_str_attempted_bout',\n",
       " 'td_landed_bout',\n",
       " 'td_attempted_bout',\n",
       " 'sub_attempts_bout',\n",
       " 'pass_bout',\n",
       " 'rev_bout']"
      ]
     },
     "execution_count": 147,
     "metadata": {},
     "output_type": "execute_result"
    }
   ],
   "source": [
    "bout_data = [column for column in df.columns if column.endswith(('d_bout','s_bout','v_bout'))]\n",
    "bout_data"
   ]
  },
  {
   "cell_type": "code",
   "execution_count": 148,
   "metadata": {},
   "outputs": [
    {
     "data": {
      "text/html": [
       "<div>\n",
       "<style scoped>\n",
       "    .dataframe tbody tr th:only-of-type {\n",
       "        vertical-align: middle;\n",
       "    }\n",
       "\n",
       "    .dataframe tbody tr th {\n",
       "        vertical-align: top;\n",
       "    }\n",
       "\n",
       "    .dataframe thead th {\n",
       "        text-align: right;\n",
       "    }\n",
       "</style>\n",
       "<table border=\"1\" class=\"dataframe\">\n",
       "  <thead>\n",
       "    <tr style=\"text-align: right;\">\n",
       "      <th></th>\n",
       "      <th>kd_bout</th>\n",
       "      <th>sig_str_landed_bout</th>\n",
       "      <th>sig_str_attempted_bout</th>\n",
       "      <th>tot_str_landed_bout</th>\n",
       "      <th>tot_str_attempted_bout</th>\n",
       "      <th>td_landed_bout</th>\n",
       "      <th>td_attempted_bout</th>\n",
       "      <th>sub_attempts_bout</th>\n",
       "      <th>pass_bout</th>\n",
       "      <th>rev_bout</th>\n",
       "    </tr>\n",
       "  </thead>\n",
       "  <tbody>\n",
       "    <tr>\n",
       "      <th>count</th>\n",
       "      <td>5544.000000</td>\n",
       "      <td>5544.000000</td>\n",
       "      <td>5544.000000</td>\n",
       "      <td>5544.000000</td>\n",
       "      <td>5544.000000</td>\n",
       "      <td>5544.000000</td>\n",
       "      <td>5544.000000</td>\n",
       "      <td>5544.000000</td>\n",
       "      <td>5544.000000</td>\n",
       "      <td>5544.000000</td>\n",
       "    </tr>\n",
       "    <tr>\n",
       "      <th>mean</th>\n",
       "      <td>0.001265</td>\n",
       "      <td>0.062168</td>\n",
       "      <td>0.137246</td>\n",
       "      <td>0.086543</td>\n",
       "      <td>0.165105</td>\n",
       "      <td>0.001710</td>\n",
       "      <td>0.004524</td>\n",
       "      <td>0.000890</td>\n",
       "      <td>0.001871</td>\n",
       "      <td>0.000218</td>\n",
       "    </tr>\n",
       "    <tr>\n",
       "      <th>std</th>\n",
       "      <td>0.006181</td>\n",
       "      <td>0.054308</td>\n",
       "      <td>0.092434</td>\n",
       "      <td>0.062350</td>\n",
       "      <td>0.094618</td>\n",
       "      <td>0.002944</td>\n",
       "      <td>0.005811</td>\n",
       "      <td>0.002817</td>\n",
       "      <td>0.003806</td>\n",
       "      <td>0.001217</td>\n",
       "    </tr>\n",
       "    <tr>\n",
       "      <th>min</th>\n",
       "      <td>0.000000</td>\n",
       "      <td>0.000000</td>\n",
       "      <td>0.000000</td>\n",
       "      <td>0.000000</td>\n",
       "      <td>0.000000</td>\n",
       "      <td>0.000000</td>\n",
       "      <td>0.000000</td>\n",
       "      <td>0.000000</td>\n",
       "      <td>0.000000</td>\n",
       "      <td>0.000000</td>\n",
       "    </tr>\n",
       "    <tr>\n",
       "      <th>25%</th>\n",
       "      <td>0.000000</td>\n",
       "      <td>0.031111</td>\n",
       "      <td>0.076706</td>\n",
       "      <td>0.048889</td>\n",
       "      <td>0.103433</td>\n",
       "      <td>0.000000</td>\n",
       "      <td>0.000000</td>\n",
       "      <td>0.000000</td>\n",
       "      <td>0.000000</td>\n",
       "      <td>0.000000</td>\n",
       "    </tr>\n",
       "    <tr>\n",
       "      <th>50%</th>\n",
       "      <td>0.000000</td>\n",
       "      <td>0.051111</td>\n",
       "      <td>0.121111</td>\n",
       "      <td>0.074266</td>\n",
       "      <td>0.151111</td>\n",
       "      <td>0.000000</td>\n",
       "      <td>0.002661</td>\n",
       "      <td>0.000000</td>\n",
       "      <td>0.000000</td>\n",
       "      <td>0.000000</td>\n",
       "    </tr>\n",
       "    <tr>\n",
       "      <th>75%</th>\n",
       "      <td>0.000000</td>\n",
       "      <td>0.077778</td>\n",
       "      <td>0.176287</td>\n",
       "      <td>0.107778</td>\n",
       "      <td>0.204372</td>\n",
       "      <td>0.002222</td>\n",
       "      <td>0.006667</td>\n",
       "      <td>0.000000</td>\n",
       "      <td>0.002222</td>\n",
       "      <td>0.000000</td>\n",
       "    </tr>\n",
       "    <tr>\n",
       "      <th>max</th>\n",
       "      <td>0.142857</td>\n",
       "      <td>0.857143</td>\n",
       "      <td>1.428571</td>\n",
       "      <td>0.857143</td>\n",
       "      <td>1.428571</td>\n",
       "      <td>0.041667</td>\n",
       "      <td>0.068966</td>\n",
       "      <td>0.071429</td>\n",
       "      <td>0.058824</td>\n",
       "      <td>0.071429</td>\n",
       "    </tr>\n",
       "  </tbody>\n",
       "</table>\n",
       "</div>"
      ],
      "text/plain": [
       "           kd_bout  sig_str_landed_bout  sig_str_attempted_bout  \\\n",
       "count  5544.000000          5544.000000             5544.000000   \n",
       "mean      0.001265             0.062168                0.137246   \n",
       "std       0.006181             0.054308                0.092434   \n",
       "min       0.000000             0.000000                0.000000   \n",
       "25%       0.000000             0.031111                0.076706   \n",
       "50%       0.000000             0.051111                0.121111   \n",
       "75%       0.000000             0.077778                0.176287   \n",
       "max       0.142857             0.857143                1.428571   \n",
       "\n",
       "       tot_str_landed_bout  tot_str_attempted_bout  td_landed_bout  \\\n",
       "count          5544.000000             5544.000000     5544.000000   \n",
       "mean              0.086543                0.165105        0.001710   \n",
       "std               0.062350                0.094618        0.002944   \n",
       "min               0.000000                0.000000        0.000000   \n",
       "25%               0.048889                0.103433        0.000000   \n",
       "50%               0.074266                0.151111        0.000000   \n",
       "75%               0.107778                0.204372        0.002222   \n",
       "max               0.857143                1.428571        0.041667   \n",
       "\n",
       "       td_attempted_bout  sub_attempts_bout    pass_bout     rev_bout  \n",
       "count        5544.000000        5544.000000  5544.000000  5544.000000  \n",
       "mean            0.004524           0.000890     0.001871     0.000218  \n",
       "std             0.005811           0.002817     0.003806     0.001217  \n",
       "min             0.000000           0.000000     0.000000     0.000000  \n",
       "25%             0.000000           0.000000     0.000000     0.000000  \n",
       "50%             0.002661           0.000000     0.000000     0.000000  \n",
       "75%             0.006667           0.000000     0.002222     0.000000  \n",
       "max             0.068966           0.071429     0.058824     0.071429  "
      ]
     },
     "execution_count": 148,
     "metadata": {},
     "output_type": "execute_result"
    }
   ],
   "source": [
    "for column in df[bout_data].columns:\n",
    "    df[column] = df[column] / df['total_fight_time_secs']\n",
    "    \n",
    "df[bout_data].describe()"
   ]
  },
  {
   "cell_type": "code",
   "execution_count": 149,
   "metadata": {},
   "outputs": [
    {
     "data": {
      "text/plain": [
       "['kd_per_sec',\n",
       " 'sig_str_landed_per_sec',\n",
       " 'sig_str_attempted_per_sec',\n",
       " 'tot_str_landed_per_sec',\n",
       " 'tot_str_attempted_per_sec',\n",
       " 'td_landed_per_sec',\n",
       " 'td_attempted_per_sec',\n",
       " 'sub_attempts_per_sec',\n",
       " 'pass_per_sec',\n",
       " 'rev_per_sec']"
      ]
     },
     "execution_count": 149,
     "metadata": {},
     "output_type": "execute_result"
    }
   ],
   "source": [
    "secs_data = [column.replace('_bout', '_per_sec') for column in bout_data]\n",
    "secs_data"
   ]
  },
  {
   "cell_type": "code",
   "execution_count": 158,
   "metadata": {
    "scrolled": true
   },
   "outputs": [
    {
     "data": {
      "text/html": [
       "<div>\n",
       "<style scoped>\n",
       "    .dataframe tbody tr th:only-of-type {\n",
       "        vertical-align: middle;\n",
       "    }\n",
       "\n",
       "    .dataframe tbody tr th {\n",
       "        vertical-align: top;\n",
       "    }\n",
       "\n",
       "    .dataframe thead th {\n",
       "        text-align: right;\n",
       "    }\n",
       "</style>\n",
       "<table border=\"1\" class=\"dataframe\">\n",
       "  <thead>\n",
       "    <tr style=\"text-align: right;\">\n",
       "      <th></th>\n",
       "      <th>kd_per_sec</th>\n",
       "      <th>sig_str_landed_per_sec</th>\n",
       "      <th>sig_str_attempted_per_sec</th>\n",
       "      <th>tot_str_landed_per_sec</th>\n",
       "      <th>tot_str_attempted_per_sec</th>\n",
       "      <th>td_landed_per_sec</th>\n",
       "      <th>td_attempted_per_sec</th>\n",
       "      <th>sub_attempts_per_sec</th>\n",
       "      <th>pass_per_sec</th>\n",
       "      <th>rev_per_sec</th>\n",
       "    </tr>\n",
       "  </thead>\n",
       "  <tbody>\n",
       "    <tr>\n",
       "      <th>8811</th>\n",
       "      <td>0.0</td>\n",
       "      <td>0.042553</td>\n",
       "      <td>0.127660</td>\n",
       "      <td>0.042553</td>\n",
       "      <td>0.127660</td>\n",
       "      <td>0.000000</td>\n",
       "      <td>0.042553</td>\n",
       "      <td>0.000000</td>\n",
       "      <td>0.000000</td>\n",
       "      <td>0.000000</td>\n",
       "    </tr>\n",
       "    <tr>\n",
       "      <th>8812</th>\n",
       "      <td>0.0</td>\n",
       "      <td>0.043333</td>\n",
       "      <td>0.084444</td>\n",
       "      <td>0.100000</td>\n",
       "      <td>0.145556</td>\n",
       "      <td>0.006667</td>\n",
       "      <td>0.011111</td>\n",
       "      <td>0.000000</td>\n",
       "      <td>0.006667</td>\n",
       "      <td>0.000000</td>\n",
       "    </tr>\n",
       "    <tr>\n",
       "      <th>8813</th>\n",
       "      <td>0.0</td>\n",
       "      <td>0.018889</td>\n",
       "      <td>0.068889</td>\n",
       "      <td>0.034444</td>\n",
       "      <td>0.084444</td>\n",
       "      <td>0.000000</td>\n",
       "      <td>0.000000</td>\n",
       "      <td>0.000000</td>\n",
       "      <td>0.000000</td>\n",
       "      <td>0.000000</td>\n",
       "    </tr>\n",
       "    <tr>\n",
       "      <th>8814</th>\n",
       "      <td>0.0</td>\n",
       "      <td>0.030000</td>\n",
       "      <td>0.090000</td>\n",
       "      <td>0.057778</td>\n",
       "      <td>0.118889</td>\n",
       "      <td>0.002222</td>\n",
       "      <td>0.003333</td>\n",
       "      <td>0.001111</td>\n",
       "      <td>0.001111</td>\n",
       "      <td>0.001111</td>\n",
       "    </tr>\n",
       "    <tr>\n",
       "      <th>8815</th>\n",
       "      <td>0.0</td>\n",
       "      <td>0.077778</td>\n",
       "      <td>0.161111</td>\n",
       "      <td>0.144444</td>\n",
       "      <td>0.228889</td>\n",
       "      <td>0.003333</td>\n",
       "      <td>0.006667</td>\n",
       "      <td>0.001111</td>\n",
       "      <td>0.006667</td>\n",
       "      <td>0.001111</td>\n",
       "    </tr>\n",
       "  </tbody>\n",
       "</table>\n",
       "</div>"
      ],
      "text/plain": [
       "      kd_per_sec  sig_str_landed_per_sec  sig_str_attempted_per_sec  \\\n",
       "8811         0.0                0.042553                   0.127660   \n",
       "8812         0.0                0.043333                   0.084444   \n",
       "8813         0.0                0.018889                   0.068889   \n",
       "8814         0.0                0.030000                   0.090000   \n",
       "8815         0.0                0.077778                   0.161111   \n",
       "\n",
       "      tot_str_landed_per_sec  tot_str_attempted_per_sec  td_landed_per_sec  \\\n",
       "8811                0.042553                   0.127660           0.000000   \n",
       "8812                0.100000                   0.145556           0.006667   \n",
       "8813                0.034444                   0.084444           0.000000   \n",
       "8814                0.057778                   0.118889           0.002222   \n",
       "8815                0.144444                   0.228889           0.003333   \n",
       "\n",
       "      td_attempted_per_sec  sub_attempts_per_sec  pass_per_sec  rev_per_sec  \n",
       "8811              0.042553              0.000000      0.000000     0.000000  \n",
       "8812              0.011111              0.000000      0.006667     0.000000  \n",
       "8813              0.000000              0.000000      0.000000     0.000000  \n",
       "8814              0.003333              0.001111      0.001111     0.001111  \n",
       "8815              0.006667              0.001111      0.006667     0.001111  "
      ]
     },
     "execution_count": 158,
     "metadata": {},
     "output_type": "execute_result"
    }
   ],
   "source": [
    "for bout_column, secs_column in zip(bout_data, secs_data):\n",
    "    df.rename({bout_column: secs_column}, axis=1, inplace=True)\n",
    "\n",
    "df[secs_data].tail()"
   ]
  },
  {
   "cell_type": "markdown",
   "metadata": {},
   "source": [
    "**3b. Isolating X and y columns**"
   ]
  },
  {
   "cell_type": "markdown",
   "metadata": {},
   "source": [
    "`age` is going to be our independent variable, while our dependent variables are going to be fight performance."
   ]
  },
  {
   "cell_type": "code",
   "execution_count": 166,
   "metadata": {},
   "outputs": [
    {
     "data": {
      "text/plain": [
       "['Winner',\n",
       " 'finish',\n",
       " 'kd_per_sec',\n",
       " 'sig_str_landed_per_sec',\n",
       " 'sig_str_attempted_per_sec',\n",
       " 'tot_str_landed_per_sec',\n",
       " 'tot_str_attempted_per_sec',\n",
       " 'td_landed_per_sec',\n",
       " 'td_attempted_per_sec',\n",
       " 'sub_attempts_per_sec',\n",
       " 'pass_per_sec',\n",
       " 'rev_per_sec']"
      ]
     },
     "execution_count": 166,
     "metadata": {},
     "output_type": "execute_result"
    }
   ],
   "source": [
    "fight_perf = ['Winner','finish'] + secs_data\n",
    "fight_perf"
   ]
  },
  {
   "cell_type": "code",
   "execution_count": 215,
   "metadata": {},
   "outputs": [
    {
     "data": {
      "text/plain": [
       "Winner                       0\n",
       "finish                       0\n",
       "kd_per_sec                   0\n",
       "sig_str_landed_per_sec       0\n",
       "sig_str_attempted_per_sec    0\n",
       "tot_str_landed_per_sec       0\n",
       "tot_str_attempted_per_sec    0\n",
       "td_landed_per_sec            0\n",
       "td_attempted_per_sec         0\n",
       "sub_attempts_per_sec         0\n",
       "pass_per_sec                 0\n",
       "rev_per_sec                  0\n",
       "dtype: int64"
      ]
     },
     "execution_count": 215,
     "metadata": {},
     "output_type": "execute_result"
    }
   ],
   "source": [
    "df_no_null = df[df[fight_perf].notnull().all(axis=1)]\n",
    "df_no_null[fight_perf].isnull().sum()"
   ]
  },
  {
   "cell_type": "code",
   "execution_count": 216,
   "metadata": {},
   "outputs": [],
   "source": [
    "X = df_no_null[fight_perf]\n",
    "y = df_no_null['age']"
   ]
  },
  {
   "cell_type": "markdown",
   "metadata": {},
   "source": [
    "**3c. Drop columns with NaN values**"
   ]
  },
  {
   "cell_type": "markdown",
   "metadata": {},
   "source": [
    "# 4. Additional Preprocessing"
   ]
  },
  {
   "cell_type": "markdown",
   "metadata": {},
   "source": [
    "**4a. Standardization**"
   ]
  },
  {
   "cell_type": "code",
   "execution_count": 218,
   "metadata": {},
   "outputs": [],
   "source": [
    "X_train, X_test, y_train, y_test = train_test_split(X, y, test_size=0.2)"
   ]
  },
  {
   "cell_type": "code",
   "execution_count": null,
   "metadata": {},
   "outputs": [],
   "source": [
    "scaler = StandardScaler()\n",
    "scaler.fit_transform(X_train)\n"
   ]
  },
  {
   "cell_type": "markdown",
   "metadata": {},
   "source": [
    "**4b. Logistic Regression Model**"
   ]
  },
  {
   "cell_type": "code",
   "execution_count": 170,
   "metadata": {},
   "outputs": [
    {
     "ename": "ValueError",
     "evalue": "Input contains NaN, infinity or a value too large for dtype('float64').",
     "output_type": "error",
     "traceback": [
      "\u001b[1;31m---------------------------------------------------------------------------\u001b[0m",
      "\u001b[1;31mValueError\u001b[0m                                Traceback (most recent call last)",
      "\u001b[1;32m<ipython-input-170-5504725a541d>\u001b[0m in \u001b[0;36m<module>\u001b[1;34m\u001b[0m\n\u001b[0;32m      8\u001b[0m \u001b[1;32mfor\u001b[0m \u001b[0mi\u001b[0m \u001b[1;32min\u001b[0m \u001b[0mC_param_range\u001b[0m\u001b[1;33m:\u001b[0m\u001b[1;33m\u001b[0m\u001b[1;33m\u001b[0m\u001b[0m\n\u001b[0;32m      9\u001b[0m     \u001b[0mLogreg\u001b[0m \u001b[1;33m=\u001b[0m \u001b[0mLogisticRegression\u001b[0m\u001b[1;33m(\u001b[0m\u001b[0mpenalty\u001b[0m \u001b[1;33m=\u001b[0m \u001b[1;34m'l2'\u001b[0m\u001b[1;33m,\u001b[0m \u001b[0mC\u001b[0m \u001b[1;33m=\u001b[0m \u001b[0mi\u001b[0m\u001b[1;33m,\u001b[0m\u001b[0mrandom_state\u001b[0m \u001b[1;33m=\u001b[0m \u001b[1;36m40\u001b[0m\u001b[1;33m)\u001b[0m\u001b[1;33m\u001b[0m\u001b[1;33m\u001b[0m\u001b[0m\n\u001b[1;32m---> 10\u001b[1;33m     \u001b[0mLogreg\u001b[0m\u001b[1;33m.\u001b[0m\u001b[0mfit\u001b[0m\u001b[1;33m(\u001b[0m\u001b[0mX_train\u001b[0m\u001b[1;33m,\u001b[0m\u001b[0my_train\u001b[0m\u001b[1;33m)\u001b[0m\u001b[1;33m\u001b[0m\u001b[1;33m\u001b[0m\u001b[0m\n\u001b[0m\u001b[0;32m     11\u001b[0m     \u001b[0my_pred_lr\u001b[0m \u001b[1;33m=\u001b[0m \u001b[0mLogreg\u001b[0m\u001b[1;33m.\u001b[0m\u001b[0mpredict\u001b[0m\u001b[1;33m(\u001b[0m\u001b[0mX_test\u001b[0m\u001b[1;33m)\u001b[0m\u001b[1;33m\u001b[0m\u001b[1;33m\u001b[0m\u001b[0m\n\u001b[0;32m     12\u001b[0m     \u001b[0mtable\u001b[0m\u001b[1;33m.\u001b[0m\u001b[0miloc\u001b[0m\u001b[1;33m[\u001b[0m\u001b[0mj\u001b[0m\u001b[1;33m,\u001b[0m\u001b[1;36m1\u001b[0m\u001b[1;33m]\u001b[0m \u001b[1;33m=\u001b[0m \u001b[0maccuracy_score\u001b[0m\u001b[1;33m(\u001b[0m\u001b[0my_test\u001b[0m\u001b[1;33m,\u001b[0m\u001b[0my_pred_lr\u001b[0m\u001b[1;33m)\u001b[0m\u001b[1;33m\u001b[0m\u001b[1;33m\u001b[0m\u001b[0m\n",
      "\u001b[1;32mC:\\ProgramData\\Anaconda3\\lib\\site-packages\\sklearn\\linear_model\\_logistic.py\u001b[0m in \u001b[0;36mfit\u001b[1;34m(self, X, y, sample_weight)\u001b[0m\n\u001b[0;32m   1525\u001b[0m \u001b[1;33m\u001b[0m\u001b[0m\n\u001b[0;32m   1526\u001b[0m         X, y = check_X_y(X, y, accept_sparse='csr', dtype=_dtype, order=\"C\",\n\u001b[1;32m-> 1527\u001b[1;33m                          accept_large_sparse=solver != 'liblinear')\n\u001b[0m\u001b[0;32m   1528\u001b[0m         \u001b[0mcheck_classification_targets\u001b[0m\u001b[1;33m(\u001b[0m\u001b[0my\u001b[0m\u001b[1;33m)\u001b[0m\u001b[1;33m\u001b[0m\u001b[1;33m\u001b[0m\u001b[0m\n\u001b[0;32m   1529\u001b[0m         \u001b[0mself\u001b[0m\u001b[1;33m.\u001b[0m\u001b[0mclasses_\u001b[0m \u001b[1;33m=\u001b[0m \u001b[0mnp\u001b[0m\u001b[1;33m.\u001b[0m\u001b[0munique\u001b[0m\u001b[1;33m(\u001b[0m\u001b[0my\u001b[0m\u001b[1;33m)\u001b[0m\u001b[1;33m\u001b[0m\u001b[1;33m\u001b[0m\u001b[0m\n",
      "\u001b[1;32mC:\\ProgramData\\Anaconda3\\lib\\site-packages\\sklearn\\utils\\validation.py\u001b[0m in \u001b[0;36mcheck_X_y\u001b[1;34m(X, y, accept_sparse, accept_large_sparse, dtype, order, copy, force_all_finite, ensure_2d, allow_nd, multi_output, ensure_min_samples, ensure_min_features, y_numeric, warn_on_dtype, estimator)\u001b[0m\n\u001b[0;32m    753\u001b[0m                     \u001b[0mensure_min_features\u001b[0m\u001b[1;33m=\u001b[0m\u001b[0mensure_min_features\u001b[0m\u001b[1;33m,\u001b[0m\u001b[1;33m\u001b[0m\u001b[1;33m\u001b[0m\u001b[0m\n\u001b[0;32m    754\u001b[0m                     \u001b[0mwarn_on_dtype\u001b[0m\u001b[1;33m=\u001b[0m\u001b[0mwarn_on_dtype\u001b[0m\u001b[1;33m,\u001b[0m\u001b[1;33m\u001b[0m\u001b[1;33m\u001b[0m\u001b[0m\n\u001b[1;32m--> 755\u001b[1;33m                     estimator=estimator)\n\u001b[0m\u001b[0;32m    756\u001b[0m     \u001b[1;32mif\u001b[0m \u001b[0mmulti_output\u001b[0m\u001b[1;33m:\u001b[0m\u001b[1;33m\u001b[0m\u001b[1;33m\u001b[0m\u001b[0m\n\u001b[0;32m    757\u001b[0m         y = check_array(y, 'csr', force_all_finite=True, ensure_2d=False,\n",
      "\u001b[1;32mC:\\ProgramData\\Anaconda3\\lib\\site-packages\\sklearn\\utils\\validation.py\u001b[0m in \u001b[0;36mcheck_array\u001b[1;34m(array, accept_sparse, accept_large_sparse, dtype, order, copy, force_all_finite, ensure_2d, allow_nd, ensure_min_samples, ensure_min_features, warn_on_dtype, estimator)\u001b[0m\n\u001b[0;32m    576\u001b[0m         \u001b[1;32mif\u001b[0m \u001b[0mforce_all_finite\u001b[0m\u001b[1;33m:\u001b[0m\u001b[1;33m\u001b[0m\u001b[1;33m\u001b[0m\u001b[0m\n\u001b[0;32m    577\u001b[0m             _assert_all_finite(array,\n\u001b[1;32m--> 578\u001b[1;33m                                allow_nan=force_all_finite == 'allow-nan')\n\u001b[0m\u001b[0;32m    579\u001b[0m \u001b[1;33m\u001b[0m\u001b[0m\n\u001b[0;32m    580\u001b[0m     \u001b[1;32mif\u001b[0m \u001b[0mensure_min_samples\u001b[0m \u001b[1;33m>\u001b[0m \u001b[1;36m0\u001b[0m\u001b[1;33m:\u001b[0m\u001b[1;33m\u001b[0m\u001b[1;33m\u001b[0m\u001b[0m\n",
      "\u001b[1;32mC:\\ProgramData\\Anaconda3\\lib\\site-packages\\sklearn\\utils\\validation.py\u001b[0m in \u001b[0;36m_assert_all_finite\u001b[1;34m(X, allow_nan, msg_dtype)\u001b[0m\n\u001b[0;32m     58\u001b[0m                     \u001b[0mmsg_err\u001b[0m\u001b[1;33m.\u001b[0m\u001b[0mformat\u001b[0m\u001b[1;33m\u001b[0m\u001b[1;33m\u001b[0m\u001b[0m\n\u001b[0;32m     59\u001b[0m                     (type_err,\n\u001b[1;32m---> 60\u001b[1;33m                      msg_dtype if msg_dtype is not None else X.dtype)\n\u001b[0m\u001b[0;32m     61\u001b[0m             )\n\u001b[0;32m     62\u001b[0m     \u001b[1;31m# for object dtype data, we only check for NaNs (GH-13254)\u001b[0m\u001b[1;33m\u001b[0m\u001b[1;33m\u001b[0m\u001b[1;33m\u001b[0m\u001b[0m\n",
      "\u001b[1;31mValueError\u001b[0m: Input contains NaN, infinity or a value too large for dtype('float64')."
     ]
    }
   ],
   "source": [
    "C_param_range = [0.001,0.01,0.1,1,10,100]\n",
    "\n",
    "table = pd.DataFrame(columns = ['C_parameter','Accuracy'])\n",
    "table['C_parameter'] = C_param_range\n",
    "\n",
    "\n",
    "j = 0\n",
    "for i in C_param_range:\n",
    "    Logreg = LogisticRegression(penalty = 'l2', C = i,random_state = 40)\n",
    "    Logreg.fit(X_train,y_train)\n",
    "    y_pred_lr = Logreg.predict(X_test)\n",
    "    table.iloc[j,1] = accuracy_score(y_test,y_pred_lr)\n",
    "    j += 1\n",
    "    \n",
    "table"
   ]
  },
  {
   "cell_type": "markdown",
   "metadata": {},
   "source": [
    "**4c. K-Nearest Neighbors (KNN):**"
   ]
  },
  {
   "cell_type": "code",
   "execution_count": 59,
   "metadata": {},
   "outputs": [
    {
     "name": "stdout",
     "output_type": "stream",
     "text": [
      "[[448 442]\n",
      " [457 417]]\n",
      "0.49036281179138325\n"
     ]
    },
    {
     "data": {
      "image/png": "[encoded data removed]",
      "text/plain": [
       "<Figure size 432x288 with 1 Axes>"
      ]
     },
     "metadata": {
      "needs_background": "light"
     },
     "output_type": "display_data"
    }
   ],
   "source": [
    "knn = KNeighborsClassifier(p=2,weights='distance',n_neighbors=50)\n",
    "knn.fit(X_train,y_train)\n",
    "pred = knn.predict(X_test)\n",
    "\n",
    "cnf_matrix = confusion_matrix(y_test, pred)\n",
    "print(cnf_matrix)\n",
    "Accuracy = knn.score(X_test,y_test)\n",
    "\n",
    "print(Accuracy)\n",
    "knn_disp= plot_roc_curve(knn,X_test,y_test)"
   ]
  }
 ],
 "metadata": {
  "kernelspec": {
   "display_name": "Python 3",
   "language": "python",
   "name": "python3"
  },
  "language_info": {
   "codemirror_mode": {
    "name": "ipython",
    "version": 3
   },
   "file_extension": ".py",
   "mimetype": "text/x-python",
   "name": "python",
   "nbconvert_exporter": "python",
   "pygments_lexer": "ipython3",
   "version": "3.7.6"
  }
 },
 "nbformat": 4,
 "nbformat_minor": 4
}
