{
 "cells": [
  {
   "cell_type": "markdown",
   "metadata": {},
   "source": [
    "# UFC Retirement Age - Modeling"
   ]
  },
  {
   "cell_type": "markdown",
   "metadata": {},
   "source": [
    "## 1. Contents<a id='1._Contents'></a>\n",
    "* [UFC Retirement Age - Modeling](#UFC_Retirement_Age_-_Modeling)\n",
    "  * [1. Contents](#1._Contents)\n",
    "  * [2. Sourcing and Loading](#2._Sourcing_and_Loading)\n",
    "    * [2a. Import relevant libraries](#2a._Import_relevant_libraries)\n",
    "    * [2b. Load previously preprocessed DataFrame](#2b._Load_previously_preprocessed_DataFrame)\n",
    "    * [2c. Preliminary exploration of data](#2c._Preliminary_exploration_of_data)\n",
    "  * [3. Additional Data Wrangling](#3._Additional_Data_Wrangling)\n",
    "    * [3a. Bout columns](#3a._Bout_columns)\n",
    "    * [3b. Isolating X and y columns](#3b._Isolating_X_and_y_columns)\n",
    "    * [3c. Removing null columns](#3c._Removing_null_columns)\n",
    "    * [3d. Remove outlier row](#3e._Remove_outlier_row)\n",
    "  * [4. Modeling](#4._Modeling)\n",
    "    * [4a. Comparing multivariate linear regression with model based on mean](#4a._Finding_best_features_for_linear_regression_model)\n",
    "    * [4b. `Winner` based on `age`](#4b._Finding_best_features_for_random_forest_regressor)\n",
    "    * [4c. `Winner` based on `age_dif`](#4c._Choosing_best_model)\n",
    "    * [4d. `Winner` vs. every column](#4c._Choosing_best_model)\n",
    "  * [5. Conclusion](#5._Conclusion)"
   ]
  },
  {
   "cell_type": "markdown",
   "metadata": {},
   "source": [
    "## 2. Sourcing and Loading <a id='2._Sourcing_and_Loading'></a>"
   ]
  },
  {
   "cell_type": "markdown",
   "metadata": {},
   "source": [
    "**2a. Import relevant libraries** <a id='2a._Import_relevant_libraries'></a>"
   ]
  },
  {
   "cell_type": "code",
   "execution_count": 2,
   "metadata": {},
   "outputs": [],
   "source": [
    "import numpy as np \n",
    "import pandas as pd \n",
    "import matplotlib.pyplot as plt\n",
    "import seaborn as sns\n",
    "import kaggle as kg\n",
    "import pandas as pd\n",
    "import missingno as msno\n",
    "import statsmodels.api as sm\n",
    "import scipy.stats\n",
    "from matplotlib.lines import Line2D\n",
    "from kaggle.api.kaggle_api_extended import KaggleApi\n",
    "from statsmodels.graphics.api import abline_plot\n",
    "from sklearn.metrics import mean_squared_error, r2_score, classification_report, confusion_matrix, accuracy_score, \\\n",
    "plot_roc_curve, roc_curve, roc_auc_score, precision_recall_curve, auc\n",
    "from sklearn.ensemble import RandomForestClassifier\n",
    "from sklearn.model_selection import train_test_split, cross_validate\n",
    "from sklearn.linear_model import LogisticRegression, LinearRegression\n",
    "from sklearn.neighbors import KNeighborsClassifier\n",
    "from sklearn.preprocessing import StandardScaler\n",
    "from sklearn import linear_model, preprocessing\n",
    "from zipfile import ZipFile\n",
    "from scipy import stats\n",
    "from scipy.stats import t\n",
    "from scipy.stats import ttest_ind\n",
    "from scipy.stats import mannwhitneyu\n",
    "from numpy.random import seed\n",
    "import warnings\n",
    "warnings.simplefilter(action=\"ignore\", category=FutureWarning)\n",
    "warnings.filterwarnings(action=\"ignore\", module=\"scipy\", message=\"^internal gelsd\")"
   ]
  },
  {
   "cell_type": "markdown",
   "metadata": {},
   "source": [
    "**2b. Load previously preprocessed DataFrame** <a id='2b._Load_previously_preprocessed_DataFrame'></a>"
   ]
  },
  {
   "cell_type": "code",
   "execution_count": 3,
   "metadata": {},
   "outputs": [
    {
     "data": {
      "text/html": [
       "<div>\n",
       "<style scoped>\n",
       "    .dataframe tbody tr th:only-of-type {\n",
       "        vertical-align: middle;\n",
       "    }\n",
       "\n",
       "    .dataframe tbody tr th {\n",
       "        vertical-align: top;\n",
       "    }\n",
       "\n",
       "    .dataframe thead th {\n",
       "        text-align: right;\n",
       "    }\n",
       "</style>\n",
       "<table border=\"1\" class=\"dataframe\">\n",
       "  <thead>\n",
       "    <tr style=\"text-align: right;\">\n",
       "      <th></th>\n",
       "      <th>date</th>\n",
       "      <th>fighter</th>\n",
       "      <th>odds</th>\n",
       "      <th>Winner</th>\n",
       "      <th>title_bout</th>\n",
       "      <th>current_lose_streak</th>\n",
       "      <th>current_win_streak</th>\n",
       "      <th>draw</th>\n",
       "      <th>avg_SIG_STR_landed</th>\n",
       "      <th>avg_SIG_STR_pct</th>\n",
       "      <th>...</th>\n",
       "      <th>weight_class_Middleweight</th>\n",
       "      <th>weight_class_Welterweight</th>\n",
       "      <th>weight_class_Women's Bantamweight</th>\n",
       "      <th>weight_class_Women's Featherweight</th>\n",
       "      <th>weight_class_Women's Flyweight</th>\n",
       "      <th>weight_class_Women's Strawweight</th>\n",
       "      <th>gender_MALE</th>\n",
       "      <th>Stance_Orthodox</th>\n",
       "      <th>Stance_Southpaw</th>\n",
       "      <th>Stance_Switch</th>\n",
       "    </tr>\n",
       "  </thead>\n",
       "  <tbody>\n",
       "    <tr>\n",
       "      <th>0</th>\n",
       "      <td>2020-10-03</td>\n",
       "      <td>Holly Holm</td>\n",
       "      <td>-125</td>\n",
       "      <td>1</td>\n",
       "      <td>0</td>\n",
       "      <td>0</td>\n",
       "      <td>1</td>\n",
       "      <td>0</td>\n",
       "      <td>2.75</td>\n",
       "      <td>0.35</td>\n",
       "      <td>...</td>\n",
       "      <td>0</td>\n",
       "      <td>0</td>\n",
       "      <td>1</td>\n",
       "      <td>0</td>\n",
       "      <td>0</td>\n",
       "      <td>0</td>\n",
       "      <td>0</td>\n",
       "      <td>0</td>\n",
       "      <td>1</td>\n",
       "      <td>0</td>\n",
       "    </tr>\n",
       "    <tr>\n",
       "      <th>1</th>\n",
       "      <td>2020-10-03</td>\n",
       "      <td>Irene Aldana</td>\n",
       "      <td>103</td>\n",
       "      <td>0</td>\n",
       "      <td>0</td>\n",
       "      <td>0</td>\n",
       "      <td>2</td>\n",
       "      <td>0</td>\n",
       "      <td>6.16</td>\n",
       "      <td>0.38</td>\n",
       "      <td>...</td>\n",
       "      <td>0</td>\n",
       "      <td>0</td>\n",
       "      <td>1</td>\n",
       "      <td>0</td>\n",
       "      <td>0</td>\n",
       "      <td>0</td>\n",
       "      <td>0</td>\n",
       "      <td>1</td>\n",
       "      <td>0</td>\n",
       "      <td>0</td>\n",
       "    </tr>\n",
       "    <tr>\n",
       "      <th>2</th>\n",
       "      <td>2020-10-03</td>\n",
       "      <td>Yorgan De Castro</td>\n",
       "      <td>-265</td>\n",
       "      <td>0</td>\n",
       "      <td>0</td>\n",
       "      <td>1</td>\n",
       "      <td>0</td>\n",
       "      <td>0</td>\n",
       "      <td>2.19</td>\n",
       "      <td>0.41</td>\n",
       "      <td>...</td>\n",
       "      <td>0</td>\n",
       "      <td>0</td>\n",
       "      <td>0</td>\n",
       "      <td>0</td>\n",
       "      <td>0</td>\n",
       "      <td>0</td>\n",
       "      <td>1</td>\n",
       "      <td>1</td>\n",
       "      <td>0</td>\n",
       "      <td>0</td>\n",
       "    </tr>\n",
       "    <tr>\n",
       "      <th>3</th>\n",
       "      <td>2020-10-03</td>\n",
       "      <td>Carlos Felipe</td>\n",
       "      <td>205</td>\n",
       "      <td>1</td>\n",
       "      <td>0</td>\n",
       "      <td>1</td>\n",
       "      <td>0</td>\n",
       "      <td>0</td>\n",
       "      <td>2.93</td>\n",
       "      <td>0.36</td>\n",
       "      <td>...</td>\n",
       "      <td>0</td>\n",
       "      <td>0</td>\n",
       "      <td>0</td>\n",
       "      <td>0</td>\n",
       "      <td>0</td>\n",
       "      <td>0</td>\n",
       "      <td>1</td>\n",
       "      <td>1</td>\n",
       "      <td>0</td>\n",
       "      <td>0</td>\n",
       "    </tr>\n",
       "    <tr>\n",
       "      <th>4</th>\n",
       "      <td>2020-10-03</td>\n",
       "      <td>Germaine de Randamie</td>\n",
       "      <td>-150</td>\n",
       "      <td>1</td>\n",
       "      <td>0</td>\n",
       "      <td>1</td>\n",
       "      <td>0</td>\n",
       "      <td>0</td>\n",
       "      <td>2.72</td>\n",
       "      <td>0.47</td>\n",
       "      <td>...</td>\n",
       "      <td>0</td>\n",
       "      <td>0</td>\n",
       "      <td>1</td>\n",
       "      <td>0</td>\n",
       "      <td>0</td>\n",
       "      <td>0</td>\n",
       "      <td>0</td>\n",
       "      <td>1</td>\n",
       "      <td>0</td>\n",
       "      <td>0</td>\n",
       "    </tr>\n",
       "  </tbody>\n",
       "</table>\n",
       "<p>5 rows × 103 columns</p>\n",
       "</div>"
      ],
      "text/plain": [
       "         date               fighter  odds  Winner  title_bout  \\\n",
       "0  2020-10-03            Holly Holm  -125       1           0   \n",
       "1  2020-10-03          Irene Aldana   103       0           0   \n",
       "2  2020-10-03      Yorgan De Castro  -265       0           0   \n",
       "3  2020-10-03         Carlos Felipe   205       1           0   \n",
       "4  2020-10-03  Germaine de Randamie  -150       1           0   \n",
       "\n",
       "   current_lose_streak  current_win_streak  draw  avg_SIG_STR_landed  \\\n",
       "0                    0                   1     0                2.75   \n",
       "1                    0                   2     0                6.16   \n",
       "2                    1                   0     0                2.19   \n",
       "3                    1                   0     0                2.93   \n",
       "4                    1                   0     0                2.72   \n",
       "\n",
       "   avg_SIG_STR_pct  ...  weight_class_Middleweight  weight_class_Welterweight  \\\n",
       "0             0.35  ...                          0                          0   \n",
       "1             0.38  ...                          0                          0   \n",
       "2             0.41  ...                          0                          0   \n",
       "3             0.36  ...                          0                          0   \n",
       "4             0.47  ...                          0                          0   \n",
       "\n",
       "   weight_class_Women's Bantamweight  weight_class_Women's Featherweight  \\\n",
       "0                                  1                                   0   \n",
       "1                                  1                                   0   \n",
       "2                                  0                                   0   \n",
       "3                                  0                                   0   \n",
       "4                                  1                                   0   \n",
       "\n",
       "   weight_class_Women's Flyweight  weight_class_Women's Strawweight  \\\n",
       "0                               0                                 0   \n",
       "1                               0                                 0   \n",
       "2                               0                                 0   \n",
       "3                               0                                 0   \n",
       "4                               0                                 0   \n",
       "\n",
       "   gender_MALE  Stance_Orthodox  Stance_Southpaw  Stance_Switch  \n",
       "0            0                0                1              0  \n",
       "1            0                1                0              0  \n",
       "2            1                1                0              0  \n",
       "3            1                1                0              0  \n",
       "4            0                1                0              0  \n",
       "\n",
       "[5 rows x 103 columns]"
      ]
     },
     "execution_count": 3,
     "metadata": {},
     "output_type": "execute_result"
    }
   ],
   "source": [
    "df = pd.read_csv('df.csv', index_col=0)\n",
    "df.head()"
   ]
  },
  {
   "cell_type": "markdown",
   "metadata": {},
   "source": [
    "**2c. Preliminary exploration of data** <a id='2c._Preliminary_exploration_of_data'></a>"
   ]
  },
  {
   "cell_type": "code",
   "execution_count": 4,
   "metadata": {},
   "outputs": [
    {
     "name": "stdout",
     "output_type": "stream",
     "text": [
      "<class 'pandas.core.frame.DataFrame'>\n",
      "Int64Index: 8816 entries, 0 to 8815\n",
      "Columns: 103 entries, date to Stance_Switch\n",
      "dtypes: float64(29), int64(72), object(2)\n",
      "memory usage: 7.0+ MB\n"
     ]
    }
   ],
   "source": [
    "df.info()"
   ]
  },
  {
   "cell_type": "code",
   "execution_count": 5,
   "metadata": {},
   "outputs": [
    {
     "data": {
      "text/plain": [
       "(8816, 103)"
      ]
     },
     "execution_count": 5,
     "metadata": {},
     "output_type": "execute_result"
    }
   ],
   "source": [
    "df.shape"
   ]
  },
  {
   "cell_type": "code",
   "execution_count": 6,
   "metadata": {},
   "outputs": [
    {
     "data": {
      "text/plain": [
       "Index(['date', 'fighter', 'odds', 'Winner', 'title_bout',\n",
       "       'current_lose_streak', 'current_win_streak', 'draw',\n",
       "       'avg_SIG_STR_landed', 'avg_SIG_STR_pct',\n",
       "       ...\n",
       "       'weight_class_Middleweight', 'weight_class_Welterweight',\n",
       "       'weight_class_Women's Bantamweight',\n",
       "       'weight_class_Women's Featherweight', 'weight_class_Women's Flyweight',\n",
       "       'weight_class_Women's Strawweight', 'gender_MALE', 'Stance_Orthodox',\n",
       "       'Stance_Southpaw', 'Stance_Switch'],\n",
       "      dtype='object', length=103)"
      ]
     },
     "execution_count": 6,
     "metadata": {},
     "output_type": "execute_result"
    }
   ],
   "source": [
    "df.columns"
   ]
  },
  {
   "cell_type": "markdown",
   "metadata": {},
   "source": [
    "# 3. Additional Data Wrangling <a id='3._Additional_Data_Wrangling'></a>"
   ]
  },
  {
   "cell_type": "markdown",
   "metadata": {},
   "source": [
    "**3a. Bout columns** <a id='3a._Bout_columns'></a>"
   ]
  },
  {
   "cell_type": "markdown",
   "metadata": {},
   "source": [
    "Many of the bout columns provide stats on the entire bout, but since some fights end in the first round and others can go all 5 rounds, these columns would be much more helpful to us if they gave us an average over the seconds spent in the fight. "
   ]
  },
  {
   "cell_type": "code",
   "execution_count": 7,
   "metadata": {
    "scrolled": true
   },
   "outputs": [
    {
     "data": {
      "text/plain": [
       "['kd_bout',\n",
       " 'sig_str_landed_bout',\n",
       " 'sig_str_attempted_bout',\n",
       " 'tot_str_landed_bout',\n",
       " 'tot_str_attempted_bout',\n",
       " 'td_landed_bout',\n",
       " 'td_attempted_bout',\n",
       " 'sub_attempts_bout',\n",
       " 'pass_bout',\n",
       " 'rev_bout']"
      ]
     },
     "execution_count": 7,
     "metadata": {},
     "output_type": "execute_result"
    }
   ],
   "source": [
    "bout_data = [column for column in df.columns if column.endswith(('d_bout','s_bout','v_bout'))]\n",
    "bout_data"
   ]
  },
  {
   "cell_type": "code",
   "execution_count": 8,
   "metadata": {},
   "outputs": [
    {
     "data": {
      "text/html": [
       "<div>\n",
       "<style scoped>\n",
       "    .dataframe tbody tr th:only-of-type {\n",
       "        vertical-align: middle;\n",
       "    }\n",
       "\n",
       "    .dataframe tbody tr th {\n",
       "        vertical-align: top;\n",
       "    }\n",
       "\n",
       "    .dataframe thead th {\n",
       "        text-align: right;\n",
       "    }\n",
       "</style>\n",
       "<table border=\"1\" class=\"dataframe\">\n",
       "  <thead>\n",
       "    <tr style=\"text-align: right;\">\n",
       "      <th></th>\n",
       "      <th>kd_bout</th>\n",
       "      <th>sig_str_landed_bout</th>\n",
       "      <th>sig_str_attempted_bout</th>\n",
       "      <th>tot_str_landed_bout</th>\n",
       "      <th>tot_str_attempted_bout</th>\n",
       "      <th>td_landed_bout</th>\n",
       "      <th>td_attempted_bout</th>\n",
       "      <th>sub_attempts_bout</th>\n",
       "      <th>pass_bout</th>\n",
       "      <th>rev_bout</th>\n",
       "    </tr>\n",
       "  </thead>\n",
       "  <tbody>\n",
       "    <tr>\n",
       "      <th>count</th>\n",
       "      <td>5544.000000</td>\n",
       "      <td>5544.000000</td>\n",
       "      <td>5544.000000</td>\n",
       "      <td>5544.000000</td>\n",
       "      <td>5544.000000</td>\n",
       "      <td>5544.000000</td>\n",
       "      <td>5544.000000</td>\n",
       "      <td>5544.000000</td>\n",
       "      <td>5544.000000</td>\n",
       "      <td>5544.000000</td>\n",
       "    </tr>\n",
       "    <tr>\n",
       "      <th>mean</th>\n",
       "      <td>0.001265</td>\n",
       "      <td>0.062168</td>\n",
       "      <td>0.137246</td>\n",
       "      <td>0.086543</td>\n",
       "      <td>0.165105</td>\n",
       "      <td>0.001710</td>\n",
       "      <td>0.004524</td>\n",
       "      <td>0.000890</td>\n",
       "      <td>0.001871</td>\n",
       "      <td>0.000218</td>\n",
       "    </tr>\n",
       "    <tr>\n",
       "      <th>std</th>\n",
       "      <td>0.006181</td>\n",
       "      <td>0.054308</td>\n",
       "      <td>0.092434</td>\n",
       "      <td>0.062350</td>\n",
       "      <td>0.094618</td>\n",
       "      <td>0.002944</td>\n",
       "      <td>0.005811</td>\n",
       "      <td>0.002817</td>\n",
       "      <td>0.003806</td>\n",
       "      <td>0.001217</td>\n",
       "    </tr>\n",
       "    <tr>\n",
       "      <th>min</th>\n",
       "      <td>0.000000</td>\n",
       "      <td>0.000000</td>\n",
       "      <td>0.000000</td>\n",
       "      <td>0.000000</td>\n",
       "      <td>0.000000</td>\n",
       "      <td>0.000000</td>\n",
       "      <td>0.000000</td>\n",
       "      <td>0.000000</td>\n",
       "      <td>0.000000</td>\n",
       "      <td>0.000000</td>\n",
       "    </tr>\n",
       "    <tr>\n",
       "      <th>25%</th>\n",
       "      <td>0.000000</td>\n",
       "      <td>0.031111</td>\n",
       "      <td>0.076706</td>\n",
       "      <td>0.048889</td>\n",
       "      <td>0.103433</td>\n",
       "      <td>0.000000</td>\n",
       "      <td>0.000000</td>\n",
       "      <td>0.000000</td>\n",
       "      <td>0.000000</td>\n",
       "      <td>0.000000</td>\n",
       "    </tr>\n",
       "    <tr>\n",
       "      <th>50%</th>\n",
       "      <td>0.000000</td>\n",
       "      <td>0.051111</td>\n",
       "      <td>0.121111</td>\n",
       "      <td>0.074266</td>\n",
       "      <td>0.151111</td>\n",
       "      <td>0.000000</td>\n",
       "      <td>0.002661</td>\n",
       "      <td>0.000000</td>\n",
       "      <td>0.000000</td>\n",
       "      <td>0.000000</td>\n",
       "    </tr>\n",
       "    <tr>\n",
       "      <th>75%</th>\n",
       "      <td>0.000000</td>\n",
       "      <td>0.077778</td>\n",
       "      <td>0.176287</td>\n",
       "      <td>0.107778</td>\n",
       "      <td>0.204372</td>\n",
       "      <td>0.002222</td>\n",
       "      <td>0.006667</td>\n",
       "      <td>0.000000</td>\n",
       "      <td>0.002222</td>\n",
       "      <td>0.000000</td>\n",
       "    </tr>\n",
       "    <tr>\n",
       "      <th>max</th>\n",
       "      <td>0.142857</td>\n",
       "      <td>0.857143</td>\n",
       "      <td>1.428571</td>\n",
       "      <td>0.857143</td>\n",
       "      <td>1.428571</td>\n",
       "      <td>0.041667</td>\n",
       "      <td>0.068966</td>\n",
       "      <td>0.071429</td>\n",
       "      <td>0.058824</td>\n",
       "      <td>0.071429</td>\n",
       "    </tr>\n",
       "  </tbody>\n",
       "</table>\n",
       "</div>"
      ],
      "text/plain": [
       "           kd_bout  sig_str_landed_bout  sig_str_attempted_bout  \\\n",
       "count  5544.000000          5544.000000             5544.000000   \n",
       "mean      0.001265             0.062168                0.137246   \n",
       "std       0.006181             0.054308                0.092434   \n",
       "min       0.000000             0.000000                0.000000   \n",
       "25%       0.000000             0.031111                0.076706   \n",
       "50%       0.000000             0.051111                0.121111   \n",
       "75%       0.000000             0.077778                0.176287   \n",
       "max       0.142857             0.857143                1.428571   \n",
       "\n",
       "       tot_str_landed_bout  tot_str_attempted_bout  td_landed_bout  \\\n",
       "count          5544.000000             5544.000000     5544.000000   \n",
       "mean              0.086543                0.165105        0.001710   \n",
       "std               0.062350                0.094618        0.002944   \n",
       "min               0.000000                0.000000        0.000000   \n",
       "25%               0.048889                0.103433        0.000000   \n",
       "50%               0.074266                0.151111        0.000000   \n",
       "75%               0.107778                0.204372        0.002222   \n",
       "max               0.857143                1.428571        0.041667   \n",
       "\n",
       "       td_attempted_bout  sub_attempts_bout    pass_bout     rev_bout  \n",
       "count        5544.000000        5544.000000  5544.000000  5544.000000  \n",
       "mean            0.004524           0.000890     0.001871     0.000218  \n",
       "std             0.005811           0.002817     0.003806     0.001217  \n",
       "min             0.000000           0.000000     0.000000     0.000000  \n",
       "25%             0.000000           0.000000     0.000000     0.000000  \n",
       "50%             0.002661           0.000000     0.000000     0.000000  \n",
       "75%             0.006667           0.000000     0.002222     0.000000  \n",
       "max             0.068966           0.071429     0.058824     0.071429  "
      ]
     },
     "execution_count": 8,
     "metadata": {},
     "output_type": "execute_result"
    }
   ],
   "source": [
    "for column in df[bout_data].columns:\n",
    "    df[column] = df[column] / df['total_fight_time_secs']\n",
    "    \n",
    "df[bout_data].describe()"
   ]
  },
  {
   "cell_type": "code",
   "execution_count": 9,
   "metadata": {},
   "outputs": [
    {
     "data": {
      "text/plain": [
       "['kd_per_sec',\n",
       " 'sig_str_landed_per_sec',\n",
       " 'sig_str_attempted_per_sec',\n",
       " 'tot_str_landed_per_sec',\n",
       " 'tot_str_attempted_per_sec',\n",
       " 'td_landed_per_sec',\n",
       " 'td_attempted_per_sec',\n",
       " 'sub_attempts_per_sec',\n",
       " 'pass_per_sec',\n",
       " 'rev_per_sec']"
      ]
     },
     "execution_count": 9,
     "metadata": {},
     "output_type": "execute_result"
    }
   ],
   "source": [
    "secs_data = [column.replace('_bout', '_per_sec') for column in bout_data]\n",
    "secs_data"
   ]
  },
  {
   "cell_type": "code",
   "execution_count": 10,
   "metadata": {
    "scrolled": true
   },
   "outputs": [
    {
     "data": {
      "text/html": [
       "<div>\n",
       "<style scoped>\n",
       "    .dataframe tbody tr th:only-of-type {\n",
       "        vertical-align: middle;\n",
       "    }\n",
       "\n",
       "    .dataframe tbody tr th {\n",
       "        vertical-align: top;\n",
       "    }\n",
       "\n",
       "    .dataframe thead th {\n",
       "        text-align: right;\n",
       "    }\n",
       "</style>\n",
       "<table border=\"1\" class=\"dataframe\">\n",
       "  <thead>\n",
       "    <tr style=\"text-align: right;\">\n",
       "      <th></th>\n",
       "      <th>kd_per_sec</th>\n",
       "      <th>sig_str_landed_per_sec</th>\n",
       "      <th>sig_str_attempted_per_sec</th>\n",
       "      <th>tot_str_landed_per_sec</th>\n",
       "      <th>tot_str_attempted_per_sec</th>\n",
       "      <th>td_landed_per_sec</th>\n",
       "      <th>td_attempted_per_sec</th>\n",
       "      <th>sub_attempts_per_sec</th>\n",
       "      <th>pass_per_sec</th>\n",
       "      <th>rev_per_sec</th>\n",
       "    </tr>\n",
       "  </thead>\n",
       "  <tbody>\n",
       "    <tr>\n",
       "      <th>8811</th>\n",
       "      <td>0.0</td>\n",
       "      <td>0.042553</td>\n",
       "      <td>0.127660</td>\n",
       "      <td>0.042553</td>\n",
       "      <td>0.127660</td>\n",
       "      <td>0.000000</td>\n",
       "      <td>0.042553</td>\n",
       "      <td>0.000000</td>\n",
       "      <td>0.000000</td>\n",
       "      <td>0.000000</td>\n",
       "    </tr>\n",
       "    <tr>\n",
       "      <th>8812</th>\n",
       "      <td>0.0</td>\n",
       "      <td>0.043333</td>\n",
       "      <td>0.084444</td>\n",
       "      <td>0.100000</td>\n",
       "      <td>0.145556</td>\n",
       "      <td>0.006667</td>\n",
       "      <td>0.011111</td>\n",
       "      <td>0.000000</td>\n",
       "      <td>0.006667</td>\n",
       "      <td>0.000000</td>\n",
       "    </tr>\n",
       "    <tr>\n",
       "      <th>8813</th>\n",
       "      <td>0.0</td>\n",
       "      <td>0.018889</td>\n",
       "      <td>0.068889</td>\n",
       "      <td>0.034444</td>\n",
       "      <td>0.084444</td>\n",
       "      <td>0.000000</td>\n",
       "      <td>0.000000</td>\n",
       "      <td>0.000000</td>\n",
       "      <td>0.000000</td>\n",
       "      <td>0.000000</td>\n",
       "    </tr>\n",
       "    <tr>\n",
       "      <th>8814</th>\n",
       "      <td>0.0</td>\n",
       "      <td>0.030000</td>\n",
       "      <td>0.090000</td>\n",
       "      <td>0.057778</td>\n",
       "      <td>0.118889</td>\n",
       "      <td>0.002222</td>\n",
       "      <td>0.003333</td>\n",
       "      <td>0.001111</td>\n",
       "      <td>0.001111</td>\n",
       "      <td>0.001111</td>\n",
       "    </tr>\n",
       "    <tr>\n",
       "      <th>8815</th>\n",
       "      <td>0.0</td>\n",
       "      <td>0.077778</td>\n",
       "      <td>0.161111</td>\n",
       "      <td>0.144444</td>\n",
       "      <td>0.228889</td>\n",
       "      <td>0.003333</td>\n",
       "      <td>0.006667</td>\n",
       "      <td>0.001111</td>\n",
       "      <td>0.006667</td>\n",
       "      <td>0.001111</td>\n",
       "    </tr>\n",
       "  </tbody>\n",
       "</table>\n",
       "</div>"
      ],
      "text/plain": [
       "      kd_per_sec  sig_str_landed_per_sec  sig_str_attempted_per_sec  \\\n",
       "8811         0.0                0.042553                   0.127660   \n",
       "8812         0.0                0.043333                   0.084444   \n",
       "8813         0.0                0.018889                   0.068889   \n",
       "8814         0.0                0.030000                   0.090000   \n",
       "8815         0.0                0.077778                   0.161111   \n",
       "\n",
       "      tot_str_landed_per_sec  tot_str_attempted_per_sec  td_landed_per_sec  \\\n",
       "8811                0.042553                   0.127660           0.000000   \n",
       "8812                0.100000                   0.145556           0.006667   \n",
       "8813                0.034444                   0.084444           0.000000   \n",
       "8814                0.057778                   0.118889           0.002222   \n",
       "8815                0.144444                   0.228889           0.003333   \n",
       "\n",
       "      td_attempted_per_sec  sub_attempts_per_sec  pass_per_sec  rev_per_sec  \n",
       "8811              0.042553              0.000000      0.000000     0.000000  \n",
       "8812              0.011111              0.000000      0.006667     0.000000  \n",
       "8813              0.000000              0.000000      0.000000     0.000000  \n",
       "8814              0.003333              0.001111      0.001111     0.001111  \n",
       "8815              0.006667              0.001111      0.006667     0.001111  "
      ]
     },
     "execution_count": 10,
     "metadata": {},
     "output_type": "execute_result"
    }
   ],
   "source": [
    "for bout_column, secs_column in zip(bout_data, secs_data):\n",
    "    df.rename({bout_column: secs_column}, axis=1, inplace=True)\n",
    "\n",
    "df[secs_data].tail()"
   ]
  },
  {
   "cell_type": "markdown",
   "metadata": {},
   "source": [
    "**3b. Isolating X and y columns** <a id='3b._Isolating_X_and_y_columns'></a>"
   ]
  },
  {
   "cell_type": "markdown",
   "metadata": {},
   "source": [
    "`age` is going to be our dependent variable, while our independent variables are going to be based on fight performance."
   ]
  },
  {
   "cell_type": "code",
   "execution_count": 11,
   "metadata": {
    "scrolled": true
   },
   "outputs": [
    {
     "data": {
      "text/plain": [
       "['Winner',\n",
       " 'finish',\n",
       " 'kd_per_sec',\n",
       " 'sig_str_landed_per_sec',\n",
       " 'sig_str_attempted_per_sec',\n",
       " 'tot_str_landed_per_sec',\n",
       " 'tot_str_attempted_per_sec',\n",
       " 'td_landed_per_sec',\n",
       " 'td_attempted_per_sec',\n",
       " 'sub_attempts_per_sec',\n",
       " 'pass_per_sec',\n",
       " 'rev_per_sec']"
      ]
     },
     "execution_count": 11,
     "metadata": {},
     "output_type": "execute_result"
    }
   ],
   "source": [
    "fight_perf = ['Winner','finish'] + secs_data\n",
    "fight_perf"
   ]
  },
  {
   "cell_type": "markdown",
   "metadata": {},
   "source": [
    "**3c. Removing null columns** <a id='3c._Removing_null_columns'></a>"
   ]
  },
  {
   "cell_type": "code",
   "execution_count": 12,
   "metadata": {},
   "outputs": [
    {
     "data": {
      "text/plain": [
       "Winner                       0\n",
       "finish                       0\n",
       "kd_per_sec                   0\n",
       "sig_str_landed_per_sec       0\n",
       "sig_str_attempted_per_sec    0\n",
       "tot_str_landed_per_sec       0\n",
       "tot_str_attempted_per_sec    0\n",
       "td_landed_per_sec            0\n",
       "td_attempted_per_sec         0\n",
       "sub_attempts_per_sec         0\n",
       "pass_per_sec                 0\n",
       "rev_per_sec                  0\n",
       "dtype: int64"
      ]
     },
     "execution_count": 12,
     "metadata": {},
     "output_type": "execute_result"
    }
   ],
   "source": [
    "df_no_null = df[df[fight_perf].notnull().all(axis=1)]\n",
    "df_no_null[fight_perf].isnull().sum()"
   ]
  },
  {
   "cell_type": "code",
   "execution_count": 13,
   "metadata": {},
   "outputs": [],
   "source": [
    "df_no_null.reset_index(inplace=True)"
   ]
  },
  {
   "cell_type": "markdown",
   "metadata": {},
   "source": [
    "# 4. Modeling <a id='4._Modeling'></a>"
   ]
  },
  {
   "cell_type": "markdown",
   "metadata": {},
   "source": [
    "**4a. Comparing multivariate linear regression with model based on mean** <a id='4a._Comparing_multivariate_linear_regression_with_model_based_on_mean'></a>"
   ]
  },
  {
   "cell_type": "code",
   "execution_count": 14,
   "metadata": {},
   "outputs": [
    {
     "data": {
      "text/plain": [
       "Winner                       0.500037\n",
       "finish                       3.285189\n",
       "kd_per_sec                   0.002227\n",
       "sig_str_landed_per_sec       0.034605\n",
       "sig_str_attempted_per_sec    0.067873\n",
       "tot_str_landed_per_sec       0.042304\n",
       "tot_str_attempted_per_sec    0.069158\n",
       "td_landed_per_sec            0.002009\n",
       "td_attempted_per_sec         0.004143\n",
       "sub_attempts_per_sec         0.001280\n",
       "pass_per_sec                 0.002320\n",
       "rev_per_sec                  0.000388\n",
       "dtype: float64"
      ]
     },
     "execution_count": 14,
     "metadata": {},
     "output_type": "execute_result"
    }
   ],
   "source": [
    "X = df_no_null['age'].values.reshape(-1,1)\n",
    "y = df_no_null[fight_perf]\n",
    "\n",
    "X_train, X_test, y_train, y_test = train_test_split(X, y, test_size=0.2)\n",
    "\n",
    "mean_mae = np.mean(abs(y_train.mean() - y_test))\n",
    "mean_mae"
   ]
  },
  {
   "cell_type": "code",
   "execution_count": 15,
   "metadata": {},
   "outputs": [
    {
     "data": {
      "text/plain": [
       "Winner                       0.497521\n",
       "finish                       3.267397\n",
       "kd_per_sec                   0.002228\n",
       "sig_str_landed_per_sec       0.034576\n",
       "sig_str_attempted_per_sec    0.067721\n",
       "tot_str_landed_per_sec       0.042219\n",
       "tot_str_attempted_per_sec    0.069100\n",
       "td_landed_per_sec            0.002008\n",
       "td_attempted_per_sec         0.004145\n",
       "sub_attempts_per_sec         0.001262\n",
       "pass_per_sec                 0.002315\n",
       "rev_per_sec                  0.000388\n",
       "dtype: float64"
      ]
     },
     "execution_count": 15,
     "metadata": {},
     "output_type": "execute_result"
    }
   ],
   "source": [
    "model = LinearRegression()\n",
    "model.fit(X_train, y_train)\n",
    "model_mae = np.mean(abs(model.predict(X_test) - y_test))\n",
    "model_mae"
   ]
  },
  {
   "cell_type": "code",
   "execution_count": 16,
   "metadata": {
    "scrolled": true
   },
   "outputs": [
    {
     "data": {
      "text/plain": [
       "Winner                       0.503086\n",
       "finish                       0.541578\n",
       "kd_per_sec                  -0.021206\n",
       "sig_str_landed_per_sec       0.083539\n",
       "sig_str_attempted_per_sec    0.223895\n",
       "tot_str_landed_per_sec       0.201125\n",
       "tot_str_attempted_per_sec    0.084223\n",
       "td_landed_per_sec            0.045028\n",
       "td_attempted_per_sec        -0.057852\n",
       "sub_attempts_per_sec         1.420165\n",
       "pass_per_sec                 0.208699\n",
       "rev_per_sec                  0.197764\n",
       "dtype: float64"
      ]
     },
     "execution_count": 16,
     "metadata": {},
     "output_type": "execute_result"
    }
   ],
   "source": [
    "dif = mean_mae - model_mae\n",
    "per_change = dif / mean_mae * 100\n",
    "per_change"
   ]
  },
  {
   "cell_type": "markdown",
   "metadata": {},
   "source": [
    "Compared to a simple linear regression based on the mean, our multivariate regression based on fighter age is not much better at predicting fight metrics. In fact, our regression model did worse on more metrics than better. These performance stats are most likely not correlated with age."
   ]
  },
  {
   "cell_type": "code",
   "execution_count": 17,
   "metadata": {},
   "outputs": [
    {
     "data": {
      "text/plain": [
       "0.2858370010772269"
      ]
     },
     "execution_count": 17,
     "metadata": {},
     "output_type": "execute_result"
    }
   ],
   "source": [
    "per_change.mean()"
   ]
  },
  {
   "cell_type": "markdown",
   "metadata": {},
   "source": [
    "Even when we average out the improvement of the model over a simple mean-based model, the improvement is very weak. Overall, our multivariate linear regression model predicts fight performance **0.78%** better than a simple linear regression model based on the mean."
   ]
  },
  {
   "cell_type": "markdown",
   "metadata": {},
   "source": [
    "**4b. `Winner` based on `age`**"
   ]
  },
  {
   "cell_type": "markdown",
   "metadata": {},
   "source": [
    "Since `Winner` is a categorical variable, we should see if a logistic regression based on `age` will fare better in predictability power."
   ]
  },
  {
   "cell_type": "code",
   "execution_count": 18,
   "metadata": {},
   "outputs": [
    {
     "name": "stdout",
     "output_type": "stream",
     "text": [
      "AUC: 0.552\n"
     ]
    },
    {
     "data": {
      "image/png": "[encoded data removed]",
      "text/plain": [
       "<Figure size 432x288 with 1 Axes>"
      ]
     },
     "metadata": {
      "needs_background": "light"
     },
     "output_type": "display_data"
    }
   ],
   "source": [
    "X = df['age'].values.reshape(-1,1)\n",
    "y = df['Winner']\n",
    "\n",
    "X_train, X_test, y_train, y_test = train_test_split(X, y, test_size=0.2)\n",
    "\n",
    "model = LogisticRegression().fit(X_train, y_train)\n",
    "\n",
    "probs = model.predict_proba(X_test)\n",
    "probs = probs[:,1]\n",
    "\n",
    "fpr, tpr, thresholds = roc_curve(y_test, probs)\n",
    "sns.lineplot([0,1], [0,1], linestyle='--')\n",
    "plt = sns.lineplot(fpr, tpr, marker='.')\n",
    "auc_score = roc_auc_score(y_test, probs)\n",
    "print('AUC: %.3f' % auc_score)"
   ]
  },
  {
   "cell_type": "markdown",
   "metadata": {},
   "source": [
    "With an AUC score of **.557**, this model performs barely better than a mean-based model, and is not effective at predicting `Winner` based on `age`."
   ]
  },
  {
   "cell_type": "markdown",
   "metadata": {},
   "source": [
    "**4c. `Winner` based on `age_dif`**"
   ]
  },
  {
   "cell_type": "code",
   "execution_count": 19,
   "metadata": {},
   "outputs": [
    {
     "name": "stdout",
     "output_type": "stream",
     "text": [
      "AUC: 0.586\n"
     ]
    },
    {
     "data": {
      "image/png": "[encoded data removed]",
      "text/plain": [
       "<Figure size 432x288 with 1 Axes>"
      ]
     },
     "metadata": {
      "needs_background": "light"
     },
     "output_type": "display_data"
    }
   ],
   "source": [
    "X = df[['age_dif']]\n",
    "y = df['Winner']\n",
    "\n",
    "X_train, X_test, y_train, y_test = train_test_split(X, y, test_size=0.2)\n",
    "\n",
    "model = LogisticRegression().fit(X_train, y_train)\n",
    "\n",
    "probs = model.predict_proba(X_test)\n",
    "probs = probs[:,1]\n",
    "\n",
    "fpr, tpr, thresholds = roc_curve(y_test, probs)\n",
    "sns.lineplot([0,1], [0,1], linestyle='--')\n",
    "plt = sns.lineplot(fpr, tpr, marker='.')\n",
    "auc_score = roc_auc_score(y_test, probs)\n",
    "print('AUC: %.3f' % auc_score)"
   ]
  },
  {
   "cell_type": "markdown",
   "metadata": {},
   "source": [
    "Even `age_dif` is not a good predictor of `Winner`."
   ]
  },
  {
   "cell_type": "code",
   "execution_count": 20,
   "metadata": {},
   "outputs": [
    {
     "name": "stdout",
     "output_type": "stream",
     "text": [
      "AUC: 0.522\n"
     ]
    },
    {
     "data": {
      "image/png": "[encoded data removed]",
      "text/plain": [
       "<Figure size 432x288 with 1 Axes>"
      ]
     },
     "metadata": {
      "needs_background": "light"
     },
     "output_type": "display_data"
    }
   ],
   "source": [
    "X = df[['total_title_bouts_dif']]\n",
    "y = df['Winner']\n",
    "\n",
    "X_train, X_test, y_train, y_test = train_test_split(X, y, test_size=0.2)\n",
    "\n",
    "model = LogisticRegression().fit(X_train, y_train)\n",
    "\n",
    "probs = model.predict_proba(X_test)\n",
    "probs = probs[:,1]\n",
    "\n",
    "fpr, tpr, thresholds = roc_curve(y_test, probs)\n",
    "sns.lineplot([0,1], [0,1], linestyle='--')\n",
    "plt = sns.lineplot(fpr, tpr, marker='.')\n",
    "auc_score = roc_auc_score(y_test, probs)\n",
    "print('AUC: %.3f' % auc_score)"
   ]
  },
  {
   "cell_type": "markdown",
   "metadata": {},
   "source": [
    "**4d. `Winner` vs. every column**"
   ]
  },
  {
   "cell_type": "markdown",
   "metadata": {},
   "source": [
    "Just for fun, I will find out which single feature in the entire dataset would be the best predictor for `Winner`."
   ]
  },
  {
   "cell_type": "code",
   "execution_count": 142,
   "metadata": {},
   "outputs": [
    {
     "name": "stdout",
     "output_type": "stream",
     "text": [
      "[('tot_str_landed_per_sec', 0.7623870168048792), ('sig_str_landed_per_sec', 0.735643265216436), ('odds', 0.7168628096452967), ('sig_str_pct_bout', 0.7041999286752807), ('tot_str_attempted_per_sec', 0.6871598639455783), ('pass_per_sec', 0.6656485272751287), ('kd_per_sec', 0.652125586628976), ('td_pct_bout', 0.6349684334084787), ('sig_str_attempted_per_sec', 0.6291902660695469), ('td_landed_per_sec', 0.6193704480520553), ('longest_win_streak_dif', 0.5770927045745388), ('sub_attempts_per_sec', 0.5590799297321036), ('avg_SIG_STR_landed_dif', 0.5584842995169081), ('age', 0.557807560590095), ('age_dif', 0.5560558801563942), ('current_win_streak', 0.5535737791233382), ('current_lose_streak', 0.5506419713814039), ('losses_dif', 0.5440718142311576), ('current_win_streak_dif', 0.5426748584825375), ('longest_win_streak', 0.5412686628722263)]\n"
     ]
    }
   ],
   "source": [
    "from pandas.api.types import is_numeric_dtype\n",
    "\n",
    "auc = {}\n",
    "df_numeric = [column for column in df.columns if is_numeric_dtype(df[column])]\n",
    "df_numeric.remove('Winner')\n",
    "df_numeric.remove('finish')\n",
    "\n",
    "for column in df_numeric:\n",
    "    df = df[df[column].notna()]\n",
    "    X = df[[column]]\n",
    "    y = df['Winner']\n",
    "    \n",
    "    X_train, X_test, y_train, y_test = train_test_split(X, y, test_size=0.2)\n",
    "    \n",
    "    model = LogisticRegression().fit(X_train, y_train)\n",
    "\n",
    "    probs = model.predict_proba(X_test)\n",
    "    probs = probs[:,1]\n",
    "    auc_score = roc_auc_score(y_test, probs)\n",
    "\n",
    "    auc[column] = auc_score\n",
    "    \n",
    "print(sorted(auc.items(), key=lambda x:x[1], reverse=True)[:20])"
   ]
  },
  {
   "cell_type": "markdown",
   "metadata": {},
   "source": [
    "It looks like the top 5 predictors for whether a fighter will win or not are `tot_str_landed_per_sec`, `odds`, `sig_str_landed_per_sec`, `sig_str_pct_bout`, and `tot_str_attempted_per_sec`. It makes particular sense for `odds` to be on this list, as these odds are generated by teams of professionals, so it follow that that their predictions would be accurate. Moreover, all the other features with high predictive power have to do with the fighter's performance *during* the fight, so they wouldn't be of much help in determining `Winner` before the fight begins. "
   ]
  },
  {
   "cell_type": "code",
   "execution_count": 139,
   "metadata": {},
   "outputs": [
    {
     "data": {
      "text/plain": [
       "['odds',\n",
       " 'current_lose_streak',\n",
       " 'current_win_streak',\n",
       " 'draw',\n",
       " 'avg_SIG_STR_landed',\n",
       " 'avg_SIG_STR_pct',\n",
       " 'avg_SUB_ATT',\n",
       " 'avg_TD_landed',\n",
       " 'avg_TD_pct',\n",
       " 'longest_win_streak',\n",
       " 'losses',\n",
       " 'total_rounds_fought',\n",
       " 'total_title_bouts',\n",
       " 'win_by_Decision_Majority',\n",
       " 'win_by_Decision_Split',\n",
       " 'win_by_Decision_Unanimous',\n",
       " 'win_by_KO/TKO',\n",
       " 'win_by_Submission',\n",
       " 'win_by_TKO_Doctor_Stoppage',\n",
       " 'wins',\n",
       " 'Height_cms',\n",
       " 'Reach_cms',\n",
       " 'Weight_lbs',\n",
       " 'age',\n",
       " 'better_rank',\n",
       " 'finish_round',\n",
       " 'win_pct',\n",
       " 'adj_wins',\n",
       " 'current_lose_streak_dif',\n",
       " 'current_win_streak_dif',\n",
       " 'longest_win_streak_dif',\n",
       " 'wins_dif',\n",
       " 'losses_dif',\n",
       " 'total_rounds_fought_dif',\n",
       " 'total_title_bouts_dif',\n",
       " 'win_by_Submission_dif',\n",
       " 'Height_cms_dif',\n",
       " 'Reach_cms_dif',\n",
       " 'age_dif',\n",
       " 'avg_SIG_STR_landed_dif',\n",
       " 'avg_SUB_ATT_dif',\n",
       " 'avg_TD_landed_dif',\n",
       " 'ko_dif',\n",
       " 'adj_wins_dif']"
      ]
     },
     "execution_count": 139,
     "metadata": {},
     "output_type": "execute_result"
    }
   ],
   "source": [
    "cols = [col for col in df.columns if (not col.startswith('country')) & \n",
    "        (not col.startswith('weight')) & \n",
    "        (not col.startswith('Stance')) &\n",
    "        (not col.endswith('per_sec')) &\n",
    "        (not col == 'date') &\n",
    "        (not col == 'fighter') &\n",
    "        (not col == 'Winner') &\n",
    "        (not col.startswith('gender')) &\n",
    "        (not col == 'finish') &\n",
    "        (not col.endswith('bout')) &\n",
    "        (not 'time' in col)]\n",
    "cols"
   ]
  },
  {
   "cell_type": "code",
   "execution_count": 152,
   "metadata": {},
   "outputs": [
    {
     "name": "stdout",
     "output_type": "stream",
     "text": [
      "['odds', 'longest_win_streak', 'win_by_Submission', 'Height_cms'] 0.7165814559379708\n"
     ]
    }
   ],
   "source": [
    "best_cols = []\n",
    "best_auc = 0\n",
    "\n",
    "for column in cols:\n",
    "    auc_score = []\n",
    "    best_cols.append(column)\n",
    "    \n",
    "    for number in range(50):\n",
    "        X = df.loc[df[best_cols].notnull().all(axis=1)][best_cols]\n",
    "        y = df.loc[df[best_cols].notnull().all(axis=1)]['Winner']\n",
    "\n",
    "        X_train, X_test, y_train, y_test = train_test_split(X, y, test_size=0.2)\n",
    "\n",
    "        model = LogisticRegression(max_iter=10000).fit(X_train, y_train)\n",
    "\n",
    "        probs = model.predict_proba(X_test)\n",
    "        probs = probs[:,1]\n",
    "        \n",
    "        auc_score.append(roc_auc_score(y_test, probs))\n",
    "    \n",
    "    mean = np.mean(auc_score)\n",
    "    if mean > best_auc:\n",
    "        best_auc = mean\n",
    "    else:\n",
    "        best_cols.remove(column)\n",
    "print(best_cols, best_auc)"
   ]
  },
  {
   "cell_type": "code",
   "execution_count": 153,
   "metadata": {},
   "outputs": [
    {
     "data": {
      "text/plain": [
       "0.7155984219681418"
      ]
     },
     "execution_count": 153,
     "metadata": {},
     "output_type": "execute_result"
    }
   ],
   "source": [
    "auc_score = []\n",
    "best_cols = ['odds']\n",
    "\n",
    "for number in range(50):\n",
    "    X = df.loc[df[best_cols].notnull().all(axis=1)][best_cols]\n",
    "    y = df.loc[df[best_cols].notnull().all(axis=1)]['Winner']\n",
    "\n",
    "    X_train, X_test, y_train, y_test = train_test_split(X, y, test_size=0.2)\n",
    "\n",
    "    model = LogisticRegression(max_iter=10000).fit(X_train, y_train)\n",
    "\n",
    "    probs = model.predict_proba(X_test)\n",
    "    probs = probs[:,1]\n",
    "        \n",
    "    auc_score.append(roc_auc_score(y_test, probs))\n",
    "    mean = np.mean(auc_score)\n",
    "\n",
    "mean"
   ]
  },
  {
   "cell_type": "markdown",
   "metadata": {},
   "source": [
    "# 5. Conclusion <a id='5._Conclusion'></a>"
   ]
  },
  {
   "cell_type": "markdown",
   "metadata": {},
   "source": [
    "Despite our best efforts to fit a model to the data, we were unsuccessful in our efforts to predict any sort of fight metric based on a fighter's age. Although our exploratory data analysis found a significant difference in `age` between several different fight metrics, a linear regression model based on `age` did not yield a better model compared to a simple model where we pick the mean every time. When it came to a classification model for `Winner`, `age` did not fare much better. In fact, it seems like the only pre-fight feature (that we have access to) that can predict the `Winner` of a fight is `odds`, which means the people in Las Vegas who are coming up with these `odds` are doing their jobs right. \n",
    "\n",
    "**Further work:** The dataset that we used only contained information from fights starting in 2010 and beyond. However, the UFC had its first fight in 1993, so our dataset was missing 17 years of data. It is possible that we could have build a more accurate model with this missing data. However, acquiring that missing data personally would take a lot of time and research. "
   ]
  }
 ],
 "metadata": {
  "kernelspec": {
   "display_name": "Python 3",
   "language": "python",
   "name": "python3"
  },
  "language_info": {
   "codemirror_mode": {
    "name": "ipython",
    "version": 3
   },
   "file_extension": ".py",
   "mimetype": "text/x-python",
   "name": "python",
   "nbconvert_exporter": "python",
   "pygments_lexer": "ipython3",
   "version": "3.7.6"
  }
 },
 "nbformat": 4,
 "nbformat_minor": 4
}
