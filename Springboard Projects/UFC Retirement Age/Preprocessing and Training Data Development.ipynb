{
 "cells": [
  {
   "cell_type": "markdown",
   "metadata": {},
   "source": [
    "# UFC Retirement Age - Preprocessing and Training Data Development"
   ]
  },
  {
   "cell_type": "markdown",
   "metadata": {},
   "source": [
    "## 1. Contents\n",
    "* [1. Contents](#_UFC_Retirement_Age_-_Preprocessing_and_Training_Data_Development)\n",
    "* [2. Sourcing and Loading](#_UFC_Retirement_Age_-_Preprocessing_and_Training_Data_Development)\n",
    " * [2a. Import relevant libraries](#_UFC_Retirement_Age_-_Preprocessing_and_Training_Data_Development)\n",
    " * [2b. Load previously explored DataFrame](#_UFC_Retirement_Age_-_Preprocessing_and_Training_Data_Development)\n",
    " * [2c. Preliminary exploration of data](#_UFC_Retirement_Age_-_Preprocessing_and_Training_Data_Development)\n",
    "* [3. Additional Data Wrangling](#_UFC_Retirement_Age_-_Preprocessing_and_Training_Data_Development)\n",
    " * [3a. Datatype Conversion](#_UFC_Retirement_Age_-_Preprocessing_and_Training_Data_Development)\n",
    " * [3b. Cleanup of `country`](#_UFC_Retirement_Age_-_Preprocessing_and_Training_Data_Development)\n",
    "* [4. Encoding Categorical Variables](#_UFC_Retirement_Age_-_Preprocessing_and_Training_Data_Development)\n",
    " * [4a. Removing `finish_details`](#_UFC_Retirement_Age_-_Preprocessing_and_Training_Data_Development)\n",
    " * [4b. Dummy encoding every categorical variable except `fighter`](#_UFC_Retirement_Age_-_Preprocessing_and_Training_Data_Development)\n",
    "* [5. Scaling numerical variables](#_UFC_Retirement_Age_-_Preprocessing_and_Training_Data_Development)\n",
    "* [6. Combine all preprocessed DataFrames](#_UFC_Retirement_Age_-_Preprocessing_and_Training_Data_Development)\n",
    " * [6a. Drop original colummns](#_UFC_Retirement_Age_-_Preprocessing_and_Training_Data_Development)\n",
    " * [6b. Concatenate preprocessed DataFrames](#_UFC_Retirement_Age_-_Preprocessing_and_Training_Data_Development)\n",
    " * [6c. Save DataFrame](#_UFC_Retirement_Age_-_Preprocessing_and_Training_Data_Development)\n",
    "* [7. Final Thoughts](#_UFC_Retirement_Age_-_Preprocessing_and_Training_Data_Development)"
   ]
  },
  {
   "cell_type": "markdown",
   "metadata": {},
   "source": [
    "## 2. Sourcing and Loading"
   ]
  },
  {
   "cell_type": "markdown",
   "metadata": {},
   "source": [
    "**2a. Import relevant libraries**"
   ]
  },
  {
   "cell_type": "code",
   "execution_count": 1,
   "metadata": {},
   "outputs": [],
   "source": [
    "import numpy as np \n",
    "import pandas as pd \n",
    "import matplotlib.pyplot as plt\n",
    "import seaborn as sns\n",
    "import kaggle as kg\n",
    "import pandas as pd\n",
    "import missingno as msno\n",
    "import statsmodels.api as sm\n",
    "import scipy.stats\n",
    "from matplotlib.lines import Line2D\n",
    "from kaggle.api.kaggle_api_extended import KaggleApi\n",
    "from statsmodels.graphics.api import abline_plot\n",
    "from sklearn.metrics import mean_squared_error, r2_score\n",
    "from sklearn.model_selection import train_test_split\n",
    "from sklearn.preprocessing import StandardScaler\n",
    "from sklearn import linear_model, preprocessing\n",
    "from zipfile import ZipFile\n",
    "from scipy import stats\n",
    "from scipy.stats import t\n",
    "from scipy.stats import ttest_ind\n",
    "from scipy.stats import mannwhitneyu\n",
    "from numpy.random import seed\n",
    "import warnings\n",
    "warnings.simplefilter(action=\"ignore\", category=FutureWarning)\n",
    "warnings.filterwarnings(action=\"ignore\", module=\"scipy\", message=\"^internal gelsd\")"
   ]
  },
  {
   "cell_type": "markdown",
   "metadata": {},
   "source": [
    "**2b. Load previously explored Dataframe**"
   ]
  },
  {
   "cell_type": "code",
   "execution_count": 2,
   "metadata": {},
   "outputs": [],
   "source": [
    "df = pd.read_csv('df.csv', index_col=0)"
   ]
  },
  {
   "cell_type": "markdown",
   "metadata": {},
   "source": [
    "**2c. Preliminary exploration of data**"
   ]
  },
  {
   "cell_type": "code",
   "execution_count": 3,
   "metadata": {},
   "outputs": [
    {
     "name": "stdout",
     "output_type": "stream",
     "text": [
      "<class 'pandas.core.frame.DataFrame'>\n",
      "Int64Index: 8816 entries, 0 to 8815\n",
      "Data columns (total 68 columns):\n",
      " #   Column                      Non-Null Count  Dtype  \n",
      "---  ------                      --------------  -----  \n",
      " 0   date                        8816 non-null   object \n",
      " 1   fighter                     8816 non-null   object \n",
      " 2   odds                        8816 non-null   int64  \n",
      " 3   country                     8816 non-null   object \n",
      " 4   Winner                      8816 non-null   bool   \n",
      " 5   title_bout                  8816 non-null   bool   \n",
      " 6   weight_class                8816 non-null   object \n",
      " 7   gender                      8816 non-null   object \n",
      " 8   current_lose_streak         8816 non-null   int64  \n",
      " 9   current_win_streak          8816 non-null   int64  \n",
      " 10  draw                        8816 non-null   int64  \n",
      " 11  avg_SIG_STR_landed          7431 non-null   float64\n",
      " 12  avg_SIG_STR_pct             7694 non-null   float64\n",
      " 13  avg_SUB_ATT                 7627 non-null   float64\n",
      " 14  avg_TD_landed               7626 non-null   float64\n",
      " 15  avg_TD_pct                  7607 non-null   float64\n",
      " 16  longest_win_streak          8816 non-null   int64  \n",
      " 17  losses                      8816 non-null   int64  \n",
      " 18  total_rounds_fought         8816 non-null   int64  \n",
      " 19  total_title_bouts           8816 non-null   int64  \n",
      " 20  win_by_Decision_Majority    8816 non-null   int64  \n",
      " 21  win_by_Decision_Split       8816 non-null   int64  \n",
      " 22  win_by_Decision_Unanimous   8816 non-null   int64  \n",
      " 23  win_by_KO/TKO               8816 non-null   int64  \n",
      " 24  win_by_Submission           8816 non-null   int64  \n",
      " 25  win_by_TKO_Doctor_Stoppage  8816 non-null   int64  \n",
      " 26  wins                        8816 non-null   int64  \n",
      " 27  Stance                      8816 non-null   object \n",
      " 28  Height_cms                  8816 non-null   float64\n",
      " 29  Reach_cms                   8816 non-null   float64\n",
      " 30  Weight_lbs                  8816 non-null   int64  \n",
      " 31  age                         8816 non-null   int64  \n",
      " 32  better_rank                 8816 non-null   bool   \n",
      " 33  finish                      8236 non-null   float64\n",
      " 34  finish_details              4028 non-null   object \n",
      " 35  finish_round                8198 non-null   float64\n",
      " 36  finish_round_time           8198 non-null   object \n",
      " 37  total_fight_time_secs       8198 non-null   float64\n",
      " 38  kd_bout                     5544 non-null   float64\n",
      " 39  sig_str_landed_bout         5544 non-null   float64\n",
      " 40  sig_str_attempted_bout      5544 non-null   float64\n",
      " 41  sig_str_pct_bout            5544 non-null   float64\n",
      " 42  tot_str_landed_bout         5544 non-null   float64\n",
      " 43  tot_str_attempted_bout      5544 non-null   float64\n",
      " 44  td_landed_bout              5544 non-null   float64\n",
      " 45  td_attempted_bout           5544 non-null   float64\n",
      " 46  td_pct_bout                 5544 non-null   float64\n",
      " 47  sub_attempts_bout           5544 non-null   float64\n",
      " 48  pass_bout                   5544 non-null   float64\n",
      " 49  rev_bout                    5544 non-null   float64\n",
      " 50  win_pct                     8816 non-null   float64\n",
      " 51  adj_wins                    8816 non-null   int64  \n",
      " 52  current_lose_streak_dif     8816 non-null   int64  \n",
      " 53  current_win_streak_dif      8816 non-null   int64  \n",
      " 54  longest_win_streak_dif      8816 non-null   int64  \n",
      " 55  wins_dif                    8816 non-null   int64  \n",
      " 56  losses_dif                  8816 non-null   int64  \n",
      " 57  total_rounds_fought_dif     8816 non-null   int64  \n",
      " 58  total_title_bouts_dif       8816 non-null   int64  \n",
      " 59  win_by_Submission_dif       8816 non-null   int64  \n",
      " 60  Height_cms_dif              8816 non-null   float64\n",
      " 61  Reach_cms_dif               8816 non-null   float64\n",
      " 62  age_dif                     8816 non-null   int64  \n",
      " 63  avg_SIG_STR_landed_dif      6734 non-null   float64\n",
      " 64  avg_SUB_ATT_dif             6930 non-null   float64\n",
      " 65  avg_TD_landed_dif           6928 non-null   float64\n",
      " 66  ko_dif                      8816 non-null   int64  \n",
      " 67  adj_wins_dif                8816 non-null   int64  \n",
      "dtypes: bool(3), float64(28), int64(29), object(8)\n",
      "memory usage: 4.5+ MB\n",
      "None\n"
     ]
    }
   ],
   "source": [
    "print(df.info())"
   ]
  },
  {
   "cell_type": "code",
   "execution_count": 4,
   "metadata": {},
   "outputs": [
    {
     "name": "stdout",
     "output_type": "stream",
     "text": [
      "Shape: (8816, 68)\n"
     ]
    }
   ],
   "source": [
    "print('Shape: ' + str(df.shape))"
   ]
  },
  {
   "cell_type": "code",
   "execution_count": 5,
   "metadata": {
    "scrolled": true
   },
   "outputs": [
    {
     "data": {
      "text/html": [
       "<div>\n",
       "<style scoped>\n",
       "    .dataframe tbody tr th:only-of-type {\n",
       "        vertical-align: middle;\n",
       "    }\n",
       "\n",
       "    .dataframe tbody tr th {\n",
       "        vertical-align: top;\n",
       "    }\n",
       "\n",
       "    .dataframe thead th {\n",
       "        text-align: right;\n",
       "    }\n",
       "</style>\n",
       "<table border=\"1\" class=\"dataframe\">\n",
       "  <thead>\n",
       "    <tr style=\"text-align: right;\">\n",
       "      <th></th>\n",
       "      <th>date</th>\n",
       "      <th>fighter</th>\n",
       "      <th>odds</th>\n",
       "      <th>country</th>\n",
       "      <th>Winner</th>\n",
       "      <th>title_bout</th>\n",
       "      <th>weight_class</th>\n",
       "      <th>gender</th>\n",
       "      <th>current_lose_streak</th>\n",
       "      <th>current_win_streak</th>\n",
       "      <th>...</th>\n",
       "      <th>total_title_bouts_dif</th>\n",
       "      <th>win_by_Submission_dif</th>\n",
       "      <th>Height_cms_dif</th>\n",
       "      <th>Reach_cms_dif</th>\n",
       "      <th>age_dif</th>\n",
       "      <th>avg_SIG_STR_landed_dif</th>\n",
       "      <th>avg_SUB_ATT_dif</th>\n",
       "      <th>avg_TD_landed_dif</th>\n",
       "      <th>ko_dif</th>\n",
       "      <th>adj_wins_dif</th>\n",
       "    </tr>\n",
       "  </thead>\n",
       "  <tbody>\n",
       "    <tr>\n",
       "      <th>0</th>\n",
       "      <td>2020-10-03</td>\n",
       "      <td>Holly Holm</td>\n",
       "      <td>-125</td>\n",
       "      <td>United Arab Emirates</td>\n",
       "      <td>True</td>\n",
       "      <td>False</td>\n",
       "      <td>Women's Bantamweight</td>\n",
       "      <td>FEMALE</td>\n",
       "      <td>0</td>\n",
       "      <td>1</td>\n",
       "      <td>...</td>\n",
       "      <td>5</td>\n",
       "      <td>-1</td>\n",
       "      <td>-2.54</td>\n",
       "      <td>2.54</td>\n",
       "      <td>6</td>\n",
       "      <td>-3.41</td>\n",
       "      <td>0.0</td>\n",
       "      <td>0.22</td>\n",
       "      <td>1</td>\n",
       "      <td>3</td>\n",
       "    </tr>\n",
       "    <tr>\n",
       "      <th>1</th>\n",
       "      <td>2020-10-03</td>\n",
       "      <td>Irene Aldana</td>\n",
       "      <td>103</td>\n",
       "      <td>United Arab Emirates</td>\n",
       "      <td>False</td>\n",
       "      <td>False</td>\n",
       "      <td>Women's Bantamweight</td>\n",
       "      <td>FEMALE</td>\n",
       "      <td>0</td>\n",
       "      <td>2</td>\n",
       "      <td>...</td>\n",
       "      <td>-5</td>\n",
       "      <td>1</td>\n",
       "      <td>2.54</td>\n",
       "      <td>-2.54</td>\n",
       "      <td>-6</td>\n",
       "      <td>3.41</td>\n",
       "      <td>0.0</td>\n",
       "      <td>-0.22</td>\n",
       "      <td>-1</td>\n",
       "      <td>-3</td>\n",
       "    </tr>\n",
       "    <tr>\n",
       "      <th>2</th>\n",
       "      <td>2020-10-03</td>\n",
       "      <td>Yorgan De Castro</td>\n",
       "      <td>-265</td>\n",
       "      <td>United Arab Emirates</td>\n",
       "      <td>False</td>\n",
       "      <td>False</td>\n",
       "      <td>Heavyweight</td>\n",
       "      <td>MALE</td>\n",
       "      <td>1</td>\n",
       "      <td>0</td>\n",
       "      <td>...</td>\n",
       "      <td>0</td>\n",
       "      <td>0</td>\n",
       "      <td>0.00</td>\n",
       "      <td>-2.54</td>\n",
       "      <td>8</td>\n",
       "      <td>-0.74</td>\n",
       "      <td>0.0</td>\n",
       "      <td>0.00</td>\n",
       "      <td>1</td>\n",
       "      <td>4</td>\n",
       "    </tr>\n",
       "    <tr>\n",
       "      <th>3</th>\n",
       "      <td>2020-10-03</td>\n",
       "      <td>Carlos Felipe</td>\n",
       "      <td>205</td>\n",
       "      <td>United Arab Emirates</td>\n",
       "      <td>True</td>\n",
       "      <td>False</td>\n",
       "      <td>Heavyweight</td>\n",
       "      <td>MALE</td>\n",
       "      <td>1</td>\n",
       "      <td>0</td>\n",
       "      <td>...</td>\n",
       "      <td>0</td>\n",
       "      <td>0</td>\n",
       "      <td>0.00</td>\n",
       "      <td>2.54</td>\n",
       "      <td>-8</td>\n",
       "      <td>0.74</td>\n",
       "      <td>0.0</td>\n",
       "      <td>0.00</td>\n",
       "      <td>-1</td>\n",
       "      <td>-4</td>\n",
       "    </tr>\n",
       "    <tr>\n",
       "      <th>4</th>\n",
       "      <td>2020-10-03</td>\n",
       "      <td>Germaine de Randamie</td>\n",
       "      <td>-150</td>\n",
       "      <td>United Arab Emirates</td>\n",
       "      <td>True</td>\n",
       "      <td>False</td>\n",
       "      <td>Women's Bantamweight</td>\n",
       "      <td>FEMALE</td>\n",
       "      <td>1</td>\n",
       "      <td>0</td>\n",
       "      <td>...</td>\n",
       "      <td>1</td>\n",
       "      <td>0</td>\n",
       "      <td>7.62</td>\n",
       "      <td>5.08</td>\n",
       "      <td>5</td>\n",
       "      <td>-0.24</td>\n",
       "      <td>-0.7</td>\n",
       "      <td>-2.60</td>\n",
       "      <td>2</td>\n",
       "      <td>9</td>\n",
       "    </tr>\n",
       "  </tbody>\n",
       "</table>\n",
       "<p>5 rows × 68 columns</p>\n",
       "</div>"
      ],
      "text/plain": [
       "         date               fighter  odds               country  Winner  \\\n",
       "0  2020-10-03            Holly Holm  -125  United Arab Emirates    True   \n",
       "1  2020-10-03          Irene Aldana   103  United Arab Emirates   False   \n",
       "2  2020-10-03      Yorgan De Castro  -265  United Arab Emirates   False   \n",
       "3  2020-10-03         Carlos Felipe   205  United Arab Emirates    True   \n",
       "4  2020-10-03  Germaine de Randamie  -150  United Arab Emirates    True   \n",
       "\n",
       "   title_bout          weight_class  gender  current_lose_streak  \\\n",
       "0       False  Women's Bantamweight  FEMALE                    0   \n",
       "1       False  Women's Bantamweight  FEMALE                    0   \n",
       "2       False           Heavyweight    MALE                    1   \n",
       "3       False           Heavyweight    MALE                    1   \n",
       "4       False  Women's Bantamweight  FEMALE                    1   \n",
       "\n",
       "   current_win_streak  ...  total_title_bouts_dif  win_by_Submission_dif  \\\n",
       "0                   1  ...                      5                     -1   \n",
       "1                   2  ...                     -5                      1   \n",
       "2                   0  ...                      0                      0   \n",
       "3                   0  ...                      0                      0   \n",
       "4                   0  ...                      1                      0   \n",
       "\n",
       "   Height_cms_dif  Reach_cms_dif  age_dif  avg_SIG_STR_landed_dif  \\\n",
       "0           -2.54           2.54        6                   -3.41   \n",
       "1            2.54          -2.54       -6                    3.41   \n",
       "2            0.00          -2.54        8                   -0.74   \n",
       "3            0.00           2.54       -8                    0.74   \n",
       "4            7.62           5.08        5                   -0.24   \n",
       "\n",
       "   avg_SUB_ATT_dif  avg_TD_landed_dif  ko_dif  adj_wins_dif  \n",
       "0              0.0               0.22       1             3  \n",
       "1              0.0              -0.22      -1            -3  \n",
       "2              0.0               0.00       1             4  \n",
       "3              0.0               0.00      -1            -4  \n",
       "4             -0.7              -2.60       2             9  \n",
       "\n",
       "[5 rows x 68 columns]"
      ]
     },
     "execution_count": 5,
     "metadata": {},
     "output_type": "execute_result"
    }
   ],
   "source": [
    "df.head()"
   ]
  },
  {
   "cell_type": "markdown",
   "metadata": {},
   "source": [
    "## 3. Additional Data Wrangling"
   ]
  },
  {
   "cell_type": "markdown",
   "metadata": {},
   "source": [
    "**3a. Datatype conversion**"
   ]
  },
  {
   "cell_type": "code",
   "execution_count": 6,
   "metadata": {},
   "outputs": [
    {
     "data": {
      "text/plain": [
       "date                 object\n",
       "fighter              object\n",
       "country              object\n",
       "weight_class         object\n",
       "gender               object\n",
       "Stance               object\n",
       "finish_details       object\n",
       "finish_round_time    object\n",
       "dtype: object"
      ]
     },
     "execution_count": 6,
     "metadata": {},
     "output_type": "execute_result"
    }
   ],
   "source": [
    "df.dtypes[df.dtypes == 'object']"
   ]
  },
  {
   "cell_type": "markdown",
   "metadata": {},
   "source": [
    "It looks like `date` and `finish_round_time` can be converted to DateTime and Float format, respectively."
   ]
  },
  {
   "cell_type": "code",
   "execution_count": 7,
   "metadata": {},
   "outputs": [
    {
     "data": {
      "text/plain": [
       "dtype('<M8[ns]')"
      ]
     },
     "execution_count": 7,
     "metadata": {},
     "output_type": "execute_result"
    }
   ],
   "source": [
    "df['date'] = pd.to_datetime(df['date'])\n",
    "df.date.dtypes"
   ]
  },
  {
   "cell_type": "code",
   "execution_count": 8,
   "metadata": {},
   "outputs": [
    {
     "data": {
      "text/plain": [
       "5:00    4108\n",
       "NaN      618\n",
       "4:59      56\n",
       "2:38      42\n",
       "1:54      34\n",
       "        ... \n",
       "0:11       2\n",
       "3:55       2\n",
       "4:00       2\n",
       "0:09       2\n",
       "0:05       2\n",
       "Name: finish_round_time, Length: 294, dtype: int64"
      ]
     },
     "execution_count": 8,
     "metadata": {},
     "output_type": "execute_result"
    }
   ],
   "source": [
    "df['finish_round_time'].value_counts(dropna=False)"
   ]
  },
  {
   "cell_type": "code",
   "execution_count": 9,
   "metadata": {},
   "outputs": [],
   "source": [
    "df['finish_round_time'] = pd.to_timedelta('00:' + df['finish_round_time'])\n",
    "df['finish_round_time'] = df['finish_round_time'] / pd.offsets.Minute(1)"
   ]
  },
  {
   "cell_type": "code",
   "execution_count": 10,
   "metadata": {},
   "outputs": [
    {
     "data": {
      "text/plain": [
       "5.000000    4108\n",
       "NaN          618\n",
       "4.983333      56\n",
       "2.633333      42\n",
       "1.900000      34\n",
       "            ... \n",
       "4.000000       2\n",
       "4.066667       2\n",
       "0.083333       2\n",
       "3.333333       2\n",
       "0.150000       2\n",
       "Name: finish_round_time, Length: 294, dtype: int64"
      ]
     },
     "execution_count": 10,
     "metadata": {},
     "output_type": "execute_result"
    }
   ],
   "source": [
    "df['finish_round_time'].value_counts(dropna=False)"
   ]
  },
  {
   "cell_type": "markdown",
   "metadata": {},
   "source": [
    "**3b. Cleanup of `country`**"
   ]
  },
  {
   "cell_type": "code",
   "execution_count": 11,
   "metadata": {},
   "outputs": [
    {
     "data": {
      "text/plain": [
       " USA                     4900\n",
       " Brazil                   800\n",
       " Canada                   674\n",
       "USA                       360\n",
       " United Kingdom           330\n",
       " Australia                320\n",
       "United Arab Emirates      144\n",
       " Sweden                   144\n",
       " Mexico                   140\n",
       " China                    122\n",
       " Germany                  108\n",
       " Japan                    106\n",
       " Singapore                 90\n",
       " Russia                    72\n",
       " New Zealand               66\n",
       " United Arab Emirates      58\n",
       " Netherlands               50\n",
       " South Korea               48\n",
       " Poland                    46\n",
       " Ireland                   38\n",
       " Czech Republic            26\n",
       " Croatia                   26\n",
       " Chile                     26\n",
       " Denmark                   26\n",
       " Uruguay                   26\n",
       " Philippines               24\n",
       " Argentina                 24\n",
       "Brazil                     22\n",
       "Name: country, dtype: int64"
      ]
     },
     "execution_count": 11,
     "metadata": {},
     "output_type": "execute_result"
    }
   ],
   "source": [
    "df['country'].value_counts()"
   ]
  },
  {
   "cell_type": "code",
   "execution_count": 12,
   "metadata": {},
   "outputs": [
    {
     "data": {
      "text/plain": [
       "USA                     5260\n",
       "Brazil                   822\n",
       "Canada                   674\n",
       "United Kingdom           330\n",
       "Australia                320\n",
       "United Arab Emirates     202\n",
       "Sweden                   144\n",
       "Mexico                   140\n",
       "China                    122\n",
       "Germany                  108\n",
       "Japan                    106\n",
       "Singapore                 90\n",
       "Russia                    72\n",
       "New Zealand               66\n",
       "Netherlands               50\n",
       "South Korea               48\n",
       "Poland                    46\n",
       "Ireland                   38\n",
       "Czech Republic            26\n",
       "Chile                     26\n",
       "Uruguay                   26\n",
       "Croatia                   26\n",
       "Denmark                   26\n",
       "Argentina                 24\n",
       "Philippines               24\n",
       "Name: country, dtype: int64"
      ]
     },
     "execution_count": 12,
     "metadata": {},
     "output_type": "execute_result"
    }
   ],
   "source": [
    "df['country'] = df['country'].str.lstrip()\n",
    "df['country'].value_counts()"
   ]
  },
  {
   "cell_type": "markdown",
   "metadata": {},
   "source": [
    "## 4. Encoding Categorical Variables"
   ]
  },
  {
   "cell_type": "markdown",
   "metadata": {},
   "source": [
    "**4a. Removing `finish_details`**"
   ]
  },
  {
   "cell_type": "code",
   "execution_count": 13,
   "metadata": {},
   "outputs": [
    {
     "data": {
      "text/plain": [
       "fighter           object\n",
       "country           object\n",
       "weight_class      object\n",
       "gender            object\n",
       "Stance            object\n",
       "finish_details    object\n",
       "dtype: object"
      ]
     },
     "execution_count": 13,
     "metadata": {},
     "output_type": "execute_result"
    }
   ],
   "source": [
    "df.dtypes[df.dtypes == 'object']"
   ]
  },
  {
   "cell_type": "code",
   "execution_count": 14,
   "metadata": {},
   "outputs": [],
   "source": [
    "df.drop(columns=['finish_details'], axis=1, inplace=True)"
   ]
  },
  {
   "cell_type": "code",
   "execution_count": 15,
   "metadata": {},
   "outputs": [
    {
     "data": {
      "text/plain": [
       "fighter         object\n",
       "country         object\n",
       "weight_class    object\n",
       "gender          object\n",
       "Stance          object\n",
       "dtype: object"
      ]
     },
     "execution_count": 15,
     "metadata": {},
     "output_type": "execute_result"
    }
   ],
   "source": [
    "df.dtypes[df.dtypes == 'object']"
   ]
  },
  {
   "cell_type": "markdown",
   "metadata": {},
   "source": [
    "**4b. Dummy encoding every categorical variable except `fighter`**"
   ]
  },
  {
   "cell_type": "code",
   "execution_count": 16,
   "metadata": {},
   "outputs": [
    {
     "data": {
      "text/plain": [
       "Orthodox       6684\n",
       "Southpaw       1783\n",
       "Switch          344\n",
       "Open Stance       5\n",
       "Name: Stance, dtype: int64"
      ]
     },
     "execution_count": 16,
     "metadata": {},
     "output_type": "execute_result"
    }
   ],
   "source": [
    "df['Stance'] = df['Stance'].str.rstrip()\n",
    "df['Stance'].value_counts(dropna=False)"
   ]
  },
  {
   "cell_type": "code",
   "execution_count": 17,
   "metadata": {},
   "outputs": [
    {
     "data": {
      "text/plain": [
       "['country', 'weight_class', 'gender', 'Stance']"
      ]
     },
     "execution_count": 17,
     "metadata": {},
     "output_type": "execute_result"
    }
   ],
   "source": [
    "dummy_cols = [column for column in df.dtypes[df.dtypes == 'object'].index if column != 'fighter']\n",
    "dummy_cols"
   ]
  },
  {
   "cell_type": "code",
   "execution_count": 18,
   "metadata": {
    "scrolled": true
   },
   "outputs": [
    {
     "data": {
      "text/html": [
       "<div>\n",
       "<style scoped>\n",
       "    .dataframe tbody tr th:only-of-type {\n",
       "        vertical-align: middle;\n",
       "    }\n",
       "\n",
       "    .dataframe tbody tr th {\n",
       "        vertical-align: top;\n",
       "    }\n",
       "\n",
       "    .dataframe thead th {\n",
       "        text-align: right;\n",
       "    }\n",
       "</style>\n",
       "<table border=\"1\" class=\"dataframe\">\n",
       "  <thead>\n",
       "    <tr style=\"text-align: right;\">\n",
       "      <th></th>\n",
       "      <th>country_Australia</th>\n",
       "      <th>country_Brazil</th>\n",
       "      <th>country_Canada</th>\n",
       "      <th>country_Chile</th>\n",
       "      <th>country_China</th>\n",
       "      <th>country_Croatia</th>\n",
       "      <th>country_Czech Republic</th>\n",
       "      <th>country_Denmark</th>\n",
       "      <th>country_Germany</th>\n",
       "      <th>country_Ireland</th>\n",
       "      <th>...</th>\n",
       "      <th>weight_class_Middleweight</th>\n",
       "      <th>weight_class_Welterweight</th>\n",
       "      <th>weight_class_Women's Bantamweight</th>\n",
       "      <th>weight_class_Women's Featherweight</th>\n",
       "      <th>weight_class_Women's Flyweight</th>\n",
       "      <th>weight_class_Women's Strawweight</th>\n",
       "      <th>gender_MALE</th>\n",
       "      <th>Stance_Orthodox</th>\n",
       "      <th>Stance_Southpaw</th>\n",
       "      <th>Stance_Switch</th>\n",
       "    </tr>\n",
       "  </thead>\n",
       "  <tbody>\n",
       "    <tr>\n",
       "      <th>0</th>\n",
       "      <td>0</td>\n",
       "      <td>0</td>\n",
       "      <td>0</td>\n",
       "      <td>0</td>\n",
       "      <td>0</td>\n",
       "      <td>0</td>\n",
       "      <td>0</td>\n",
       "      <td>0</td>\n",
       "      <td>0</td>\n",
       "      <td>0</td>\n",
       "      <td>...</td>\n",
       "      <td>0</td>\n",
       "      <td>0</td>\n",
       "      <td>1</td>\n",
       "      <td>0</td>\n",
       "      <td>0</td>\n",
       "      <td>0</td>\n",
       "      <td>0</td>\n",
       "      <td>0</td>\n",
       "      <td>1</td>\n",
       "      <td>0</td>\n",
       "    </tr>\n",
       "    <tr>\n",
       "      <th>1</th>\n",
       "      <td>0</td>\n",
       "      <td>0</td>\n",
       "      <td>0</td>\n",
       "      <td>0</td>\n",
       "      <td>0</td>\n",
       "      <td>0</td>\n",
       "      <td>0</td>\n",
       "      <td>0</td>\n",
       "      <td>0</td>\n",
       "      <td>0</td>\n",
       "      <td>...</td>\n",
       "      <td>0</td>\n",
       "      <td>0</td>\n",
       "      <td>1</td>\n",
       "      <td>0</td>\n",
       "      <td>0</td>\n",
       "      <td>0</td>\n",
       "      <td>0</td>\n",
       "      <td>1</td>\n",
       "      <td>0</td>\n",
       "      <td>0</td>\n",
       "    </tr>\n",
       "    <tr>\n",
       "      <th>2</th>\n",
       "      <td>0</td>\n",
       "      <td>0</td>\n",
       "      <td>0</td>\n",
       "      <td>0</td>\n",
       "      <td>0</td>\n",
       "      <td>0</td>\n",
       "      <td>0</td>\n",
       "      <td>0</td>\n",
       "      <td>0</td>\n",
       "      <td>0</td>\n",
       "      <td>...</td>\n",
       "      <td>0</td>\n",
       "      <td>0</td>\n",
       "      <td>0</td>\n",
       "      <td>0</td>\n",
       "      <td>0</td>\n",
       "      <td>0</td>\n",
       "      <td>1</td>\n",
       "      <td>1</td>\n",
       "      <td>0</td>\n",
       "      <td>0</td>\n",
       "    </tr>\n",
       "    <tr>\n",
       "      <th>3</th>\n",
       "      <td>0</td>\n",
       "      <td>0</td>\n",
       "      <td>0</td>\n",
       "      <td>0</td>\n",
       "      <td>0</td>\n",
       "      <td>0</td>\n",
       "      <td>0</td>\n",
       "      <td>0</td>\n",
       "      <td>0</td>\n",
       "      <td>0</td>\n",
       "      <td>...</td>\n",
       "      <td>0</td>\n",
       "      <td>0</td>\n",
       "      <td>0</td>\n",
       "      <td>0</td>\n",
       "      <td>0</td>\n",
       "      <td>0</td>\n",
       "      <td>1</td>\n",
       "      <td>1</td>\n",
       "      <td>0</td>\n",
       "      <td>0</td>\n",
       "    </tr>\n",
       "    <tr>\n",
       "      <th>4</th>\n",
       "      <td>0</td>\n",
       "      <td>0</td>\n",
       "      <td>0</td>\n",
       "      <td>0</td>\n",
       "      <td>0</td>\n",
       "      <td>0</td>\n",
       "      <td>0</td>\n",
       "      <td>0</td>\n",
       "      <td>0</td>\n",
       "      <td>0</td>\n",
       "      <td>...</td>\n",
       "      <td>0</td>\n",
       "      <td>0</td>\n",
       "      <td>1</td>\n",
       "      <td>0</td>\n",
       "      <td>0</td>\n",
       "      <td>0</td>\n",
       "      <td>0</td>\n",
       "      <td>1</td>\n",
       "      <td>0</td>\n",
       "      <td>0</td>\n",
       "    </tr>\n",
       "  </tbody>\n",
       "</table>\n",
       "<p>5 rows × 40 columns</p>\n",
       "</div>"
      ],
      "text/plain": [
       "   country_Australia  country_Brazil  country_Canada  country_Chile  \\\n",
       "0                  0               0               0              0   \n",
       "1                  0               0               0              0   \n",
       "2                  0               0               0              0   \n",
       "3                  0               0               0              0   \n",
       "4                  0               0               0              0   \n",
       "\n",
       "   country_China  country_Croatia  country_Czech Republic  country_Denmark  \\\n",
       "0              0                0                       0                0   \n",
       "1              0                0                       0                0   \n",
       "2              0                0                       0                0   \n",
       "3              0                0                       0                0   \n",
       "4              0                0                       0                0   \n",
       "\n",
       "   country_Germany  country_Ireland  ...  weight_class_Middleweight  \\\n",
       "0                0                0  ...                          0   \n",
       "1                0                0  ...                          0   \n",
       "2                0                0  ...                          0   \n",
       "3                0                0  ...                          0   \n",
       "4                0                0  ...                          0   \n",
       "\n",
       "   weight_class_Welterweight  weight_class_Women's Bantamweight  \\\n",
       "0                          0                                  1   \n",
       "1                          0                                  1   \n",
       "2                          0                                  0   \n",
       "3                          0                                  0   \n",
       "4                          0                                  1   \n",
       "\n",
       "   weight_class_Women's Featherweight  weight_class_Women's Flyweight  \\\n",
       "0                                   0                               0   \n",
       "1                                   0                               0   \n",
       "2                                   0                               0   \n",
       "3                                   0                               0   \n",
       "4                                   0                               0   \n",
       "\n",
       "   weight_class_Women's Strawweight  gender_MALE  Stance_Orthodox  \\\n",
       "0                                 0            0                0   \n",
       "1                                 0            0                1   \n",
       "2                                 0            1                1   \n",
       "3                                 0            1                1   \n",
       "4                                 0            0                1   \n",
       "\n",
       "   Stance_Southpaw  Stance_Switch  \n",
       "0                1              0  \n",
       "1                0              0  \n",
       "2                0              0  \n",
       "3                0              0  \n",
       "4                0              0  \n",
       "\n",
       "[5 rows x 40 columns]"
      ]
     },
     "execution_count": 18,
     "metadata": {},
     "output_type": "execute_result"
    }
   ],
   "source": [
    "df_dummy = pd.get_dummies(df[dummy_cols], columns=dummy_cols, drop_first=True)\n",
    "df_dummy.head()"
   ]
  },
  {
   "cell_type": "code",
   "execution_count": 19,
   "metadata": {},
   "outputs": [
    {
     "data": {
      "text/plain": [
       "Winner         bool\n",
       "title_bout     bool\n",
       "better_rank    bool\n",
       "dtype: object"
      ]
     },
     "execution_count": 19,
     "metadata": {},
     "output_type": "execute_result"
    }
   ],
   "source": [
    "df.dtypes[df.dtypes == 'bool']"
   ]
  },
  {
   "cell_type": "code",
   "execution_count": 20,
   "metadata": {},
   "outputs": [
    {
     "data": {
      "text/plain": [
       "0       1\n",
       "1       0\n",
       "2       0\n",
       "3       1\n",
       "4       1\n",
       "       ..\n",
       "8811    0\n",
       "8812    1\n",
       "8813    0\n",
       "8814    0\n",
       "8815    1\n",
       "Name: Winner, Length: 8816, dtype: int32"
      ]
     },
     "execution_count": 20,
     "metadata": {},
     "output_type": "execute_result"
    }
   ],
   "source": [
    "bool_cols = [column for column in df.dtypes[df.dtypes == 'bool'].index]\n",
    "df[bool_cols] = df[bool_cols].astype(int)\n",
    "df['Winner']"
   ]
  },
  {
   "cell_type": "markdown",
   "metadata": {},
   "source": [
    "## 6. Combine Preprocessed DataFrames"
   ]
  },
  {
   "cell_type": "markdown",
   "metadata": {},
   "source": [
    "**6a. Drop original columns**"
   ]
  },
  {
   "cell_type": "code",
   "execution_count": 21,
   "metadata": {},
   "outputs": [],
   "source": [
    "df.drop(columns=dummy_cols, inplace=True)"
   ]
  },
  {
   "cell_type": "code",
   "execution_count": 22,
   "metadata": {
    "scrolled": true
   },
   "outputs": [
    {
     "data": {
      "text/plain": [
       "Index(['date', 'fighter', 'odds', 'Winner', 'title_bout',\n",
       "       'current_lose_streak', 'current_win_streak', 'draw',\n",
       "       'avg_SIG_STR_landed', 'avg_SIG_STR_pct', 'avg_SUB_ATT', 'avg_TD_landed',\n",
       "       'avg_TD_pct', 'longest_win_streak', 'losses', 'total_rounds_fought',\n",
       "       'total_title_bouts', 'win_by_Decision_Majority',\n",
       "       'win_by_Decision_Split', 'win_by_Decision_Unanimous', 'win_by_KO/TKO',\n",
       "       'win_by_Submission', 'win_by_TKO_Doctor_Stoppage', 'wins', 'Height_cms',\n",
       "       'Reach_cms', 'Weight_lbs', 'age', 'better_rank', 'finish',\n",
       "       'finish_round', 'finish_round_time', 'total_fight_time_secs', 'kd_bout',\n",
       "       'sig_str_landed_bout', 'sig_str_attempted_bout', 'sig_str_pct_bout',\n",
       "       'tot_str_landed_bout', 'tot_str_attempted_bout', 'td_landed_bout',\n",
       "       'td_attempted_bout', 'td_pct_bout', 'sub_attempts_bout', 'pass_bout',\n",
       "       'rev_bout', 'win_pct', 'adj_wins', 'current_lose_streak_dif',\n",
       "       'current_win_streak_dif', 'longest_win_streak_dif', 'wins_dif',\n",
       "       'losses_dif', 'total_rounds_fought_dif', 'total_title_bouts_dif',\n",
       "       'win_by_Submission_dif', 'Height_cms_dif', 'Reach_cms_dif', 'age_dif',\n",
       "       'avg_SIG_STR_landed_dif', 'avg_SUB_ATT_dif', 'avg_TD_landed_dif',\n",
       "       'ko_dif', 'adj_wins_dif'],\n",
       "      dtype='object')"
      ]
     },
     "execution_count": 22,
     "metadata": {},
     "output_type": "execute_result"
    }
   ],
   "source": [
    "df.columns"
   ]
  },
  {
   "cell_type": "markdown",
   "metadata": {},
   "source": [
    "**6b. Concatenate preprocessed DataFrames**"
   ]
  },
  {
   "cell_type": "code",
   "execution_count": 23,
   "metadata": {},
   "outputs": [
    {
     "data": {
      "text/plain": [
       "Index(['date', 'fighter', 'odds', 'Winner', 'title_bout',\n",
       "       'current_lose_streak', 'current_win_streak', 'draw',\n",
       "       'avg_SIG_STR_landed', 'avg_SIG_STR_pct',\n",
       "       ...\n",
       "       'weight_class_Middleweight', 'weight_class_Welterweight',\n",
       "       'weight_class_Women's Bantamweight',\n",
       "       'weight_class_Women's Featherweight', 'weight_class_Women's Flyweight',\n",
       "       'weight_class_Women's Strawweight', 'gender_MALE', 'Stance_Orthodox',\n",
       "       'Stance_Southpaw', 'Stance_Switch'],\n",
       "      dtype='object', length=103)"
      ]
     },
     "execution_count": 23,
     "metadata": {},
     "output_type": "execute_result"
    }
   ],
   "source": [
    "df = pd.concat([df, df_dummy], axis=1)\n",
    "df.columns"
   ]
  },
  {
   "cell_type": "markdown",
   "metadata": {},
   "source": [
    "**6c. Save DataFrame**"
   ]
  },
  {
   "cell_type": "code",
   "execution_count": 24,
   "metadata": {},
   "outputs": [],
   "source": [
    "df.to_csv('df.csv')"
   ]
  },
  {
   "cell_type": "markdown",
   "metadata": {},
   "source": [
    "## 7. Final Thoughts"
   ]
  },
  {
   "cell_type": "markdown",
   "metadata": {},
   "source": [
    "Since I will have multiple dependent variables later on, I will reserve the train-test split until the Modeling section, where I can properly assess each independent variable in its own dedicated section. "
   ]
  }
 ],
 "metadata": {
  "kernelspec": {
   "display_name": "Python 3",
   "language": "python",
   "name": "python3"
  },
  "language_info": {
   "codemirror_mode": {
    "name": "ipython",
    "version": 3
   },
   "file_extension": ".py",
   "mimetype": "text/x-python",
   "name": "python",
   "nbconvert_exporter": "python",
   "pygments_lexer": "ipython3",
   "version": "3.7.6"
  }
 },
 "nbformat": 4,
 "nbformat_minor": 4
}
