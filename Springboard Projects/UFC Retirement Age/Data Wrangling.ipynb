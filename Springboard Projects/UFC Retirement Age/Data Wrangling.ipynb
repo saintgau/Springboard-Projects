{
 "cells": [
  {
   "cell_type": "markdown",
   "metadata": {},
   "source": [
    "# UFC Retirement Age - Data wrangling<a id='2_Data_wrangling'></a>"
   ]
  },
  {
   "cell_type": "markdown",
   "metadata": {},
   "source": [
    "## 1. Contents<a id='2.1_Contents'></a>"
   ]
  },
  {
   "cell_type": "markdown",
   "metadata": {},
   "source": [
    "## 2. Data Collection<a id='2.2_Introduction'></a>"
   ]
  },
  {
   "cell_type": "markdown",
   "metadata": {},
   "source": [
    "**Goal: Organize your data to streamline the next steps of your capstone.**\n",
    "\n",
    "First, all libraries required for this project will be imported."
   ]
  },
  {
   "cell_type": "code",
   "execution_count": 8,
   "metadata": {},
   "outputs": [],
   "source": [
    "from kaggle.api.kaggle_api_extended import KaggleApi\n",
    "import kaggle as kg\n",
    "import pandas as pd\n",
    "import os\n",
    "from zipfile import ZipFile"
   ]
  },
  {
   "cell_type": "markdown",
   "metadata": {},
   "source": [
    "Using the Kaggle API, the necessary dataset is imported as a Pandas DataFrame and previewed."
   ]
  },
  {
   "cell_type": "code",
   "execution_count": 5,
   "metadata": {},
   "outputs": [
    {
     "data": {
      "text/html": [
       "<div>\n",
       "<style scoped>\n",
       "    .dataframe tbody tr th:only-of-type {\n",
       "        vertical-align: middle;\n",
       "    }\n",
       "\n",
       "    .dataframe tbody tr th {\n",
       "        vertical-align: top;\n",
       "    }\n",
       "\n",
       "    .dataframe thead th {\n",
       "        text-align: right;\n",
       "    }\n",
       "</style>\n",
       "<table border=\"1\" class=\"dataframe\">\n",
       "  <thead>\n",
       "    <tr style=\"text-align: right;\">\n",
       "      <th></th>\n",
       "      <th>0</th>\n",
       "      <th>1</th>\n",
       "      <th>2</th>\n",
       "      <th>3</th>\n",
       "      <th>4</th>\n",
       "    </tr>\n",
       "  </thead>\n",
       "  <tbody>\n",
       "    <tr>\n",
       "      <th>R_fighter</th>\n",
       "      <td>Henry Cejudo</td>\n",
       "      <td>Valentina Shevchenko</td>\n",
       "      <td>Tony Ferguson</td>\n",
       "      <td>Jimmie Rivera</td>\n",
       "      <td>Tai Tuivasa</td>\n",
       "    </tr>\n",
       "    <tr>\n",
       "      <th>B_fighter</th>\n",
       "      <td>Marlon Moraes</td>\n",
       "      <td>Jessica Eye</td>\n",
       "      <td>Donald Cerrone</td>\n",
       "      <td>Petr Yan</td>\n",
       "      <td>Blagoy Ivanov</td>\n",
       "    </tr>\n",
       "    <tr>\n",
       "      <th>Referee</th>\n",
       "      <td>Marc Goddard</td>\n",
       "      <td>Robert Madrigal</td>\n",
       "      <td>Dan Miragliotta</td>\n",
       "      <td>Kevin MacDonald</td>\n",
       "      <td>Dan Miragliotta</td>\n",
       "    </tr>\n",
       "    <tr>\n",
       "      <th>date</th>\n",
       "      <td>2019-06-08</td>\n",
       "      <td>2019-06-08</td>\n",
       "      <td>2019-06-08</td>\n",
       "      <td>2019-06-08</td>\n",
       "      <td>2019-06-08</td>\n",
       "    </tr>\n",
       "    <tr>\n",
       "      <th>location</th>\n",
       "      <td>Chicago, Illinois, USA</td>\n",
       "      <td>Chicago, Illinois, USA</td>\n",
       "      <td>Chicago, Illinois, USA</td>\n",
       "      <td>Chicago, Illinois, USA</td>\n",
       "      <td>Chicago, Illinois, USA</td>\n",
       "    </tr>\n",
       "    <tr>\n",
       "      <th>...</th>\n",
       "      <td>...</td>\n",
       "      <td>...</td>\n",
       "      <td>...</td>\n",
       "      <td>...</td>\n",
       "      <td>...</td>\n",
       "    </tr>\n",
       "    <tr>\n",
       "      <th>R_Height_cms</th>\n",
       "      <td>162.56</td>\n",
       "      <td>165.1</td>\n",
       "      <td>180.34</td>\n",
       "      <td>162.56</td>\n",
       "      <td>187.96</td>\n",
       "    </tr>\n",
       "    <tr>\n",
       "      <th>R_Reach_cms</th>\n",
       "      <td>162.56</td>\n",
       "      <td>167.64</td>\n",
       "      <td>193.04</td>\n",
       "      <td>172.72</td>\n",
       "      <td>190.5</td>\n",
       "    </tr>\n",
       "    <tr>\n",
       "      <th>R_Weight_lbs</th>\n",
       "      <td>135</td>\n",
       "      <td>125</td>\n",
       "      <td>155</td>\n",
       "      <td>135</td>\n",
       "      <td>264</td>\n",
       "    </tr>\n",
       "    <tr>\n",
       "      <th>B_age</th>\n",
       "      <td>31</td>\n",
       "      <td>32</td>\n",
       "      <td>36</td>\n",
       "      <td>26</td>\n",
       "      <td>32</td>\n",
       "    </tr>\n",
       "    <tr>\n",
       "      <th>R_age</th>\n",
       "      <td>32</td>\n",
       "      <td>31</td>\n",
       "      <td>35</td>\n",
       "      <td>29</td>\n",
       "      <td>26</td>\n",
       "    </tr>\n",
       "  </tbody>\n",
       "</table>\n",
       "<p>145 rows × 5 columns</p>\n",
       "</div>"
      ],
      "text/plain": [
       "                                   0                       1  \\\n",
       "R_fighter               Henry Cejudo    Valentina Shevchenko   \n",
       "B_fighter              Marlon Moraes             Jessica Eye   \n",
       "Referee                 Marc Goddard         Robert Madrigal   \n",
       "date                      2019-06-08              2019-06-08   \n",
       "location      Chicago, Illinois, USA  Chicago, Illinois, USA   \n",
       "...                              ...                     ...   \n",
       "R_Height_cms                  162.56                   165.1   \n",
       "R_Reach_cms                   162.56                  167.64   \n",
       "R_Weight_lbs                     135                     125   \n",
       "B_age                             31                      32   \n",
       "R_age                             32                      31   \n",
       "\n",
       "                                   2                       3  \\\n",
       "R_fighter              Tony Ferguson           Jimmie Rivera   \n",
       "B_fighter             Donald Cerrone                Petr Yan   \n",
       "Referee              Dan Miragliotta         Kevin MacDonald   \n",
       "date                      2019-06-08              2019-06-08   \n",
       "location      Chicago, Illinois, USA  Chicago, Illinois, USA   \n",
       "...                              ...                     ...   \n",
       "R_Height_cms                  180.34                  162.56   \n",
       "R_Reach_cms                   193.04                  172.72   \n",
       "R_Weight_lbs                     155                     135   \n",
       "B_age                             36                      26   \n",
       "R_age                             35                      29   \n",
       "\n",
       "                                   4  \n",
       "R_fighter                Tai Tuivasa  \n",
       "B_fighter              Blagoy Ivanov  \n",
       "Referee              Dan Miragliotta  \n",
       "date                      2019-06-08  \n",
       "location      Chicago, Illinois, USA  \n",
       "...                              ...  \n",
       "R_Height_cms                  187.96  \n",
       "R_Reach_cms                    190.5  \n",
       "R_Weight_lbs                     264  \n",
       "B_age                             32  \n",
       "R_age                             26  \n",
       "\n",
       "[145 rows x 5 columns]"
      ]
     },
     "execution_count": 5,
     "metadata": {},
     "output_type": "execute_result"
    }
   ],
   "source": [
    "api = KaggleApi()\n",
    "api.authenticate()\n",
    "api.dataset_download_file('rajeevw/ufcdata', 'data.csv')\n",
    "zf = ZipFile('255092%2F536001%2Fcompressed%2Fdata.csv.zip')\n",
    "zf.extractall()\n",
    "zf.close()\n",
    "ufc = pd.read_csv('data.csv')\n",
    "ufc.head().T"
   ]
  },
  {
   "cell_type": "markdown",
   "metadata": {},
   "source": [
    "## 3. Data Organization<a id='2.2_Introduction'></a>"
   ]
  },
  {
   "cell_type": "markdown",
   "metadata": {},
   "source": [
    "**Goal: Create a file structure and add your work to the GitHub repository you’ve created for this project.**\n",
    "\n",
    "This notebook, along with the rest of the notebooks for this capstone project, will be uploaded to GitHub in a proper repository."
   ]
  },
  {
   "cell_type": "markdown",
   "metadata": {},
   "source": [
    "## 4. Data Definition<a id='2.2_Introduction'></a>"
   ]
  },
  {
   "cell_type": "markdown",
   "metadata": {},
   "source": []
  }
 ],
 "metadata": {
  "kernelspec": {
   "display_name": "Python 3",
   "language": "python",
   "name": "python3"
  },
  "language_info": {
   "codemirror_mode": {
    "name": "ipython",
    "version": 3
   },
   "file_extension": ".py",
   "mimetype": "text/x-python",
   "name": "python",
   "nbconvert_exporter": "python",
   "pygments_lexer": "ipython3",
   "version": "3.7.6"
  }
 },
 "nbformat": 4,
 "nbformat_minor": 4
}
