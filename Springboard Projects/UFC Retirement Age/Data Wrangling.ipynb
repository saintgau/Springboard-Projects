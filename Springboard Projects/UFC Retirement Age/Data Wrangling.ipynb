{
 "cells": [
  {
   "cell_type": "markdown",
   "metadata": {},
   "source": [
    "# UFC Retirement Age - Data Wrangling<a id='2_Data_wrangling'></a>"
   ]
  },
  {
   "cell_type": "markdown",
   "metadata": {},
   "source": [
    "## 1. Contents<a id='1_Contents'></a>\n",
    "* [1 Contents](#_UFC_Retirement_Age_-_Data_Wrangling)\n",
    "* [2 Data Collection](#_UFC_Retirement_Age_-_Data_Wrangling)\n",
    "* [3 Data Organization](#_UFC_Retirement_Age_-_Data_Wrangling)\n",
    "* [4_Data Definition](#_UFC_Retirement_Age_-_Data_Wrangling)\n",
    "* [5_Data Cleaning](#_UFC_Retirement_Age_-_Data_Wrangling)\n",
    " * [5.1 Remove unnecessary columns](#_UFC_Retirement_Age_-_Data_Wrangling)\n",
    " * [5.2 Transform DataFrame](#_UFC_Retirement_Age_-_Data_Wrangling)\n",
    " * [5.3 Remove Null values](#_UFC_Retirement_Age_-_Data_Wrangling)"
   ]
  },
  {
   "cell_type": "markdown",
   "metadata": {},
   "source": [
    "## 2. Data Collection<a id='2.2_Introduction'></a>"
   ]
  },
  {
   "cell_type": "markdown",
   "metadata": {},
   "source": [
    "**Goal: Organize your data to streamline the next steps of your capstone.**\n",
    "\n",
    "First, all libraries required for this project will be imported."
   ]
  },
  {
   "cell_type": "code",
   "execution_count": 246,
   "metadata": {},
   "outputs": [],
   "source": [
    "from kaggle.api.kaggle_api_extended import KaggleApi\n",
    "import kaggle as kg\n",
    "import pandas as pd\n",
    "import missingno as msno\n",
    "import matplotlib.pyplot as plt\n",
    "from zipfile import ZipFile"
   ]
  },
  {
   "cell_type": "markdown",
   "metadata": {},
   "source": [
    "Using the Kaggle API, the necessary dataset is imported as a Pandas DataFrame and previewed."
   ]
  },
  {
   "cell_type": "code",
   "execution_count": 247,
   "metadata": {
    "scrolled": true
   },
   "outputs": [
    {
     "data": {
      "text/html": [
       "<div>\n",
       "<style scoped>\n",
       "    .dataframe tbody tr th:only-of-type {\n",
       "        vertical-align: middle;\n",
       "    }\n",
       "\n",
       "    .dataframe tbody tr th {\n",
       "        vertical-align: top;\n",
       "    }\n",
       "\n",
       "    .dataframe thead th {\n",
       "        text-align: right;\n",
       "    }\n",
       "</style>\n",
       "<table border=\"1\" class=\"dataframe\">\n",
       "  <thead>\n",
       "    <tr style=\"text-align: right;\">\n",
       "      <th></th>\n",
       "      <th>R_fighter</th>\n",
       "      <th>B_fighter</th>\n",
       "      <th>Referee</th>\n",
       "      <th>date</th>\n",
       "      <th>location</th>\n",
       "      <th>Winner</th>\n",
       "      <th>title_bout</th>\n",
       "      <th>weight_class</th>\n",
       "      <th>no_of_rounds</th>\n",
       "      <th>B_current_lose_streak</th>\n",
       "      <th>...</th>\n",
       "      <th>R_win_by_KO/TKO</th>\n",
       "      <th>R_win_by_Submission</th>\n",
       "      <th>R_win_by_TKO_Doctor_Stoppage</th>\n",
       "      <th>R_wins</th>\n",
       "      <th>R_Stance</th>\n",
       "      <th>R_Height_cms</th>\n",
       "      <th>R_Reach_cms</th>\n",
       "      <th>R_Weight_lbs</th>\n",
       "      <th>B_age</th>\n",
       "      <th>R_age</th>\n",
       "    </tr>\n",
       "  </thead>\n",
       "  <tbody>\n",
       "    <tr>\n",
       "      <th>0</th>\n",
       "      <td>Henry Cejudo</td>\n",
       "      <td>Marlon Moraes</td>\n",
       "      <td>Marc Goddard</td>\n",
       "      <td>2019-06-08</td>\n",
       "      <td>Chicago, Illinois, USA</td>\n",
       "      <td>Red</td>\n",
       "      <td>True</td>\n",
       "      <td>Bantamweight</td>\n",
       "      <td>5</td>\n",
       "      <td>0.0</td>\n",
       "      <td>...</td>\n",
       "      <td>2.0</td>\n",
       "      <td>0.0</td>\n",
       "      <td>0.0</td>\n",
       "      <td>8.0</td>\n",
       "      <td>Orthodox</td>\n",
       "      <td>162.56</td>\n",
       "      <td>162.56</td>\n",
       "      <td>135.0</td>\n",
       "      <td>31.0</td>\n",
       "      <td>32.0</td>\n",
       "    </tr>\n",
       "    <tr>\n",
       "      <th>1</th>\n",
       "      <td>Valentina Shevchenko</td>\n",
       "      <td>Jessica Eye</td>\n",
       "      <td>Robert Madrigal</td>\n",
       "      <td>2019-06-08</td>\n",
       "      <td>Chicago, Illinois, USA</td>\n",
       "      <td>Red</td>\n",
       "      <td>True</td>\n",
       "      <td>Women's Flyweight</td>\n",
       "      <td>5</td>\n",
       "      <td>0.0</td>\n",
       "      <td>...</td>\n",
       "      <td>0.0</td>\n",
       "      <td>2.0</td>\n",
       "      <td>0.0</td>\n",
       "      <td>5.0</td>\n",
       "      <td>Southpaw</td>\n",
       "      <td>165.10</td>\n",
       "      <td>167.64</td>\n",
       "      <td>125.0</td>\n",
       "      <td>32.0</td>\n",
       "      <td>31.0</td>\n",
       "    </tr>\n",
       "    <tr>\n",
       "      <th>2</th>\n",
       "      <td>Tony Ferguson</td>\n",
       "      <td>Donald Cerrone</td>\n",
       "      <td>Dan Miragliotta</td>\n",
       "      <td>2019-06-08</td>\n",
       "      <td>Chicago, Illinois, USA</td>\n",
       "      <td>Red</td>\n",
       "      <td>False</td>\n",
       "      <td>Lightweight</td>\n",
       "      <td>3</td>\n",
       "      <td>0.0</td>\n",
       "      <td>...</td>\n",
       "      <td>3.0</td>\n",
       "      <td>6.0</td>\n",
       "      <td>1.0</td>\n",
       "      <td>14.0</td>\n",
       "      <td>Orthodox</td>\n",
       "      <td>180.34</td>\n",
       "      <td>193.04</td>\n",
       "      <td>155.0</td>\n",
       "      <td>36.0</td>\n",
       "      <td>35.0</td>\n",
       "    </tr>\n",
       "    <tr>\n",
       "      <th>3</th>\n",
       "      <td>Jimmie Rivera</td>\n",
       "      <td>Petr Yan</td>\n",
       "      <td>Kevin MacDonald</td>\n",
       "      <td>2019-06-08</td>\n",
       "      <td>Chicago, Illinois, USA</td>\n",
       "      <td>Blue</td>\n",
       "      <td>False</td>\n",
       "      <td>Bantamweight</td>\n",
       "      <td>3</td>\n",
       "      <td>0.0</td>\n",
       "      <td>...</td>\n",
       "      <td>1.0</td>\n",
       "      <td>0.0</td>\n",
       "      <td>0.0</td>\n",
       "      <td>6.0</td>\n",
       "      <td>Orthodox</td>\n",
       "      <td>162.56</td>\n",
       "      <td>172.72</td>\n",
       "      <td>135.0</td>\n",
       "      <td>26.0</td>\n",
       "      <td>29.0</td>\n",
       "    </tr>\n",
       "    <tr>\n",
       "      <th>4</th>\n",
       "      <td>Tai Tuivasa</td>\n",
       "      <td>Blagoy Ivanov</td>\n",
       "      <td>Dan Miragliotta</td>\n",
       "      <td>2019-06-08</td>\n",
       "      <td>Chicago, Illinois, USA</td>\n",
       "      <td>Blue</td>\n",
       "      <td>False</td>\n",
       "      <td>Heavyweight</td>\n",
       "      <td>3</td>\n",
       "      <td>0.0</td>\n",
       "      <td>...</td>\n",
       "      <td>2.0</td>\n",
       "      <td>0.0</td>\n",
       "      <td>0.0</td>\n",
       "      <td>3.0</td>\n",
       "      <td>Southpaw</td>\n",
       "      <td>187.96</td>\n",
       "      <td>190.50</td>\n",
       "      <td>264.0</td>\n",
       "      <td>32.0</td>\n",
       "      <td>26.0</td>\n",
       "    </tr>\n",
       "  </tbody>\n",
       "</table>\n",
       "<p>5 rows × 145 columns</p>\n",
       "</div>"
      ],
      "text/plain": [
       "              R_fighter       B_fighter          Referee        date  \\\n",
       "0          Henry Cejudo   Marlon Moraes     Marc Goddard  2019-06-08   \n",
       "1  Valentina Shevchenko     Jessica Eye  Robert Madrigal  2019-06-08   \n",
       "2         Tony Ferguson  Donald Cerrone  Dan Miragliotta  2019-06-08   \n",
       "3         Jimmie Rivera        Petr Yan  Kevin MacDonald  2019-06-08   \n",
       "4           Tai Tuivasa   Blagoy Ivanov  Dan Miragliotta  2019-06-08   \n",
       "\n",
       "                 location Winner  title_bout       weight_class  no_of_rounds  \\\n",
       "0  Chicago, Illinois, USA    Red        True       Bantamweight             5   \n",
       "1  Chicago, Illinois, USA    Red        True  Women's Flyweight             5   \n",
       "2  Chicago, Illinois, USA    Red       False        Lightweight             3   \n",
       "3  Chicago, Illinois, USA   Blue       False       Bantamweight             3   \n",
       "4  Chicago, Illinois, USA   Blue       False        Heavyweight             3   \n",
       "\n",
       "   B_current_lose_streak  ...  R_win_by_KO/TKO  R_win_by_Submission  \\\n",
       "0                    0.0  ...              2.0                  0.0   \n",
       "1                    0.0  ...              0.0                  2.0   \n",
       "2                    0.0  ...              3.0                  6.0   \n",
       "3                    0.0  ...              1.0                  0.0   \n",
       "4                    0.0  ...              2.0                  0.0   \n",
       "\n",
       "   R_win_by_TKO_Doctor_Stoppage  R_wins  R_Stance  R_Height_cms  R_Reach_cms  \\\n",
       "0                           0.0     8.0  Orthodox        162.56       162.56   \n",
       "1                           0.0     5.0  Southpaw        165.10       167.64   \n",
       "2                           1.0    14.0  Orthodox        180.34       193.04   \n",
       "3                           0.0     6.0  Orthodox        162.56       172.72   \n",
       "4                           0.0     3.0  Southpaw        187.96       190.50   \n",
       "\n",
       "   R_Weight_lbs  B_age  R_age  \n",
       "0         135.0   31.0   32.0  \n",
       "1         125.0   32.0   31.0  \n",
       "2         155.0   36.0   35.0  \n",
       "3         135.0   26.0   29.0  \n",
       "4         264.0   32.0   26.0  \n",
       "\n",
       "[5 rows x 145 columns]"
      ]
     },
     "execution_count": 247,
     "metadata": {},
     "output_type": "execute_result"
    }
   ],
   "source": [
    "api = KaggleApi()\n",
    "api.authenticate()\n",
    "api.dataset_download_file('rajeevw/ufcdata', 'data.csv')\n",
    "zf = ZipFile('255092%2F536001%2Fcompressed%2Fdata.csv.zip')\n",
    "zf.extractall()\n",
    "zf.close()\n",
    "ufc = pd.read_csv('data.csv')\n",
    "ufc.head()"
   ]
  },
  {
   "cell_type": "code",
   "execution_count": 248,
   "metadata": {},
   "outputs": [
    {
     "data": {
      "text/plain": [
       "(5144, 145)"
      ]
     },
     "execution_count": 248,
     "metadata": {},
     "output_type": "execute_result"
    }
   ],
   "source": [
    "ufc.shape"
   ]
  },
  {
   "cell_type": "markdown",
   "metadata": {},
   "source": [
    "## 3. Data Organization<a id='2.2_Introduction'></a>"
   ]
  },
  {
   "cell_type": "markdown",
   "metadata": {},
   "source": [
    "**Goal: Create a file structure and add your work to the GitHub repository you’ve created for this project.**\n",
    "\n",
    "This notebook, along with the rest of the notebooks for this capstone project, will be uploaded to GitHub in a proper repository."
   ]
  },
  {
   "cell_type": "markdown",
   "metadata": {},
   "source": [
    "## 4. Data Definition<a id='2.2_Introduction'></a>"
   ]
  },
  {
   "cell_type": "markdown",
   "metadata": {},
   "source": [
    "**Goal: Gain an understanding of your data features to inform the next steps of your project.**\n",
    "\n",
    "To begin cleaning up my data, I will first examine the columns in the dataset."
   ]
  },
  {
   "cell_type": "code",
   "execution_count": 249,
   "metadata": {
    "scrolled": true
   },
   "outputs": [
    {
     "data": {
      "text/plain": [
       "R_fighter        object\n",
       "B_fighter        object\n",
       "Referee          object\n",
       "date             object\n",
       "location         object\n",
       "                 ...   \n",
       "R_Height_cms    float64\n",
       "R_Reach_cms     float64\n",
       "R_Weight_lbs    float64\n",
       "B_age           float64\n",
       "R_age           float64\n",
       "Length: 145, dtype: object"
      ]
     },
     "execution_count": 249,
     "metadata": {},
     "output_type": "execute_result"
    }
   ],
   "source": [
    "ufc.dtypes"
   ]
  },
  {
   "cell_type": "markdown",
   "metadata": {},
   "source": [
    "Since there are a lot of columns, I will check the columns that belong to each data type. Even though I won't be able to examine every single column, hopefully the columns will have the appropriate data type at a glance."
   ]
  },
  {
   "cell_type": "code",
   "execution_count": 250,
   "metadata": {
    "scrolled": false
   },
   "outputs": [
    {
     "data": {
      "text/plain": [
       "R_fighter       object\n",
       "B_fighter       object\n",
       "Referee         object\n",
       "date            object\n",
       "location        object\n",
       "Winner          object\n",
       "weight_class    object\n",
       "B_Stance        object\n",
       "R_Stance        object\n",
       "dtype: object"
      ]
     },
     "execution_count": 250,
     "metadata": {},
     "output_type": "execute_result"
    }
   ],
   "source": [
    "ufc.dtypes[ufc.dtypes == object]"
   ]
  },
  {
   "cell_type": "code",
   "execution_count": 251,
   "metadata": {},
   "outputs": [
    {
     "data": {
      "text/plain": [
       "B_current_lose_streak    float64\n",
       "B_current_win_streak     float64\n",
       "B_draw                   float64\n",
       "B_avg_BODY_att           float64\n",
       "B_avg_BODY_landed        float64\n",
       "                          ...   \n",
       "R_Height_cms             float64\n",
       "R_Reach_cms              float64\n",
       "R_Weight_lbs             float64\n",
       "B_age                    float64\n",
       "R_age                    float64\n",
       "Length: 134, dtype: object"
      ]
     },
     "execution_count": 251,
     "metadata": {},
     "output_type": "execute_result"
    }
   ],
   "source": [
    "ufc.dtypes[ufc.dtypes == 'float64']"
   ]
  },
  {
   "cell_type": "code",
   "execution_count": 252,
   "metadata": {},
   "outputs": [
    {
     "data": {
      "text/plain": [
       "title_bout       bool\n",
       "no_of_rounds    int64\n",
       "dtype: object"
      ]
     },
     "execution_count": 252,
     "metadata": {},
     "output_type": "execute_result"
    }
   ],
   "source": [
    "ufc.dtypes[(ufc.dtypes != 'object') & (ufc.dtypes != 'float64')]"
   ]
  },
  {
   "cell_type": "markdown",
   "metadata": {},
   "source": [
    "With all the datatypes accounted for, it looks like each column has the proper datatype for its data. If this is not the case, it can be dealt with later on. Each column has also been properly named. As of now, there are no more major changes that need to be made for this step. "
   ]
  },
  {
   "cell_type": "markdown",
   "metadata": {},
   "source": [
    "## 5. Data Cleaning<a id='2.2_Introduction'></a>"
   ]
  },
  {
   "cell_type": "markdown",
   "metadata": {},
   "source": [
    "**Goal: Clean up the data in order to prepare it for the next steps of your project.**"
   ]
  },
  {
   "cell_type": "markdown",
   "metadata": {},
   "source": [
    "### 5.1 Remove unnecessary columns"
   ]
  },
  {
   "cell_type": "markdown",
   "metadata": {},
   "source": [
    "There are several columns in this dataset that will most likely not be needed for this project. Those will first be preserved in a separate DataFrame, then removed from the main one. For example, the location and referee for each fight will likely not be relevant to this analysis. "
   ]
  },
  {
   "cell_type": "code",
   "execution_count": 253,
   "metadata": {},
   "outputs": [
    {
     "data": {
      "text/plain": [
       "False"
      ]
     },
     "execution_count": 253,
     "metadata": {},
     "output_type": "execute_result"
    }
   ],
   "source": [
    "del_col_names = ['Referee', 'location']\n",
    "ufc_del = ufc[del_col_names]\n",
    "ufc.drop(ufc_del, axis=1, inplace=True)\n",
    "pd.Series(['Referee', 'location']).isin(ufc.columns).all()"
   ]
  },
  {
   "cell_type": "markdown",
   "metadata": {},
   "source": [
    "### 5.2 Transform DataFrame"
   ]
  },
  {
   "cell_type": "markdown",
   "metadata": {},
   "source": [
    "Next, it's time to find any Null values and decide whether to drop them or impute them. I begin this task by setting the index for this DataFrame."
   ]
  },
  {
   "cell_type": "code",
   "execution_count": 254,
   "metadata": {},
   "outputs": [],
   "source": [
    "ufc = ufc.set_index(['date'], drop=True)"
   ]
  },
  {
   "cell_type": "markdown",
   "metadata": {},
   "source": [
    "Then, I will check the amount of NaN values in the dataset."
   ]
  },
  {
   "cell_type": "code",
   "execution_count": 255,
   "metadata": {},
   "outputs": [
    {
     "data": {
      "text/plain": [
       "95367"
      ]
     },
     "execution_count": 255,
     "metadata": {},
     "output_type": "execute_result"
    }
   ],
   "source": [
    "ufc.isnull().sum().sum()"
   ]
  },
  {
   "cell_type": "code",
   "execution_count": 256,
   "metadata": {},
   "outputs": [
    {
     "name": "stdout",
     "output_type": "stream",
     "text": [
      "Rows with at least one Null value: 1929\n"
     ]
    }
   ],
   "source": [
    "null_rows = ufc.isnull().sum(axis=1)\n",
    "null_rows = null_rows[null_rows > 0].sort_values(ascending=False)\n",
    "print('Rows with at least one Null value:', str(null_rows.count()))"
   ]
  },
  {
   "cell_type": "code",
   "execution_count": 257,
   "metadata": {},
   "outputs": [
    {
     "name": "stdout",
     "output_type": "stream",
     "text": [
      "Columns with at least one Null value: 108\n"
     ]
    }
   ],
   "source": [
    "null_cols = ufc.isnull().sum(axis=0)\n",
    "null_cols = null_cols[null_cols > 0].sort_values(ascending=False)\n",
    "print('Columns with at least one Null value:', str(null_cols.count()))"
   ]
  },
  {
   "cell_type": "markdown",
   "metadata": {},
   "source": [
    "There seem to be a lot of Null values, so inspecing the distribution of Null values may shed some light on this problem."
   ]
  },
  {
   "cell_type": "code",
   "execution_count": 258,
   "metadata": {
    "scrolled": false
   },
   "outputs": [
    {
     "data": {
      "text/plain": [
       "date\n",
       "1997-05-30    108\n",
       "1994-03-11    106\n",
       "1997-07-27    105\n",
       "1999-01-08    104\n",
       "1996-07-12    104\n",
       "dtype: int64"
      ]
     },
     "execution_count": 258,
     "metadata": {},
     "output_type": "execute_result"
    }
   ],
   "source": [
    "null_rows.head()"
   ]
  },
  {
   "cell_type": "code",
   "execution_count": 259,
   "metadata": {},
   "outputs": [
    {
     "data": {
      "text/plain": [
       "B_avg_BODY_att               1265\n",
       "B_avg_opp_PASS               1265\n",
       "B_avg_opp_CLINCH_landed      1265\n",
       "B_avg_opp_DISTANCE_att       1265\n",
       "B_avg_opp_DISTANCE_landed    1265\n",
       "dtype: int64"
      ]
     },
     "execution_count": 259,
     "metadata": {},
     "output_type": "execute_result"
    }
   ],
   "source": [
    "null_cols.head()"
   ]
  },
  {
   "cell_type": "markdown",
   "metadata": {},
   "source": [
    "It seems like most of the Null values might have been the result of insufficient information during the earlier days of the UFC, also known as the UFC's \"Dark Ages.\" To verify this, I will plot the distribution of Null values in the DataFrame sorted by date."
   ]
  },
  {
   "cell_type": "code",
   "execution_count": 260,
   "metadata": {
    "scrolled": true
   },
   "outputs": [
    {
     "data": {
      "text/plain": [
       "<matplotlib.axes._subplots.AxesSubplot at 0x2a166cbb188>"
      ]
     },
     "execution_count": 260,
     "metadata": {},
     "output_type": "execute_result"
    },
    {
     "data": {
      "image/png": "[encoded data removed]",
      "text/plain": [
       "<Figure size 1800x720 with 2 Axes>"
      ]
     },
     "metadata": {
      "needs_background": "light"
     },
     "output_type": "display_data"
    }
   ],
   "source": [
    "msno.matrix(ufc.sort_values(by='date'))"
   ]
  },
  {
   "cell_type": "markdown",
   "metadata": {},
   "source": [
    "The Null values seem to be distributed more evenly than I thought they were when sorted by date. However, the Null values are disproportionately distributed between the Red and Blue corner fighters. Since it would make the exploratory analysis simpler, I will transform the DataFrame so that each row corresponds to one fighter instead of one fight. This way, I will have less columns, but more rows. This will also make it easier to remove rows with missing data for one fighter without removing data for the other fighter as well. I will do this by creating 2 DataFrames, one for Red fighters and one for Blue fighters, then merging them."
   ]
  },
  {
   "cell_type": "code",
   "execution_count": 267,
   "metadata": {},
   "outputs": [
    {
     "data": {
      "text/html": [
       "<div>\n",
       "<style scoped>\n",
       "    .dataframe tbody tr th:only-of-type {\n",
       "        vertical-align: middle;\n",
       "    }\n",
       "\n",
       "    .dataframe tbody tr th {\n",
       "        vertical-align: top;\n",
       "    }\n",
       "\n",
       "    .dataframe thead th {\n",
       "        text-align: right;\n",
       "    }\n",
       "</style>\n",
       "<table border=\"1\" class=\"dataframe\">\n",
       "  <thead>\n",
       "    <tr style=\"text-align: right;\">\n",
       "      <th></th>\n",
       "      <th>R_fighter</th>\n",
       "      <th>Winner</th>\n",
       "      <th>title_bout</th>\n",
       "      <th>weight_class</th>\n",
       "      <th>no_of_rounds</th>\n",
       "      <th>R_current_lose_streak</th>\n",
       "      <th>R_current_win_streak</th>\n",
       "      <th>R_draw</th>\n",
       "      <th>R_avg_BODY_att</th>\n",
       "      <th>R_avg_BODY_landed</th>\n",
       "      <th>...</th>\n",
       "      <th>R_win_by_Decision_Unanimous</th>\n",
       "      <th>R_win_by_KO/TKO</th>\n",
       "      <th>R_win_by_Submission</th>\n",
       "      <th>R_win_by_TKO_Doctor_Stoppage</th>\n",
       "      <th>R_wins</th>\n",
       "      <th>R_Stance</th>\n",
       "      <th>R_Height_cms</th>\n",
       "      <th>R_Reach_cms</th>\n",
       "      <th>R_Weight_lbs</th>\n",
       "      <th>R_age</th>\n",
       "    </tr>\n",
       "    <tr>\n",
       "      <th>date</th>\n",
       "      <th></th>\n",
       "      <th></th>\n",
       "      <th></th>\n",
       "      <th></th>\n",
       "      <th></th>\n",
       "      <th></th>\n",
       "      <th></th>\n",
       "      <th></th>\n",
       "      <th></th>\n",
       "      <th></th>\n",
       "      <th></th>\n",
       "      <th></th>\n",
       "      <th></th>\n",
       "      <th></th>\n",
       "      <th></th>\n",
       "      <th></th>\n",
       "      <th></th>\n",
       "      <th></th>\n",
       "      <th></th>\n",
       "      <th></th>\n",
       "      <th></th>\n",
       "    </tr>\n",
       "  </thead>\n",
       "  <tbody>\n",
       "    <tr>\n",
       "      <th>2019-06-08</th>\n",
       "      <td>Henry Cejudo</td>\n",
       "      <td>Red</td>\n",
       "      <td>True</td>\n",
       "      <td>Bantamweight</td>\n",
       "      <td>5</td>\n",
       "      <td>0.0</td>\n",
       "      <td>4.0</td>\n",
       "      <td>0.0</td>\n",
       "      <td>21.900000</td>\n",
       "      <td>16.400000</td>\n",
       "      <td>...</td>\n",
       "      <td>4.0</td>\n",
       "      <td>2.0</td>\n",
       "      <td>0.0</td>\n",
       "      <td>0.0</td>\n",
       "      <td>8.0</td>\n",
       "      <td>Orthodox</td>\n",
       "      <td>162.56</td>\n",
       "      <td>162.56</td>\n",
       "      <td>135.0</td>\n",
       "      <td>32.0</td>\n",
       "    </tr>\n",
       "    <tr>\n",
       "      <th>2019-06-08</th>\n",
       "      <td>Valentina Shevchenko</td>\n",
       "      <td>Red</td>\n",
       "      <td>True</td>\n",
       "      <td>Women's Flyweight</td>\n",
       "      <td>5</td>\n",
       "      <td>0.0</td>\n",
       "      <td>2.0</td>\n",
       "      <td>0.0</td>\n",
       "      <td>12.000000</td>\n",
       "      <td>7.714286</td>\n",
       "      <td>...</td>\n",
       "      <td>2.0</td>\n",
       "      <td>0.0</td>\n",
       "      <td>2.0</td>\n",
       "      <td>0.0</td>\n",
       "      <td>5.0</td>\n",
       "      <td>Southpaw</td>\n",
       "      <td>165.10</td>\n",
       "      <td>167.64</td>\n",
       "      <td>125.0</td>\n",
       "      <td>31.0</td>\n",
       "    </tr>\n",
       "    <tr>\n",
       "      <th>2019-06-08</th>\n",
       "      <td>Tony Ferguson</td>\n",
       "      <td>Red</td>\n",
       "      <td>False</td>\n",
       "      <td>Lightweight</td>\n",
       "      <td>3</td>\n",
       "      <td>0.0</td>\n",
       "      <td>11.0</td>\n",
       "      <td>0.0</td>\n",
       "      <td>13.866667</td>\n",
       "      <td>8.666667</td>\n",
       "      <td>...</td>\n",
       "      <td>3.0</td>\n",
       "      <td>3.0</td>\n",
       "      <td>6.0</td>\n",
       "      <td>1.0</td>\n",
       "      <td>14.0</td>\n",
       "      <td>Orthodox</td>\n",
       "      <td>180.34</td>\n",
       "      <td>193.04</td>\n",
       "      <td>155.0</td>\n",
       "      <td>35.0</td>\n",
       "    </tr>\n",
       "    <tr>\n",
       "      <th>2019-06-08</th>\n",
       "      <td>Jimmie Rivera</td>\n",
       "      <td>Blue</td>\n",
       "      <td>False</td>\n",
       "      <td>Bantamweight</td>\n",
       "      <td>3</td>\n",
       "      <td>1.0</td>\n",
       "      <td>0.0</td>\n",
       "      <td>0.0</td>\n",
       "      <td>18.250000</td>\n",
       "      <td>10.250000</td>\n",
       "      <td>...</td>\n",
       "      <td>4.0</td>\n",
       "      <td>1.0</td>\n",
       "      <td>0.0</td>\n",
       "      <td>0.0</td>\n",
       "      <td>6.0</td>\n",
       "      <td>Orthodox</td>\n",
       "      <td>162.56</td>\n",
       "      <td>172.72</td>\n",
       "      <td>135.0</td>\n",
       "      <td>29.0</td>\n",
       "    </tr>\n",
       "    <tr>\n",
       "      <th>2019-06-08</th>\n",
       "      <td>Tai Tuivasa</td>\n",
       "      <td>Blue</td>\n",
       "      <td>False</td>\n",
       "      <td>Heavyweight</td>\n",
       "      <td>3</td>\n",
       "      <td>1.0</td>\n",
       "      <td>0.0</td>\n",
       "      <td>0.0</td>\n",
       "      <td>7.750000</td>\n",
       "      <td>6.750000</td>\n",
       "      <td>...</td>\n",
       "      <td>1.0</td>\n",
       "      <td>2.0</td>\n",
       "      <td>0.0</td>\n",
       "      <td>0.0</td>\n",
       "      <td>3.0</td>\n",
       "      <td>Southpaw</td>\n",
       "      <td>187.96</td>\n",
       "      <td>190.50</td>\n",
       "      <td>264.0</td>\n",
       "      <td>26.0</td>\n",
       "    </tr>\n",
       "  </tbody>\n",
       "</table>\n",
       "<p>5 rows × 73 columns</p>\n",
       "</div>"
      ],
      "text/plain": [
       "                       R_fighter Winner  title_bout       weight_class  \\\n",
       "date                                                                     \n",
       "2019-06-08          Henry Cejudo    Red        True       Bantamweight   \n",
       "2019-06-08  Valentina Shevchenko    Red        True  Women's Flyweight   \n",
       "2019-06-08         Tony Ferguson    Red       False        Lightweight   \n",
       "2019-06-08         Jimmie Rivera   Blue       False       Bantamweight   \n",
       "2019-06-08           Tai Tuivasa   Blue       False        Heavyweight   \n",
       "\n",
       "            no_of_rounds  R_current_lose_streak  R_current_win_streak  R_draw  \\\n",
       "date                                                                            \n",
       "2019-06-08             5                    0.0                   4.0     0.0   \n",
       "2019-06-08             5                    0.0                   2.0     0.0   \n",
       "2019-06-08             3                    0.0                  11.0     0.0   \n",
       "2019-06-08             3                    1.0                   0.0     0.0   \n",
       "2019-06-08             3                    1.0                   0.0     0.0   \n",
       "\n",
       "            R_avg_BODY_att  R_avg_BODY_landed  ...  \\\n",
       "date                                           ...   \n",
       "2019-06-08       21.900000          16.400000  ...   \n",
       "2019-06-08       12.000000           7.714286  ...   \n",
       "2019-06-08       13.866667           8.666667  ...   \n",
       "2019-06-08       18.250000          10.250000  ...   \n",
       "2019-06-08        7.750000           6.750000  ...   \n",
       "\n",
       "            R_win_by_Decision_Unanimous  R_win_by_KO/TKO  R_win_by_Submission  \\\n",
       "date                                                                            \n",
       "2019-06-08                          4.0              2.0                  0.0   \n",
       "2019-06-08                          2.0              0.0                  2.0   \n",
       "2019-06-08                          3.0              3.0                  6.0   \n",
       "2019-06-08                          4.0              1.0                  0.0   \n",
       "2019-06-08                          1.0              2.0                  0.0   \n",
       "\n",
       "            R_win_by_TKO_Doctor_Stoppage  R_wins  R_Stance  R_Height_cms  \\\n",
       "date                                                                       \n",
       "2019-06-08                           0.0     8.0  Orthodox        162.56   \n",
       "2019-06-08                           0.0     5.0  Southpaw        165.10   \n",
       "2019-06-08                           1.0    14.0  Orthodox        180.34   \n",
       "2019-06-08                           0.0     6.0  Orthodox        162.56   \n",
       "2019-06-08                           0.0     3.0  Southpaw        187.96   \n",
       "\n",
       "            R_Reach_cms  R_Weight_lbs  R_age  \n",
       "date                                          \n",
       "2019-06-08       162.56         135.0   32.0  \n",
       "2019-06-08       167.64         125.0   31.0  \n",
       "2019-06-08       193.04         155.0   35.0  \n",
       "2019-06-08       172.72         135.0   29.0  \n",
       "2019-06-08       190.50         264.0   26.0  \n",
       "\n",
       "[5 rows x 73 columns]"
      ]
     },
     "execution_count": 267,
     "metadata": {},
     "output_type": "execute_result"
    }
   ],
   "source": [
    "red_cols = [col for col in ufc.columns if not col.startswith('B')]\n",
    "red_fighters = ufc[red_cols]\n",
    "red_fighters.head()"
   ]
  },
  {
   "cell_type": "code",
   "execution_count": 268,
   "metadata": {},
   "outputs": [
    {
     "data": {
      "text/html": [
       "<div>\n",
       "<style scoped>\n",
       "    .dataframe tbody tr th:only-of-type {\n",
       "        vertical-align: middle;\n",
       "    }\n",
       "\n",
       "    .dataframe tbody tr th {\n",
       "        vertical-align: top;\n",
       "    }\n",
       "\n",
       "    .dataframe thead th {\n",
       "        text-align: right;\n",
       "    }\n",
       "</style>\n",
       "<table border=\"1\" class=\"dataframe\">\n",
       "  <thead>\n",
       "    <tr style=\"text-align: right;\">\n",
       "      <th></th>\n",
       "      <th>B_fighter</th>\n",
       "      <th>Winner</th>\n",
       "      <th>title_bout</th>\n",
       "      <th>weight_class</th>\n",
       "      <th>no_of_rounds</th>\n",
       "      <th>B_current_lose_streak</th>\n",
       "      <th>B_current_win_streak</th>\n",
       "      <th>B_draw</th>\n",
       "      <th>B_avg_BODY_att</th>\n",
       "      <th>B_avg_BODY_landed</th>\n",
       "      <th>...</th>\n",
       "      <th>B_win_by_Decision_Unanimous</th>\n",
       "      <th>B_win_by_KO/TKO</th>\n",
       "      <th>B_win_by_Submission</th>\n",
       "      <th>B_win_by_TKO_Doctor_Stoppage</th>\n",
       "      <th>B_wins</th>\n",
       "      <th>B_Stance</th>\n",
       "      <th>B_Height_cms</th>\n",
       "      <th>B_Reach_cms</th>\n",
       "      <th>B_Weight_lbs</th>\n",
       "      <th>B_age</th>\n",
       "    </tr>\n",
       "    <tr>\n",
       "      <th>date</th>\n",
       "      <th></th>\n",
       "      <th></th>\n",
       "      <th></th>\n",
       "      <th></th>\n",
       "      <th></th>\n",
       "      <th></th>\n",
       "      <th></th>\n",
       "      <th></th>\n",
       "      <th></th>\n",
       "      <th></th>\n",
       "      <th></th>\n",
       "      <th></th>\n",
       "      <th></th>\n",
       "      <th></th>\n",
       "      <th></th>\n",
       "      <th></th>\n",
       "      <th></th>\n",
       "      <th></th>\n",
       "      <th></th>\n",
       "      <th></th>\n",
       "      <th></th>\n",
       "    </tr>\n",
       "  </thead>\n",
       "  <tbody>\n",
       "    <tr>\n",
       "      <th>2019-06-08</th>\n",
       "      <td>Marlon Moraes</td>\n",
       "      <td>Red</td>\n",
       "      <td>True</td>\n",
       "      <td>Bantamweight</td>\n",
       "      <td>5</td>\n",
       "      <td>0.0</td>\n",
       "      <td>4.0</td>\n",
       "      <td>0.0</td>\n",
       "      <td>9.200000</td>\n",
       "      <td>6.000000</td>\n",
       "      <td>...</td>\n",
       "      <td>0.0</td>\n",
       "      <td>2.0</td>\n",
       "      <td>1.0</td>\n",
       "      <td>0.0</td>\n",
       "      <td>4.0</td>\n",
       "      <td>Orthodox</td>\n",
       "      <td>167.64</td>\n",
       "      <td>170.18</td>\n",
       "      <td>135.0</td>\n",
       "      <td>31.0</td>\n",
       "    </tr>\n",
       "    <tr>\n",
       "      <th>2019-06-08</th>\n",
       "      <td>Jessica Eye</td>\n",
       "      <td>Red</td>\n",
       "      <td>True</td>\n",
       "      <td>Women's Flyweight</td>\n",
       "      <td>5</td>\n",
       "      <td>0.0</td>\n",
       "      <td>3.0</td>\n",
       "      <td>0.0</td>\n",
       "      <td>14.600000</td>\n",
       "      <td>9.100000</td>\n",
       "      <td>...</td>\n",
       "      <td>1.0</td>\n",
       "      <td>0.0</td>\n",
       "      <td>0.0</td>\n",
       "      <td>1.0</td>\n",
       "      <td>4.0</td>\n",
       "      <td>Orthodox</td>\n",
       "      <td>167.64</td>\n",
       "      <td>167.64</td>\n",
       "      <td>125.0</td>\n",
       "      <td>32.0</td>\n",
       "    </tr>\n",
       "    <tr>\n",
       "      <th>2019-06-08</th>\n",
       "      <td>Donald Cerrone</td>\n",
       "      <td>Red</td>\n",
       "      <td>False</td>\n",
       "      <td>Lightweight</td>\n",
       "      <td>3</td>\n",
       "      <td>0.0</td>\n",
       "      <td>3.0</td>\n",
       "      <td>0.0</td>\n",
       "      <td>15.354839</td>\n",
       "      <td>11.322581</td>\n",
       "      <td>...</td>\n",
       "      <td>7.0</td>\n",
       "      <td>10.0</td>\n",
       "      <td>6.0</td>\n",
       "      <td>0.0</td>\n",
       "      <td>23.0</td>\n",
       "      <td>Orthodox</td>\n",
       "      <td>185.42</td>\n",
       "      <td>185.42</td>\n",
       "      <td>155.0</td>\n",
       "      <td>36.0</td>\n",
       "    </tr>\n",
       "    <tr>\n",
       "      <th>2019-06-08</th>\n",
       "      <td>Petr Yan</td>\n",
       "      <td>Blue</td>\n",
       "      <td>False</td>\n",
       "      <td>Bantamweight</td>\n",
       "      <td>3</td>\n",
       "      <td>0.0</td>\n",
       "      <td>4.0</td>\n",
       "      <td>0.0</td>\n",
       "      <td>17.000000</td>\n",
       "      <td>14.000000</td>\n",
       "      <td>...</td>\n",
       "      <td>2.0</td>\n",
       "      <td>2.0</td>\n",
       "      <td>0.0</td>\n",
       "      <td>0.0</td>\n",
       "      <td>4.0</td>\n",
       "      <td>Switch</td>\n",
       "      <td>170.18</td>\n",
       "      <td>170.18</td>\n",
       "      <td>135.0</td>\n",
       "      <td>26.0</td>\n",
       "    </tr>\n",
       "    <tr>\n",
       "      <th>2019-06-08</th>\n",
       "      <td>Blagoy Ivanov</td>\n",
       "      <td>Blue</td>\n",
       "      <td>False</td>\n",
       "      <td>Heavyweight</td>\n",
       "      <td>3</td>\n",
       "      <td>0.0</td>\n",
       "      <td>1.0</td>\n",
       "      <td>0.0</td>\n",
       "      <td>17.000000</td>\n",
       "      <td>14.500000</td>\n",
       "      <td>...</td>\n",
       "      <td>1.0</td>\n",
       "      <td>0.0</td>\n",
       "      <td>0.0</td>\n",
       "      <td>0.0</td>\n",
       "      <td>1.0</td>\n",
       "      <td>Southpaw</td>\n",
       "      <td>180.34</td>\n",
       "      <td>185.42</td>\n",
       "      <td>250.0</td>\n",
       "      <td>32.0</td>\n",
       "    </tr>\n",
       "  </tbody>\n",
       "</table>\n",
       "<p>5 rows × 73 columns</p>\n",
       "</div>"
      ],
      "text/plain": [
       "                 B_fighter Winner  title_bout       weight_class  \\\n",
       "date                                                               \n",
       "2019-06-08   Marlon Moraes    Red        True       Bantamweight   \n",
       "2019-06-08     Jessica Eye    Red        True  Women's Flyweight   \n",
       "2019-06-08  Donald Cerrone    Red       False        Lightweight   \n",
       "2019-06-08        Petr Yan   Blue       False       Bantamweight   \n",
       "2019-06-08   Blagoy Ivanov   Blue       False        Heavyweight   \n",
       "\n",
       "            no_of_rounds  B_current_lose_streak  B_current_win_streak  B_draw  \\\n",
       "date                                                                            \n",
       "2019-06-08             5                    0.0                   4.0     0.0   \n",
       "2019-06-08             5                    0.0                   3.0     0.0   \n",
       "2019-06-08             3                    0.0                   3.0     0.0   \n",
       "2019-06-08             3                    0.0                   4.0     0.0   \n",
       "2019-06-08             3                    0.0                   1.0     0.0   \n",
       "\n",
       "            B_avg_BODY_att  B_avg_BODY_landed  ...  \\\n",
       "date                                           ...   \n",
       "2019-06-08        9.200000           6.000000  ...   \n",
       "2019-06-08       14.600000           9.100000  ...   \n",
       "2019-06-08       15.354839          11.322581  ...   \n",
       "2019-06-08       17.000000          14.000000  ...   \n",
       "2019-06-08       17.000000          14.500000  ...   \n",
       "\n",
       "            B_win_by_Decision_Unanimous  B_win_by_KO/TKO  B_win_by_Submission  \\\n",
       "date                                                                            \n",
       "2019-06-08                          0.0              2.0                  1.0   \n",
       "2019-06-08                          1.0              0.0                  0.0   \n",
       "2019-06-08                          7.0             10.0                  6.0   \n",
       "2019-06-08                          2.0              2.0                  0.0   \n",
       "2019-06-08                          1.0              0.0                  0.0   \n",
       "\n",
       "            B_win_by_TKO_Doctor_Stoppage  B_wins  B_Stance  B_Height_cms  \\\n",
       "date                                                                       \n",
       "2019-06-08                           0.0     4.0  Orthodox        167.64   \n",
       "2019-06-08                           1.0     4.0  Orthodox        167.64   \n",
       "2019-06-08                           0.0    23.0  Orthodox        185.42   \n",
       "2019-06-08                           0.0     4.0    Switch        170.18   \n",
       "2019-06-08                           0.0     1.0  Southpaw        180.34   \n",
       "\n",
       "            B_Reach_cms  B_Weight_lbs  B_age  \n",
       "date                                          \n",
       "2019-06-08       170.18         135.0   31.0  \n",
       "2019-06-08       167.64         125.0   32.0  \n",
       "2019-06-08       185.42         155.0   36.0  \n",
       "2019-06-08       170.18         135.0   26.0  \n",
       "2019-06-08       185.42         250.0   32.0  \n",
       "\n",
       "[5 rows x 73 columns]"
      ]
     },
     "execution_count": 268,
     "metadata": {},
     "output_type": "execute_result"
    }
   ],
   "source": [
    "blue_cols = [col for col in ufc.columns if not col.startswith('R')]\n",
    "blue_fighters = ufc[blue_cols]\n",
    "blue_fighters.head()"
   ]
  },
  {
   "cell_type": "code",
   "execution_count": 291,
   "metadata": {},
   "outputs": [
    {
     "data": {
      "text/plain": [
       "['fighter',\n",
       " 'Winner',\n",
       " 'title_bout',\n",
       " 'weight_class',\n",
       " 'no_of_rounds',\n",
       " 'current_lose_streak',\n",
       " 'current_win_streak',\n",
       " 'draw',\n",
       " 'avg_BODY_att',\n",
       " 'avg_BODY_landed',\n",
       " 'avg_CLINCH_att',\n",
       " 'avg_CLINCH_landed',\n",
       " 'avg_DISTANCE_att',\n",
       " 'avg_DISTANCE_landed',\n",
       " 'avg_GROUND_att',\n",
       " 'avg_GROUND_landed',\n",
       " 'avg_HEAD_att',\n",
       " 'avg_HEAD_landed',\n",
       " 'avg_KD',\n",
       " 'avg_LEG_att',\n",
       " 'avg_LEG_landed',\n",
       " 'avg_PASS',\n",
       " 'avg_REV',\n",
       " 'avg_SIG_STR_att',\n",
       " 'avg_SIG_STR_landed',\n",
       " 'avg_SIG_STR_pct',\n",
       " 'avg_SUB_ATT',\n",
       " 'avg_TD_att',\n",
       " 'avg_TD_landed',\n",
       " 'avg_TD_pct',\n",
       " 'avg_TOTAL_STR_att',\n",
       " 'avg_TOTAL_STR_landed',\n",
       " 'longest_win_streak',\n",
       " 'losses',\n",
       " 'avg_opp_BODY_att',\n",
       " 'avg_opp_BODY_landed',\n",
       " 'avg_opp_CLINCH_att',\n",
       " 'avg_opp_CLINCH_landed',\n",
       " 'avg_opp_DISTANCE_att',\n",
       " 'avg_opp_DISTANCE_landed',\n",
       " 'avg_opp_GROUND_att',\n",
       " 'avg_opp_GROUND_landed',\n",
       " 'avg_opp_HEAD_att',\n",
       " 'avg_opp_HEAD_landed',\n",
       " 'avg_opp_KD',\n",
       " 'avg_opp_LEG_att',\n",
       " 'avg_opp_LEG_landed',\n",
       " 'avg_opp_PASS',\n",
       " 'avg_opp_REV',\n",
       " 'avg_opp_SIG_STR_att',\n",
       " 'avg_opp_SIG_STR_landed',\n",
       " 'avg_opp_SIG_STR_pct',\n",
       " 'avg_opp_SUB_ATT',\n",
       " 'avg_opp_TD_att',\n",
       " 'avg_opp_TD_landed',\n",
       " 'avg_opp_TD_pct',\n",
       " 'avg_opp_TOTAL_STR_att',\n",
       " 'avg_opp_TOTAL_STR_landed',\n",
       " 'total_rounds_fought',\n",
       " 'total_time_fought(seconds)',\n",
       " 'total_title_bouts',\n",
       " 'win_by_Decision_Majority',\n",
       " 'win_by_Decision_Split',\n",
       " 'win_by_Decision_Unanimous',\n",
       " 'win_by_KO/TKO',\n",
       " 'win_by_Submission',\n",
       " 'win_by_TKO_Doctor_Stoppage',\n",
       " 'wins',\n",
       " 'Stance',\n",
       " 'Height_cms',\n",
       " 'Reach_cms',\n",
       " 'Weight_lbs',\n",
       " 'age']"
      ]
     },
     "execution_count": 291,
     "metadata": {},
     "output_type": "execute_result"
    }
   ],
   "source": [
    "neutral_cols = [col[2:]  if col.startswith('R') else col for col in red_fighters.columns ]\n",
    "neutral_cols"
   ]
  },
  {
   "cell_type": "markdown",
   "metadata": {},
   "source": [
    "I will merge the 2 DataFrames with these neutral columns, but first I have to change the values in the Winner columns. This will help me in my analysis later on."
   ]
  },
  {
   "cell_type": "code",
   "execution_count": 299,
   "metadata": {},
   "outputs": [
    {
     "name": "stderr",
     "output_type": "stream",
     "text": [
      "C:\\ProgramData\\Anaconda3\\lib\\site-packages\\ipykernel_launcher.py:1: SettingWithCopyWarning: \n",
      "A value is trying to be set on a copy of a slice from a DataFrame.\n",
      "Try using .loc[row_indexer,col_indexer] = value instead\n",
      "\n",
      "See the caveats in the documentation: https://pandas.pydata.org/pandas-docs/stable/user_guide/indexing.html#returning-a-view-versus-a-copy\n",
      "  \"\"\"Entry point for launching an IPython kernel.\n"
     ]
    },
    {
     "data": {
      "text/html": [
       "<div>\n",
       "<style scoped>\n",
       "    .dataframe tbody tr th:only-of-type {\n",
       "        vertical-align: middle;\n",
       "    }\n",
       "\n",
       "    .dataframe tbody tr th {\n",
       "        vertical-align: top;\n",
       "    }\n",
       "\n",
       "    .dataframe thead th {\n",
       "        text-align: right;\n",
       "    }\n",
       "</style>\n",
       "<table border=\"1\" class=\"dataframe\">\n",
       "  <thead>\n",
       "    <tr style=\"text-align: right;\">\n",
       "      <th></th>\n",
       "      <th>fighter</th>\n",
       "      <th>Winner</th>\n",
       "      <th>title_bout</th>\n",
       "      <th>weight_class</th>\n",
       "      <th>no_of_rounds</th>\n",
       "      <th>current_lose_streak</th>\n",
       "      <th>current_win_streak</th>\n",
       "      <th>draw</th>\n",
       "      <th>avg_BODY_att</th>\n",
       "      <th>avg_BODY_landed</th>\n",
       "      <th>...</th>\n",
       "      <th>win_by_Decision_Unanimous</th>\n",
       "      <th>win_by_KO/TKO</th>\n",
       "      <th>win_by_Submission</th>\n",
       "      <th>win_by_TKO_Doctor_Stoppage</th>\n",
       "      <th>wins</th>\n",
       "      <th>Stance</th>\n",
       "      <th>Height_cms</th>\n",
       "      <th>Reach_cms</th>\n",
       "      <th>Weight_lbs</th>\n",
       "      <th>age</th>\n",
       "    </tr>\n",
       "    <tr>\n",
       "      <th>date</th>\n",
       "      <th></th>\n",
       "      <th></th>\n",
       "      <th></th>\n",
       "      <th></th>\n",
       "      <th></th>\n",
       "      <th></th>\n",
       "      <th></th>\n",
       "      <th></th>\n",
       "      <th></th>\n",
       "      <th></th>\n",
       "      <th></th>\n",
       "      <th></th>\n",
       "      <th></th>\n",
       "      <th></th>\n",
       "      <th></th>\n",
       "      <th></th>\n",
       "      <th></th>\n",
       "      <th></th>\n",
       "      <th></th>\n",
       "      <th></th>\n",
       "      <th></th>\n",
       "    </tr>\n",
       "  </thead>\n",
       "  <tbody>\n",
       "    <tr>\n",
       "      <th>2019-06-08</th>\n",
       "      <td>Henry Cejudo</td>\n",
       "      <td>False</td>\n",
       "      <td>True</td>\n",
       "      <td>Bantamweight</td>\n",
       "      <td>5</td>\n",
       "      <td>0.0</td>\n",
       "      <td>4.0</td>\n",
       "      <td>0.0</td>\n",
       "      <td>21.900000</td>\n",
       "      <td>16.400000</td>\n",
       "      <td>...</td>\n",
       "      <td>4.0</td>\n",
       "      <td>2.0</td>\n",
       "      <td>0.0</td>\n",
       "      <td>0.0</td>\n",
       "      <td>8.0</td>\n",
       "      <td>Orthodox</td>\n",
       "      <td>162.56</td>\n",
       "      <td>162.56</td>\n",
       "      <td>135.0</td>\n",
       "      <td>32.0</td>\n",
       "    </tr>\n",
       "    <tr>\n",
       "      <th>2019-06-08</th>\n",
       "      <td>Valentina Shevchenko</td>\n",
       "      <td>False</td>\n",
       "      <td>True</td>\n",
       "      <td>Women's Flyweight</td>\n",
       "      <td>5</td>\n",
       "      <td>0.0</td>\n",
       "      <td>2.0</td>\n",
       "      <td>0.0</td>\n",
       "      <td>12.000000</td>\n",
       "      <td>7.714286</td>\n",
       "      <td>...</td>\n",
       "      <td>2.0</td>\n",
       "      <td>0.0</td>\n",
       "      <td>2.0</td>\n",
       "      <td>0.0</td>\n",
       "      <td>5.0</td>\n",
       "      <td>Southpaw</td>\n",
       "      <td>165.10</td>\n",
       "      <td>167.64</td>\n",
       "      <td>125.0</td>\n",
       "      <td>31.0</td>\n",
       "    </tr>\n",
       "    <tr>\n",
       "      <th>2019-06-08</th>\n",
       "      <td>Tony Ferguson</td>\n",
       "      <td>False</td>\n",
       "      <td>False</td>\n",
       "      <td>Lightweight</td>\n",
       "      <td>3</td>\n",
       "      <td>0.0</td>\n",
       "      <td>11.0</td>\n",
       "      <td>0.0</td>\n",
       "      <td>13.866667</td>\n",
       "      <td>8.666667</td>\n",
       "      <td>...</td>\n",
       "      <td>3.0</td>\n",
       "      <td>3.0</td>\n",
       "      <td>6.0</td>\n",
       "      <td>1.0</td>\n",
       "      <td>14.0</td>\n",
       "      <td>Orthodox</td>\n",
       "      <td>180.34</td>\n",
       "      <td>193.04</td>\n",
       "      <td>155.0</td>\n",
       "      <td>35.0</td>\n",
       "    </tr>\n",
       "    <tr>\n",
       "      <th>2019-06-08</th>\n",
       "      <td>Jimmie Rivera</td>\n",
       "      <td>False</td>\n",
       "      <td>False</td>\n",
       "      <td>Bantamweight</td>\n",
       "      <td>3</td>\n",
       "      <td>1.0</td>\n",
       "      <td>0.0</td>\n",
       "      <td>0.0</td>\n",
       "      <td>18.250000</td>\n",
       "      <td>10.250000</td>\n",
       "      <td>...</td>\n",
       "      <td>4.0</td>\n",
       "      <td>1.0</td>\n",
       "      <td>0.0</td>\n",
       "      <td>0.0</td>\n",
       "      <td>6.0</td>\n",
       "      <td>Orthodox</td>\n",
       "      <td>162.56</td>\n",
       "      <td>172.72</td>\n",
       "      <td>135.0</td>\n",
       "      <td>29.0</td>\n",
       "    </tr>\n",
       "    <tr>\n",
       "      <th>2019-06-08</th>\n",
       "      <td>Tai Tuivasa</td>\n",
       "      <td>False</td>\n",
       "      <td>False</td>\n",
       "      <td>Heavyweight</td>\n",
       "      <td>3</td>\n",
       "      <td>1.0</td>\n",
       "      <td>0.0</td>\n",
       "      <td>0.0</td>\n",
       "      <td>7.750000</td>\n",
       "      <td>6.750000</td>\n",
       "      <td>...</td>\n",
       "      <td>1.0</td>\n",
       "      <td>2.0</td>\n",
       "      <td>0.0</td>\n",
       "      <td>0.0</td>\n",
       "      <td>3.0</td>\n",
       "      <td>Southpaw</td>\n",
       "      <td>187.96</td>\n",
       "      <td>190.50</td>\n",
       "      <td>264.0</td>\n",
       "      <td>26.0</td>\n",
       "    </tr>\n",
       "  </tbody>\n",
       "</table>\n",
       "<p>5 rows × 73 columns</p>\n",
       "</div>"
      ],
      "text/plain": [
       "                         fighter  Winner  title_bout       weight_class  \\\n",
       "date                                                                      \n",
       "2019-06-08          Henry Cejudo   False        True       Bantamweight   \n",
       "2019-06-08  Valentina Shevchenko   False        True  Women's Flyweight   \n",
       "2019-06-08         Tony Ferguson   False       False        Lightweight   \n",
       "2019-06-08         Jimmie Rivera   False       False       Bantamweight   \n",
       "2019-06-08           Tai Tuivasa   False       False        Heavyweight   \n",
       "\n",
       "            no_of_rounds  current_lose_streak  current_win_streak  draw  \\\n",
       "date                                                                      \n",
       "2019-06-08             5                  0.0                 4.0   0.0   \n",
       "2019-06-08             5                  0.0                 2.0   0.0   \n",
       "2019-06-08             3                  0.0                11.0   0.0   \n",
       "2019-06-08             3                  1.0                 0.0   0.0   \n",
       "2019-06-08             3                  1.0                 0.0   0.0   \n",
       "\n",
       "            avg_BODY_att  avg_BODY_landed  ...  win_by_Decision_Unanimous  \\\n",
       "date                                       ...                              \n",
       "2019-06-08     21.900000        16.400000  ...                        4.0   \n",
       "2019-06-08     12.000000         7.714286  ...                        2.0   \n",
       "2019-06-08     13.866667         8.666667  ...                        3.0   \n",
       "2019-06-08     18.250000        10.250000  ...                        4.0   \n",
       "2019-06-08      7.750000         6.750000  ...                        1.0   \n",
       "\n",
       "            win_by_KO/TKO  win_by_Submission  win_by_TKO_Doctor_Stoppage  \\\n",
       "date                                                                       \n",
       "2019-06-08            2.0                0.0                         0.0   \n",
       "2019-06-08            0.0                2.0                         0.0   \n",
       "2019-06-08            3.0                6.0                         1.0   \n",
       "2019-06-08            1.0                0.0                         0.0   \n",
       "2019-06-08            2.0                0.0                         0.0   \n",
       "\n",
       "            wins    Stance  Height_cms  Reach_cms  Weight_lbs   age  \n",
       "date                                                                 \n",
       "2019-06-08   8.0  Orthodox      162.56     162.56       135.0  32.0  \n",
       "2019-06-08   5.0  Southpaw      165.10     167.64       125.0  31.0  \n",
       "2019-06-08  14.0  Orthodox      180.34     193.04       155.0  35.0  \n",
       "2019-06-08   6.0  Orthodox      162.56     172.72       135.0  29.0  \n",
       "2019-06-08   3.0  Southpaw      187.96     190.50       264.0  26.0  \n",
       "\n",
       "[5 rows x 73 columns]"
      ]
     },
     "execution_count": 299,
     "metadata": {},
     "output_type": "execute_result"
    }
   ],
   "source": [
    "red_fighters['Winner'] = [winner == 'Red' for winner in red_fighters['Winner']]\n",
    "red_fighters.head()"
   ]
  },
  {
   "cell_type": "code",
   "execution_count": 300,
   "metadata": {},
   "outputs": [
    {
     "name": "stderr",
     "output_type": "stream",
     "text": [
      "C:\\ProgramData\\Anaconda3\\lib\\site-packages\\ipykernel_launcher.py:1: SettingWithCopyWarning: \n",
      "A value is trying to be set on a copy of a slice from a DataFrame.\n",
      "Try using .loc[row_indexer,col_indexer] = value instead\n",
      "\n",
      "See the caveats in the documentation: https://pandas.pydata.org/pandas-docs/stable/user_guide/indexing.html#returning-a-view-versus-a-copy\n",
      "  \"\"\"Entry point for launching an IPython kernel.\n"
     ]
    },
    {
     "data": {
      "text/html": [
       "<div>\n",
       "<style scoped>\n",
       "    .dataframe tbody tr th:only-of-type {\n",
       "        vertical-align: middle;\n",
       "    }\n",
       "\n",
       "    .dataframe tbody tr th {\n",
       "        vertical-align: top;\n",
       "    }\n",
       "\n",
       "    .dataframe thead th {\n",
       "        text-align: right;\n",
       "    }\n",
       "</style>\n",
       "<table border=\"1\" class=\"dataframe\">\n",
       "  <thead>\n",
       "    <tr style=\"text-align: right;\">\n",
       "      <th></th>\n",
       "      <th>fighter</th>\n",
       "      <th>Winner</th>\n",
       "      <th>title_bout</th>\n",
       "      <th>weight_class</th>\n",
       "      <th>no_of_rounds</th>\n",
       "      <th>current_lose_streak</th>\n",
       "      <th>current_win_streak</th>\n",
       "      <th>draw</th>\n",
       "      <th>avg_BODY_att</th>\n",
       "      <th>avg_BODY_landed</th>\n",
       "      <th>...</th>\n",
       "      <th>win_by_Decision_Unanimous</th>\n",
       "      <th>win_by_KO/TKO</th>\n",
       "      <th>win_by_Submission</th>\n",
       "      <th>win_by_TKO_Doctor_Stoppage</th>\n",
       "      <th>wins</th>\n",
       "      <th>Stance</th>\n",
       "      <th>Height_cms</th>\n",
       "      <th>Reach_cms</th>\n",
       "      <th>Weight_lbs</th>\n",
       "      <th>age</th>\n",
       "    </tr>\n",
       "    <tr>\n",
       "      <th>date</th>\n",
       "      <th></th>\n",
       "      <th></th>\n",
       "      <th></th>\n",
       "      <th></th>\n",
       "      <th></th>\n",
       "      <th></th>\n",
       "      <th></th>\n",
       "      <th></th>\n",
       "      <th></th>\n",
       "      <th></th>\n",
       "      <th></th>\n",
       "      <th></th>\n",
       "      <th></th>\n",
       "      <th></th>\n",
       "      <th></th>\n",
       "      <th></th>\n",
       "      <th></th>\n",
       "      <th></th>\n",
       "      <th></th>\n",
       "      <th></th>\n",
       "      <th></th>\n",
       "    </tr>\n",
       "  </thead>\n",
       "  <tbody>\n",
       "    <tr>\n",
       "      <th>2019-06-08</th>\n",
       "      <td>Marlon Moraes</td>\n",
       "      <td>False</td>\n",
       "      <td>True</td>\n",
       "      <td>Bantamweight</td>\n",
       "      <td>5</td>\n",
       "      <td>0.0</td>\n",
       "      <td>4.0</td>\n",
       "      <td>0.0</td>\n",
       "      <td>9.200000</td>\n",
       "      <td>6.000000</td>\n",
       "      <td>...</td>\n",
       "      <td>0.0</td>\n",
       "      <td>2.0</td>\n",
       "      <td>1.0</td>\n",
       "      <td>0.0</td>\n",
       "      <td>4.0</td>\n",
       "      <td>Orthodox</td>\n",
       "      <td>167.64</td>\n",
       "      <td>170.18</td>\n",
       "      <td>135.0</td>\n",
       "      <td>31.0</td>\n",
       "    </tr>\n",
       "    <tr>\n",
       "      <th>2019-06-08</th>\n",
       "      <td>Jessica Eye</td>\n",
       "      <td>False</td>\n",
       "      <td>True</td>\n",
       "      <td>Women's Flyweight</td>\n",
       "      <td>5</td>\n",
       "      <td>0.0</td>\n",
       "      <td>3.0</td>\n",
       "      <td>0.0</td>\n",
       "      <td>14.600000</td>\n",
       "      <td>9.100000</td>\n",
       "      <td>...</td>\n",
       "      <td>1.0</td>\n",
       "      <td>0.0</td>\n",
       "      <td>0.0</td>\n",
       "      <td>1.0</td>\n",
       "      <td>4.0</td>\n",
       "      <td>Orthodox</td>\n",
       "      <td>167.64</td>\n",
       "      <td>167.64</td>\n",
       "      <td>125.0</td>\n",
       "      <td>32.0</td>\n",
       "    </tr>\n",
       "    <tr>\n",
       "      <th>2019-06-08</th>\n",
       "      <td>Donald Cerrone</td>\n",
       "      <td>False</td>\n",
       "      <td>False</td>\n",
       "      <td>Lightweight</td>\n",
       "      <td>3</td>\n",
       "      <td>0.0</td>\n",
       "      <td>3.0</td>\n",
       "      <td>0.0</td>\n",
       "      <td>15.354839</td>\n",
       "      <td>11.322581</td>\n",
       "      <td>...</td>\n",
       "      <td>7.0</td>\n",
       "      <td>10.0</td>\n",
       "      <td>6.0</td>\n",
       "      <td>0.0</td>\n",
       "      <td>23.0</td>\n",
       "      <td>Orthodox</td>\n",
       "      <td>185.42</td>\n",
       "      <td>185.42</td>\n",
       "      <td>155.0</td>\n",
       "      <td>36.0</td>\n",
       "    </tr>\n",
       "    <tr>\n",
       "      <th>2019-06-08</th>\n",
       "      <td>Petr Yan</td>\n",
       "      <td>True</td>\n",
       "      <td>False</td>\n",
       "      <td>Bantamweight</td>\n",
       "      <td>3</td>\n",
       "      <td>0.0</td>\n",
       "      <td>4.0</td>\n",
       "      <td>0.0</td>\n",
       "      <td>17.000000</td>\n",
       "      <td>14.000000</td>\n",
       "      <td>...</td>\n",
       "      <td>2.0</td>\n",
       "      <td>2.0</td>\n",
       "      <td>0.0</td>\n",
       "      <td>0.0</td>\n",
       "      <td>4.0</td>\n",
       "      <td>Switch</td>\n",
       "      <td>170.18</td>\n",
       "      <td>170.18</td>\n",
       "      <td>135.0</td>\n",
       "      <td>26.0</td>\n",
       "    </tr>\n",
       "    <tr>\n",
       "      <th>2019-06-08</th>\n",
       "      <td>Blagoy Ivanov</td>\n",
       "      <td>True</td>\n",
       "      <td>False</td>\n",
       "      <td>Heavyweight</td>\n",
       "      <td>3</td>\n",
       "      <td>0.0</td>\n",
       "      <td>1.0</td>\n",
       "      <td>0.0</td>\n",
       "      <td>17.000000</td>\n",
       "      <td>14.500000</td>\n",
       "      <td>...</td>\n",
       "      <td>1.0</td>\n",
       "      <td>0.0</td>\n",
       "      <td>0.0</td>\n",
       "      <td>0.0</td>\n",
       "      <td>1.0</td>\n",
       "      <td>Southpaw</td>\n",
       "      <td>180.34</td>\n",
       "      <td>185.42</td>\n",
       "      <td>250.0</td>\n",
       "      <td>32.0</td>\n",
       "    </tr>\n",
       "  </tbody>\n",
       "</table>\n",
       "<p>5 rows × 73 columns</p>\n",
       "</div>"
      ],
      "text/plain": [
       "                   fighter  Winner  title_bout       weight_class  \\\n",
       "date                                                                \n",
       "2019-06-08   Marlon Moraes   False        True       Bantamweight   \n",
       "2019-06-08     Jessica Eye   False        True  Women's Flyweight   \n",
       "2019-06-08  Donald Cerrone   False       False        Lightweight   \n",
       "2019-06-08        Petr Yan    True       False       Bantamweight   \n",
       "2019-06-08   Blagoy Ivanov    True       False        Heavyweight   \n",
       "\n",
       "            no_of_rounds  current_lose_streak  current_win_streak  draw  \\\n",
       "date                                                                      \n",
       "2019-06-08             5                  0.0                 4.0   0.0   \n",
       "2019-06-08             5                  0.0                 3.0   0.0   \n",
       "2019-06-08             3                  0.0                 3.0   0.0   \n",
       "2019-06-08             3                  0.0                 4.0   0.0   \n",
       "2019-06-08             3                  0.0                 1.0   0.0   \n",
       "\n",
       "            avg_BODY_att  avg_BODY_landed  ...  win_by_Decision_Unanimous  \\\n",
       "date                                       ...                              \n",
       "2019-06-08      9.200000         6.000000  ...                        0.0   \n",
       "2019-06-08     14.600000         9.100000  ...                        1.0   \n",
       "2019-06-08     15.354839        11.322581  ...                        7.0   \n",
       "2019-06-08     17.000000        14.000000  ...                        2.0   \n",
       "2019-06-08     17.000000        14.500000  ...                        1.0   \n",
       "\n",
       "            win_by_KO/TKO  win_by_Submission  win_by_TKO_Doctor_Stoppage  \\\n",
       "date                                                                       \n",
       "2019-06-08            2.0                1.0                         0.0   \n",
       "2019-06-08            0.0                0.0                         1.0   \n",
       "2019-06-08           10.0                6.0                         0.0   \n",
       "2019-06-08            2.0                0.0                         0.0   \n",
       "2019-06-08            0.0                0.0                         0.0   \n",
       "\n",
       "            wins    Stance  Height_cms  Reach_cms  Weight_lbs   age  \n",
       "date                                                                 \n",
       "2019-06-08   4.0  Orthodox      167.64     170.18       135.0  31.0  \n",
       "2019-06-08   4.0  Orthodox      167.64     167.64       125.0  32.0  \n",
       "2019-06-08  23.0  Orthodox      185.42     185.42       155.0  36.0  \n",
       "2019-06-08   4.0    Switch      170.18     170.18       135.0  26.0  \n",
       "2019-06-08   1.0  Southpaw      180.34     185.42       250.0  32.0  \n",
       "\n",
       "[5 rows x 73 columns]"
      ]
     },
     "execution_count": 300,
     "metadata": {},
     "output_type": "execute_result"
    }
   ],
   "source": [
    "blue_fighters['Winner'] = [winner == 'Blue' for winner in blue_fighters['Winner']]\n",
    "blue_fighters.head()"
   ]
  },
  {
   "cell_type": "code",
   "execution_count": 316,
   "metadata": {},
   "outputs": [
    {
     "data": {
      "text/plain": [
       "(10288, 73)"
      ]
     },
     "execution_count": 316,
     "metadata": {},
     "output_type": "execute_result"
    }
   ],
   "source": [
    "red_fighters.columns = neutral_cols\n",
    "blue_fighters.columns = neutral_cols\n",
    "df = pd.concat([red_fighters, blue_fighters])\n",
    "df.shape"
   ]
  },
  {
   "cell_type": "markdown",
   "metadata": {},
   "source": [
    "### 5.2 Remove Null Values"
   ]
  },
  {
   "cell_type": "markdown",
   "metadata": {},
   "source": [
    "Now that each row represents one fighter, removing one row for not having a fighter's age would not involve collateral removal of another fighter's data. Since age is the most pertinent variable, I will remove rows missing the fighter's age."
   ]
  },
  {
   "cell_type": "code",
   "execution_count": 334,
   "metadata": {
    "scrolled": true
   },
   "outputs": [
    {
     "data": {
      "text/plain": [
       "(10052, 72)"
      ]
     },
     "execution_count": 334,
     "metadata": {},
     "output_type": "execute_result"
    }
   ],
   "source": [
    "df.dropna(subset=['age'], inplace=True)\n",
    "df.shape"
   ]
  },
  {
   "cell_type": "code",
   "execution_count": 337,
   "metadata": {},
   "outputs": [
    {
     "name": "stdout",
     "output_type": "stream",
     "text": [
      "Rows lost: 236\n"
     ]
    }
   ],
   "source": [
    "print('Rows lost: ' + str(10288 - 10052))"
   ]
  },
  {
   "cell_type": "markdown",
   "metadata": {},
   "source": [
    "The rest of the DataFrame now contains at least the fighter's name, whether they won the fight on a certain date, and their age. This should be enough to keep the rest of the DataFrame. I will need to create separate DataFrames with no Null values when I conduct further analysis on other fight performance metrics."
   ]
  }
 ],
 "metadata": {
  "kernelspec": {
   "display_name": "Python 3",
   "language": "python",
   "name": "python3"
  },
  "language_info": {
   "codemirror_mode": {
    "name": "ipython",
    "version": 3
   },
   "file_extension": ".py",
   "mimetype": "text/x-python",
   "name": "python",
   "nbconvert_exporter": "python",
   "pygments_lexer": "ipython3",
   "version": "3.7.6"
  }
 },
 "nbformat": 4,
 "nbformat_minor": 4
}
