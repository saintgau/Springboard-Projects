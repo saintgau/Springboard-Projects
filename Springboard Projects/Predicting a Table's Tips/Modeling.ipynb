{
 "cells": [
  {
   "cell_type": "markdown",
   "metadata": {},
   "source": [
    "# Tips Prediction - Modeling<a id='Tips_Prediction_-_Modeling'></a>"
   ]
  },
  {
   "cell_type": "markdown",
   "metadata": {},
   "source": [
    "## 1. Contents <a id='1._Contents'></a>\n",
    "* [Tips Prediction - Modeling](#Tips_Prediction_-_Modeling)\n",
    "  * [1. Contents](#1._Contents)\n",
    "  * [2. Sourcing and Loading](#2._Sourcing_and_Loading)\n",
    "    * [2a. Import relevant libraries](#2a._Import_relevant_libraries)\n",
    "    * [2b. Load DataFrame](#2b._Load_DataFrame)\n",
    "  * [3. `tip` model](#3._`tip`_model)\n",
    "    * [3a. Best features for linear regression](#3a._Best_features_for_linear_regression)\n",
    "    * [3b. Best feature for Random Forest regression](#3b._Best_features_for_Random_Forest_regression)\n",
    "    * [3c. Model Selection](#3c._Model_Selection)\n",
    "  * [4. Model Evaluations](#5._Model_Evaluations)\n",
    "    * [4a. Evaluation scatterplots](#5a._Evaluation_scatterplots)\n",
    "    * [4b. R-Squared](#5b._R-Squared)\n",
    "    * [4c. Residuals plots](#4c._Residuals_plots)\n",
    "    * [4d. Comparison with simple model based on the mean](#4d._Comparison_with_simple_model_based_on_mean)\n",
    "  * [5. Conclusion and Future Work](#6._Conclusion_and_Future_Work)"
   ]
  },
  {
   "cell_type": "markdown",
   "metadata": {},
   "source": [
    "## 2. Sourcing and Loading<a id='2._Sourcing_and_Loading'></a>"
   ]
  },
  {
   "cell_type": "markdown",
   "metadata": {},
   "source": [
    "### 2a. Import relevant libraries<a id='2a._Import_relevant_libraries'></a>"
   ]
  },
  {
   "cell_type": "code",
   "execution_count": 1,
   "metadata": {},
   "outputs": [],
   "source": [
    "import numpy as np \n",
    "import pandas as pd \n",
    "import matplotlib.pyplot as plt\n",
    "import seaborn as sns\n",
    "import kaggle as kg\n",
    "import pandas as pd\n",
    "import missingno as msno\n",
    "import statsmodels.api as sm\n",
    "import scipy.stats\n",
    "from matplotlib.lines import Line2D\n",
    "from matplotlib import rcParams\n",
    "sns.set_style(\"whitegrid\")\n",
    "sns.set_context(\"poster\")\n",
    "from kaggle.api.kaggle_api_extended import KaggleApi\n",
    "from statsmodels.graphics.api import abline_plot\n",
    "from sklearn.metrics import mean_squared_error, r2_score, classification_report, confusion_matrix, accuracy_score, \\\n",
    "plot_roc_curve, roc_curve, roc_auc_score, precision_recall_curve, auc, mean_absolute_error\n",
    "from sklearn.ensemble import RandomForestClassifier, RandomForestRegressor\n",
    "from sklearn.model_selection import train_test_split, cross_validate, GridSearchCV, learning_curve, cross_val_score\n",
    "from sklearn.linear_model import LogisticRegression, LinearRegression\n",
    "from sklearn.neighbors import KNeighborsClassifier\n",
    "from sklearn.preprocessing import StandardScaler\n",
    "from sklearn.pipeline import make_pipeline\n",
    "from sklearn.impute import SimpleImputer\n",
    "from sklearn import linear_model, preprocessing\n",
    "from sklearn.feature_selection import SelectKBest, f_regression\n",
    "from zipfile import ZipFile\n",
    "from scipy import stats\n",
    "from scipy.stats import t\n",
    "from scipy.stats import ttest_ind\n",
    "from scipy.stats import mannwhitneyu\n",
    "from numpy.random import seed\n",
    "from yellowbrick.datasets import load_concrete\n",
    "from yellowbrick.regressor import ResidualsPlot\n",
    "import warnings\n",
    "warnings.simplefilter(action=\"ignore\", category=FutureWarning)\n",
    "warnings.filterwarnings(action=\"ignore\", module=\"scipy\", message=\"^internal gelsd\")"
   ]
  },
  {
   "cell_type": "markdown",
   "metadata": {},
   "source": [
    "### 2b. Load DataFrame<a id='2b._Load_DataFrame'></a>"
   ]
  },
  {
   "cell_type": "code",
   "execution_count": 2,
   "metadata": {},
   "outputs": [
    {
     "data": {
      "text/html": [
       "<div>\n",
       "<style scoped>\n",
       "    .dataframe tbody tr th:only-of-type {\n",
       "        vertical-align: middle;\n",
       "    }\n",
       "\n",
       "    .dataframe tbody tr th {\n",
       "        vertical-align: top;\n",
       "    }\n",
       "\n",
       "    .dataframe thead th {\n",
       "        text-align: right;\n",
       "    }\n",
       "</style>\n",
       "<table border=\"1\" class=\"dataframe\">\n",
       "  <thead>\n",
       "    <tr style=\"text-align: right;\">\n",
       "      <th></th>\n",
       "      <th>total_bill</th>\n",
       "      <th>tip</th>\n",
       "      <th>size</th>\n",
       "      <th>perc</th>\n",
       "      <th>sex_Male</th>\n",
       "      <th>smoker_Yes</th>\n",
       "      <th>day_Sat</th>\n",
       "      <th>day_Sun</th>\n",
       "      <th>day_Thur</th>\n",
       "      <th>time_Lunch</th>\n",
       "    </tr>\n",
       "  </thead>\n",
       "  <tbody>\n",
       "    <tr>\n",
       "      <th>0</th>\n",
       "      <td>16.99</td>\n",
       "      <td>1.01</td>\n",
       "      <td>2</td>\n",
       "      <td>5.944673</td>\n",
       "      <td>0</td>\n",
       "      <td>0</td>\n",
       "      <td>0</td>\n",
       "      <td>1</td>\n",
       "      <td>0</td>\n",
       "      <td>0</td>\n",
       "    </tr>\n",
       "    <tr>\n",
       "      <th>1</th>\n",
       "      <td>10.34</td>\n",
       "      <td>1.66</td>\n",
       "      <td>3</td>\n",
       "      <td>16.054159</td>\n",
       "      <td>1</td>\n",
       "      <td>0</td>\n",
       "      <td>0</td>\n",
       "      <td>1</td>\n",
       "      <td>0</td>\n",
       "      <td>0</td>\n",
       "    </tr>\n",
       "    <tr>\n",
       "      <th>2</th>\n",
       "      <td>21.01</td>\n",
       "      <td>3.50</td>\n",
       "      <td>3</td>\n",
       "      <td>16.658734</td>\n",
       "      <td>1</td>\n",
       "      <td>0</td>\n",
       "      <td>0</td>\n",
       "      <td>1</td>\n",
       "      <td>0</td>\n",
       "      <td>0</td>\n",
       "    </tr>\n",
       "    <tr>\n",
       "      <th>3</th>\n",
       "      <td>23.68</td>\n",
       "      <td>3.31</td>\n",
       "      <td>2</td>\n",
       "      <td>13.978041</td>\n",
       "      <td>1</td>\n",
       "      <td>0</td>\n",
       "      <td>0</td>\n",
       "      <td>1</td>\n",
       "      <td>0</td>\n",
       "      <td>0</td>\n",
       "    </tr>\n",
       "    <tr>\n",
       "      <th>4</th>\n",
       "      <td>24.59</td>\n",
       "      <td>3.61</td>\n",
       "      <td>4</td>\n",
       "      <td>14.680765</td>\n",
       "      <td>0</td>\n",
       "      <td>0</td>\n",
       "      <td>0</td>\n",
       "      <td>1</td>\n",
       "      <td>0</td>\n",
       "      <td>0</td>\n",
       "    </tr>\n",
       "  </tbody>\n",
       "</table>\n",
       "</div>"
      ],
      "text/plain": [
       "   total_bill   tip  size       perc  sex_Male  smoker_Yes  day_Sat  day_Sun  \\\n",
       "0       16.99  1.01     2   5.944673         0           0        0        1   \n",
       "1       10.34  1.66     3  16.054159         1           0        0        1   \n",
       "2       21.01  3.50     3  16.658734         1           0        0        1   \n",
       "3       23.68  3.31     2  13.978041         1           0        0        1   \n",
       "4       24.59  3.61     4  14.680765         0           0        0        1   \n",
       "\n",
       "   day_Thur  time_Lunch  \n",
       "0         0           0  \n",
       "1         0           0  \n",
       "2         0           0  \n",
       "3         0           0  \n",
       "4         0           0  "
      ]
     },
     "execution_count": 2,
     "metadata": {},
     "output_type": "execute_result"
    }
   ],
   "source": [
    "df = pd.read_csv('df.csv', index_col=0)\n",
    "df.head()"
   ]
  },
  {
   "cell_type": "code",
   "execution_count": 3,
   "metadata": {},
   "outputs": [
    {
     "data": {
      "text/plain": [
       "(244, 10)"
      ]
     },
     "execution_count": 3,
     "metadata": {},
     "output_type": "execute_result"
    }
   ],
   "source": [
    "df.shape"
   ]
  },
  {
   "cell_type": "markdown",
   "metadata": {},
   "source": [
    "## 3. `tip` Model<a id='3._`tip`_model'></a>"
   ]
  },
  {
   "cell_type": "markdown",
   "metadata": {},
   "source": [
    "### 3a. Best features for linear regression<a id='3a._Best_features_for_linear_regression'></a>"
   ]
  },
  {
   "cell_type": "code",
   "execution_count": 4,
   "metadata": {},
   "outputs": [
    {
     "data": {
      "text/plain": [
       "GridSearchCV(cv=5, error_score=nan,\n",
       "             estimator=Pipeline(memory=None,\n",
       "                                steps=[('standardscaler',\n",
       "                                        StandardScaler(copy=True,\n",
       "                                                       with_mean=True,\n",
       "                                                       with_std=True)),\n",
       "                                       ('selectkbest',\n",
       "                                        SelectKBest(k=10,\n",
       "                                                    score_func=<function f_regression at 0x000002715612DEE8>)),\n",
       "                                       ('linearregression',\n",
       "                                        LinearRegression(copy_X=True,\n",
       "                                                         fit_intercept=True,\n",
       "                                                         n_jobs=None,\n",
       "                                                         normalize=False))],\n",
       "                                verbose=False),\n",
       "             iid='deprecated', n_jobs=-1,\n",
       "             param_grid={'selectkbest__k': [1, 2, 3, 4, 5, 6, 7, 8]},\n",
       "             pre_dispatch='2*n_jobs', refit=True, return_train_score=False,\n",
       "             scoring=None, verbose=0)"
      ]
     },
     "execution_count": 4,
     "metadata": {},
     "output_type": "execute_result"
    }
   ],
   "source": [
    "X_cols = [col for col in df.columns if col not in ['tip','perc']]\n",
    "\n",
    "X = df[X_cols]\n",
    "y = df['tip']\n",
    "\n",
    "X_train, X_test, y_train, y_test = train_test_split(X, y, test_size=0.2)\n",
    "\n",
    "X_train = X_train.sample(10000, random_state=42, replace=True)\n",
    "y_train = y_train.sample(10000, random_state=42, replace=True)\n",
    "X_test = X_test.sample(1000, random_state=42, replace=True)\n",
    "y_test = y_test.sample(1000, random_state=42, replace=True)\n",
    "\n",
    "k = [k+1 for k in range(len(X_train.columns))]\n",
    "grid_params = {'selectkbest__k': k}\n",
    "lr = LinearRegression()\n",
    "\n",
    "pipe = make_pipeline(\n",
    "    StandardScaler(),\n",
    "    SelectKBest(f_regression),\n",
    "    LinearRegression()\n",
    ")\n",
    "\n",
    "tip_lr_grid = GridSearchCV(pipe, param_grid=grid_params, cv=5, n_jobs=-1)\n",
    "tip_lr_grid.fit(X_train, y_train)"
   ]
  },
  {
   "cell_type": "code",
   "execution_count": 5,
   "metadata": {},
   "outputs": [
    {
     "data": {
      "image/png": "[encoded data removed]",
      "text/plain": [
       "<Figure size 720x360 with 1 Axes>"
      ]
     },
     "metadata": {},
     "output_type": "display_data"
    }
   ],
   "source": [
    "score_mean = tip_lr_grid.cv_results_['mean_test_score']\n",
    "score_std = tip_lr_grid.cv_results_['std_test_score']\n",
    "cv_k = [k for k in tip_lr_grid.cv_results_['param_selectkbest__k']]\n",
    "\n",
    "best_k = tip_lr_grid.best_params_['selectkbest__k']\n",
    "plt.subplots(figsize=(10, 5))\n",
    "plt.errorbar(cv_k, score_mean, yerr=score_std)\n",
    "plt.axvline(x=best_k, c='r', ls='--', alpha=.5)\n",
    "plt.xlabel('k')\n",
    "plt.ylabel('CV score (r-squared)')\n",
    "plt.title('Pipeline mean CV score (error bars +/- 1sd)');"
   ]
  },
  {
   "cell_type": "code",
   "execution_count": 6,
   "metadata": {},
   "outputs": [
    {
     "data": {
      "text/plain": [
       "total_bill    0.821277\n",
       "size          0.143911\n",
       "sex_Male      0.011226\n",
       "smoker_Yes   -0.001751\n",
       "day_Thur     -0.025277\n",
       "time_Lunch   -0.063533\n",
       "day_Sun      -0.094210\n",
       "day_Sat      -0.169634\n",
       "dtype: float64"
      ]
     },
     "execution_count": 6,
     "metadata": {},
     "output_type": "execute_result"
    }
   ],
   "source": [
    "selected = tip_lr_grid.best_estimator_.named_steps.selectkbest.get_support()\n",
    "coefs = tip_lr_grid.best_estimator_.named_steps.linearregression.coef_\n",
    "features = X_train.columns[selected]\n",
    "pd.Series(coefs, index=features).sort_values(ascending=False)"
   ]
  },
  {
   "cell_type": "markdown",
   "metadata": {},
   "source": [
    "Based on our Grid Search, a linear regression model using all 8 features is our most accurate model."
   ]
  },
  {
   "cell_type": "markdown",
   "metadata": {},
   "source": [
    "### 3b. Best features for Random Forest regression<a id='3b._Best_features_for_Random_Forest_regression'></a>"
   ]
  },
  {
   "cell_type": "code",
   "execution_count": 7,
   "metadata": {},
   "outputs": [
    {
     "data": {
      "text/plain": [
       "{'randomforestregressor__n_estimators': [10, 31, 100, 316, 1000],\n",
       " 'standardscaler': [StandardScaler(copy=True, with_mean=True, with_std=True),\n",
       "  None]}"
      ]
     },
     "execution_count": 7,
     "metadata": {},
     "output_type": "execute_result"
    }
   ],
   "source": [
    "n_est = [int(n) for n in np.logspace(start=1, stop=3, num=5)]\n",
    "grid_params = {\n",
    "        'randomforestregressor__n_estimators': n_est,\n",
    "        'standardscaler': [StandardScaler(), None],\n",
    "}\n",
    "grid_params"
   ]
  },
  {
   "cell_type": "code",
   "execution_count": 8,
   "metadata": {},
   "outputs": [
    {
     "data": {
      "text/plain": [
       "GridSearchCV(cv=5, error_score=nan,\n",
       "             estimator=Pipeline(memory=None,\n",
       "                                steps=[('standardscaler',\n",
       "                                        StandardScaler(copy=True,\n",
       "                                                       with_mean=True,\n",
       "                                                       with_std=True)),\n",
       "                                       ('randomforestregressor',\n",
       "                                        RandomForestRegressor(bootstrap=True,\n",
       "                                                              ccp_alpha=0.0,\n",
       "                                                              criterion='mse',\n",
       "                                                              max_depth=None,\n",
       "                                                              max_features='auto',\n",
       "                                                              max_leaf_nodes=None,\n",
       "                                                              max_samples=None,\n",
       "                                                              min_impurity_decrease=0.0,\n",
       "                                                              min_impurity_s...\n",
       "                                                              n_jobs=None,\n",
       "                                                              oob_score=False,\n",
       "                                                              random_state=None,\n",
       "                                                              verbose=0,\n",
       "                                                              warm_start=False))],\n",
       "                                verbose=False),\n",
       "             iid='deprecated', n_jobs=-1,\n",
       "             param_grid={'randomforestregressor__n_estimators': [10, 31, 100,\n",
       "                                                                 316, 1000],\n",
       "                         'standardscaler': [StandardScaler(copy=True,\n",
       "                                                           with_mean=True,\n",
       "                                                           with_std=True),\n",
       "                                            None]},\n",
       "             pre_dispatch='2*n_jobs', refit=True, return_train_score=False,\n",
       "             scoring=None, verbose=0)"
      ]
     },
     "execution_count": 8,
     "metadata": {},
     "output_type": "execute_result"
    }
   ],
   "source": [
    "rf_pipe = make_pipeline(\n",
    "    StandardScaler(),\n",
    "    RandomForestRegressor()\n",
    ")\n",
    "\n",
    "X_cols = [col for col in df.columns if col not in ['tip','perc']]\n",
    "\n",
    "X = df[X_cols]\n",
    "y = df['tip']\n",
    "\n",
    "X_train, X_test, y_train, y_test = train_test_split(X, y, test_size=0.2)\n",
    "\n",
    "X_train = X_train.sample(10000, random_state=42, replace=True)\n",
    "y_train = y_train.sample(10000, random_state=42, replace=True)\n",
    "X_test = X_test.sample(1000, random_state=42, replace=True)\n",
    "y_test = y_test.sample(1000, random_state=42, replace=True)\n",
    "\n",
    "tip_rf_grid = GridSearchCV(rf_pipe, param_grid=grid_params, cv=5, n_jobs=-1)\n",
    "tip_rf_grid.fit(X_train, y_train)"
   ]
  },
  {
   "cell_type": "code",
   "execution_count": 9,
   "metadata": {},
   "outputs": [
    {
     "data": {
      "text/plain": [
       "Pipeline(memory=None,\n",
       "         steps=[('standardscaler',\n",
       "                 StandardScaler(copy=True, with_mean=True, with_std=True)),\n",
       "                ('randomforestregressor',\n",
       "                 RandomForestRegressor(bootstrap=True, ccp_alpha=0.0,\n",
       "                                       criterion='mse', max_depth=None,\n",
       "                                       max_features='auto', max_leaf_nodes=None,\n",
       "                                       max_samples=None,\n",
       "                                       min_impurity_decrease=0.0,\n",
       "                                       min_impurity_split=None,\n",
       "                                       min_samples_leaf=1, min_samples_split=2,\n",
       "                                       min_weight_fraction_leaf=0.0,\n",
       "                                       n_estimators=10, n_jobs=None,\n",
       "                                       oob_score=False, random_state=None,\n",
       "                                       verbose=0, warm_start=False))],\n",
       "         verbose=False)"
      ]
     },
     "execution_count": 9,
     "metadata": {},
     "output_type": "execute_result"
    }
   ],
   "source": [
    "tip_rf_grid.best_estimator_"
   ]
  },
  {
   "cell_type": "code",
   "execution_count": 10,
   "metadata": {},
   "outputs": [
    {
     "data": {
      "image/png": "[encoded data removed]",
      "text/plain": [
       "<Figure size 720x360 with 1 Axes>"
      ]
     },
     "metadata": {},
     "output_type": "display_data"
    }
   ],
   "source": [
    "plt.subplots(figsize=(10, 5))\n",
    "imps = tip_rf_grid.best_estimator_.named_steps.randomforestregressor.feature_importances_\n",
    "rf_feat_imps = pd.Series(imps, index=X_train.columns).sort_values(ascending=False)\n",
    "rf_feat_imps.plot(kind='bar')\n",
    "plt.xlabel('features')\n",
    "plt.ylabel('importance')\n",
    "plt.title('Best random forest regressor feature importances');"
   ]
  },
  {
   "cell_type": "markdown",
   "metadata": {},
   "source": [
    "It looks like `total_bill` is by far the most important feature in our Random Forest regression model."
   ]
  },
  {
   "cell_type": "markdown",
   "metadata": {},
   "source": [
    "### 3c. Model selection<a id='3c._Model_Selection'></a>"
   ]
  },
  {
   "cell_type": "code",
   "execution_count": 11,
   "metadata": {},
   "outputs": [
    {
     "data": {
      "text/plain": [
       "(0.7448517488649058, 0.011141835016298028)"
      ]
     },
     "execution_count": 11,
     "metadata": {},
     "output_type": "execute_result"
    }
   ],
   "source": [
    "X_cols = [col for col in df.columns if col not in ['tip','perc']]\n",
    "\n",
    "X = df[X_cols]\n",
    "y = df['tip']\n",
    "\n",
    "X_train, X_test, y_train, y_test = train_test_split(X, y, test_size=0.2)\n",
    "\n",
    "X_train = X_train.sample(10000, random_state=42, replace=True)\n",
    "y_train = y_train.sample(10000, random_state=42, replace=True)\n",
    "X_test = X_test.sample(1000, random_state=42, replace=True)\n",
    "y_test = y_test.sample(1000, random_state=42, replace=True)\n",
    "\n",
    "lr_neg_mae = cross_validate(tip_lr_grid.best_estimator_, X_train, y_train, \n",
    "                            scoring='neg_mean_absolute_error', cv=5, n_jobs=-1)\n",
    "lr_mae_mean = np.mean(-1 * lr_neg_mae['test_score'])\n",
    "lr_mae_std = np.std(-1 * lr_neg_mae['test_score'])\n",
    "lr_mae_mean, lr_mae_std"
   ]
  },
  {
   "cell_type": "code",
   "execution_count": 12,
   "metadata": {},
   "outputs": [
    {
     "data": {
      "text/plain": [
       "0.6970631133387482"
      ]
     },
     "execution_count": 12,
     "metadata": {},
     "output_type": "execute_result"
    }
   ],
   "source": [
    "mean_absolute_error(y_test, tip_lr_grid.best_estimator_.fit(X_train, y_train).predict(X_test))"
   ]
  },
  {
   "cell_type": "markdown",
   "metadata": {},
   "source": [
    "The mean absolute error for our linear regression model is **~0.70**."
   ]
  },
  {
   "cell_type": "code",
   "execution_count": 13,
   "metadata": {},
   "outputs": [
    {
     "data": {
      "text/plain": [
       "(2.982947222562871e-16, 1.5656648354241646e-17)"
      ]
     },
     "execution_count": 13,
     "metadata": {},
     "output_type": "execute_result"
    }
   ],
   "source": [
    "rf_neg_mae = cross_validate(tip_rf_grid.best_estimator_, X_train, y_train, \n",
    "                            scoring='neg_mean_absolute_error', cv=5, n_jobs=-1)\n",
    "rf_mae_mean = np.mean(-1 * rf_neg_mae['test_score'])\n",
    "rf_mae_std = np.std(-1 * rf_neg_mae['test_score'])\n",
    "rf_mae_mean, rf_mae_std"
   ]
  },
  {
   "cell_type": "code",
   "execution_count": 14,
   "metadata": {},
   "outputs": [
    {
     "data": {
      "text/plain": [
       "0.8124819999999998"
      ]
     },
     "execution_count": 14,
     "metadata": {},
     "output_type": "execute_result"
    }
   ],
   "source": [
    "mean_absolute_error(y_test, tip_rf_grid.best_estimator_.fit(X_train, y_train).predict(X_test))"
   ]
  },
  {
   "cell_type": "markdown",
   "metadata": {},
   "source": [
    "The mean absolute error for our Random Forest regression model is **~0.81**, making it inferior to the linear regression model. As such, we will go with our Linear Regression model to predict `tip`."
   ]
  },
  {
   "cell_type": "markdown",
   "metadata": {},
   "source": [
    "## 4. Model Evaluations<a id='5._Model_Evaluations'></a>"
   ]
  },
  {
   "cell_type": "markdown",
   "metadata": {},
   "source": [
    "### 4a. Evaluation scatterplots<a id='5a._Evaluation_scatterplots'></a>"
   ]
  },
  {
   "cell_type": "code",
   "execution_count": 15,
   "metadata": {},
   "outputs": [
    {
     "data": {
      "image/png": "[encoded data removed]",
      "text/plain": [
       "<Figure size 576x396 with 1 Axes>"
      ]
     },
     "metadata": {},
     "output_type": "display_data"
    }
   ],
   "source": [
    "model = tip_lr_grid.fit(X_train, y_train)\n",
    "y_pred = model.predict(X_test)\n",
    "\n",
    "_ = plt.xlabel('predicted values for tip')\n",
    "_ = plt.ylabel('actual values for tip')\n",
    "_ = plt.title('OLS Model predictions vs. actual values')\n",
    "_ = sns.regplot(x=y_pred, y=y_test, fit_reg = True)"
   ]
  },
  {
   "cell_type": "markdown",
   "metadata": {},
   "source": [
    "Visually, it looks like our Linear Regression model for `tip` has a weak correlation."
   ]
  },
  {
   "cell_type": "markdown",
   "metadata": {},
   "source": [
    "### 4b. R-Squared<a id='5b._R-Squared'></a>"
   ]
  },
  {
   "cell_type": "code",
   "execution_count": 16,
   "metadata": {},
   "outputs": [
    {
     "data": {
      "text/plain": [
       "0.33661801826728976"
      ]
     },
     "execution_count": 16,
     "metadata": {},
     "output_type": "execute_result"
    }
   ],
   "source": [
    "model.score(X_test, y_test)"
   ]
  },
  {
   "cell_type": "markdown",
   "metadata": {},
   "source": [
    "Our 2 Linear regression model has an $R^{2}$ of **0.34**, which means only about **34%** of the variance in tips can be explained by our model."
   ]
  },
  {
   "cell_type": "markdown",
   "metadata": {},
   "source": [
    "### 4c. Residuals plots<a id='4c._Residuals_plots'></a>"
   ]
  },
  {
   "cell_type": "code",
   "execution_count": 17,
   "metadata": {},
   "outputs": [
    {
     "data": {
      "image/png": "[encoded data removed]",
      "text/plain": [
       "<Figure size 576x396 with 2 Axes>"
      ]
     },
     "metadata": {},
     "output_type": "display_data"
    }
   ],
   "source": [
    "visualizer = ResidualsPlot(model, hist=False, qqplot=True)\n",
    "\n",
    "_ = visualizer.fit(X_train, y_train) \n",
    "_ = visualizer.score(X_test, y_test) \n",
    "_ = visualizer.show()  "
   ]
  },
  {
   "cell_type": "markdown",
   "metadata": {},
   "source": [
    "The residuals plot shows a mostly normal distribution of data points, with a little bit of homoscedascity. The QQ plot shows a little skew on the tails, which means the predicted values are a little more extreme on the minimum and maximum values. "
   ]
  },
  {
   "cell_type": "markdown",
   "metadata": {},
   "source": [
    "### 4d. Comparison with simple model based on mean<a id='4d._Comparison_with_simple_model_based_on_mean'></a>"
   ]
  },
  {
   "cell_type": "markdown",
   "metadata": {},
   "source": [
    "Our multivariate linear regression model seems to be a lot better at predicting tip amounts than tip percentages. The $R^{2}$ for both models is not very high either. In order to make sure our model is even decent, we should compare with a simple model in which we take only the mean of **y_train** and predict that all values of **y_test** will be that mean. If our models have significantly lower mean absolute errors as compared to this model, then we at least know we are on the right path."
   ]
  },
  {
   "cell_type": "code",
   "execution_count": 18,
   "metadata": {},
   "outputs": [
    {
     "name": "stdout",
     "output_type": "stream",
     "text": [
      "Mean percent improvement: 26.25%\n"
     ]
    },
    {
     "data": {
      "image/png": "[encoded data removed]",
      "text/plain": [
       "<Figure size 576x396 with 1 Axes>"
      ]
     },
     "metadata": {},
     "output_type": "display_data"
    }
   ],
   "source": [
    "model_mae = []\n",
    "mean_mae = []\n",
    "\n",
    "for n in range(200):\n",
    "    X_cols = [col for col in df.columns if col not in ['tip','perc']]\n",
    "\n",
    "    X = df[X_cols]\n",
    "    y = df['tip']\n",
    "\n",
    "    X_train, X_test, y_train, y_test = train_test_split(X, y, test_size=0.2)\n",
    "\n",
    "    X_train = X_train.sample(10000, random_state=42, replace=True)\n",
    "    y_train = y_train.sample(10000, random_state=42, replace=True)\n",
    "    X_test = X_test.sample(1000, random_state=42, replace=True)\n",
    "    y_test = y_test.sample(1000, random_state=42, replace=True)\n",
    "    \n",
    "    mean = pd.Series(np.array([np.mean(y_train) for n in range(1000)]))\n",
    "\n",
    "    model_mae.append(mean_absolute_error(y_test, tip_lr_grid.best_estimator_.fit(X_train, y_train).predict(X_test)))\n",
    "    mean_mae.append(mean_absolute_error(y_test, mean))\n",
    "    \n",
    "    model_improvement = [(((meanmae - modelmae)/meanmae) * 100) for modelmae, meanmae in zip(model_mae, mean_mae)]\n",
    "    \n",
    "print('Mean percent improvement: ' + str(round((np.mean(model_improvement)), 2)) + '%')\n",
    "\n",
    "_ = plt.hist(model_improvement, bins=15)\n",
    "_ = plt.title('Percent Improvement in Model Mean Absolute Error Over Non-Model Mean Abosolute Error')\n",
    "_ = plt.xlabel('Percent Improvement')\n",
    "_ = plt.ylabel('Frequency')"
   ]
  },
  {
   "cell_type": "markdown",
   "metadata": {},
   "source": [
    "With a mean improvement of **26.25%**, our Linear Regression model is significantly stronger than a model based only on the mean of the training set `tip` values. Even though the $R^{2}$ value is low, we are at least on the right path."
   ]
  },
  {
   "cell_type": "markdown",
   "metadata": {},
   "source": [
    "# 5. Conclusion and Future Work<a id='6._Conclusion_and_Future_Work'></a>"
   ]
  },
  {
   "cell_type": "markdown",
   "metadata": {},
   "source": [
    "After bootstrapping a large number of samples from our original dataset, I was able to fit a predictive model to predict `tip` amounts using a Linear Regression model. My model had a $R^{2}$ values of 0.34, meaning 34% of the variance in `tip` amounts can be explained by my model. \n",
    "\n",
    "Even though the $R^{2}$ value is low, a **residuals plot** shows that our model provides a decent fit to the data. There is a *slight homoscedascity* to the residuals, but they are, for the most part, uniformly distributed. The **QQ plot** also shows that our errors are nearly normally distributed, with some more extreme values on the tails. Finally, our **mean absolute error** of **$0.70** is not very high. However, this value could be improved.\n",
    "\n",
    "Our original dataset only contained *244 rows* and only came from one server at one restaurant over the course of a few months. As a result, our model is most likely not generalizable to other restaurants. In order create a more accurate and reliable model, more data will need to be collected. "
   ]
  },
  {
   "cell_type": "code",
   "execution_count": 20,
   "metadata": {},
   "outputs": [
    {
     "data": {
      "text/plain": [
       "array([3.63358151])"
      ]
     },
     "execution_count": 20,
     "metadata": {},
     "output_type": "execute_result"
    }
   ],
   "source": [
    "new_data = pd.DataFrame.from_dict(\n",
    "    {'total_bill':[30.00], \n",
    "            'size':[2], \n",
    "            'sex_Male':[1], \n",
    "            'smoker_Yes':[1], \n",
    "            'day_Sat':[1], \n",
    "            'day_Sun':[0], \n",
    "            'day_Thur':[0], \n",
    "            'time_Lunch':[0]})\n",
    "tip_lr_grid.predict(new_data)"
   ]
  }
 ],
 "metadata": {
  "kernelspec": {
   "display_name": "Python 3",
   "language": "python",
   "name": "python3"
  },
  "language_info": {
   "codemirror_mode": {
    "name": "ipython",
    "version": 3
   },
   "file_extension": ".py",
   "mimetype": "text/x-python",
   "name": "python",
   "nbconvert_exporter": "python",
   "pygments_lexer": "ipython3",
   "version": "3.7.6"
  }
 },
 "nbformat": 4,
 "nbformat_minor": 4
}
